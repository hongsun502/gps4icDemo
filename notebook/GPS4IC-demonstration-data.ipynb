{
 "cells": [
  {
   "cell_type": "markdown",
   "metadata": {
    "colab_type": "text",
    "id": "I_eY2pJf-YQf"
   },
   "source": [
    "# GPS4IC demonstration - Data \n",
    "\n",
    "*To show the data used in the demonstration*"
   ]
  },
  {
   "cell_type": "markdown",
   "metadata": {
    "toc": true
   },
   "source": [
    "<h1>Table of Contents<span class=\"tocSkip\"></span></h1>\n",
    "<div class=\"toc\"><ul class=\"toc-item\"><li><span><a href=\"#GPS4IC-demonstration---Data\" data-toc-modified-id=\"GPS4IC-demonstration---Data-1\">GPS4IC demonstration - Data</a></span></li><li><span><a href=\"#At-T0,-a-patient-is-coming-for-treatment-of-Parkinson-disease\" data-toc-modified-id=\"At-T0,-a-patient-is-coming-for-treatment-of-Parkinson-disease-2\">At T0, a patient is coming for treatment of Parkinson disease</a></span><ul class=\"toc-item\"><li><ul class=\"toc-item\"><li><span><a href=\"#Patient-data-at-T0\" data-toc-modified-id=\"Patient-data-at-T0-2.0.1\">Patient data at T0</a></span></li><li><span><a href=\"#Description-of-state-changes-in-Parkinson-map\" data-toc-modified-id=\"Description-of-state-changes-in-Parkinson-map-2.0.2\">Description of state changes in Parkinson map</a></span></li><li><span><a href=\"#Knowledge-UPDRS-calculation-rule\" data-toc-modified-id=\"Knowledge-UPDRS-calculation-rule-2.0.3\">Knowledge-UPDRS calculation rule</a></span></li><li><span><a href=\"#Goal-at-T0\" data-toc-modified-id=\"Goal-at-T0-2.0.4\">Goal at T0</a></span></li><li><span><a href=\"#Manually-select-one-path\" data-toc-modified-id=\"Manually-select-one-path-2.0.5\">Manually select one path</a></span></li></ul></li></ul></li><li><span><a href=\"#At-T1,-the-first-action-finishes,-the-patient-got-an-updated-data\" data-toc-modified-id=\"At-T1,-the-first-action-finishes,-the-patient-got-an-updated-data-3\">At T1, the first action finishes, the patient got an updated data</a></span><ul class=\"toc-item\"><li><ul class=\"toc-item\"><li><span><a href=\"#Scenario-A,-the-UPDRSScore-remains-the-same.\" data-toc-modified-id=\"Scenario-A,-the-UPDRSScore-remains-the-same.-3.0.1\">Scenario A, the UPDRSScore remains the same.</a></span></li><li><span><a href=\"#Scenario-B,-the-UPDRSScore-drops-by-1.5.\" data-toc-modified-id=\"Scenario-B,-the-UPDRSScore-drops-by-1.5.-3.0.2\">Scenario B, the UPDRSScore drops by 1.5.</a></span></li></ul></li></ul></li><li><span><a href=\"#At-T3,-the-patient-adds-a-new-path-to-treat-colon-cancer\" data-toc-modified-id=\"At-T3,-the-patient-adds-a-new-path-to-treat-colon-cancer-4\">At T3, the patient adds a new path to treat colon cancer</a></span><ul class=\"toc-item\"><li><ul class=\"toc-item\"><li><span><a href=\"#Scenario-A,-patient-has-blocking-colon\" data-toc-modified-id=\"Scenario-A,-patient-has-blocking-colon-4.0.1\">Scenario A, patient has blocking colon</a></span></li><li><span><a href=\"#Scenario-B,-patient-does-not-have-blocking-colon\" data-toc-modified-id=\"Scenario-B,-patient-does-not-have-blocking-colon-4.0.2\">Scenario B, patient does not have blocking colon</a></span></li><li><span><a href=\"#State-change-descriptions\" data-toc-modified-id=\"State-change-descriptions-4.0.3\">State change descriptions</a></span></li><li><span><a href=\"#Relevant-knowledge\" data-toc-modified-id=\"Relevant-knowledge-4.0.4\">Relevant knowledge</a></span></li><li><span><a href=\"#Goal-for-colon-cancer\" data-toc-modified-id=\"Goal-for-colon-cancer-4.0.5\">Goal for colon cancer</a></span></li><li><span><a href=\"#Conflict-knowledge\" data-toc-modified-id=\"Conflict-knowledge-4.0.6\">Conflict knowledge</a></span></li><li><span><a href=\"#Descriptions-of-operational-details\" data-toc-modified-id=\"Descriptions-of-operational-details-4.0.7\">Descriptions of operational details</a></span></li></ul></li></ul></li></ul></div>"
   ]
  },
  {
   "cell_type": "markdown",
   "metadata": {
    "colab_type": "text",
    "id": "RypWf3gk-YQg"
   },
   "source": [
    "# At T0, a patient is coming for treatment of Parkinson disease\n",
    "* GMT: Tuesday, February 6, 2018 2:50:41 PM*"
   ]
  },
  {
   "cell_type": "markdown",
   "metadata": {
    "colab_type": "text",
    "id": "XMsoAgYA-YQh"
   },
   "source": [
    "### Patient data at T0"
   ]
  },
  {
   "cell_type": "code",
   "execution_count": 1,
   "metadata": {
    "colab": {
     "base_uri": "https://localhost:8080/",
     "height": 420
    },
    "colab_type": "code",
    "executionInfo": {
     "elapsed": 6767,
     "status": "ok",
     "timestamp": 1587921150196,
     "user": {
      "displayName": "Sun Hong",
      "photoUrl": "",
      "userId": "15604721942150290112"
     },
     "user_tz": -120
    },
    "id": "rCr0SHCU-YQi",
    "outputId": "78ef781d-d769-4392-8a1e-d6a2b9663620"
   },
   "outputs": [
    {
     "name": "stdout",
     "output_type": "stream",
     "text": [
      "PREFIX sct: <http://snomed.info/id/>\n",
      "PREFIX data: <http://josd.github.io/fluid/gps/data#>\n",
      "PREFIX care: <http://josd.github.io/fluid/gps/care#>\n",
      "\n",
      "data:patient_1 a \t\t\t\tcare:Patient. \n",
      "data:patient_1 care:age \t\t64 . \n",
      "data:patient_1 care:name \t\t\"Jane Doe\" . \n",
      "data:patient_1 care:gender \t\t\"female\" . \n",
      "data:patient_1 care:weight \t\t75 . \n",
      "data:patient_1 care:diagnosis \tsct:49049000 .\t\n",
      "#sct:49049000 Parkinson disease.\n",
      "\n",
      "#The values below will be used to calculate UPDRS Score\n",
      "data:patient_1 care:updrs_cat_8\t\t1 .\n",
      "data:patient_1 care:updrs_cat_9\t\t1 .\n",
      "data:patient_1 care:updrs_cat_16\t2 .\n",
      "data:patient_1 care:updrs_cat_23\t2 .\n",
      "data:patient_1 care:updrs_cat_24\t2 .\n",
      "data:patient_1 care:updrs_cat_25\t2 .\n",
      "data:patient_1 care:updrs_cat_28\t1 .\n",
      "data:patient_1 care:updrs_cat_31\t1 .\n",
      "\n",
      "#The score will be calculated by an external rule\n",
      "#data:patient_1 care:updrs_score \t12.\n"
     ]
    }
   ],
   "source": [
    "f=open(\"../data/data-parkinson-t0.ttl\")\n",
    "print(f.read())"
   ]
  },
  {
   "cell_type": "markdown",
   "metadata": {
    "colab_type": "text",
    "id": "MYwMqnkK-YQu"
   },
   "source": [
    "### Description of state changes in Parkinson map"
   ]
  },
  {
   "cell_type": "code",
   "execution_count": 2,
   "metadata": {
    "colab": {
     "base_uri": "https://localhost:8080/",
     "height": 1000
    },
    "colab_type": "code",
    "executionInfo": {
     "elapsed": 6754,
     "status": "ok",
     "timestamp": 1587921150200,
     "user": {
      "displayName": "Sun Hong",
      "photoUrl": "",
      "userId": "15604721942150290112"
     },
     "user_tz": -120
    },
    "id": "XJG7C2_b-YQv",
    "outputId": "96c9ec97-d926-4877-d5fe-11cabe4bc651"
   },
   "outputs": [
    {
     "name": "stdout",
     "output_type": "stream",
     "text": [
      "PREFIX math: <http://www.w3.org/2000/10/swap/math#>\n",
      "PREFIX xsd: <http://www.w3.org/2001/XMLSchema#>\n",
      "PREFIX e: <http://eulersharp.sourceforge.net/2003/03swap/log-rules#>\n",
      "PREFIX gps: <http://josd.github.io/fluid/gps/gps-schema#>\n",
      "PREFIX action: <http://josd.github.io/fluid/gps/action#>\n",
      "PREFIX medication: <http://josd.github.io/fluid/gps/medication#>\n",
      "PREFIX sct: <http://snomed.info/id/>\n",
      "PREFIX care: <http://josd.github.io/fluid/gps/care#>\n",
      "\n",
      "#actions\n",
      "\n",
      "#Levodopa \n",
      "{\n",
      "\tcare:Parkinson gps:description (\n",
      "\t\t{?patient care:updrs_score ?updrs_score.}\n",
      "\t\t{?patient gps:medication medication:Levodopa.}\n",
      "\t\t{?patient care:updrs_score ?new_value.}\n",
      "\t\taction:take_pill_Levodopa \n",
      "\t\t\"P60D\"^^xsd:dayTimeDuration\n",
      "\t\t14.09 \n",
      "\t\t0.8\n",
      "\t\t0.8\n",
      "\t)\n",
      "} <= {\n",
      "\t?patient a care:Patient. \n",
      "\t?patient care:diagnosis sct:49049000 .\t\n",
      "\t#sct:49049000 Parkinson disease.\t\n",
      "\t?patient care:updrs_score ?updrs_score.\n",
      "\t?updrs_score math:greaterThan 10.2.\n",
      "\t(?updrs_score 1.5) math:difference ?new_value.\n",
      "}. \n",
      "\n",
      "#Pramipexol  \n",
      "{\n",
      "\tcare:Parkinson gps:description (\n",
      "\t\t{?patient care:updrs_score ?updrs_score.}\n",
      "\t\t{?patient gps:medication medication:Pramipexol.}\t\t\n",
      "\t\t{?patient care:updrs_score ?new_value.}\n",
      "\t\taction:take_pill_Pramipexol  \n",
      "\t\t\"P60D\"^^xsd:dayTimeDuration\n",
      "\t\t99.71  \n",
      "\t\t0.8\n",
      "\t\t0.9\n",
      "\t)\n",
      "} <= {\n",
      "\t?patient a care:Patient. \n",
      "\t?patient care:age ?age . \n",
      "\t?age math:lessThan 65 .\n",
      "\t?patient care:diagnosis sct:49049000 .\t\n",
      "\t#sct:49049000 Parkinson disease.\t\n",
      "\t?patient care:updrs_score ?updrs_score.\n",
      "\t?updrs_score math:greaterThan 10.2.\n",
      "\t(?updrs_score 1.3) math:difference ?new_value.\n",
      "}. \n",
      "\n",
      "\n",
      "#Placebo  \n",
      "{\n",
      "\tcare:Parkinson gps:description (\n",
      "\t\t{?patient care:updrs_score ?updrs_score.}\n",
      "\t\t{?patient gps:medication medication:Placebo.}\t\t\n",
      "\t\t{?patient care:updrs_score ?new_value.}\n",
      "\t\taction:take_pill_Placebo  \n",
      "\t\t\"P60D\"^^xsd:dayTimeDuration\n",
      "\t\t1\n",
      "\t\t0.8\n",
      "\t\t0.8\n",
      "\t)\n",
      "} <= {\n",
      "\t?patient a care:Patient. \n",
      "\t?patient care:diagnosis sct:49049000 .\t\n",
      "\t#sct:49049000 Parkinson disease.\n",
      "\t?patient care:updrs_score ?updrs_score.\n",
      "\t?updrs_score math:greaterThan 10.2.\n",
      "\t(?updrs_score 1.3) math:sum ?new_value.\n",
      "}. \n",
      "\n"
     ]
    }
   ],
   "source": [
    "\n",
    "f=open(\"../parkinson/gps-desc.n3\")\n",
    "print(f.read())"
   ]
  },
  {
   "cell_type": "markdown",
   "metadata": {
    "colab_type": "text",
    "id": "RMymsE51-YQ1"
   },
   "source": [
    "### Knowledge-UPDRS calculation rule"
   ]
  },
  {
   "cell_type": "code",
   "execution_count": 3,
   "metadata": {
    "colab": {
     "base_uri": "https://localhost:8080/",
     "height": 454
    },
    "colab_type": "code",
    "executionInfo": {
     "elapsed": 6385,
     "status": "ok",
     "timestamp": 1587921150203,
     "user": {
      "displayName": "Sun Hong",
      "photoUrl": "",
      "userId": "15604721942150290112"
     },
     "user_tz": -120
    },
    "id": "LHD6jG4t-YQ1",
    "outputId": "1517089b-59a4-4302-bd88-38c54c7f7c9d"
   },
   "outputs": [
    {
     "name": "stdout",
     "output_type": "stream",
     "text": [
      "PREFIX math: <http://www.w3.org/2000/10/swap/math#>\n",
      "PREFIX list: <http://www.w3.org/2000/10/swap/list#>\n",
      "PREFIX e: <http://eulersharp.sourceforge.net/2003/03swap/log-rules#>\n",
      "PREFIX sct: <http://snomed.info/id/>\n",
      "PREFIX care: <http://josd.github.io/fluid/gps/care#>\n",
      "\n",
      "#calculating aggregated Parkinson UPDRS score.\n",
      "\n",
      "{\n",
      "\t?patient a care:Patient. \n",
      "\t?scope\n",
      " \t\te:findall (\n",
      "\t \t\t?score\n",
      "\t\t\t{\n",
      "\t\t\t\t(care:updrs_cat_8 care:updrs_cat_9 care:updrs_cat_16 care:updrs_cat_23 care:updrs_cat_24 care:updrs_cat_25 care:updrs_cat_28 care:updrs_cat_31) list:member ?P.\n",
      "\t\t\t\t?patient ?P ?score.\n",
      "\t\t\t}\n",
      "\t\t\t?list\n",
      "\t\t).\n",
      "\t?list \tmath:sum ?updrs_score.\t\n",
      "} => {\n",
      "\t?patient care:updrs_score ?updrs_score.\n",
      "} .\n",
      "\n",
      "\n",
      "\n"
     ]
    }
   ],
   "source": [
    "f=open(\"../parkinson/score-calculation.n3\")\n",
    "print(f.read())"
   ]
  },
  {
   "cell_type": "markdown",
   "metadata": {
    "colab_type": "text",
    "id": "_aCNbCMp-YQ8"
   },
   "source": [
    "### Goal at T0"
   ]
  },
  {
   "cell_type": "code",
   "execution_count": 4,
   "metadata": {
    "colab": {
     "base_uri": "https://localhost:8080/",
     "height": 353
    },
    "colab_type": "code",
    "executionInfo": {
     "elapsed": 6804,
     "status": "ok",
     "timestamp": 1587921150637,
     "user": {
      "displayName": "Sun Hong",
      "photoUrl": "",
      "userId": "15604721942150290112"
     },
     "user_tz": -120
    },
    "id": "1B8HYMGK-YRA",
    "outputId": "cce1676c-fe18-466b-b050-36e68c42b4ec"
   },
   "outputs": [
    {
     "name": "stdout",
     "output_type": "stream",
     "text": [
      "PREFIX math: <http://www.w3.org/2000/10/swap/math#>\n",
      "PREFIX xsd: <http://www.w3.org/2001/XMLSchema#>\n",
      "PREFIX gps: <http://josd.github.io/fluid/gps/gps-schema#>\n",
      "PREFIX sct: <http://snomed.info/id/>\n",
      "PREFIX care: <http://josd.github.io/fluid/gps/care#>\n",
      "{\n",
      "\t?SCOPE gps:findpath (\n",
      "\t{\n",
      "\t\t?patient a care:Patient. \n",
      "\t\t?patient care:diagnosis sct:49049000 .\t\n",
      "\t\t#sct:49049000 Parkinson disease.\n",
      "\t\t?patient care:updrs_score ?updrs_score.\n",
      "\t\t?updrs_score math:lessThan 10 .\n",
      "\t} \n",
      "\t?PATH ?DURATION ?COST ?BELIEF ?COMFORT (\"P180D\"^^xsd:dayTimeDuration 500.0 0.25 0.25)).\n",
      "\n",
      "} => {\n",
      "\t?patient gps:path (?PATH ?DURATION ?COST ?BELIEF ?COMFORT (?updrs_score)).\n",
      "}.\n",
      "\n"
     ]
    }
   ],
   "source": [
    "f=open(\"../parkinson/gps-goal-parkinson.n3q\")\n",
    "print(f.read())"
   ]
  },
  {
   "cell_type": "markdown",
   "metadata": {
    "colab_type": "text",
    "id": "Ip71W8FS-YRH"
   },
   "source": [
    "### Manually select one path"
   ]
  },
  {
   "cell_type": "code",
   "execution_count": 5,
   "metadata": {
    "colab": {
     "base_uri": "https://localhost:8080/",
     "height": 370
    },
    "colab_type": "code",
    "executionInfo": {
     "elapsed": 6794,
     "status": "ok",
     "timestamp": 1587921150641,
     "user": {
      "displayName": "Sun Hong",
      "photoUrl": "",
      "userId": "15604721942150290112"
     },
     "user_tz": -120
    },
    "id": "3DbyxSeV-YRI",
    "outputId": "8de45468-7d3f-4e16-a2e2-12bfe3417c3f"
   },
   "outputs": [
    {
     "name": "stdout",
     "output_type": "stream",
     "text": [
      "#Processed by EYE v17.1030.2055 josd\n",
      "#eye --nope data/data-parkinson-t0.ttl parkinson/gps-desc.n3 parkinson/score-calculation.n3 engine/gps-plugin.n3 --query parkinson/gps-goal-parkinson.n3q\n",
      "\n",
      "PREFIX sct: <http://snomed.info/id/>\n",
      "PREFIX data: <http://josd.github.io/fluid/gps/data#>\n",
      "PREFIX care: <http://josd.github.io/fluid/gps/care#>\n",
      "PREFIX math: <http://www.w3.org/2000/10/swap/math#>\n",
      "PREFIX xsd: <http://www.w3.org/2001/XMLSchema#>\n",
      "PREFIX e: <http://eulersharp.sourceforge.net/2003/03swap/log-rules#>\n",
      "PREFIX gps: <http://josd.github.io/fluid/gps/gps-schema#>\n",
      "PREFIX action: <http://josd.github.io/fluid/gps/action#>\n",
      "PREFIX medication: <http://josd.github.io/fluid/gps/medication#>\n",
      "PREFIX list: <http://www.w3.org/2000/10/swap/list#>\n",
      "PREFIX log: <http://www.w3.org/2000/10/swap/log#>\n",
      "\n",
      "data:patient_1 gps:selectedPath ((action:take_pill_Levodopa action:take_pill_Pramipexol) 10368000.0 113.8 0.6400000000000001 0.7200000000000001 (9.2)).\n",
      "\n",
      "#2018-02-14T10:12:45.264Z in=34 out=4 ent=5 step=10 brake=4 inf=159729 sec=0.062 inf/sec=2576274\n",
      "#ENDS\n",
      "\n",
      "\n"
     ]
    }
   ],
   "source": [
    "f=open(\"../path/parkinson-selected-path-t0.n3\")\n",
    "print(f.read())"
   ]
  },
  {
   "cell_type": "markdown",
   "metadata": {
    "colab_type": "text",
    "id": "wcraRjm6-YRU"
   },
   "source": [
    "# At T1, the first action finishes, the patient got an updated data\n",
    "*GMT: Saturday, April 7, 2018 2:52:21 PM*"
   ]
  },
  {
   "cell_type": "markdown",
   "metadata": {
    "colab_type": "text",
    "id": "QAYlIQkC-YRU"
   },
   "source": [
    "### Scenario A, the UPDRSScore remains the same. "
   ]
  },
  {
   "cell_type": "code",
   "execution_count": 6,
   "metadata": {
    "colab": {
     "base_uri": "https://localhost:8080/",
     "height": 420
    },
    "colab_type": "code",
    "executionInfo": {
     "elapsed": 6790,
     "status": "ok",
     "timestamp": 1587921150642,
     "user": {
      "displayName": "Sun Hong",
      "photoUrl": "",
      "userId": "15604721942150290112"
     },
     "user_tz": -120
    },
    "id": "t1CoKc0M-YRW",
    "outputId": "ddbf90da-67a7-46de-9552-29bcaf40ace6"
   },
   "outputs": [
    {
     "name": "stdout",
     "output_type": "stream",
     "text": [
      "PREFIX sct: <http://snomed.info/id/>\n",
      "PREFIX data: <http://josd.github.io/fluid/gps/data#>\n",
      "PREFIX care: <http://josd.github.io/fluid/gps/care#>\n",
      "\n",
      "data:patient_1 a \t\t\t\tcare:Patient. \n",
      "data:patient_1 care:age \t\t64 . \n",
      "data:patient_1 care:name \t\t\"Jane Doe\" . \n",
      "data:patient_1 care:gender \t\t\"female\" . \n",
      "data:patient_1 care:weight \t\t75 . \n",
      "data:patient_1 care:diagnosis \tsct:49049000 .\t\n",
      "#sct:49049000 Parkinson disease.\n",
      "\n",
      "#The values below will be used to calculate UPDRS Score\n",
      "data:patient_1 care:updrs_cat_8\t\t1 .\n",
      "data:patient_1 care:updrs_cat_9\t\t1 .\n",
      "data:patient_1 care:updrs_cat_16\t2 .\n",
      "data:patient_1 care:updrs_cat_23\t2 .\n",
      "data:patient_1 care:updrs_cat_24\t2 .\n",
      "data:patient_1 care:updrs_cat_25\t2 .\n",
      "data:patient_1 care:updrs_cat_28\t1 .\n",
      "data:patient_1 care:updrs_cat_31\t1 .\n",
      "\n",
      "#The score will be calculated by an external rule\n",
      "#data:patient_1 care:updrs_score \t12.\n"
     ]
    }
   ],
   "source": [
    "f=open(\"../data/data-parkinson-t1-a.ttl\")\n",
    "print(f.read())"
   ]
  },
  {
   "cell_type": "markdown",
   "metadata": {
    "colab_type": "text",
    "id": "wZTmi2r8-YRg"
   },
   "source": [
    "### Scenario B, the UPDRSScore drops by 1.5."
   ]
  },
  {
   "cell_type": "code",
   "execution_count": 7,
   "metadata": {
    "colab": {
     "base_uri": "https://localhost:8080/",
     "height": 420
    },
    "colab_type": "code",
    "executionInfo": {
     "elapsed": 6785,
     "status": "ok",
     "timestamp": 1587921150645,
     "user": {
      "displayName": "Sun Hong",
      "photoUrl": "",
      "userId": "15604721942150290112"
     },
     "user_tz": -120
    },
    "id": "I4bsEkNN-YRi",
    "outputId": "8fe8f263-c598-46c2-eb95-e2b573892b08"
   },
   "outputs": [
    {
     "name": "stdout",
     "output_type": "stream",
     "text": [
      "PREFIX sct: <http://snomed.info/id/>\n",
      "PREFIX data: <http://josd.github.io/fluid/gps/data#>\n",
      "PREFIX care: <http://josd.github.io/fluid/gps/care#>\n",
      "\n",
      "data:patient_1 a \t\t\t\tcare:Patient. \n",
      "data:patient_1 care:age \t\t64 . \n",
      "data:patient_1 care:name \t\t\"Jane Doe\" . \n",
      "data:patient_1 care:gender \t\t\"female\" . \n",
      "data:patient_1 care:weight \t\t75 . \n",
      "data:patient_1 care:diagnosis \tsct:49049000 .\t\n",
      "#sct:49049000 Parkinson disease.\n",
      "\n",
      "#The values below will be used to calculate UPDRS Score\n",
      "data:patient_1 care:updrs_cat_8\t\t1 .\n",
      "data:patient_1 care:updrs_cat_9\t\t1 .\n",
      "data:patient_1 care:updrs_cat_16\t1 .\n",
      "data:patient_1 care:updrs_cat_23\t2 .\n",
      "data:patient_1 care:updrs_cat_24\t1.5 .\n",
      "data:patient_1 care:updrs_cat_25\t2 .\n",
      "data:patient_1 care:updrs_cat_28\t1 .\n",
      "data:patient_1 care:updrs_cat_31\t1 .\n",
      "\n",
      "#The score will be calculated by an external rule\n",
      "#data:patient_1 care:updrs_score \t10.5.\n"
     ]
    }
   ],
   "source": [
    "f=open(\"../data/data-parkinson-t1-b.ttl\")\n",
    "print(f.read())"
   ]
  },
  {
   "cell_type": "markdown",
   "metadata": {
    "colab_type": "text",
    "id": "gBDJF_b1-YRs"
   },
   "source": [
    "# At T3, the patient adds a new path to treat colon cancer\n",
    "*GMT: Thursday, April 12, 2018 2:50:33 PM*"
   ]
  },
  {
   "cell_type": "markdown",
   "metadata": {
    "colab_type": "text",
    "id": "MRPI5tOv-YRv"
   },
   "source": [
    "### Scenario A, patient has blocking colon"
   ]
  },
  {
   "cell_type": "code",
   "execution_count": 8,
   "metadata": {
    "colab": {
     "base_uri": "https://localhost:8080/",
     "height": 739
    },
    "colab_type": "code",
    "executionInfo": {
     "elapsed": 6592,
     "status": "ok",
     "timestamp": 1587921150647,
     "user": {
      "displayName": "Sun Hong",
      "photoUrl": "",
      "userId": "15604721942150290112"
     },
     "user_tz": -120
    },
    "id": "Zqk7tWaS-YRw",
    "outputId": "c2ca9873-268f-4a14-f49e-eb0df6217ea5"
   },
   "outputs": [
    {
     "name": "stdout",
     "output_type": "stream",
     "text": [
      "PREFIX sct: <http://snomed.info/id/>\n",
      "PREFIX data: <http://josd.github.io/fluid/gps/data#>\n",
      "PREFIX care: <http://josd.github.io/fluid/gps/care#>\n",
      "\n",
      "##Parkinson relevant data\n",
      "\n",
      "data:patient_1 a \t\t\t\tcare:Patient. \n",
      "data:patient_1 care:age \t\t64 . \n",
      "data:patient_1 care:name \t\t\"Jane Doe\" . \n",
      "data:patient_1 care:gender \t\t\"female\" . \n",
      "data:patient_1 care:weight \t\t75 . \n",
      "data:patient_1 care:diagnosis \tsct:49049000 .\t\n",
      "#sct:49049000 Parkinson disease.\n",
      "\n",
      "#The values below will be used to calculate UPDRS Score\n",
      "data:patient_1 care:updrs_cat_8\t\t1 .\n",
      "data:patient_1 care:updrs_cat_9\t\t1 .\n",
      "data:patient_1 care:updrs_cat_16\t1 .\n",
      "data:patient_1 care:updrs_cat_23\t2 .\n",
      "data:patient_1 care:updrs_cat_24\t1.5 .\n",
      "data:patient_1 care:updrs_cat_25\t2 .\n",
      "data:patient_1 care:updrs_cat_28\t1 .\n",
      "data:patient_1 care:updrs_cat_31\t1 .\n",
      "\n",
      "#The score will be calculated by an external rule\n",
      "#data:patient_1 care:updrs_score \t10.5.\n",
      "\t\n",
      "##Colon cancer relevant data\n",
      "\n",
      "data:patient_1 care:diagnosis \t\t\t\tsct:363406005 .\n",
      "#sct:363406005 general colon cancer\n",
      "data:patient_1 care:diagnosis \t\t\t\tsct:363351006 .\t\n",
      "#sct:363351006 indicating rectal cancer.\n",
      "data:patient_1 care:tumor_size \t\t\t\t40 .\n",
      "data:patient_1 care:metastasis_risk \t\t0.4 .\n",
      "data:patient_1 care:5yr_survival_rate \t\t0.2 .\n",
      "data:patient_1 care:non_toxicity \t\t\t1 .\n",
      "data:patient_1 care:position \t\t\t\tsct:34402009 .\n",
      "#sct:34402009\t#rectum [body structure].\n",
      "data:patient_1 care:status \t\t\t\t\t\"active\" .\n",
      "data:patient_1 care:tnm_t \t\t\t\t\t3 .\n",
      "data:patient_1 care:blocking_colon \t\t\ttrue .\n",
      "data:patient_1 care:5yr_local_relapse_risk \t0 . \n"
     ]
    }
   ],
   "source": [
    "f=open(\"../data/data-colon-cancer-t3-a.ttl\")\n",
    "print(f.read())"
   ]
  },
  {
   "cell_type": "markdown",
   "metadata": {
    "colab_type": "text",
    "id": "ajgDMuuH-YR_"
   },
   "source": [
    "### Scenario B, patient does not have blocking colon"
   ]
  },
  {
   "cell_type": "code",
   "execution_count": 9,
   "metadata": {
    "colab": {
     "base_uri": "https://localhost:8080/",
     "height": 739
    },
    "colab_type": "code",
    "executionInfo": {
     "elapsed": 5731,
     "status": "ok",
     "timestamp": 1587921150650,
     "user": {
      "displayName": "Sun Hong",
      "photoUrl": "",
      "userId": "15604721942150290112"
     },
     "user_tz": -120
    },
    "id": "s1OXd1kB-YSC",
    "outputId": "70e5214f-f7ea-428f-a66d-58b4cc7f5c76"
   },
   "outputs": [
    {
     "name": "stdout",
     "output_type": "stream",
     "text": [
      "PREFIX sct: <http://snomed.info/id/>\n",
      "PREFIX data: <http://josd.github.io/fluid/gps/data#>\n",
      "PREFIX care: <http://josd.github.io/fluid/gps/care#>\n",
      "\n",
      "##Parkinson relevant data\n",
      "\n",
      "data:patient_1 a \t\t\t\tcare:Patient. \n",
      "data:patient_1 care:age \t\t64 . \n",
      "data:patient_1 care:name \t\t\"Jane Doe\" . \n",
      "data:patient_1 care:gender \t\t\"female\" . \n",
      "data:patient_1 care:weight \t\t75 . \n",
      "data:patient_1 care:diagnosis \tsct:49049000 .\t\n",
      "#sct:49049000 Parkinson disease.\n",
      "\n",
      "#The values below will be used to calculate UPDRS Score\n",
      "data:patient_1 care:updrs_cat_8\t\t1 .\n",
      "data:patient_1 care:updrs_cat_9\t\t1 .\n",
      "data:patient_1 care:updrs_cat_16\t1 .\n",
      "data:patient_1 care:updrs_cat_23\t2 .\n",
      "data:patient_1 care:updrs_cat_24\t1.5 .\n",
      "data:patient_1 care:updrs_cat_25\t2 .\n",
      "data:patient_1 care:updrs_cat_28\t1 .\n",
      "data:patient_1 care:updrs_cat_31\t1 .\n",
      "\n",
      "#The score will be calculated by an external rule\n",
      "#data:patient_1 care:updrs_score \t10.5.\n",
      "\t\n",
      "##Colon cancer relevant data\n",
      "\t\n",
      "data:patient_1 care:diagnosis \t\t\t\tsct:363406005 .\n",
      "#sct:363406005 general colon cancer\n",
      "data:patient_1 care:diagnosis \t\t\t\tsct:363351006 .\t\n",
      "#sct:363351006 indicating rectal cancer.\n",
      "data:patient_1 care:tumor_size \t\t\t\t40 .\n",
      "data:patient_1 care:metastasis_risk \t\t0.4 .\n",
      "data:patient_1 care:5yr_survival_rate \t\t0.2 .\n",
      "data:patient_1 care:non_toxicity \t\t\t1 .\n",
      "data:patient_1 care:position \t\t\t\tsct:34402009 .\n",
      "#sct:34402009\t#rectum [body structure].\n",
      "data:patient_1 care:status \t\t\t\t\t\"active\" .\n",
      "data:patient_1 care:tnm_t \t\t\t\t\t3 .\n",
      "data:patient_1 care:blocking_colon \t\t\tfalse .\n",
      "data:patient_1 care:5yr_local_relapse_risk \t0 . \n"
     ]
    }
   ],
   "source": [
    "f=open(\"../data/data-colon-cancer-t3-b.ttl\")\n",
    "print(f.read())"
   ]
  },
  {
   "cell_type": "markdown",
   "metadata": {
    "colab_type": "text",
    "id": "T3eYYchJ-YSG"
   },
   "source": [
    "### State change descriptions"
   ]
  },
  {
   "cell_type": "code",
   "execution_count": 10,
   "metadata": {
    "colab": {
     "base_uri": "https://localhost:8080/",
     "height": 1000
    },
    "colab_type": "code",
    "executionInfo": {
     "elapsed": 5198,
     "status": "ok",
     "timestamp": 1587921150653,
     "user": {
      "displayName": "Sun Hong",
      "photoUrl": "",
      "userId": "15604721942150290112"
     },
     "user_tz": -120
    },
    "id": "SFwMbfly-YSG",
    "outputId": "38176045-8d96-45e8-8b00-a986e006064b"
   },
   "outputs": [
    {
     "name": "stdout",
     "output_type": "stream",
     "text": [
      "PREFIX math: <http://www.w3.org/2000/10/swap/math#>\n",
      "PREFIX xsd: <http://www.w3.org/2001/XMLSchema#>\n",
      "PREFIX e: <http://eulersharp.sourceforge.net/2003/03swap/log-rules#>\n",
      "PREFIX gps: <http://josd.github.io/fluid/gps/gps-schema#>\n",
      "PREFIX action: <http://josd.github.io/fluid/gps/action#>\n",
      "PREFIX log: <http://www.w3.org/2000/10/swap/log#>\n",
      "PREFIX string: <http://www.w3.org/2000/10/swap/string#>\n",
      "PREFIX sct: <http://snomed.info/id/>\n",
      "PREFIX therapy: <http://josd.github.io/fluid/gps/therapy#>\n",
      "PREFIX surgery: <http://josd.github.io/fluid/gps/surgery#>\n",
      "PREFIX care: <http://josd.github.io/fluid/gps/care#>\n",
      "\n",
      "#Neoadjuvant_chemoradiotherapy\n",
      "{\n",
      "\tcare:Colon_cancer gps:description (\n",
      "\t\t{\n",
      "\t\t\t?patient care:tumor_size ?size. \n",
      "\t\t\t?patient care:metastasis_risk ?risk .\n",
      "\t\t\t?patient care:5yr_survival_rate ?rate .\n",
      "\t\t\t?patient care:non_toxicity ?non_toxicity .\n",
      "\t\t}\n",
      "\t\t{?patient gps:therapy therapy:Neoadjuvant_chemoradiotherapy.}\n",
      "\t\t{\n",
      "\t\t\t?patient care:tumor_size ?new_size. \n",
      "\t\t\t?patient care:metastasis_risk ?new_risk .\n",
      "\t\t\t?patient care:5yr_survival_rate ?new_rate .\n",
      "\t\t\t?patient care:non_toxicity ?new_non_toxicity .\n",
      "\t\t\t?patient care:taken action:Neoadjuvant_chemoradiotherapy.\n",
      "\t\t}\n",
      "\t\taction:Neoadjuvant_chemoradiotherapy\n",
      "\t\t\"P50D\"^^xsd:dayTimeDuration\n",
      "\t\t14147\n",
      "\t\t0.9\n",
      "\t\t0.5\n",
      "\t)\n",
      "} <= {\n",
      "\t?patient a care:Patient. \n",
      "\t?patient care:diagnosis sct:363406005.\n",
      "\t?patient care:diagnosis sct:363351006.\t\t###We simplified the test case with rectum cancer.\n",
      "\n",
      "\n",
      "\t?patient care:tumor_size ?size.\n",
      "\t(?size 0.7) math:product ?new_size.\n",
      "\t\n",
      "\t?patient  care:metastasis_risk ?risk .\n",
      "\t(?risk 0.5) math:product ?new_risk.\n",
      "\t\n",
      "\t?patient  care:5yr_survival_rate ?rate .\n",
      "\t#the following calculation is to drop the death rate by 50%. \n",
      "\t(1 ((1 ?rate)!math:difference 0.5)!math:product) math:difference ?new_rate.\n",
      "\t\n",
      "\t?patient  care:non_toxicity ?non_toxicity .\n",
      "\t(?non_toxicity 0.73) math:product ?new_non_toxicity.\n",
      "\t\n",
      "\n",
      "\t?patient  care:tnm_t ?t_value .\n",
      "\t?t_value math:greaterThan 2 .\n",
      "\t\n",
      "\t?scope e:fail {?patient  care:taken action:surgery_colon_cancer}.\n",
      "\t?scope e:fail {?patient  care:taken action:Neoadjuvant_chemoradiotherapy.}.\n",
      "\t?scope e:fail {?patient  care:blocking_colon true .}.\n",
      "\t\n",
      "}. \n",
      "\n",
      "#surgery\n",
      "{\n",
      "\tcare:Colon_cancer gps:description (\n",
      "\t\t{\n",
      "\t\t\t?patient  care:tumor_size ?size. \n",
      "\t\t\t?patient  care:metastasis_risk ?risk .\n",
      "\t\t\t?patient  care:5yr_survival_rate ?rate .\n",
      "\t\t\t?patient  care:non_toxicity ?non_toxicity .\n",
      "\t\t\t?patient  care:5yr_local_relapse_risk ?relapse_risk . \t\t\t\n",
      "\t\t}\n",
      "\t\t{?patient gps:surgery surgery:surgery_colon_cancer.}\n",
      "\t\t{\n",
      "\t\t\t?patient  care:tumor_size 0 . \n",
      "\t\t\t?patient  care:metastasis_risk ?new_risk .\n",
      "\t\t\t?patient  care:5yr_survival_rate ?new_rate .\n",
      "\t\t\t?patient  care:non_toxicity ?new_non_toxicity .\n",
      "\t\t\t?patient  care:taken action:surgery_colon_cancer.\n",
      "\t\t\t?patient  care:5yr_local_relapse_risk ?new_relapse_risk . \t\t\t\n",
      "\t\t}\n",
      "\t\taction:surgery_colon_cancer\n",
      "\t\t\"P5D\"^^xsd:dayTimeDuration\n",
      "\t\t20950 \n",
      "\t\t0.9\n",
      "\t\t0.5\n",
      "\t)\n",
      "} <= {\n",
      "\t?patient a  care:Patient. \n",
      "\t?patient  care:diagnosis sct:363406005.\n",
      "\t?patient  care:surgery_colon_cancer_precondition true .\n",
      "\t?scope e:fail {?patient  care:taken action:surgery_colon_cancer.}.\n",
      "\t\n",
      "\t?patient  care:post_surgery_5yr_local_relapse_risk ?new_relapse_risk . \t\n",
      "\t\n",
      "\t?patient  care:metastasis_risk ?risk .\n",
      "\t(?risk 0.1) math:product ?new_risk.\n",
      "\t\n",
      "\t?patient  care:5yr_survival_rate ?rate .\n",
      "\t#the following calculation is to drop the death rate by 50%. \n",
      "\t(1 ((1 ?rate)!math:difference 0.2)!math:product) math:difference ?new_rate.\n",
      "\t\n",
      "\t?patient  care:non_toxicity ?non_toxicity .\n",
      "\t(?non_toxicity 0.95) math:product ?new_non_toxicity.\n",
      "}. \n",
      "\n",
      "##Adjuvant_chemoradiotherapy\n",
      "{\n",
      "\tcare:Colon_cancer gps:description (\n",
      "\t\t{\n",
      "\t\t\t?patient  care:metastasis_risk ?risk .\n",
      "\t\t\t?patient  care:5yr_survival_rate ?rate .\n",
      "\t\t\t?patient  care:non_toxicity ?non_toxicity .\n",
      "\t\t}\n",
      "\t\t{?patient gps:therapy therapy:Adjuvant_chemoradiotherapy.}\n",
      "\t\t{\n",
      "\t\t\t?patient  care:metastasis_risk ?new_risk .\n",
      "\t\t\t?patient  care:5yr_survival_rate ?new_rate .\n",
      "\t\t\t?patient  care:non_toxicity ?new_non_toxicity .\n",
      "\t\t\t?patient  care:taken action:Adjuvant_chemoradiotherapy.\n",
      "\t\t\t?patient  care:5yr_local_relapse_risk ?new_relapse_risk . \n",
      "\t\t}\n",
      "\t\taction:Adjuvant_chemoradiotherapy\n",
      "\t\t\"P80D\"^^xsd:dayTimeDuration\n",
      "\t\t22635\n",
      "\t\t0.9\n",
      "\t\t0.4\n",
      "\t)\n",
      "} <= {\n",
      "\t?patient a  care:Patient. \n",
      "\t?patient  care:diagnosis sct:363406005.\n",
      "\t?patient  care:diagnosis sct:363351006.\t\t###Why do we need to put this restriction?\n",
      "\t\n",
      "\t?patient  care:taken action:surgery_colon_cancer .\n",
      "\t?scope e:fail {?patient  care:taken action:Adjuvant_chemoradiotherapy.}.\n",
      "\t?scope e:fail {?patient  care:taken action:Neoadjuvant_chemoradiotherapy.}.\n",
      "\t\n",
      "\t?patient  care:metastasis_risk ?risk .\n",
      "\t(?risk 0.5) math:product ?new_risk.\n",
      "\t\n",
      "\t?patient  care:5yr_survival_rate ?rate .\n",
      "\t#the following calculation is to drop the death rate by 50%. \n",
      "\t(1 ((1 ?rate)!math:difference 0.5)!math:product) math:difference ?new_rate.\n",
      "\t\n",
      "\t?patient  care:non_toxicity ?non_toxicity .\n",
      "\t(?non_toxicity 0.6) math:product ?new_non_toxicity.\n",
      "\t\n",
      "\t?patient  care:tnm_t ?t_value .\n",
      "\t?t_value math:greaterThan 2 .\n",
      "\t\n",
      "\t?patient  care:5yr_local_relapse_risk ?relapse_risk . \n",
      "\t(?relapse_risk 0.8) math:product ?new_relapse_risk.\n",
      "}. \n",
      "\n"
     ]
    }
   ],
   "source": [
    "f=open(\"../colon-cancer/gps-desc.n3\")\n",
    "print(f.read())"
   ]
  },
  {
   "cell_type": "markdown",
   "metadata": {
    "colab_type": "text",
    "id": "zQHETH8m-YSN"
   },
   "source": [
    "### Relevant knowledge"
   ]
  },
  {
   "cell_type": "code",
   "execution_count": 11,
   "metadata": {
    "colab": {
     "base_uri": "https://localhost:8080/",
     "height": 1000
    },
    "colab_type": "code",
    "executionInfo": {
     "elapsed": 4657,
     "status": "ok",
     "timestamp": 1587921150655,
     "user": {
      "displayName": "Sun Hong",
      "photoUrl": "",
      "userId": "15604721942150290112"
     },
     "user_tz": -120
    },
    "id": "3wbWaCaS-YSP",
    "outputId": "c735aed2-5b97-4c6b-c5bd-0499598d7c7d"
   },
   "outputs": [
    {
     "name": "stdout",
     "output_type": "stream",
     "text": [
      "PREFIX math: <http://www.w3.org/2000/10/swap/math#>\n",
      "PREFIX xsd: <http://www.w3.org/2001/XMLSchema#>\n",
      "PREFIX e: <http://eulersharp.sourceforge.net/2003/03swap/log-rules#>\n",
      "PREFIX gps: <http://josd.github.io/fluid/gps/gps-schema#>\n",
      "PREFIX action: <http://josd.github.io/fluid/gps/action#>\n",
      "PREFIX log: <http://www.w3.org/2000/10/swap/log#>\n",
      "PREFIX string: <http://www.w3.org/2000/10/swap/string#>\n",
      "prefix sct: <http://snomed.info/id/>\n",
      "PREFIX care: <http://josd.github.io/fluid/gps/care#>\n",
      "\n",
      "\n",
      "#preconditions that allows to take surgery.\n",
      "\n",
      "{\n",
      "\t?patient  care:surgery_colon_cancer_precondition true .\n",
      "}<={\n",
      "\t?patient a  care:Patient. \n",
      "\t?patient  care:diagnosis sct:363406005.\n",
      "\t?patient  care:diagnosis sct:363351006.\n",
      "\t?patient  care:tnm_t ?t_value .\n",
      "\t?t_value math:lessThan 3 .\n",
      "}.\n",
      "\n",
      "{\n",
      "\t?patient  care:surgery_colon_cancer_precondition true .\n",
      "}<={\n",
      "\t?patient a  care:Patient. \n",
      "\t?patient  care:diagnosis sct:363406005.\n",
      "\t?patient  care:diagnosis sct:363351006.\n",
      "\t?patient  care:tnm_t ?t_value .\n",
      "\t?t_value math:greaterThan 2 .\n",
      "#\t?patient  care:taken action:Neoadjuvant_chemoradiotherapy.\n",
      "}.\n",
      "\n",
      "{\n",
      "\t?patient  care:surgery_colon_cancer_precondition true .\n",
      "}<={\n",
      "\t?patient a  care:Patient. \n",
      "\t?patient  care:diagnosis sct:363406005.\n",
      "\t?patient  care:diagnosis sct:363351006.\n",
      "\t?patient  care:tnm_t ?t_value .\n",
      "\t?t_value math:greaterThan 2 .\n",
      "\t?scope e:fail {?patient  care:taken action:Neoadjuvant_chemoradiotherapy.}.\n",
      "\t?patient  care:blocking_colon true .\n",
      "}.\n",
      "\n",
      "\n",
      "###The following backward rules calculate the post surgery relapse risk after surgery for different situations.\n",
      "\n",
      "{\n",
      "\t?patient  care:post_surgery_5yr_local_relapse_risk 0.01 . \n",
      "} <= {\n",
      "\t?patient  care:tnm_t 1 .\n",
      "}.\n",
      "\n",
      "{\n",
      "\t?patient  care:post_surgery_5yr_local_relapse_risk 0.04 . \n",
      "} <= {\n",
      "\t?patient  care:tnm_t 2 .\n",
      "}.\n",
      "\n",
      "{\n",
      "\t?patient  care:post_surgery_5yr_local_relapse_risk 0.06 . \n",
      "} <= {\n",
      "\t?patient  care:taken action:Neoadjuvant_chemoradiotherapy.\n",
      "\t?patient  care:tnm_t 3 .\n",
      "}.\n",
      "\n",
      "{\n",
      "\t?patient  care:post_surgery_5yr_local_relapse_risk 0.08 . \n",
      "} <= {\n",
      "\t?patient  care:taken action:Neoadjuvant_chemoradiotherapy.\n",
      "\t?patient  care:tnm_t 4 .\n",
      "}.\n",
      "\n",
      "{\n",
      "\t?patient  care:post_surgery_5yr_local_relapse_risk 0.2 . \n",
      "} <= {\n",
      "\t?scope e:fail { ?patient  care:taken action:Neoadjuvant_chemoradiotherapy. }.\n",
      "\t?patient  care:tnm_t 3 .\n",
      "}.\n",
      "\n",
      "{\n",
      "\t?patient  care:post_surgery_5yr_local_relapse_risk 0.3 . \n",
      "} <= {\n",
      "\t?scope e:fail { ?patient  care:taken action:Neoadjuvant_chemoradiotherapy. }.\n",
      "\t?patient  care:tnm_t 4 .\n",
      "}.\n",
      "\n",
      "\n",
      "{\n",
      "\t?patient  care:post_surgery_5yr_local_relapse_risk 0.13 . \n",
      "} <= {\n",
      "\t?scope e:fail { ?patient  care:taken action:Neoadjuvant_chemoradiotherapy. }.\n",
      "\t?patient  care:taken action:Adjuvant_chemoradiotherapy.\n",
      "\t?patient  care:taken action:surgery_colon_cancer .\n",
      "\t?patient  care:tnm_t 3 .\n",
      "}.\n",
      "\n",
      "{\n",
      "\t?patient  care:post_surgery_5yr_local_relapse_risk 0.18 . \n",
      "} <= {\n",
      "\t?scope e:fail { ?patient  care:taken action:Neoadjuvant_chemoradiotherapy. }.\n",
      "\t?patient  care:taken action:adjuvant_chemoradiotherapy.\n",
      "\t?patient  care:taken action:surgery_colon_cancer .\n",
      "\t?patient  care:tnm_t 4 .\n",
      "}.\n",
      "\n"
     ]
    }
   ],
   "source": [
    "f=open(\"../colon-cancer/gps-knowledge.n3\")\n",
    "print(f.read())"
   ]
  },
  {
   "cell_type": "markdown",
   "metadata": {
    "colab_type": "text",
    "id": "prDOqb6Y-YSb"
   },
   "source": [
    "### Goal for colon cancer"
   ]
  },
  {
   "cell_type": "code",
   "execution_count": 12,
   "metadata": {
    "colab": {
     "base_uri": "https://localhost:8080/",
     "height": 622
    },
    "colab_type": "code",
    "executionInfo": {
     "elapsed": 3959,
     "status": "ok",
     "timestamp": 1587921150658,
     "user": {
      "displayName": "Sun Hong",
      "photoUrl": "",
      "userId": "15604721942150290112"
     },
     "user_tz": -120
    },
    "id": "hJ2JbCtO-YSb",
    "outputId": "cf558664-15ff-4efb-99da-3c49340cc816"
   },
   "outputs": [
    {
     "name": "stdout",
     "output_type": "stream",
     "text": [
      "PREFIX math: <http://www.w3.org/2000/10/swap/math#>\n",
      "PREFIX xsd: <http://www.w3.org/2001/XMLSchema#>\n",
      "PREFIX e: <http://eulersharp.sourceforge.net/2003/03swap/log-rules#>\n",
      "PREFIX gps: <http://josd.github.io/fluid/gps/gps-schema#>\n",
      "PREFIX action: <http://josd.github.io/fluid/gps/action#>\n",
      "PREFIX log: <http://www.w3.org/2000/10/swap/log#>\n",
      "PREFIX string: <http://www.w3.org/2000/10/swap/string#>\n",
      "PREFIX sct: <http://snomed.info/id/>\n",
      "PREFIX care: <http://josd.github.io/fluid/gps/care#>\n",
      "\n",
      "{\n",
      "\t?SCOPE gps:findpath (\n",
      "\t{\n",
      "\t\t?patient a  care:Patient. \n",
      "\t\t?patient  care:diagnosis sct:363406005.\n",
      "\t\t\t\n",
      "\t\t?patient  care:tumor_size 0 .\n",
      "\t\t\n",
      "\t\t?patient  care:metastasis_risk ?risk .\n",
      "\t\t?risk math:lessThan 0.1 .\n",
      "\t\t\n",
      "\t\t?patient  care:5yr_survival_rate ?rate .\n",
      "\t\t?rate math:greaterThan 0.7 .\n",
      "\t\t\n",
      "\t\t?patient  care:non_toxicity ?non_toxicity .\n",
      "\t\t?non_toxicity math:greaterThan 0.5 .\n",
      "\t\t\n",
      "\t\t?patient  care:5yr_local_relapse_risk ?relapse_risk . \t\t\t\n",
      "\t\t?relapse_risk math:lessThan 0.2 .\t\t\n",
      "\t} \n",
      "\t?PATH ?DURATION ?COST ?BELIEF ?COMFORT (\"P150D\"^^xsd:dayTimeDuration 50000.0 0.1 0.1)).\n",
      "\n",
      "} => {\n",
      "\t?patient gps:path (?PATH ?DURATION ?COST ?BELIEF ?COMFORT (?risk ?rate ?non_toxicity ?relapse_risk) ).\n",
      "}.\n",
      "\n"
     ]
    }
   ],
   "source": [
    "f=open(\"../colon-cancer/gps-query.n3\")\n",
    "print(f.read())"
   ]
  },
  {
   "cell_type": "markdown",
   "metadata": {
    "colab_type": "text",
    "id": "xh2wMqkW-YSq"
   },
   "source": [
    "### Conflict knowledge"
   ]
  },
  {
   "cell_type": "code",
   "execution_count": 13,
   "metadata": {
    "colab": {
     "base_uri": "https://localhost:8080/",
     "height": 235
    },
    "colab_type": "code",
    "executionInfo": {
     "elapsed": 3298,
     "status": "ok",
     "timestamp": 1587921150660,
     "user": {
      "displayName": "Sun Hong",
      "photoUrl": "",
      "userId": "15604721942150290112"
     },
     "user_tz": -120
    },
    "id": "d6wRnVvx-YSr",
    "outputId": "656fbdc9-5824-4157-d6c5-ea5fb65fbc2e"
   },
   "outputs": [
    {
     "name": "stdout",
     "output_type": "stream",
     "text": [
      "PREFIX gps: <http://josd.github.io/fluid/gps/gps-schema#>\n",
      "PREFIX medication: <http://josd.github.io/fluid/gps/medication#>\n",
      "PREFIX surgery: <http://josd.github.io/fluid/gps/surgery#>\n",
      "\n",
      "#Consider there is a conflict between medication:Pramipexol and surgery:surgery_colon_cancer\n",
      "{\t\t\n",
      "\t?patient gps:alert {medication:Pramipexol gps:conflict surgery:surgery_colon_cancer.}.\n",
      "} <=\n",
      "{\n",
      "\t?patient gps:medication medication:Pramipexol.\n",
      "\t?patient gps:surgery surgery:surgery_colon_cancer.\n",
      "}.\n",
      "\n"
     ]
    }
   ],
   "source": [
    "f=open(\"../knowledge/knowledge.n3\")\n",
    "print(f.read())"
   ]
  },
  {
   "cell_type": "markdown",
   "metadata": {
    "colab_type": "text",
    "id": "nWcJXKik-YS5"
   },
   "source": [
    "### Descriptions of operational details"
   ]
  },
  {
   "cell_type": "code",
   "execution_count": 14,
   "metadata": {
    "colab": {
     "base_uri": "https://localhost:8080/",
     "height": 1000
    },
    "colab_type": "code",
    "executionInfo": {
     "elapsed": 2330,
     "status": "ok",
     "timestamp": 1587921150661,
     "user": {
      "displayName": "Sun Hong",
      "photoUrl": "",
      "userId": "15604721942150290112"
     },
     "user_tz": -120
    },
    "id": "UGEv7LKG-YS6",
    "outputId": "72cdfdb4-2ae7-424f-ef81-ba06251e7388"
   },
   "outputs": [
    {
     "name": "stdout",
     "output_type": "stream",
     "text": [
      "PREFIX math: <http://www.w3.org/2000/10/swap/math#>\n",
      "PREFIX xsd: <http://www.w3.org/2001/XMLSchema#>\n",
      "PREFIX e: <http://eulersharp.sourceforge.net/2003/03swap/log-rules#>\n",
      "PREFIX gps: <http://josd.github.io/fluid/gps/gps-schema#>\n",
      "PREFIX action: <http://josd.github.io/fluid/gps/action#>\n",
      "PREFIX log: <http://www.w3.org/2000/10/swap/log#>\n",
      "PREFIX string: <http://www.w3.org/2000/10/swap/string#>\n",
      "PREFIX list: <http://www.w3.org/2000/10/swap/list#>\n",
      "PREFIX sct: <http://snomed.info/id/>\n",
      "PREFIX therapy: <http://josd.github.io/fluid/gps/therapy#>\n",
      "PREFIX surgery: <http://josd.github.io/fluid/gps/surgery#>\n",
      "PREFIX care: <http://josd.github.io/fluid/gps/care#>\n",
      "\n",
      "\n",
      "##Adjuvant_chemoradiotherapy_episode_1\n",
      "{\n",
      "\tcare:Colon_cancer_a_c gps:description (\n",
      "\t\t{}\n",
      "\t\t{}\n",
      "\t\t{\n",
      "\t\t\taction:Adjuvant_chemoradiotherapy_episode1 gps:status gps:planned.\n",
      "\t\t}\n",
      "\t\taction:Adjuvant_chemoradiotherapy_episode1\n",
      "\t\t\"P20D\"^^xsd:dayTimeDuration\n",
      "\t\t2830\n",
      "\t\t0.99\n",
      "\t\t0.8\n",
      "\t)\n",
      "} <= {\n",
      "\n",
      "\t\n",
      "\t?patient gps:initialAggregatedPath ?selectedTemporalPath.\n",
      "\t\n",
      "\t?selectedTemporalPath list:member ((action:Adjuvant_chemoradiotherapy ?start ?end) ?state ?time ?graph).\n",
      "\t\n",
      "\t?scope e:fail {action:Adjuvant_chemoradiotherapy_episode1 gps:status gps:planned.}.\n",
      "\t\n",
      "}. \n",
      "\n",
      "\n",
      "##Adjuvant_chemoradiotherapy_episode_2\n",
      "{\n",
      "\tcare:Colon_cancer_a_c gps:description (\n",
      "\t\t{}\n",
      "\t\t{}\n",
      "\t\t{\n",
      "\t\t\taction:Adjuvant_chemoradiotherapy_episode2 gps:status gps:planned.\n",
      "\t\t}\n",
      "\t\taction:Adjuvant_chemoradiotherapy_episode2\n",
      "\t\t\"P20D\"^^xsd:dayTimeDuration\n",
      "\t\t2830\n",
      "\t\t0.99\n",
      "\t\t0.8\n",
      "\t)\n",
      "} <= {\n",
      "\taction:Adjuvant_chemoradiotherapy_episode1 gps:status gps:planned.\n",
      "\t\n",
      "\t?scope e:fail {action:Adjuvant_chemoradiotherapy_episode2 gps:status gps:planned.}.\n",
      "}. \n",
      "\n",
      "\n",
      "##Adjuvant_chemoradiotherapy_episode_3\n",
      "{\n",
      "\tcare:Colon_cancer_a_c gps:description (\n",
      "\t\t{}\n",
      "\t\t{}\n",
      "\t\t{\n",
      "\t\t\taction:Adjuvant_chemoradiotherapy_episode3 gps:status gps:planned.\n",
      "\t\t}\n",
      "\t\taction:Adjuvant_chemoradiotherapy_episode3\n",
      "\t\t\"P20D\"^^xsd:dayTimeDuration\n",
      "\t\t2830\n",
      "\t\t0.99\n",
      "\t\t0.8\n",
      "\t)\n",
      "} <= {\n",
      "\taction:Adjuvant_chemoradiotherapy_episode2 gps:status gps:planned.\n",
      "\t\n",
      "\t?scope e:fail {action:Adjuvant_chemoradiotherapy_episode3 gps:status gps:planned.}.\n",
      "}. \n",
      "\n",
      "\n",
      "##Adjuvant_chemoradiotherapy_episode_4\n",
      "{\n",
      "\tcare:Colon_cancer_a_c gps:description (\n",
      "\t\t{}\n",
      "\t\t{}\n",
      "\t\t{\n",
      "\t\t\taction:Adjuvant_chemoradiotherapy_episode4 gps:status gps:planned.\n",
      "\t\t}\n",
      "\t\taction:Adjuvant_chemoradiotherapy_episode4\n",
      "\t\t\"P20D\"^^xsd:dayTimeDuration\n",
      "\t\t2830\n",
      "\t\t0.99\n",
      "\t\t0.8\n",
      "\t)\n",
      "} <= {\n",
      "\taction:Adjuvant_chemoradiotherapy_episode3 gps:status gps:planned.\n",
      "\t\n",
      "\t?scope e:fail {action:Adjuvant_chemoradiotherapy_episode4 gps:status gps:planned.}.\n",
      "}. \n",
      "\n",
      "\n",
      "\n",
      "## \tThe action of action:Adjuvant_chemoradiotherapy is considered as planned when the four episodes are planned.\n",
      "##\tIt is also possible to consider it is planned if the episode 4 is planned.\n",
      "##\tIdeally, the rule below should be included in the gps_knowledge.n3 file. It is kept here because for readability consideration.\n",
      "\n",
      "{\n",
      "\t\t\taction:Adjuvant_chemoradiotherapy gps:status gps:planned.\n",
      "}<={\n",
      "\t\t\taction:Adjuvant_chemoradiotherapy_episode1 gps:status gps:planned.\n",
      "\t\t\taction:Adjuvant_chemoradiotherapy_episode2 gps:status gps:planned.\n",
      "\t\t\taction:Adjuvant_chemoradiotherapy_episode3 gps:status gps:planned.\n",
      "\t\t\taction:Adjuvant_chemoradiotherapy_episode4 gps:status gps:planned.\n",
      "\t\t}.\n",
      "\n",
      "\n",
      "\n",
      "\t\t\n",
      "\t\t\n",
      "\t\t\n",
      "\t\t\n",
      "##home_visit\n",
      "{\n",
      "\tcare:Colon_cancer_a_c_details gps:description (\n",
      "\t\t{}\n",
      "\t\t{}\n",
      "\t\t{\n",
      "\t\t\taction:home_visit gps:status gps:scheduled.\n",
      "\t\t\taction:blood_sample_collection gps:status gps:scheduled.\n",
      "\t\t\taction:anamnese_update gps:status gps:scheduled.\n",
      "\t\t\taction:vital_sign_update gps:status gps:scheduled.\n",
      "\t\t}\n",
      "\t\taction:home_visit\n",
      "\t\t\"P0DT2H\"^^xsd:dayTimeDuration\n",
      "\t\t50\n",
      "\t\t0.9\n",
      "\t\t0.8\n",
      "\t)\n",
      "} <= {\n",
      "\taction:home_visit gps:status gps:requested.\n",
      "\t\n",
      "\t?scope e:fail {action:home_visit gps:status gps:scheduled.}.\n",
      "}. \t\t\n",
      "\t\t\n",
      "\t\t\n",
      "\t\t\n",
      "##blood_sample_processing\n",
      "{\n",
      "\tcare:Colon_cancer_a_c_details gps:description (\n",
      "\t\t{\n",
      "\t\t\taction:blood_sample_collection gps:status gps:scheduled.\n",
      "\t\t}\n",
      "\t\t{}\n",
      "\t\t{\n",
      "\t\t\taction:blood_sample gps:status gps:expect_processed.\n",
      "\t\t}\n",
      "\t\taction:blood_sample_process\n",
      "\t\t\"P0DT12H\"^^xsd:dayTimeDuration\n",
      "\t\t50\n",
      "\t\t0.9\n",
      "\t\t0.9\n",
      "\t)\n",
      "} <= {\n",
      "\taction:blood_sample_collection gps:status gps:scheduled.\n",
      "\t\n",
      "\t?scope e:fail {action:blood_sample gps:status gps:expect_processed.}.\n",
      "\n",
      "}. \t\t\t\n",
      "\t\t\n",
      "\t\t\n",
      "\t\t\n",
      "\t\t\n",
      "##therapy_decision\n",
      "{\n",
      "\tcare:Colon_cancer_a_c_details gps:description (\n",
      "\t\t{}\n",
      "\t\t{}\n",
      "\t\t{\n",
      "\t\t\taction:Adjuvant_chemoradiotherapy_decision gps:status gps:scheduled.\n",
      "\t\t}\n",
      "\t\taction:therapy_decision\n",
      "\t\t\"P0DT12H\"^^xsd:dayTimeDuration\n",
      "\t\t50\n",
      "\t\t0.9\n",
      "\t\t0.9\n",
      "\t)\n",
      "} <= {\n",
      "\taction:blood_sample gps:status gps:expect_processed.\n",
      "\taction:anamnese_update gps:status gps:scheduled.\n",
      "\taction:vital_sign_update gps:status gps:scheduled.\n",
      "\t\n",
      "\t?scope e:fail {action:Adjuvant_chemoradiotherapy_decision gps:status gps:scheduled.}.\n",
      "}. \t\t\t\n",
      "\t\t\n",
      "\t\t\t\t\n",
      "\t\t\n",
      "{\n",
      "\taction:Adjuvant_chemoradiotherapy_episode gps:status gps:scheduled\n",
      "}<={\n",
      "\taction:Adjuvant_chemoradiotherapy_decision gps:status gps:scheduled.\n",
      "}.\t\t\n",
      "\t\t\n"
     ]
    }
   ],
   "source": [
    "f=open(\"../colon-cancer/details/gps-desc-exd.n3\")\n",
    "print(f.read())"
   ]
  },
  {
   "cell_type": "code",
   "execution_count": null,
   "metadata": {
    "colab": {},
    "colab_type": "code",
    "id": "dhOjxzfc-YS9"
   },
   "outputs": [],
   "source": []
  }
 ],
 "metadata": {
  "colab": {
   "collapsed_sections": [],
   "name": "GPS4IC-demonstration-data.ipynb",
   "provenance": []
  },
  "kernelspec": {
   "display_name": "Python 3",
   "language": "python",
   "name": "python3"
  },
  "language_info": {
   "codemirror_mode": {
    "name": "ipython",
    "version": 3
   },
   "file_extension": ".py",
   "mimetype": "text/x-python",
   "name": "python",
   "nbconvert_exporter": "python",
   "pygments_lexer": "ipython3",
   "version": "3.7.7"
  },
  "toc": {
   "base_numbering": 1,
   "nav_menu": {},
   "number_sections": false,
   "sideBar": true,
   "skip_h1_title": false,
   "title_cell": "Table of Contents",
   "title_sidebar": "Contents",
   "toc_cell": true,
   "toc_position": {},
   "toc_section_display": true,
   "toc_window_display": false
  }
 },
 "nbformat": 4,
 "nbformat_minor": 1
}
