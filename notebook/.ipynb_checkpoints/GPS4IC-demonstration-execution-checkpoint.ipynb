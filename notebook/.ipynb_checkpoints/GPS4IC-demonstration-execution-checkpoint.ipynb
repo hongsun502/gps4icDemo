{
 "cells": [
  {
   "cell_type": "markdown",
   "metadata": {
    "colab_type": "text",
    "id": "HvGjiRaE-p1L"
   },
   "source": [
    "# GPS4IC demonstration - Execution\n",
    "\n",
    "*Execute the following commands to generate output of the demonstration*"
   ]
  },
  {
   "cell_type": "markdown",
   "metadata": {
    "toc": true
   },
   "source": [
    "<h1>Table of Contents<span class=\"tocSkip\"></span></h1>\n",
    "<div class=\"toc\"><ul class=\"toc-item\"><li><span><a href=\"#GPS4IC-demonstration---Execution\" data-toc-modified-id=\"GPS4IC-demonstration---Execution-1\">GPS4IC demonstration - Execution</a></span></li><li><span><a href=\"#At-T0,-a-patient-is-coming-for-treatment-of-Parkinson-disease\" data-toc-modified-id=\"At-T0,-a-patient-is-coming-for-treatment-of-Parkinson-disease-2\">At T0, a patient is coming for treatment of Parkinson disease</a></span><ul class=\"toc-item\"><li><ul class=\"toc-item\"><li><span><a href=\"#Display-patient-current-status\" data-toc-modified-id=\"Display-patient-current-status-2.0.1\">Display patient current status</a></span></li></ul></li><li><span><a href=\"#Step-1.-Generate-path-for-parkinson-disease\" data-toc-modified-id=\"Step-1.-Generate-path-for-parkinson-disease-2.1\">Step 1. Generate path for parkinson disease</a></span></li><li><span><a href=\"#Step-2.-Manually-select-one-path\" data-toc-modified-id=\"Step-2.-Manually-select-one-path-2.2\">Step 2. Manually select one path</a></span><ul class=\"toc-item\"><li><span><a href=\"#Step-3.-Visualize-the-aggregated-path\" data-toc-modified-id=\"Step-3.-Visualize-the-aggregated-path-2.2.1\">Step 3. Visualize the aggregated path</a></span><ul class=\"toc-item\"><li><span><a href=\"#The-command-below-process-the-aggregated-path-to-provide-a-better-visualization-with-plotly\" data-toc-modified-id=\"The-command-below-process-the-aggregated-path-to-provide-a-better-visualization-with-plotly-2.2.1.1\">The command below process the aggregated path to provide a better visualization with plotly</a></span></li></ul></li></ul></li></ul></li><li><span><a href=\"#At-T1,-the-patient-got-an-updated-data\" data-toc-modified-id=\"At-T1,-the-patient-got-an-updated-data-3\">At T1, the patient got an updated data</a></span></li><li><span><a href=\"#At-T2,-the-first-action-finishes,-the-patient-got-an-updated-data\" data-toc-modified-id=\"At-T2,-the-first-action-finishes,-the-patient-got-an-updated-data-4\">At T2, the first action finishes, the patient got an updated data</a></span></li><li><span><a href=\"#At-T1,-the-patient-got-an-updated-data\" data-toc-modified-id=\"At-T1,-the-patient-got-an-updated-data-5\">At T1, the patient got an updated data</a></span></li><li><span><a href=\"#At-T3,-the-patient-adds-a-new-path-to-treat-colon-cancer\" data-toc-modified-id=\"At-T3,-the-patient-adds-a-new-path-to-treat-colon-cancer-6\">At T3, the patient adds a new path to treat colon cancer</a></span><ul class=\"toc-item\"><li><ul class=\"toc-item\"><li><span><a href=\"#aggregate-the-temporally-processed-path-with-existing-paths.\" data-toc-modified-id=\"aggregate-the-temporally-processed-path-with-existing-paths.-6.0.1\">aggregate the temporally processed path with existing paths.</a></span></li><li><span><a href=\"#validate-the-aggregated-path,-both-goals-are-validated\" data-toc-modified-id=\"validate-the-aggregated-path,-both-goals-are-validated-6.0.2\">validate the aggregated path, both goals are validated</a></span></li><li><span><a href=\"#process-the-aggregated-path-to-provide-a-better-visualization-with-excel\" data-toc-modified-id=\"process-the-aggregated-path-to-provide-a-better-visualization-with-excel-6.0.3\">process the aggregated path to provide a better visualization with excel</a></span></li><li><span><a href=\"#process-the-aggregated-path-to-provide-a-better-visualization-with-plotly\" data-toc-modified-id=\"process-the-aggregated-path-to-provide-a-better-visualization-with-plotly-6.0.4\">process the aggregated path to provide a better visualization with plotly</a></span></li><li><span><a href=\"#alert-detection\" data-toc-modified-id=\"alert-detection-6.0.5\">alert detection</a></span></li><li><span><a href=\"#Break-down-the-task-of-adjuvant_chemoradiotherapy-into-a-set-of-episodes\" data-toc-modified-id=\"Break-down-the-task-of-adjuvant_chemoradiotherapy-into-a-set-of-episodes-6.0.6\">Break down the task of adjuvant_chemoradiotherapy into a set of episodes</a></span><ul class=\"toc-item\"><li><span><a href=\"#Generate-query-of-finishing-the-task-of-adjuvant_chemoradiotherapy-(that-will-be-used-to-generate-sub-steps).\" data-toc-modified-id=\"Generate-query-of-finishing-the-task-of-adjuvant_chemoradiotherapy-(that-will-be-used-to-generate-sub-steps).-6.0.6.1\">Generate query of finishing the task of adjuvant_chemoradiotherapy (that will be used to generate sub steps).</a></span></li><li><span><a href=\"#Retrieve-the-start-time-of-the-adjuvant_chemoradiotherapy.\" data-toc-modified-id=\"Retrieve-the-start-time-of-the-adjuvant_chemoradiotherapy.-6.0.6.2\">Retrieve the start time of the adjuvant_chemoradiotherapy.</a></span></li><li><span><a href=\"#Generate-sub-plans-for-adjuvant-chemoradiotherapy.\" data-toc-modified-id=\"Generate-sub-plans-for-adjuvant-chemoradiotherapy.-6.0.6.3\">Generate sub-plans for adjuvant-chemoradiotherapy.</a></span></li><li><span><a href=\"#Temporally-process-the-generated-path,-to-add-start-and-end-time-for-each-episode.\" data-toc-modified-id=\"Temporally-process-the-generated-path,-to-add-start-and-end-time-for-each-episode.-6.0.6.4\">Temporally process the generated path, to add start and end time for each episode.</a></span></li><li><span><a href=\"#Generate-the-csv-file-for-visualization.\" data-toc-modified-id=\"Generate-the-csv-file-for-visualization.-6.0.6.5\">Generate the csv file for visualization.</a></span></li><li><span><a href=\"#Visualize-the-output\" data-toc-modified-id=\"Visualize-the-output-6.0.6.6\">Visualize the output</a></span></li></ul></li></ul></li><li><span><a href=\"#Demo-done,-thanks-for-watching!\" data-toc-modified-id=\"Demo-done,-thanks-for-watching!-6.1\">Demo done, thanks for watching!</a></span></li></ul></li></ul></div>"
   ]
  },
  {
   "cell_type": "code",
   "execution_count": 1,
   "metadata": {
    "colab": {
     "base_uri": "https://localhost:8080/",
     "height": 70
    },
    "colab_type": "code",
    "executionInfo": {
     "elapsed": 1916,
     "status": "ok",
     "timestamp": 1591299330463,
     "user": {
      "displayName": "Sun Hong",
      "photoUrl": "",
      "userId": "15604721942150290112"
     },
     "user_tz": -120
    },
    "id": "wksVbs4X-p1U",
    "outputId": "17632193-45bd-4392-9ea5-9d26a28f6c0e"
   },
   "outputs": [
    {
     "name": "stderr",
     "output_type": "stream",
     "text": [
      "c:\\users\\hong_sun\\pycharmprojects\\workspace\\venv\\lib\\site-packages\\ipykernel_launcher.py:3: FutureWarning: Passing a negative integer is deprecated in version 1.0 and will not be supported in future version. Instead, use None to not limit the column width.\n",
      "  This is separate from the ipykernel package so we can avoid doing imports until\n"
     ]
    },
    {
     "data": {
      "text/html": [
       "<style>.container { width:95% !important; }</style>"
      ],
      "text/plain": [
       "<IPython.core.display.HTML object>"
      ]
     },
     "metadata": {},
     "output_type": "display_data"
    },
    {
     "data": {
      "text/html": [
       "        <script type=\"text/javascript\">\n",
       "        window.PlotlyConfig = {MathJaxConfig: 'local'};\n",
       "        if (window.MathJax) {MathJax.Hub.Config({SVG: {font: \"STIX-Web\"}});}\n",
       "        if (typeof require !== 'undefined') {\n",
       "        require.undef(\"plotly\");\n",
       "        requirejs.config({\n",
       "            paths: {\n",
       "                'plotly': ['https://cdn.plot.ly/plotly-latest.min']\n",
       "            }\n",
       "        });\n",
       "        require(['plotly'], function(Plotly) {\n",
       "            window._Plotly = Plotly;\n",
       "        });\n",
       "        }\n",
       "        </script>\n",
       "        "
      ]
     },
     "metadata": {},
     "output_type": "display_data"
    }
   ],
   "source": [
    "import pandas as pd\n",
    "from scipy import stats\n",
    "pd.set_option('display.max_colwidth', -1) \n",
    "import matplotlib.pyplot as plt\n",
    "import numpy as np\n",
    "import os\n",
    "import re\n",
    "from IPython.core.display import display, HTML\n",
    "display(HTML(\"<style>.container { width:95% !important; }</style>\"))\n",
    "\n",
    "%matplotlib inline\n",
    "\n",
    "from plotly import __version__\n",
    "from plotly.offline import download_plotlyjs, init_notebook_mode, plot, iplot\n",
    "import plotly.figure_factory as ff\n",
    "init_notebook_mode(connected=True)\n",
    "import plotly.graph_objs as go\n",
    "\n",
    "\n"
   ]
  },
  {
   "cell_type": "markdown",
   "metadata": {
    "colab_type": "text",
    "id": "pZ2lsJaX-p1l"
   },
   "source": [
    "# At T0, a patient is coming for treatment of Parkinson disease\n",
    "*GMT: Tuesday, February 6, 2018 2:50:41 PM*"
   ]
  },
  {
   "cell_type": "markdown",
   "metadata": {
    "colab_type": "text",
    "id": "Rns6yzTw-p1n"
   },
   "source": [
    "### Display patient current status\n",
    "\n",
    "*The patient is diagnosed with Parkinson disease.The UPDRS (Unified Parkinson’s Disease Rating Scale), which is aggregated value of a few categories are used to provide insight into the progression of Parkinson disease. A separated updrs calculation rule is used to calculate the UPDRS Score for the patient at runtime.*"
   ]
  },
  {
   "cell_type": "markdown",
   "metadata": {
    "colab_type": "text",
    "id": "ULDWokch-p1o"
   },
   "source": [
    "## Step 1. Generate path for parkinson disease\n",
    "*The command below calls the EYE reasoner and generates the paths that can meet the specified goal.*"
   ]
  },
  {
   "cell_type": "code",
   "execution_count": 7,
   "metadata": {
    "colab": {},
    "colab_type": "code",
    "id": "B3qNGADU-p1u"
   },
   "outputs": [
    {
     "name": "stderr",
     "output_type": "stream",
     "text": [
      "eye --nope ../data/data-parkinson-t0.ttl ../parkinson/gps-desc.n3 ../parkinson/score-calculation.n3 ../engine/gps-plugin.n3 --query ../parkinson/gps-goal-parkinson.n3q\n",
      "EYE v20.0910.0008 josd\n",
      "SWI-Prolog version 8.0.3\n",
      "starting 46 [msec cputime] 117 [msec walltime]\n",
      "GET file:///d:/github/gps4icdemo/data/data-parkinson-t0.ttl SC=14\n",
      "GET file:///d:/github/gps4icdemo/parkinson/gps-desc.n3 SC=3\n",
      "GET file:///d:/github/gps4icdemo/parkinson/score-calculation.n3 SC=1\n",
      "GET file:///d:/github/gps4icdemo/engine/gps-plugin.n3 SC=7\n",
      "GET file:///d:/github/gps4icdemo/parkinson/gps-goal-parkinson.n3q SC=1\n",
      "networking 0 [msec cputime] 178 [msec walltime]\n",
      "reasoning 16 [msec cputime] 69 [msec walltime]\n",
      "2020-09-13T15:02:26.669Z in=26 out=4 ent=5 step=10 brake=4 inf=144560 sec=0.062 inf/sec=2331613\n",
      "\n"
     ]
    }
   ],
   "source": [
    "!eye --nope ../data/data-parkinson-t0.ttl ../parkinson/gps-desc.n3 ../parkinson/score-calculation.n3 ../engine/gps-plugin.n3 --query ../parkinson/gps-goal-parkinson.n3q >../path/parkinson-answer-t0.n3\n"
   ]
  },
  {
   "cell_type": "markdown",
   "metadata": {
    "colab_type": "text",
    "id": "_7Q2Bcm5-p1y"
   },
   "source": [
    "*The command below processes the generated paths to produce csv output*"
   ]
  },
  {
   "cell_type": "code",
   "execution_count": 8,
   "metadata": {
    "colab": {},
    "colab_type": "code",
    "id": "cGq-zxZG-p10"
   },
   "outputs": [
    {
     "name": "stderr",
     "output_type": "stream",
     "text": [
      "eye --nope ../path/parkinson-answer-t0.n3 ../engine/path-processor-original-parkinson.n3 --query ../engine/path-processor-original-parkinson.csvq --strings\n",
      "EYE v20.0910.0008 josd\n",
      "SWI-Prolog version 8.0.3\n",
      "starting 46 [msec cputime] 117 [msec walltime]\n",
      "GET file:///d:/github/gps4icdemo/path/parkinson-answer-t0.n3 SC=4\n",
      "GET file:///d:/github/gps4icdemo/engine/path-processor-original-parkinson.n3 SC=2\n",
      "GET file:///d:/github/gps4icdemo/engine/path-processor-original-parkinson.csvq SC=1\n",
      "networking 0 [msec cputime] 70 [msec walltime]\n",
      "reasoning 0 [msec cputime] 6 [msec walltime]\n",
      "2020-09-13T15:02:37.529Z in=7 out=24 ent=4 step=8 brake=4 inf=76216 sec=0.046 inf/sec=1656870\n",
      "\n"
     ]
    }
   ],
   "source": [
    "!eye --nope ../path/parkinson-answer-t0.n3 ../engine/path-processor-original-parkinson.n3 --query ../engine/path-processor-original-parkinson.csvq --strings >../path/parkinson-answer-t0.csv\n"
   ]
  },
  {
   "cell_type": "markdown",
   "metadata": {
    "colab_type": "text",
    "id": "JpOSgFEw-p13"
   },
   "source": [
    "*Import the file generated by the previous command, and display it*"
   ]
  },
  {
   "cell_type": "code",
   "execution_count": 9,
   "metadata": {
    "colab": {},
    "colab_type": "code",
    "id": "U-_Cn8ll-p17"
   },
   "outputs": [
    {
     "data": {
      "text/html": [
       "<div>\n",
       "<style scoped>\n",
       "    .dataframe tbody tr th:only-of-type {\n",
       "        vertical-align: middle;\n",
       "    }\n",
       "\n",
       "    .dataframe tbody tr th {\n",
       "        vertical-align: top;\n",
       "    }\n",
       "\n",
       "    .dataframe thead th {\n",
       "        text-align: right;\n",
       "    }\n",
       "</style>\n",
       "<table border=\"1\" class=\"dataframe\">\n",
       "  <thead>\n",
       "    <tr style=\"text-align: right;\">\n",
       "      <th></th>\n",
       "      <th>PATH</th>\n",
       "      <th>DURATION</th>\n",
       "      <th>COST</th>\n",
       "      <th>BELIEF</th>\n",
       "      <th>COMFORT</th>\n",
       "      <th>UPDRS_SCORE</th>\n",
       "    </tr>\n",
       "  </thead>\n",
       "  <tbody>\n",
       "    <tr>\n",
       "      <th>0</th>\n",
       "      <td>(\"take_pill_Levodopa\" \"take_pill_Levodopa\")</td>\n",
       "      <td>P120DT0H0M0.0S</td>\n",
       "      <td>28.18</td>\n",
       "      <td>0.64</td>\n",
       "      <td>0.64</td>\n",
       "      <td>9.0</td>\n",
       "    </tr>\n",
       "    <tr>\n",
       "      <th>1</th>\n",
       "      <td>(\"take_pill_Levodopa\" \"take_pill_Pramipexol\")</td>\n",
       "      <td>P120DT0H0M0.0S</td>\n",
       "      <td>113.80</td>\n",
       "      <td>0.64</td>\n",
       "      <td>0.72</td>\n",
       "      <td>9.2</td>\n",
       "    </tr>\n",
       "    <tr>\n",
       "      <th>2</th>\n",
       "      <td>(\"take_pill_Pramipexol\" \"take_pill_Levodopa\")</td>\n",
       "      <td>P120DT0H0M0.0S</td>\n",
       "      <td>113.80</td>\n",
       "      <td>0.64</td>\n",
       "      <td>0.72</td>\n",
       "      <td>9.2</td>\n",
       "    </tr>\n",
       "    <tr>\n",
       "      <th>3</th>\n",
       "      <td>(\"take_pill_Pramipexol\" \"take_pill_Pramipexol\")</td>\n",
       "      <td>P120DT0H0M0.0S</td>\n",
       "      <td>199.42</td>\n",
       "      <td>0.64</td>\n",
       "      <td>0.81</td>\n",
       "      <td>9.4</td>\n",
       "    </tr>\n",
       "  </tbody>\n",
       "</table>\n",
       "</div>"
      ],
      "text/plain": [
       "                                              PATH        DURATION    COST  \\\n",
       "0  (\"take_pill_Levodopa\" \"take_pill_Levodopa\")      P120DT0H0M0.0S  28.18    \n",
       "1  (\"take_pill_Levodopa\" \"take_pill_Pramipexol\")    P120DT0H0M0.0S  113.80   \n",
       "2  (\"take_pill_Pramipexol\" \"take_pill_Levodopa\")    P120DT0H0M0.0S  113.80   \n",
       "3  (\"take_pill_Pramipexol\" \"take_pill_Pramipexol\")  P120DT0H0M0.0S  199.42   \n",
       "\n",
       "   BELIEF  COMFORT  UPDRS_SCORE  \n",
       "0  0.64    0.64     9.0          \n",
       "1  0.64    0.72     9.2          \n",
       "2  0.64    0.72     9.2          \n",
       "3  0.64    0.81     9.4          "
      ]
     },
     "execution_count": 9,
     "metadata": {},
     "output_type": "execute_result"
    }
   ],
   "source": [
    "pd.read_csv('../path/parkinson-answer-t0.csv', sep=',', encoding = 'utf-8')"
   ]
  },
  {
   "cell_type": "markdown",
   "metadata": {
    "colab_type": "text",
    "id": "mT-G0A80-p1_"
   },
   "source": [
    "## Step 2. Manually select one path\n",
    "*The end user manually select a path, the cell below displays the selected path*"
   ]
  },
  {
   "cell_type": "markdown",
   "metadata": {
    "colab_type": "text",
    "id": "0Chy2sTz-p2B"
   },
   "source": [
    "**The operations below is run by system without user interference.**"
   ]
  },
  {
   "cell_type": "markdown",
   "metadata": {
    "colab_type": "text",
    "id": "0Chy2sTz-p2B"
   },
   "source": [
    "**The command below process the selected path following the temporal order of an action, each action will be assigned with a start and end dateTime**"
   ]
  },
  {
   "cell_type": "code",
   "execution_count": 12,
   "metadata": {
    "colab": {},
    "colab_type": "code",
    "id": "14WkIq0g-p2B"
   },
   "outputs": [
    {
     "name": "stderr",
     "output_type": "stream",
     "text": [
      "eye --nope ../path/parkinson-selected-path-t0.n3 ../data/t0.ttl ../engine/gps-temporal-rule.n3 ../parkinson/gps-desc.n3 --query ../engine/gps-temporal-query.n3q\n",
      "EYE v20.0910.0008 josd\n",
      "SWI-Prolog version 8.0.3\n",
      "starting 62 [msec cputime] 112 [msec walltime]\n",
      "GET file:///d:/github/gps4icdemo/path/parkinson-selected-path-t0.n3 SC=1\n",
      "GET file:///d:/github/gps4icdemo/data/t0.ttl SC=1\n",
      "GET file:///d:/github/gps4icdemo/engine/gps-temporal-rule.n3 SC=6\n",
      "GET file:///d:/github/gps4icdemo/parkinson/gps-desc.n3 SC=3\n",
      "GET file:///d:/github/gps4icdemo/engine/gps-temporal-query.n3q SC=1\n",
      "networking 47 [msec cputime] 195 [msec walltime]\n",
      "reasoning 0 [msec cputime] 6 [msec walltime]\n",
      "2020-09-13T15:05:02.605Z in=12 out=1 ent=14 step=34 brake=6 inf=124234 sec=0.109 inf/sec=1139761\n",
      "\n"
     ]
    }
   ],
   "source": [
    "!eye --nope ../path/parkinson-selected-path-t0.n3 ../data/t0.ttl ../engine/gps-temporal-rule.n3 ../parkinson/gps-desc.n3 --query ../engine/gps-temporal-query.n3q>../path/initial-aggregated-path-t0.n3\n"
   ]
  },
  {
   "cell_type": "markdown",
   "metadata": {
    "colab_type": "text",
    "id": "J8CiFMGD-p2E"
   },
   "source": [
    "**The temporally processed path would be aggregated with the eixsitng paths, but since this is the first path assigned to this patient, this aggregation step is skipped.**"
   ]
  },
  {
   "cell_type": "markdown",
   "metadata": {
    "colab_type": "text",
    "id": "0Chy2sTz-p2B"
   },
   "source": [
    "**The command below process the aggregated path: for each action, the expected state that this action leads to are generated and assigned to it.**"
   ]
  },
  {
   "cell_type": "code",
   "execution_count": 40,
   "metadata": {
    "colab": {},
    "colab_type": "code",
    "id": "Wwnyb-OB-p2F"
   },
   "outputs": [
    {
     "name": "stderr",
     "output_type": "stream",
     "text": [
      "eye --nope ../data/data-parkinson-t0.ttl ../data/t0.ttl ../parkinson/gps-desc.n3 ../parkinson/score-calculation.n3 ../path/initial-aggregated-path-t0.n3 ../engine/gps-plugin-aggregated-path-processing.n3 --tactic limited-answer 1 --query ../engine/gps-aggregation-query.n3q\n",
      "EYE v20.0910.0008 josd\n",
      "SWI-Prolog version 8.0.3\n",
      "starting 31 [msec cputime] 117 [msec walltime]\n",
      "GET file:///d:/github/gps4icdemo/data/data-parkinson-t0.ttl SC=14\n",
      "GET file:///d:/github/gps4icdemo/data/t0.ttl SC=1\n",
      "GET file:///d:/github/gps4icdemo/parkinson/gps-desc.n3 SC=3\n",
      "GET file:///d:/github/gps4icdemo/parkinson/score-calculation.n3 SC=1\n",
      "GET file:///d:/github/gps4icdemo/path/initial-aggregated-path-t0.n3 SC=1\n",
      "GET file:///d:/github/gps4icdemo/engine/gps-plugin-aggregated-path-processing.n3 SC=12\n",
      "GET file:///d:/github/gps4icdemo/engine/gps-aggregation-query.n3q SC=1\n",
      "networking 47 [msec cputime] 163 [msec walltime]\n",
      "reasoning 15 [msec cputime] 6 [msec walltime]\n",
      "2020-09-13T19:17:00.097Z in=33 out=1 ent=2 step=2 brake=3 inf=157391 sec=0.093 inf/sec=1692376\n",
      "\n"
     ]
    }
   ],
   "source": [
    "!eye --nope ../data/data-parkinson-t0.ttl ../data/t0.ttl ../parkinson/gps-desc.n3 ../parkinson/score-calculation.n3  ../path/initial-aggregated-path-t0.n3 ../engine/gps-plugin-aggregated-path-processing.n3 --tactic limited-answer 1 --query ../engine/gps-aggregation-query.n3q > ../path/aggreagatedPath-t0.n3\n"
   ]
  },
  {
   "cell_type": "markdown",
   "metadata": {
    "colab_type": "text",
    "id": "T7eEy8-9-p2J"
   },
   "source": [
    "**Validate the above path to check if it can still reach the goal defined for the Parkinson disease**"
   ]
  },
  {
   "cell_type": "code",
   "execution_count": 16,
   "metadata": {
    "colab": {},
    "colab_type": "code",
    "id": "bxihLJfO-p2K"
   },
   "outputs": [
    {
     "name": "stdout",
     "output_type": "stream",
     "text": [
      "#Processed by EYE v20.0910.0008 josd"
     ]
    },
    {
     "name": "stderr",
     "output_type": "stream",
     "text": [
      "eye --nope ../data/data-parkinson-t0.ttl ../data/t0.ttl ../parkinson/gps-desc.n3 ../parkinson/score-calculation.n3 ../path/aggreagatedPath-t0.n3 ../engine/gps-plugin-validation.n3 --query ../parkinson/gps-goal-parkinson.n3q\n",
      "EYE v20.0910.0008 josd\n",
      "SWI-Prolog version 8.0.3\n",
      "starting 46 [msec cputime] 122 [msec walltime]\n",
      "GET file:///d:/github/gps4icdemo/data/data-parkinson-t0.ttl SC=14\n",
      "GET file:///d:/github/gps4icdemo/data/t0.ttl SC=1\n",
      "GET file:///d:/github/gps4icdemo/parkinson/gps-desc.n3 SC=3\n",
      "GET file:///d:/github/gps4icdemo/parkinson/score-calculation.n3 SC=1\n",
      "GET file:///d:/github/gps4icdemo/path/aggreagatedpath-t0.n3 SC=1\n",
      "GET file:///d:/github/gps4icdemo/engine/gps-plugin-validation.n3 SC=11\n",
      "GET file:///d:/github/gps4icdemo/parkinson/gps-goal-parkinson.n3q SC=1\n",
      "networking 32 [msec cputime] 167 [msec walltime]\n",
      "reasoning 15 [msec cputime] 10 [msec walltime]\n",
      "2020-09-13T15:12:49.781Z in=32 out=1 ent=2 step=4 brake=4 inf=205575 sec=0.093 inf/sec=2210484\n",
      "\n"
     ]
    },
    {
     "name": "stdout",
     "output_type": "stream",
     "text": [
      "\n",
      "#eye --nope ../data/data-parkinson-t0.ttl ../data/t0.ttl ../parkinson/gps-desc.n3 ../parkinson/score-calculation.n3 ../path/aggreagatedPath-t0.n3 ../engine/gps-plugin-validation.n3 --query ../parkinson/gps-goal-parkinson.n3q\n",
      "\n",
      "@prefix sct: <http://snomed.info/id/>.\n",
      "@prefix data: <http://josd.github.io/fluid/gps/data#>.\n",
      "@prefix care: <http://josd.github.io/fluid/gps/care#>.\n",
      "@prefix math: <http://www.w3.org/2000/10/swap/math#>.\n",
      "@prefix xsd: <http://www.w3.org/2001/XMLSchema#>.\n",
      "@prefix e: <http://eulersharp.sourceforge.net/2003/03swap/log-rules#>.\n",
      "@prefix gps: <http://josd.github.io/fluid/gps/gps-schema#>.\n",
      "@prefix action: <http://josd.github.io/fluid/gps/action#>.\n",
      "@prefix : <http://josd.github.io/fluid#>.\n",
      "@prefix log: <http://www.w3.org/2000/10/swap/log#>.\n",
      "@prefix string: <http://www.w3.org/2000/10/swap/string#>.\n",
      "@prefix medication: <http://josd.github.io/fluid/gps/medication#>.\n",
      "@prefix list: <http://www.w3.org/2000/10/swap/list#>.\n",
      "@prefix prolog: <http://eulersharp.sourceforge.net/2003/03swap/prolog#>.\n",
      "@prefix func: <http://www.w3.org/2007/rif-builtin-function#>.\n",
      "@prefix rdf: <http://www.w3.org/1999/02/22-rdf-syntax-ns#>.\n",
      "\n",
      "data:patient_1 gps:path ((((action:take_pill_Levodopa 1517928741 1523112741.0) gps:start 1517928741 {data:patient_1 care:updrs_score 12}) (action:take_pill_Levodopa gps:end 1523112741.0 {data:patient_1 care:updrs_score 10.5}) ((action:take_pill_Pramipexol 1523112741.0 1528296741.0) gps:start 1523112741.0 {data:patient_1 care:updrs_score 10.5}) (action:take_pill_Pramipexol gps:end 1528296741.0 {data:patient_1 care:updrs_score 9.2})) 20736000.0 227.59999999999997 0.40960000000000013 0.5184000000000002 (9.2)).\n",
      "\n",
      "#2020-09-13T15:12:49.781Z in=32 out=1 ent=2 step=4 brake=4 inf=205575 sec=0.093 inf/sec=2210484\n",
      "#ENDS\n",
      "\n"
     ]
    }
   ],
   "source": [
    "!eye --nope ../data/data-parkinson-t0.ttl ../data/t0.ttl ../parkinson/gps-desc.n3  ../parkinson/score-calculation.n3 ../path/aggreagatedPath-t0.n3 ../engine/gps-plugin-validation.n3 --query ../parkinson/gps-goal-parkinson.n3q\n"
   ]
  },
  {
   "cell_type": "markdown",
   "metadata": {
    "colab_type": "text",
    "id": "DnD_gl2o-p2S"
   },
   "source": [
    "### Step 3. Visualize the aggregated path\n",
    "*The command below process the aggregated path generate csv file, and display the file in the notebook*"
   ]
  },
  {
   "cell_type": "markdown",
   "metadata": {},
   "source": [
    "*In the aggregated path, each action is splitted into two events: start and end. Each event explicitly states its expected timestamp, as well as corresponding graph to retract (for start event) or assert (for end event) *"
   ]
  },
  {
   "cell_type": "code",
   "execution_count": 43,
   "metadata": {},
   "outputs": [
    {
     "name": "stdout",
     "output_type": "stream",
     "text": [
      "#Processed by EYE v20.0910.0008 josd\n",
      "#eye --nope ../data/data-parkinson-t0.ttl ../data/t0.ttl ../parkinson/gps-desc.n3 ../parkinson/score-calculation.n3 ../path/initial-aggregated-path-t0.n3 ../engine/gps-plugin-aggregated-path-processing.n3 --tactic limited-answer 1 --query ../engine/gps-aggregation-query.n3q\n",
      "\n",
      "@prefix sct: <http://snomed.info/id/>.\n",
      "@prefix data: <http://josd.github.io/fluid/gps/data#>.\n",
      "@prefix care: <http://josd.github.io/fluid/gps/care#>.\n",
      "@prefix math: <http://www.w3.org/2000/10/swap/math#>.\n",
      "@prefix xsd: <http://www.w3.org/2001/XMLSchema#>.\n",
      "@prefix e: <http://eulersharp.sourceforge.net/2003/03swap/log-rules#>.\n",
      "@prefix gps: <http://josd.github.io/fluid/gps/gps-schema#>.\n",
      "@prefix action: <http://josd.github.io/fluid/gps/action#>.\n",
      "@prefix : <http://josd.github.io/fluid#>.\n",
      "@prefix log: <http://www.w3.org/2000/10/swap/log#>.\n",
      "@prefix string: <http://www.w3.org/2000/10/swap/string#>.\n",
      "@prefix medication: <http://josd.github.io/fluid/gps/medication#>.\n",
      "@prefix list: <http://www.w3.org/2000/10/swap/list#>.\n",
      "@prefix prolog: <http://eulersharp.sourceforge.net/2003/03swap/prolog#>.\n",
      "@prefix func: <http://www.w3.org/2007/rif-builtin-function#>.\n",
      "@prefix rdf: <http://www.w3.org/1999/02/22-rdf-syntax-ns#>.\n",
      "\n",
      "data:patient_1 gps:aggregatedPath (((action:take_pill_Levodopa 1517928741 1523112741.0) gps:start 1517928741 {data:patient_1 care:updrs_score 12}) ((action:take_pill_Levodopa 1517928741 1523112741.0) gps:end 1523112741.0 {data:patient_1 care:updrs_score 10.5}) ((action:take_pill_Pramipexol 1523112741.0 1528296741.0) gps:start 1523112741.0 {data:patient_1 care:updrs_score 10.5}) ((action:take_pill_Pramipexol 1523112741.0 1528296741.0) gps:end 1528296741.0 {data:patient_1 care:updrs_score 9.2})).\n",
      "\n",
      "#2020-09-13T19:17:00.097Z in=33 out=1 ent=2 step=2 brake=3 inf=157391 sec=0.093 inf/sec=1692376\n",
      "#ENDS\n",
      "\n",
      "\n"
     ]
    }
   ],
   "source": [
    "f=open(\"../path/aggreagatedPath-t0.n3\")\n",
    "print(f.read())"
   ]
  },
  {
   "cell_type": "code",
   "execution_count": 17,
   "metadata": {
    "colab": {},
    "colab_type": "code",
    "id": "PDTmmat_-p2S"
   },
   "outputs": [
    {
     "name": "stderr",
     "output_type": "stream",
     "text": [
      "eye --nope ../path/aggreagatedPath-t0.n3 --query ../engine/path-processor.csvq --strings\n",
      "EYE v20.0910.0008 josd\n",
      "SWI-Prolog version 8.0.3\n",
      "starting 31 [msec cputime] 110 [msec walltime]\n",
      "GET file:///d:/github/gps4icdemo/path/aggreagatedpath-t0.n3 SC=1\n",
      "GET file:///d:/github/gps4icdemo/engine/path-processor.csvq SC=1\n",
      "networking 0 [msec cputime] 36 [msec walltime]\n",
      "reasoning 0 [msec cputime] 2 [msec walltime]\n",
      "2020-09-13T15:13:55.680Z in=2 out=28 ent=0 step=0 brake=1 inf=47760 sec=0.031 inf/sec=1540645\n",
      "\n"
     ]
    },
    {
     "data": {
      "text/html": [
       "<div>\n",
       "<style scoped>\n",
       "    .dataframe tbody tr th:only-of-type {\n",
       "        vertical-align: middle;\n",
       "    }\n",
       "\n",
       "    .dataframe tbody tr th {\n",
       "        vertical-align: top;\n",
       "    }\n",
       "\n",
       "    .dataframe thead th {\n",
       "        text-align: right;\n",
       "    }\n",
       "</style>\n",
       "<table border=\"1\" class=\"dataframe\">\n",
       "  <thead>\n",
       "    <tr style=\"text-align: right;\">\n",
       "      <th></th>\n",
       "      <th>Action</th>\n",
       "      <th>start_time</th>\n",
       "      <th>end_time</th>\n",
       "      <th>state</th>\n",
       "      <th>due_time</th>\n",
       "      <th>graph_retract</th>\n",
       "      <th>graph_assert</th>\n",
       "    </tr>\n",
       "  </thead>\n",
       "  <tbody>\n",
       "    <tr>\n",
       "      <th>0</th>\n",
       "      <td>http://josd.github.io/fluid/gps/action#take_pill_Levodopa</td>\n",
       "      <td>2018-02-06T14:52:21Z</td>\n",
       "      <td>2018-04-07T14:52:21.0Z</td>\n",
       "      <td>http://josd.github.io/fluid/gps/gps-schema#start</td>\n",
       "      <td>2018-02-06T14:52:21Z</td>\n",
       "      <td>{data:patient_1 care:updrs_score 12}</td>\n",
       "      <td>NaN</td>\n",
       "    </tr>\n",
       "    <tr>\n",
       "      <th>1</th>\n",
       "      <td>http://josd.github.io/fluid/gps/action#take_pill_Levodopa</td>\n",
       "      <td>2018-02-06T14:52:21Z</td>\n",
       "      <td>2018-04-07T14:52:21.0Z</td>\n",
       "      <td>http://josd.github.io/fluid/gps/gps-schema#end</td>\n",
       "      <td>2018-04-07T14:52:21.0Z</td>\n",
       "      <td>NaN</td>\n",
       "      <td>{data:patient_1 care:updrs_score 10.5}</td>\n",
       "    </tr>\n",
       "    <tr>\n",
       "      <th>2</th>\n",
       "      <td>http://josd.github.io/fluid/gps/action#take_pill_Pramipexol</td>\n",
       "      <td>2018-04-07T14:52:21.0Z</td>\n",
       "      <td>2018-06-06T14:52:21.0Z</td>\n",
       "      <td>http://josd.github.io/fluid/gps/gps-schema#start</td>\n",
       "      <td>2018-04-07T14:52:21.0Z</td>\n",
       "      <td>{data:patient_1 care:updrs_score 10.5}</td>\n",
       "      <td>NaN</td>\n",
       "    </tr>\n",
       "    <tr>\n",
       "      <th>3</th>\n",
       "      <td>http://josd.github.io/fluid/gps/action#take_pill_Pramipexol</td>\n",
       "      <td>2018-04-07T14:52:21.0Z</td>\n",
       "      <td>2018-06-06T14:52:21.0Z</td>\n",
       "      <td>http://josd.github.io/fluid/gps/gps-schema#end</td>\n",
       "      <td>2018-06-06T14:52:21.0Z</td>\n",
       "      <td>NaN</td>\n",
       "      <td>{data:patient_1 care:updrs_score 9.2}</td>\n",
       "    </tr>\n",
       "  </tbody>\n",
       "</table>\n",
       "</div>"
      ],
      "text/plain": [
       "                                                        Action  \\\n",
       "0  http://josd.github.io/fluid/gps/action#take_pill_Levodopa     \n",
       "1  http://josd.github.io/fluid/gps/action#take_pill_Levodopa     \n",
       "2  http://josd.github.io/fluid/gps/action#take_pill_Pramipexol   \n",
       "3  http://josd.github.io/fluid/gps/action#take_pill_Pramipexol   \n",
       "\n",
       "               start_time                end_time  \\\n",
       "0  2018-02-06T14:52:21Z    2018-04-07T14:52:21.0Z   \n",
       "1  2018-02-06T14:52:21Z    2018-04-07T14:52:21.0Z   \n",
       "2  2018-04-07T14:52:21.0Z  2018-06-06T14:52:21.0Z   \n",
       "3  2018-04-07T14:52:21.0Z  2018-06-06T14:52:21.0Z   \n",
       "\n",
       "                                              state                due_time  \\\n",
       "0  http://josd.github.io/fluid/gps/gps-schema#start  2018-02-06T14:52:21Z     \n",
       "1  http://josd.github.io/fluid/gps/gps-schema#end    2018-04-07T14:52:21.0Z   \n",
       "2  http://josd.github.io/fluid/gps/gps-schema#start  2018-04-07T14:52:21.0Z   \n",
       "3  http://josd.github.io/fluid/gps/gps-schema#end    2018-06-06T14:52:21.0Z   \n",
       "\n",
       "                            graph_retract  \\\n",
       "0  {data:patient_1 care:updrs_score 12}     \n",
       "1  NaN                                      \n",
       "2  {data:patient_1 care:updrs_score 10.5}   \n",
       "3  NaN                                      \n",
       "\n",
       "                             graph_assert  \n",
       "0  NaN                                     \n",
       "1  {data:patient_1 care:updrs_score 10.5}  \n",
       "2  NaN                                     \n",
       "3  {data:patient_1 care:updrs_score 9.2}   "
      ]
     },
     "execution_count": 17,
     "metadata": {},
     "output_type": "execute_result"
    }
   ],
   "source": [
    "!eye --nope ../path/aggreagatedPath-t0.n3 --query ../engine/path-processor.csvq --strings >../path/aggreagatedPath-t0.csv\n",
    "\n",
    "pd.read_csv('../path/aggreagatedPath-t0.csv', sep=',', encoding = 'utf-8')"
   ]
  },
  {
   "cell_type": "markdown",
   "metadata": {
    "colab_type": "text",
    "id": "X46xLaUu-p2V"
   },
   "source": [
    "#### The command below process the aggregated path to provide a better visualization with plotly"
   ]
  },
  {
   "cell_type": "code",
   "execution_count": 19,
   "metadata": {
    "colab": {
     "base_uri": "https://localhost:8080/",
     "height": 410
    },
    "colab_type": "code",
    "executionInfo": {
     "elapsed": 10594,
     "status": "error",
     "timestamp": 1591299352062,
     "user": {
      "displayName": "Sun Hong",
      "photoUrl": "",
      "userId": "15604721942150290112"
     },
     "user_tz": -120
    },
    "id": "Lx1-dfuT-p2V",
    "outputId": "36173dfd-7675-403b-a15c-1739734bdab5"
   },
   "outputs": [
    {
     "name": "stderr",
     "output_type": "stream",
     "text": [
      "eye --nope ../path/aggreagatedPath-t0.n3 ../parkinson/gps-desc.n3 ../engine/path-processor-visual.n3 --query ../engine/path-processor-visual.csvq --strings\n",
      "EYE v20.0910.0008 josd\n",
      "SWI-Prolog version 8.0.3\n",
      "starting 62 [msec cputime] 111 [msec walltime]\n",
      "GET file:///d:/github/gps4icdemo/path/aggreagatedpath-t0.n3 SC=1\n",
      "GET file:///d:/github/gps4icdemo/parkinson/gps-desc.n3 SC=3\n",
      "GET file:///d:/github/gps4icdemo/engine/path-processor-visual.n3 SC=2\n",
      "GET file:///d:/github/gps4icdemo/engine/path-processor-visual.csvq SC=1\n",
      "networking 16 [msec cputime] 32 [msec walltime]\n",
      "reasoning 0 [msec cputime] 7 [msec walltime]\n",
      "2020-09-13T15:14:51.685Z in=7 out=8 ent=2 step=8 brake=2 inf=102381 sec=0.078 inf/sec=1312577\n",
      "\n"
     ]
    },
    {
     "data": {
      "application/vnd.plotly.v1+json": {
       "config": {
        "linkText": "Export to plot.ly",
        "plotlyServerURL": "https://plot.ly",
        "showLink": false
       },
       "data": [
        {
         "fill": "toself",
         "fillcolor": "rgb(0, 220, 0)",
         "hoverinfo": "name",
         "legendgroup": "rgb(0, 220, 0)",
         "mode": "none",
         "name": "Parkinson",
         "type": "scatter",
         "x": [
          "2018-02-06T14:52:21Z",
          "2018-04-07T14:52:21.0Z",
          "2018-04-07T14:52:21.0Z",
          "2018-02-06T14:52:21Z",
          "2018-02-06T14:52:21Z",
          "2018-04-07T14:52:21.0Z",
          "2018-06-06T14:52:21.0Z",
          "2018-06-06T14:52:21.0Z",
          "2018-04-07T14:52:21.0Z"
         ],
         "y": [
          -0.2,
          -0.2,
          0.2,
          0.2,
          null,
          0.8,
          0.8,
          1.2,
          1.2
         ]
        },
        {
         "legendgroup": "rgb(0, 220, 0)",
         "marker": {
          "color": "rgb(0, 220, 0)",
          "opacity": 0,
          "size": 1
         },
         "mode": "markers",
         "name": "",
         "showlegend": false,
         "text": [
          null,
          null,
          null,
          null
         ],
         "type": "scatter",
         "x": [
          "2018-02-06T14:52:21Z",
          "2018-04-07T14:52:21.0Z",
          "2018-04-07T14:52:21.0Z",
          "2018-06-06T14:52:21.0Z"
         ],
         "y": [
          0,
          0,
          1,
          1
         ]
        }
       ],
       "layout": {
        "autosize": false,
        "height": 600,
        "hovermode": "closest",
        "margin": {
         "l": 200
        },
        "showlegend": true,
        "template": {
         "data": {
          "bar": [
           {
            "error_x": {
             "color": "#2a3f5f"
            },
            "error_y": {
             "color": "#2a3f5f"
            },
            "marker": {
             "line": {
              "color": "#E5ECF6",
              "width": 0.5
             }
            },
            "type": "bar"
           }
          ],
          "barpolar": [
           {
            "marker": {
             "line": {
              "color": "#E5ECF6",
              "width": 0.5
             }
            },
            "type": "barpolar"
           }
          ],
          "carpet": [
           {
            "aaxis": {
             "endlinecolor": "#2a3f5f",
             "gridcolor": "white",
             "linecolor": "white",
             "minorgridcolor": "white",
             "startlinecolor": "#2a3f5f"
            },
            "baxis": {
             "endlinecolor": "#2a3f5f",
             "gridcolor": "white",
             "linecolor": "white",
             "minorgridcolor": "white",
             "startlinecolor": "#2a3f5f"
            },
            "type": "carpet"
           }
          ],
          "choropleth": [
           {
            "colorbar": {
             "outlinewidth": 0,
             "ticks": ""
            },
            "type": "choropleth"
           }
          ],
          "contour": [
           {
            "colorbar": {
             "outlinewidth": 0,
             "ticks": ""
            },
            "colorscale": [
             [
              0,
              "#0d0887"
             ],
             [
              0.1111111111111111,
              "#46039f"
             ],
             [
              0.2222222222222222,
              "#7201a8"
             ],
             [
              0.3333333333333333,
              "#9c179e"
             ],
             [
              0.4444444444444444,
              "#bd3786"
             ],
             [
              0.5555555555555556,
              "#d8576b"
             ],
             [
              0.6666666666666666,
              "#ed7953"
             ],
             [
              0.7777777777777778,
              "#fb9f3a"
             ],
             [
              0.8888888888888888,
              "#fdca26"
             ],
             [
              1,
              "#f0f921"
             ]
            ],
            "type": "contour"
           }
          ],
          "contourcarpet": [
           {
            "colorbar": {
             "outlinewidth": 0,
             "ticks": ""
            },
            "type": "contourcarpet"
           }
          ],
          "heatmap": [
           {
            "colorbar": {
             "outlinewidth": 0,
             "ticks": ""
            },
            "colorscale": [
             [
              0,
              "#0d0887"
             ],
             [
              0.1111111111111111,
              "#46039f"
             ],
             [
              0.2222222222222222,
              "#7201a8"
             ],
             [
              0.3333333333333333,
              "#9c179e"
             ],
             [
              0.4444444444444444,
              "#bd3786"
             ],
             [
              0.5555555555555556,
              "#d8576b"
             ],
             [
              0.6666666666666666,
              "#ed7953"
             ],
             [
              0.7777777777777778,
              "#fb9f3a"
             ],
             [
              0.8888888888888888,
              "#fdca26"
             ],
             [
              1,
              "#f0f921"
             ]
            ],
            "type": "heatmap"
           }
          ],
          "heatmapgl": [
           {
            "colorbar": {
             "outlinewidth": 0,
             "ticks": ""
            },
            "colorscale": [
             [
              0,
              "#0d0887"
             ],
             [
              0.1111111111111111,
              "#46039f"
             ],
             [
              0.2222222222222222,
              "#7201a8"
             ],
             [
              0.3333333333333333,
              "#9c179e"
             ],
             [
              0.4444444444444444,
              "#bd3786"
             ],
             [
              0.5555555555555556,
              "#d8576b"
             ],
             [
              0.6666666666666666,
              "#ed7953"
             ],
             [
              0.7777777777777778,
              "#fb9f3a"
             ],
             [
              0.8888888888888888,
              "#fdca26"
             ],
             [
              1,
              "#f0f921"
             ]
            ],
            "type": "heatmapgl"
           }
          ],
          "histogram": [
           {
            "marker": {
             "colorbar": {
              "outlinewidth": 0,
              "ticks": ""
             }
            },
            "type": "histogram"
           }
          ],
          "histogram2d": [
           {
            "colorbar": {
             "outlinewidth": 0,
             "ticks": ""
            },
            "colorscale": [
             [
              0,
              "#0d0887"
             ],
             [
              0.1111111111111111,
              "#46039f"
             ],
             [
              0.2222222222222222,
              "#7201a8"
             ],
             [
              0.3333333333333333,
              "#9c179e"
             ],
             [
              0.4444444444444444,
              "#bd3786"
             ],
             [
              0.5555555555555556,
              "#d8576b"
             ],
             [
              0.6666666666666666,
              "#ed7953"
             ],
             [
              0.7777777777777778,
              "#fb9f3a"
             ],
             [
              0.8888888888888888,
              "#fdca26"
             ],
             [
              1,
              "#f0f921"
             ]
            ],
            "type": "histogram2d"
           }
          ],
          "histogram2dcontour": [
           {
            "colorbar": {
             "outlinewidth": 0,
             "ticks": ""
            },
            "colorscale": [
             [
              0,
              "#0d0887"
             ],
             [
              0.1111111111111111,
              "#46039f"
             ],
             [
              0.2222222222222222,
              "#7201a8"
             ],
             [
              0.3333333333333333,
              "#9c179e"
             ],
             [
              0.4444444444444444,
              "#bd3786"
             ],
             [
              0.5555555555555556,
              "#d8576b"
             ],
             [
              0.6666666666666666,
              "#ed7953"
             ],
             [
              0.7777777777777778,
              "#fb9f3a"
             ],
             [
              0.8888888888888888,
              "#fdca26"
             ],
             [
              1,
              "#f0f921"
             ]
            ],
            "type": "histogram2dcontour"
           }
          ],
          "mesh3d": [
           {
            "colorbar": {
             "outlinewidth": 0,
             "ticks": ""
            },
            "type": "mesh3d"
           }
          ],
          "parcoords": [
           {
            "line": {
             "colorbar": {
              "outlinewidth": 0,
              "ticks": ""
             }
            },
            "type": "parcoords"
           }
          ],
          "pie": [
           {
            "automargin": true,
            "type": "pie"
           }
          ],
          "scatter": [
           {
            "marker": {
             "colorbar": {
              "outlinewidth": 0,
              "ticks": ""
             }
            },
            "type": "scatter"
           }
          ],
          "scatter3d": [
           {
            "line": {
             "colorbar": {
              "outlinewidth": 0,
              "ticks": ""
             }
            },
            "marker": {
             "colorbar": {
              "outlinewidth": 0,
              "ticks": ""
             }
            },
            "type": "scatter3d"
           }
          ],
          "scattercarpet": [
           {
            "marker": {
             "colorbar": {
              "outlinewidth": 0,
              "ticks": ""
             }
            },
            "type": "scattercarpet"
           }
          ],
          "scattergeo": [
           {
            "marker": {
             "colorbar": {
              "outlinewidth": 0,
              "ticks": ""
             }
            },
            "type": "scattergeo"
           }
          ],
          "scattergl": [
           {
            "marker": {
             "colorbar": {
              "outlinewidth": 0,
              "ticks": ""
             }
            },
            "type": "scattergl"
           }
          ],
          "scattermapbox": [
           {
            "marker": {
             "colorbar": {
              "outlinewidth": 0,
              "ticks": ""
             }
            },
            "type": "scattermapbox"
           }
          ],
          "scatterpolar": [
           {
            "marker": {
             "colorbar": {
              "outlinewidth": 0,
              "ticks": ""
             }
            },
            "type": "scatterpolar"
           }
          ],
          "scatterpolargl": [
           {
            "marker": {
             "colorbar": {
              "outlinewidth": 0,
              "ticks": ""
             }
            },
            "type": "scatterpolargl"
           }
          ],
          "scatterternary": [
           {
            "marker": {
             "colorbar": {
              "outlinewidth": 0,
              "ticks": ""
             }
            },
            "type": "scatterternary"
           }
          ],
          "surface": [
           {
            "colorbar": {
             "outlinewidth": 0,
             "ticks": ""
            },
            "colorscale": [
             [
              0,
              "#0d0887"
             ],
             [
              0.1111111111111111,
              "#46039f"
             ],
             [
              0.2222222222222222,
              "#7201a8"
             ],
             [
              0.3333333333333333,
              "#9c179e"
             ],
             [
              0.4444444444444444,
              "#bd3786"
             ],
             [
              0.5555555555555556,
              "#d8576b"
             ],
             [
              0.6666666666666666,
              "#ed7953"
             ],
             [
              0.7777777777777778,
              "#fb9f3a"
             ],
             [
              0.8888888888888888,
              "#fdca26"
             ],
             [
              1,
              "#f0f921"
             ]
            ],
            "type": "surface"
           }
          ],
          "table": [
           {
            "cells": {
             "fill": {
              "color": "#EBF0F8"
             },
             "line": {
              "color": "white"
             }
            },
            "header": {
             "fill": {
              "color": "#C8D4E3"
             },
             "line": {
              "color": "white"
             }
            },
            "type": "table"
           }
          ]
         },
         "layout": {
          "annotationdefaults": {
           "arrowcolor": "#2a3f5f",
           "arrowhead": 0,
           "arrowwidth": 1
          },
          "coloraxis": {
           "colorbar": {
            "outlinewidth": 0,
            "ticks": ""
           }
          },
          "colorscale": {
           "diverging": [
            [
             0,
             "#8e0152"
            ],
            [
             0.1,
             "#c51b7d"
            ],
            [
             0.2,
             "#de77ae"
            ],
            [
             0.3,
             "#f1b6da"
            ],
            [
             0.4,
             "#fde0ef"
            ],
            [
             0.5,
             "#f7f7f7"
            ],
            [
             0.6,
             "#e6f5d0"
            ],
            [
             0.7,
             "#b8e186"
            ],
            [
             0.8,
             "#7fbc41"
            ],
            [
             0.9,
             "#4d9221"
            ],
            [
             1,
             "#276419"
            ]
           ],
           "sequential": [
            [
             0,
             "#0d0887"
            ],
            [
             0.1111111111111111,
             "#46039f"
            ],
            [
             0.2222222222222222,
             "#7201a8"
            ],
            [
             0.3333333333333333,
             "#9c179e"
            ],
            [
             0.4444444444444444,
             "#bd3786"
            ],
            [
             0.5555555555555556,
             "#d8576b"
            ],
            [
             0.6666666666666666,
             "#ed7953"
            ],
            [
             0.7777777777777778,
             "#fb9f3a"
            ],
            [
             0.8888888888888888,
             "#fdca26"
            ],
            [
             1,
             "#f0f921"
            ]
           ],
           "sequentialminus": [
            [
             0,
             "#0d0887"
            ],
            [
             0.1111111111111111,
             "#46039f"
            ],
            [
             0.2222222222222222,
             "#7201a8"
            ],
            [
             0.3333333333333333,
             "#9c179e"
            ],
            [
             0.4444444444444444,
             "#bd3786"
            ],
            [
             0.5555555555555556,
             "#d8576b"
            ],
            [
             0.6666666666666666,
             "#ed7953"
            ],
            [
             0.7777777777777778,
             "#fb9f3a"
            ],
            [
             0.8888888888888888,
             "#fdca26"
            ],
            [
             1,
             "#f0f921"
            ]
           ]
          },
          "colorway": [
           "#636efa",
           "#EF553B",
           "#00cc96",
           "#ab63fa",
           "#FFA15A",
           "#19d3f3",
           "#FF6692",
           "#B6E880",
           "#FF97FF",
           "#FECB52"
          ],
          "font": {
           "color": "#2a3f5f"
          },
          "geo": {
           "bgcolor": "white",
           "lakecolor": "white",
           "landcolor": "#E5ECF6",
           "showlakes": true,
           "showland": true,
           "subunitcolor": "white"
          },
          "hoverlabel": {
           "align": "left"
          },
          "hovermode": "closest",
          "mapbox": {
           "style": "light"
          },
          "paper_bgcolor": "white",
          "plot_bgcolor": "#E5ECF6",
          "polar": {
           "angularaxis": {
            "gridcolor": "white",
            "linecolor": "white",
            "ticks": ""
           },
           "bgcolor": "#E5ECF6",
           "radialaxis": {
            "gridcolor": "white",
            "linecolor": "white",
            "ticks": ""
           }
          },
          "scene": {
           "xaxis": {
            "backgroundcolor": "#E5ECF6",
            "gridcolor": "white",
            "gridwidth": 2,
            "linecolor": "white",
            "showbackground": true,
            "ticks": "",
            "zerolinecolor": "white"
           },
           "yaxis": {
            "backgroundcolor": "#E5ECF6",
            "gridcolor": "white",
            "gridwidth": 2,
            "linecolor": "white",
            "showbackground": true,
            "ticks": "",
            "zerolinecolor": "white"
           },
           "zaxis": {
            "backgroundcolor": "#E5ECF6",
            "gridcolor": "white",
            "gridwidth": 2,
            "linecolor": "white",
            "showbackground": true,
            "ticks": "",
            "zerolinecolor": "white"
           }
          },
          "shapedefaults": {
           "line": {
            "color": "#2a3f5f"
           }
          },
          "ternary": {
           "aaxis": {
            "gridcolor": "white",
            "linecolor": "white",
            "ticks": ""
           },
           "baxis": {
            "gridcolor": "white",
            "linecolor": "white",
            "ticks": ""
           },
           "bgcolor": "#E5ECF6",
           "caxis": {
            "gridcolor": "white",
            "linecolor": "white",
            "ticks": ""
           }
          },
          "title": {
           "x": 0.05
          },
          "xaxis": {
           "automargin": true,
           "gridcolor": "white",
           "linecolor": "white",
           "ticks": "",
           "title": {
            "standoff": 15
           },
           "zerolinecolor": "white",
           "zerolinewidth": 2
          },
          "yaxis": {
           "automargin": true,
           "gridcolor": "white",
           "linecolor": "white",
           "ticks": "",
           "title": {
            "standoff": 15
           },
           "zerolinecolor": "white",
           "zerolinewidth": 2
          }
         }
        },
        "title": {
         "text": "Path-Parkinson"
        },
        "width": 800,
        "xaxis": {
         "rangeselector": {
          "buttons": [
           {
            "count": 7,
            "label": "1w",
            "step": "day",
            "stepmode": "backward"
           },
           {
            "count": 1,
            "label": "1m",
            "step": "month",
            "stepmode": "backward"
           },
           {
            "count": 6,
            "label": "6m",
            "step": "month",
            "stepmode": "backward"
           },
           {
            "count": 1,
            "label": "YTD",
            "step": "year",
            "stepmode": "todate"
           },
           {
            "count": 1,
            "label": "1y",
            "step": "year",
            "stepmode": "backward"
           },
           {
            "step": "all"
           }
          ]
         },
         "showgrid": false,
         "type": "date",
         "zeroline": false
        },
        "yaxis": {
         "autorange": false,
         "range": [
          -1,
          3
         ],
         "showgrid": false,
         "ticktext": [
          "take_pill_Levodopa",
          "take_pill_Pramipexol"
         ],
         "tickvals": [
          0,
          1
         ],
         "zeroline": false
        }
       }
      },
      "text/html": [
       "<div>\n",
       "        \n",
       "        \n",
       "            <div id=\"a134f440-3d25-4620-b81b-6d48492c6f70\" class=\"plotly-graph-div\" style=\"height:600px; width:800px;\"></div>\n",
       "            <script type=\"text/javascript\">\n",
       "                require([\"plotly\"], function(Plotly) {\n",
       "                    window.PLOTLYENV=window.PLOTLYENV || {};\n",
       "                    \n",
       "                if (document.getElementById(\"a134f440-3d25-4620-b81b-6d48492c6f70\")) {\n",
       "                    Plotly.newPlot(\n",
       "                        'a134f440-3d25-4620-b81b-6d48492c6f70',\n",
       "                        [{\"fill\": \"toself\", \"fillcolor\": \"rgb(0, 220, 0)\", \"hoverinfo\": \"name\", \"legendgroup\": \"rgb(0, 220, 0)\", \"mode\": \"none\", \"name\": \"Parkinson\", \"type\": \"scatter\", \"x\": [\"2018-02-06T14:52:21Z\", \"2018-04-07T14:52:21.0Z\", \"2018-04-07T14:52:21.0Z\", \"2018-02-06T14:52:21Z\", \"2018-02-06T14:52:21Z\", \"2018-04-07T14:52:21.0Z\", \"2018-06-06T14:52:21.0Z\", \"2018-06-06T14:52:21.0Z\", \"2018-04-07T14:52:21.0Z\"], \"y\": [-0.2, -0.2, 0.2, 0.2, null, 0.8, 0.8, 1.2, 1.2]}, {\"legendgroup\": \"rgb(0, 220, 0)\", \"marker\": {\"color\": \"rgb(0, 220, 0)\", \"opacity\": 0, \"size\": 1}, \"mode\": \"markers\", \"name\": \"\", \"showlegend\": false, \"text\": [null, null, null, null], \"type\": \"scatter\", \"x\": [\"2018-02-06T14:52:21Z\", \"2018-04-07T14:52:21.0Z\", \"2018-04-07T14:52:21.0Z\", \"2018-06-06T14:52:21.0Z\"], \"y\": [0, 0, 1, 1]}],\n",
       "                        {\"autosize\": false, \"height\": 600, \"hovermode\": \"closest\", \"margin\": {\"l\": 200}, \"showlegend\": true, \"template\": {\"data\": {\"bar\": [{\"error_x\": {\"color\": \"#2a3f5f\"}, \"error_y\": {\"color\": \"#2a3f5f\"}, \"marker\": {\"line\": {\"color\": \"#E5ECF6\", \"width\": 0.5}}, \"type\": \"bar\"}], \"barpolar\": [{\"marker\": {\"line\": {\"color\": \"#E5ECF6\", \"width\": 0.5}}, \"type\": \"barpolar\"}], \"carpet\": [{\"aaxis\": {\"endlinecolor\": \"#2a3f5f\", \"gridcolor\": \"white\", \"linecolor\": \"white\", \"minorgridcolor\": \"white\", \"startlinecolor\": \"#2a3f5f\"}, \"baxis\": {\"endlinecolor\": \"#2a3f5f\", \"gridcolor\": \"white\", \"linecolor\": \"white\", \"minorgridcolor\": \"white\", \"startlinecolor\": \"#2a3f5f\"}, \"type\": \"carpet\"}], \"choropleth\": [{\"colorbar\": {\"outlinewidth\": 0, \"ticks\": \"\"}, \"type\": \"choropleth\"}], \"contour\": [{\"colorbar\": {\"outlinewidth\": 0, \"ticks\": \"\"}, \"colorscale\": [[0.0, \"#0d0887\"], [0.1111111111111111, \"#46039f\"], [0.2222222222222222, \"#7201a8\"], [0.3333333333333333, \"#9c179e\"], [0.4444444444444444, \"#bd3786\"], [0.5555555555555556, \"#d8576b\"], [0.6666666666666666, \"#ed7953\"], [0.7777777777777778, \"#fb9f3a\"], [0.8888888888888888, \"#fdca26\"], [1.0, \"#f0f921\"]], \"type\": \"contour\"}], \"contourcarpet\": [{\"colorbar\": {\"outlinewidth\": 0, \"ticks\": \"\"}, \"type\": \"contourcarpet\"}], \"heatmap\": [{\"colorbar\": {\"outlinewidth\": 0, \"ticks\": \"\"}, \"colorscale\": [[0.0, \"#0d0887\"], [0.1111111111111111, \"#46039f\"], [0.2222222222222222, \"#7201a8\"], [0.3333333333333333, \"#9c179e\"], [0.4444444444444444, \"#bd3786\"], [0.5555555555555556, \"#d8576b\"], [0.6666666666666666, \"#ed7953\"], [0.7777777777777778, \"#fb9f3a\"], [0.8888888888888888, \"#fdca26\"], [1.0, \"#f0f921\"]], \"type\": \"heatmap\"}], \"heatmapgl\": [{\"colorbar\": {\"outlinewidth\": 0, \"ticks\": \"\"}, \"colorscale\": [[0.0, \"#0d0887\"], [0.1111111111111111, \"#46039f\"], [0.2222222222222222, \"#7201a8\"], [0.3333333333333333, \"#9c179e\"], [0.4444444444444444, \"#bd3786\"], [0.5555555555555556, \"#d8576b\"], [0.6666666666666666, \"#ed7953\"], [0.7777777777777778, \"#fb9f3a\"], [0.8888888888888888, \"#fdca26\"], [1.0, \"#f0f921\"]], \"type\": \"heatmapgl\"}], \"histogram\": [{\"marker\": {\"colorbar\": {\"outlinewidth\": 0, \"ticks\": \"\"}}, \"type\": \"histogram\"}], \"histogram2d\": [{\"colorbar\": {\"outlinewidth\": 0, \"ticks\": \"\"}, \"colorscale\": [[0.0, \"#0d0887\"], [0.1111111111111111, \"#46039f\"], [0.2222222222222222, \"#7201a8\"], [0.3333333333333333, \"#9c179e\"], [0.4444444444444444, \"#bd3786\"], [0.5555555555555556, \"#d8576b\"], [0.6666666666666666, \"#ed7953\"], [0.7777777777777778, \"#fb9f3a\"], [0.8888888888888888, \"#fdca26\"], [1.0, \"#f0f921\"]], \"type\": \"histogram2d\"}], \"histogram2dcontour\": [{\"colorbar\": {\"outlinewidth\": 0, \"ticks\": \"\"}, \"colorscale\": [[0.0, \"#0d0887\"], [0.1111111111111111, \"#46039f\"], [0.2222222222222222, \"#7201a8\"], [0.3333333333333333, \"#9c179e\"], [0.4444444444444444, \"#bd3786\"], [0.5555555555555556, \"#d8576b\"], [0.6666666666666666, \"#ed7953\"], [0.7777777777777778, \"#fb9f3a\"], [0.8888888888888888, \"#fdca26\"], [1.0, \"#f0f921\"]], \"type\": \"histogram2dcontour\"}], \"mesh3d\": [{\"colorbar\": {\"outlinewidth\": 0, \"ticks\": \"\"}, \"type\": \"mesh3d\"}], \"parcoords\": [{\"line\": {\"colorbar\": {\"outlinewidth\": 0, \"ticks\": \"\"}}, \"type\": \"parcoords\"}], \"pie\": [{\"automargin\": true, \"type\": \"pie\"}], \"scatter\": [{\"marker\": {\"colorbar\": {\"outlinewidth\": 0, \"ticks\": \"\"}}, \"type\": \"scatter\"}], \"scatter3d\": [{\"line\": {\"colorbar\": {\"outlinewidth\": 0, \"ticks\": \"\"}}, \"marker\": {\"colorbar\": {\"outlinewidth\": 0, \"ticks\": \"\"}}, \"type\": \"scatter3d\"}], \"scattercarpet\": [{\"marker\": {\"colorbar\": {\"outlinewidth\": 0, \"ticks\": \"\"}}, \"type\": \"scattercarpet\"}], \"scattergeo\": [{\"marker\": {\"colorbar\": {\"outlinewidth\": 0, \"ticks\": \"\"}}, \"type\": \"scattergeo\"}], \"scattergl\": [{\"marker\": {\"colorbar\": {\"outlinewidth\": 0, \"ticks\": \"\"}}, \"type\": \"scattergl\"}], \"scattermapbox\": [{\"marker\": {\"colorbar\": {\"outlinewidth\": 0, \"ticks\": \"\"}}, \"type\": \"scattermapbox\"}], \"scatterpolar\": [{\"marker\": {\"colorbar\": {\"outlinewidth\": 0, \"ticks\": \"\"}}, \"type\": \"scatterpolar\"}], \"scatterpolargl\": [{\"marker\": {\"colorbar\": {\"outlinewidth\": 0, \"ticks\": \"\"}}, \"type\": \"scatterpolargl\"}], \"scatterternary\": [{\"marker\": {\"colorbar\": {\"outlinewidth\": 0, \"ticks\": \"\"}}, \"type\": \"scatterternary\"}], \"surface\": [{\"colorbar\": {\"outlinewidth\": 0, \"ticks\": \"\"}, \"colorscale\": [[0.0, \"#0d0887\"], [0.1111111111111111, \"#46039f\"], [0.2222222222222222, \"#7201a8\"], [0.3333333333333333, \"#9c179e\"], [0.4444444444444444, \"#bd3786\"], [0.5555555555555556, \"#d8576b\"], [0.6666666666666666, \"#ed7953\"], [0.7777777777777778, \"#fb9f3a\"], [0.8888888888888888, \"#fdca26\"], [1.0, \"#f0f921\"]], \"type\": \"surface\"}], \"table\": [{\"cells\": {\"fill\": {\"color\": \"#EBF0F8\"}, \"line\": {\"color\": \"white\"}}, \"header\": {\"fill\": {\"color\": \"#C8D4E3\"}, \"line\": {\"color\": \"white\"}}, \"type\": \"table\"}]}, \"layout\": {\"annotationdefaults\": {\"arrowcolor\": \"#2a3f5f\", \"arrowhead\": 0, \"arrowwidth\": 1}, \"coloraxis\": {\"colorbar\": {\"outlinewidth\": 0, \"ticks\": \"\"}}, \"colorscale\": {\"diverging\": [[0, \"#8e0152\"], [0.1, \"#c51b7d\"], [0.2, \"#de77ae\"], [0.3, \"#f1b6da\"], [0.4, \"#fde0ef\"], [0.5, \"#f7f7f7\"], [0.6, \"#e6f5d0\"], [0.7, \"#b8e186\"], [0.8, \"#7fbc41\"], [0.9, \"#4d9221\"], [1, \"#276419\"]], \"sequential\": [[0.0, \"#0d0887\"], [0.1111111111111111, \"#46039f\"], [0.2222222222222222, \"#7201a8\"], [0.3333333333333333, \"#9c179e\"], [0.4444444444444444, \"#bd3786\"], [0.5555555555555556, \"#d8576b\"], [0.6666666666666666, \"#ed7953\"], [0.7777777777777778, \"#fb9f3a\"], [0.8888888888888888, \"#fdca26\"], [1.0, \"#f0f921\"]], \"sequentialminus\": [[0.0, \"#0d0887\"], [0.1111111111111111, \"#46039f\"], [0.2222222222222222, \"#7201a8\"], [0.3333333333333333, \"#9c179e\"], [0.4444444444444444, \"#bd3786\"], [0.5555555555555556, \"#d8576b\"], [0.6666666666666666, \"#ed7953\"], [0.7777777777777778, \"#fb9f3a\"], [0.8888888888888888, \"#fdca26\"], [1.0, \"#f0f921\"]]}, \"colorway\": [\"#636efa\", \"#EF553B\", \"#00cc96\", \"#ab63fa\", \"#FFA15A\", \"#19d3f3\", \"#FF6692\", \"#B6E880\", \"#FF97FF\", \"#FECB52\"], \"font\": {\"color\": \"#2a3f5f\"}, \"geo\": {\"bgcolor\": \"white\", \"lakecolor\": \"white\", \"landcolor\": \"#E5ECF6\", \"showlakes\": true, \"showland\": true, \"subunitcolor\": \"white\"}, \"hoverlabel\": {\"align\": \"left\"}, \"hovermode\": \"closest\", \"mapbox\": {\"style\": \"light\"}, \"paper_bgcolor\": \"white\", \"plot_bgcolor\": \"#E5ECF6\", \"polar\": {\"angularaxis\": {\"gridcolor\": \"white\", \"linecolor\": \"white\", \"ticks\": \"\"}, \"bgcolor\": \"#E5ECF6\", \"radialaxis\": {\"gridcolor\": \"white\", \"linecolor\": \"white\", \"ticks\": \"\"}}, \"scene\": {\"xaxis\": {\"backgroundcolor\": \"#E5ECF6\", \"gridcolor\": \"white\", \"gridwidth\": 2, \"linecolor\": \"white\", \"showbackground\": true, \"ticks\": \"\", \"zerolinecolor\": \"white\"}, \"yaxis\": {\"backgroundcolor\": \"#E5ECF6\", \"gridcolor\": \"white\", \"gridwidth\": 2, \"linecolor\": \"white\", \"showbackground\": true, \"ticks\": \"\", \"zerolinecolor\": \"white\"}, \"zaxis\": {\"backgroundcolor\": \"#E5ECF6\", \"gridcolor\": \"white\", \"gridwidth\": 2, \"linecolor\": \"white\", \"showbackground\": true, \"ticks\": \"\", \"zerolinecolor\": \"white\"}}, \"shapedefaults\": {\"line\": {\"color\": \"#2a3f5f\"}}, \"ternary\": {\"aaxis\": {\"gridcolor\": \"white\", \"linecolor\": \"white\", \"ticks\": \"\"}, \"baxis\": {\"gridcolor\": \"white\", \"linecolor\": \"white\", \"ticks\": \"\"}, \"bgcolor\": \"#E5ECF6\", \"caxis\": {\"gridcolor\": \"white\", \"linecolor\": \"white\", \"ticks\": \"\"}}, \"title\": {\"x\": 0.05}, \"xaxis\": {\"automargin\": true, \"gridcolor\": \"white\", \"linecolor\": \"white\", \"ticks\": \"\", \"title\": {\"standoff\": 15}, \"zerolinecolor\": \"white\", \"zerolinewidth\": 2}, \"yaxis\": {\"automargin\": true, \"gridcolor\": \"white\", \"linecolor\": \"white\", \"ticks\": \"\", \"title\": {\"standoff\": 15}, \"zerolinecolor\": \"white\", \"zerolinewidth\": 2}}}, \"title\": {\"text\": \"Path-Parkinson\"}, \"width\": 800, \"xaxis\": {\"rangeselector\": {\"buttons\": [{\"count\": 7, \"label\": \"1w\", \"step\": \"day\", \"stepmode\": \"backward\"}, {\"count\": 1, \"label\": \"1m\", \"step\": \"month\", \"stepmode\": \"backward\"}, {\"count\": 6, \"label\": \"6m\", \"step\": \"month\", \"stepmode\": \"backward\"}, {\"count\": 1, \"label\": \"YTD\", \"step\": \"year\", \"stepmode\": \"todate\"}, {\"count\": 1, \"label\": \"1y\", \"step\": \"year\", \"stepmode\": \"backward\"}, {\"step\": \"all\"}]}, \"showgrid\": false, \"type\": \"date\", \"zeroline\": false}, \"yaxis\": {\"autorange\": false, \"range\": [-1, 3], \"showgrid\": false, \"ticktext\": [\"take_pill_Levodopa\", \"take_pill_Pramipexol\"], \"tickvals\": [0, 1], \"zeroline\": false}},\n",
       "                        {\"responsive\": true}\n",
       "                    ).then(function(){\n",
       "                            \n",
       "var gd = document.getElementById('a134f440-3d25-4620-b81b-6d48492c6f70');\n",
       "var x = new MutationObserver(function (mutations, observer) {{\n",
       "        var display = window.getComputedStyle(gd).display;\n",
       "        if (!display || display === 'none') {{\n",
       "            console.log([gd, 'removed!']);\n",
       "            Plotly.purge(gd);\n",
       "            observer.disconnect();\n",
       "        }}\n",
       "}});\n",
       "\n",
       "// Listen for the removal of the full notebook cells\n",
       "var notebookContainer = gd.closest('#notebook-container');\n",
       "if (notebookContainer) {{\n",
       "    x.observe(notebookContainer, {childList: true});\n",
       "}}\n",
       "\n",
       "// Listen for the clearing of the current output cell\n",
       "var outputEl = gd.closest('.output');\n",
       "if (outputEl) {{\n",
       "    x.observe(outputEl, {childList: true});\n",
       "}}\n",
       "\n",
       "                        })\n",
       "                };\n",
       "                });\n",
       "            </script>\n",
       "        </div>"
      ]
     },
     "metadata": {},
     "output_type": "display_data"
    }
   ],
   "source": [
    "!eye --nope ../path/aggreagatedPath-t0.n3 ../parkinson/gps-desc.n3 ../engine/path-processor-visual.n3 --query ../engine/path-processor-visual.csvq --strings >../path/aggreagatedPath-plot-t0.csv\n",
    "\n",
    "df_path = pd.read_csv('../path/aggreagatedPath-plot-t0.csv', sep=',', encoding = 'utf-8')\n",
    "df = [dict(Task=df_path.action_name[0], Start=df_path.start_time[0], Finish=df_path.end_time[0], Resource=df_path.map_name[0])]\n",
    "i=1\n",
    "while i < len(df_path):\n",
    "    df.append( dict(Task=df_path.action_name[i], Start=df_path.start_time[i], Finish=df_path.end_time[i], Resource=df_path.map_name[i]) )\n",
    "    i+=1\n",
    "\n",
    "colors = dict(Conflict = 'rgb(220, 0, 0)',\n",
    "              Colon_cancer = 'rgb(0, 0, 220)',\n",
    "              Parkinson = 'rgb(0, 220, 0)')\n",
    "\n",
    "fig = ff.create_gantt(df, colors=colors, index_col='Resource', show_colorbar=True,  title='Path-Parkinson')\n",
    "fig['layout'].update(autosize=False, width=800, height=600, margin=dict(l=200))\n",
    "iplot(fig, show_link=False)"
   ]
  },
  {
   "cell_type": "markdown",
   "metadata": {
    "colab_type": "text",
    "id": "Xue2zF4F-p2f"
   },
   "source": [
    "# At T1, the patient got an updated data\n",
    "*GMT: Wednesday, March 7, 2018 2:09:33 PM*\n",
    "\n",
    "Since at T1, the first action is ongoing, but still not finished yet, at this timepoint, it difficult to predict what will happen when it ends, so the updated data will not influence the prediction if relevant data would be affected by the ongoing action, the prediction may only update when an action is finished. "
   ]
  },
  {
   "cell_type": "markdown",
   "metadata": {
    "colab_type": "text",
    "id": "Xue2zF4F-p2f"
   },
   "source": [
    "**scenario a, the UPDRSScore remains the same, but it is too early to draw conclusion. The caculation relies on predicted graph in the last run, \n",
    "and the new value provided at T1 is not in use for the path validation**"
   ]
  },
  {
   "cell_type": "code",
   "execution_count": 20,
   "metadata": {
    "colab": {},
    "colab_type": "code",
    "id": "5rY9419I-p2g"
   },
   "outputs": [
    {
     "name": "stdout",
     "output_type": "stream",
     "text": [
      "#Processed by EYE v20.0910.0008 josd"
     ]
    },
    {
     "name": "stderr",
     "output_type": "stream",
     "text": [
      "eye --nope ../data/data-parkinson-t1-a.ttl ../data/t1.ttl ../parkinson/gps-desc.n3 ../parkinson/score-calculation.n3 ../path/aggreagatedPath-t0.n3 ../engine/gps-plugin-validation.n3 --query ../parkinson/gps-goal-parkinson.n3q\n",
      "EYE v20.0910.0008 josd\n",
      "SWI-Prolog version 8.0.3\n",
      "starting 46 [msec cputime] 115 [msec walltime]\n",
      "GET file:///d:/github/gps4icdemo/data/data-parkinson-t1-a.ttl SC=14\n",
      "GET file:///d:/github/gps4icdemo/data/t1.ttl SC=1\n",
      "GET file:///d:/github/gps4icdemo/parkinson/gps-desc.n3 SC=3\n",
      "GET file:///d:/github/gps4icdemo/parkinson/score-calculation.n3 SC=1\n",
      "GET file:///d:/github/gps4icdemo/path/aggreagatedpath-t0.n3 SC=1\n",
      "GET file:///d:/github/gps4icdemo/engine/gps-plugin-validation.n3 SC=11\n",
      "GET file:///d:/github/gps4icdemo/parkinson/gps-goal-parkinson.n3q SC=1\n",
      "networking 32 [msec cputime] 97 [msec walltime]\n",
      "reasoning 15 [msec cputime] 6 [msec walltime]\n",
      "2020-09-13T15:27:04.937Z in=32 out=1 ent=2 step=4 brake=4 inf=205084 sec=0.093 inf/sec=2205204\n",
      "\n"
     ]
    },
    {
     "name": "stdout",
     "output_type": "stream",
     "text": [
      "\n",
      "#eye --nope ../data/data-parkinson-t1-a.ttl ../data/t1.ttl ../parkinson/gps-desc.n3 ../parkinson/score-calculation.n3 ../path/aggreagatedPath-t0.n3 ../engine/gps-plugin-validation.n3 --query ../parkinson/gps-goal-parkinson.n3q\n",
      "\n",
      "@prefix sct: <http://snomed.info/id/>.\n",
      "@prefix data: <http://josd.github.io/fluid/gps/data#>.\n",
      "@prefix care: <http://josd.github.io/fluid/gps/care#>.\n",
      "@prefix math: <http://www.w3.org/2000/10/swap/math#>.\n",
      "@prefix xsd: <http://www.w3.org/2001/XMLSchema#>.\n",
      "@prefix e: <http://eulersharp.sourceforge.net/2003/03swap/log-rules#>.\n",
      "@prefix gps: <http://josd.github.io/fluid/gps/gps-schema#>.\n",
      "@prefix action: <http://josd.github.io/fluid/gps/action#>.\n",
      "@prefix : <http://josd.github.io/fluid#>.\n",
      "@prefix log: <http://www.w3.org/2000/10/swap/log#>.\n",
      "@prefix string: <http://www.w3.org/2000/10/swap/string#>.\n",
      "@prefix medication: <http://josd.github.io/fluid/gps/medication#>.\n",
      "@prefix list: <http://www.w3.org/2000/10/swap/list#>.\n",
      "@prefix prolog: <http://eulersharp.sourceforge.net/2003/03swap/prolog#>.\n",
      "@prefix func: <http://www.w3.org/2007/rif-builtin-function#>.\n",
      "@prefix rdf: <http://www.w3.org/1999/02/22-rdf-syntax-ns#>.\n",
      "\n",
      "data:patient_1 gps:path (((action:take_pill_Levodopa gps:start 1517928741 {data:patient_1 care:updrs_score 12}) (action:take_pill_Levodopa gps:end 1523112741.0 {data:patient_1 care:updrs_score 10.5}) ((action:take_pill_Pramipexol 1523112741.0 1528296741.0) gps:start 1523112741.0 {data:patient_1 care:updrs_score 10.5}) (action:take_pill_Pramipexol gps:end 1528296741.0 {data:patient_1 care:updrs_score 9.2})) 20736000.0 227.59999999999997 0.40960000000000013 0.5184000000000002 (9.2)).\n",
      "\n",
      "#2020-09-13T15:27:04.937Z in=32 out=1 ent=2 step=4 brake=4 inf=205084 sec=0.093 inf/sec=2205204\n",
      "#ENDS\n",
      "\n"
     ]
    }
   ],
   "source": [
    "!eye --nope ../data/data-parkinson-t1-a.ttl ../data/t1.ttl ../parkinson/gps-desc.n3  ../parkinson/score-calculation.n3 ../path/aggreagatedPath-t0.n3 ../engine/gps-plugin-validation.n3 --query ../parkinson/gps-goal-parkinson.n3q\n"
   ]
  },
  {
   "cell_type": "markdown",
   "metadata": {
    "colab_type": "text",
    "id": "Xue2zF4F-p2f"
   },
   "source": [
    "**scenario b, the UPDRSScore drops by 1.5, but it is too early to draw conclusion. The caculation relies on predicted graph in the last run, \n",
    "and the new value provided at T1 is not in use for the path validation**"
   ]
  },
  {
   "cell_type": "code",
   "execution_count": 21,
   "metadata": {
    "colab": {},
    "colab_type": "code",
    "id": "4eFxg_jC-p2l"
   },
   "outputs": [
    {
     "name": "stderr",
     "output_type": "stream",
     "text": [
      "eye --nope ../data/data-parkinson-t1-b.ttl ../data/t1.ttl ../parkinson/gps-desc.n3 ../parkinson/score-calculation.n3 ../path/aggreagatedPath-t0.n3 ../engine/gps-plugin-validation.n3 --query ../parkinson/gps-goal-parkinson.n3q\n",
      "EYE v20.0910.0008 josd\n",
      "SWI-Prolog version 8.0.3\n",
      "starting 62 [msec cputime] 114 [msec walltime]\n",
      "GET file:///d:/github/gps4icdemo/data/data-parkinson-t1-b.ttl SC=14\n",
      "GET file:///d:/github/gps4icdemo/data/t1.ttl SC=1\n",
      "GET file:///d:/github/gps4icdemo/parkinson/gps-desc.n3 SC=3\n",
      "GET file:///d:/github/gps4icdemo/parkinson/score-calculation.n3 SC=1\n",
      "GET file:///d:/github/gps4icdemo/path/aggreagatedpath-t0.n3 SC=1\n",
      "GET file:///d:/github/gps4icdemo/engine/gps-plugin-validation.n3 SC=11\n",
      "GET file:///d:/github/gps4icdemo/parkinson/gps-goal-parkinson.n3q SC=1\n",
      "networking 63 [msec cputime] 105 [msec walltime]\n",
      "reasoning 0 [msec cputime] 6 [msec walltime]\n",
      "2020-09-13T15:29:20.197Z in=32 out=1 ent=2 step=4 brake=4 inf=205097 sec=0.125 inf/sec=1640776\n",
      "\n"
     ]
    },
    {
     "name": "stdout",
     "output_type": "stream",
     "text": [
      "#Processed by EYE v20.0910.0008 josd\n",
      "#eye --nope ../data/data-parkinson-t1-b.ttl ../data/t1.ttl ../parkinson/gps-desc.n3 ../parkinson/score-calculation.n3 ../path/aggreagatedPath-t0.n3 ../engine/gps-plugin-validation.n3 --query ../parkinson/gps-goal-parkinson.n3q\n",
      "\n",
      "@prefix sct: <http://snomed.info/id/>.\n",
      "@prefix data: <http://josd.github.io/fluid/gps/data#>.\n",
      "@prefix care: <http://josd.github.io/fluid/gps/care#>.\n",
      "@prefix math: <http://www.w3.org/2000/10/swap/math#>.\n",
      "@prefix xsd: <http://www.w3.org/2001/XMLSchema#>.\n",
      "@prefix e: <http://eulersharp.sourceforge.net/2003/03swap/log-rules#>.\n",
      "@prefix gps: <http://josd.github.io/fluid/gps/gps-schema#>.\n",
      "@prefix action: <http://josd.github.io/fluid/gps/action#>.\n",
      "@prefix : <http://josd.github.io/fluid#>.\n",
      "@prefix log: <http://www.w3.org/2000/10/swap/log#>.\n",
      "@prefix string: <http://www.w3.org/2000/10/swap/string#>.\n",
      "@prefix medication: <http://josd.github.io/fluid/gps/medication#>.\n",
      "@prefix list: <http://www.w3.org/2000/10/swap/list#>.\n",
      "@prefix prolog: <http://eulersharp.sourceforge.net/2003/03swap/prolog#>.\n",
      "@prefix func: <http://www.w3.org/2007/rif-builtin-function#>.\n",
      "@prefix rdf: <http://www.w3.org/1999/02/22-rdf-syntax-ns#>.\n",
      "\n",
      "data:patient_1 gps:path (((action:take_pill_Levodopa gps:start 1517928741 {data:patient_1 care:updrs_score 12}) (action:take_pill_Levodopa gps:end 1523112741.0 {data:patient_1 care:updrs_score 10.5}) ((action:take_pill_Pramipexol 1523112741.0 1528296741.0) gps:start 1523112741.0 {data:patient_1 care:updrs_score 10.5}) (action:take_pill_Pramipexol gps:end 1528296741.0 {data:patient_1 care:updrs_score 9.2})) 20736000.0 227.59999999999997 0.40960000000000013 0.5184000000000002 (9.2)).\n",
      "\n",
      "#2020-09-13T15:29:20.197Z in=32 out=1 ent=2 step=4 brake=4 inf=205097 sec=0.125 inf/sec=1640776\n",
      "#ENDS\n",
      "\n"
     ]
    }
   ],
   "source": [
    "!eye --nope ../data/data-parkinson-t1-b.ttl ../data/t1.ttl ../parkinson/gps-desc.n3  ../parkinson/score-calculation.n3 ../path/aggreagatedPath-t0.n3 ../engine/gps-plugin-validation.n3 --query ../parkinson/gps-goal-parkinson.n3q\n"
   ]
  },
  {
   "cell_type": "markdown",
   "metadata": {
    "colab_type": "text",
    "id": "Xue2zF4F-p2f"
   },
   "source": [
    "**scenario c, the UPDRSScore drops by 1.9, but it is too early to draw conclusion. The caculation relies on predicted graph in the last run, \n",
    "and the new value provided at T1 is not in use for the path validation**"
   ]
  },
  {
   "cell_type": "code",
   "execution_count": 22,
   "metadata": {
    "colab": {},
    "colab_type": "code",
    "id": "EJhvdvfz-p2o"
   },
   "outputs": [
    {
     "name": "stdout",
     "output_type": "stream",
     "text": [
      "#Processed by EYE v20.0910.0008 josd\n",
      "#eye --nope ../data/data-parkinson-t1-c.ttl ../data/t1.ttl ../parkinson/gps-desc.n3 ../parkinson/score-calculation.n3 ../path/aggreagatedPath-t0.n3 ../engine/gps-plugin-validation.n3 --query ../parkinson/gps-goal-parkinson.n3q\n",
      "\n",
      "@prefix sct: <http://snomed.info/id/>.\n",
      "@prefix data: <http://josd.github.io/fluid/gps/data#>.\n",
      "@prefix care: <http://josd.github.io/fluid/gps/care#>.\n",
      "@prefix math: <http://www.w3.org/2000/10/swap/math#>.\n",
      "@prefix xsd: <http://www.w3.org/2001/XMLSchema#>.\n",
      "@prefix e: <http://eulersharp.sourceforge.net/2003/03swap/log-rules#>.\n",
      "@prefix gps: <http://josd.github.io/fluid/gps/gps-schema#>.\n",
      "@prefix action: <http://josd.github.io/fluid/gps/action#>.\n",
      "@prefix : <http://josd.github.io/fluid#>.\n",
      "@prefix log: <http://www.w3.org/2000/10/swap/log#>.\n",
      "@prefix string: <http://www.w3.org/2000/10/swap/string#>.\n",
      "@prefix medication: <http://josd.github.io/fluid/gps/medication#>.\n",
      "@prefix list: <http://www.w3.org/2000/10/swap/list#>.\n",
      "@prefix prolog: <http://eulersharp.sourceforge.net/2003/03swap/prolog#>.\n",
      "@prefix func: <http://www.w3.org/2007/rif-builtin-function#>.\n",
      "@prefix rdf: <http://www.w3.org/1999/02/22-rdf-syntax-ns#>.\n",
      "\n",
      "data:patient_1 gps:path (((action:take_pill_Levodopa gps:start 1517928741 {data:patient_1 care:updrs_score 12}) (action:take_pill_Levodopa gps:end 1523112741.0 {data:patient_1 care:updrs_score 10.5}) ((action:take_pill_Pramipexol 1523112741.0 1528296741.0) gps:start 1523112741.0 {data:patient_1 care:updrs_score 10.5}) (action:take_pill_Pramipexol gps:end 1528296741.0 {data:patient_1 care:updrs_score 9.2})) 20736000.0 227.59999999999997 0.40960000000000013 0.5184000000000002 (9.2)).\n",
      "\n",
      "#2020-09-13T15:30:20.363Z in=32 out=1 ent=2 step=4 brake=4 inf=205096 sec=0.140 inf/sec=1464971\n",
      "#ENDS\n",
      "\n"
     ]
    },
    {
     "name": "stderr",
     "output_type": "stream",
     "text": [
      "eye --nope ../data/data-parkinson-t1-c.ttl ../data/t1.ttl ../parkinson/gps-desc.n3 ../parkinson/score-calculation.n3 ../path/aggreagatedPath-t0.n3 ../engine/gps-plugin-validation.n3 --query ../parkinson/gps-goal-parkinson.n3q\n",
      "EYE v20.0910.0008 josd\n",
      "SWI-Prolog version 8.0.3\n",
      "starting 78 [msec cputime] 117 [msec walltime]\n",
      "GET file:///d:/github/gps4icdemo/data/data-parkinson-t1-c.ttl SC=14\n",
      "GET file:///d:/github/gps4icdemo/data/t1.ttl SC=1\n",
      "GET file:///d:/github/gps4icdemo/parkinson/gps-desc.n3 SC=3\n",
      "GET file:///d:/github/gps4icdemo/parkinson/score-calculation.n3 SC=1\n",
      "GET file:///d:/github/gps4icdemo/path/aggreagatedpath-t0.n3 SC=1\n",
      "GET file:///d:/github/gps4icdemo/engine/gps-plugin-validation.n3 SC=11\n",
      "GET file:///d:/github/gps4icdemo/parkinson/gps-goal-parkinson.n3q SC=1\n",
      "networking 47 [msec cputime] 176 [msec walltime]\n",
      "reasoning 15 [msec cputime] 9 [msec walltime]\n",
      "2020-09-13T15:30:20.363Z in=32 out=1 ent=2 step=4 brake=4 inf=205096 sec=0.140 inf/sec=1464971\n",
      "\n"
     ]
    }
   ],
   "source": [
    "!eye --nope ../data/data-parkinson-t1-c.ttl ../data/t1.ttl ../parkinson/gps-desc.n3  ../parkinson/score-calculation.n3 ../path/aggreagatedPath-t0.n3 ../engine/gps-plugin-validation.n3 --query ../parkinson/gps-goal-parkinson.n3q\n"
   ]
  },
  {
   "cell_type": "markdown",
   "metadata": {
    "colab_type": "text",
    "id": "Ot6IUILP-p2x"
   },
   "source": [
    "# At T2, the first action finishes, the patient got an updated data\n",
    "*GMT: Saturday, April 7, 2018 2:52:21 PM*"
   ]
  },
  {
   "cell_type": "markdown",
   "metadata": {
    "colab_type": "text",
    "id": "Xue2zF4F-p2f"
   },
   "source": [
    "**scenario a , the UPDRSScore remains the same. The caculation relies on this data, and predicted that the path no longer succeeds**"
   ]
  },
  {
   "cell_type": "code",
   "execution_count": 23,
   "metadata": {
    "colab": {},
    "colab_type": "code",
    "id": "PsYRdHNy-p2z"
   },
   "outputs": [
    {
     "name": "stdout",
     "output_type": "stream",
     "text": [
      "#Processed by EYE v20.0910.0008 josd\n",
      "#eye --nope ../data/data-parkinson-t1-a.ttl ../data/t2.ttl ../parkinson/gps-desc.n3 ../parkinson/score-calculation.n3 ../path/aggreagatedPath-t0.n3 ../engine/gps-plugin-validation.n3 --query ../parkinson/gps-goal-parkinson.n3q\n",
      "\n",
      "@prefix sct: <http://snomed.info/id/>.\n",
      "@prefix data: <http://josd.github.io/fluid/gps/data#>.\n",
      "@prefix care: <http://josd.github.io/fluid/gps/care#>.\n",
      "@prefix math: <http://www.w3.org/2000/10/swap/math#>.\n",
      "@prefix xsd: <http://www.w3.org/2001/XMLSchema#>.\n",
      "@prefix e: <http://eulersharp.sourceforge.net/2003/03swap/log-rules#>.\n",
      "@prefix gps: <http://josd.github.io/fluid/gps/gps-schema#>.\n",
      "@prefix action: <http://josd.github.io/fluid/gps/action#>.\n",
      "@prefix : <http://josd.github.io/fluid#>.\n",
      "@prefix log: <http://www.w3.org/2000/10/swap/log#>.\n",
      "@prefix string: <http://www.w3.org/2000/10/swap/string#>.\n",
      "@prefix medication: <http://josd.github.io/fluid/gps/medication#>.\n",
      "@prefix list: <http://www.w3.org/2000/10/swap/list#>.\n",
      "@prefix prolog: <http://eulersharp.sourceforge.net/2003/03swap/prolog#>.\n",
      "@prefix func: <http://www.w3.org/2007/rif-builtin-function#>.\n",
      "@prefix rdf: <http://www.w3.org/1999/02/22-rdf-syntax-ns#>.\n",
      "\n",
      "\n",
      "#2020-09-13T15:36:17.252Z in=32 out=0 ent=1 step=2 brake=4 inf=207478 sec=0.109 inf/sec=1903468\n",
      "#ENDS\n",
      "\n"
     ]
    },
    {
     "name": "stderr",
     "output_type": "stream",
     "text": [
      "eye --nope ../data/data-parkinson-t1-a.ttl ../data/t2.ttl ../parkinson/gps-desc.n3 ../parkinson/score-calculation.n3 ../path/aggreagatedPath-t0.n3 ../engine/gps-plugin-validation.n3 --query ../parkinson/gps-goal-parkinson.n3q\n",
      "EYE v20.0910.0008 josd\n",
      "SWI-Prolog version 8.0.3\n",
      "starting 46 [msec cputime] 112 [msec walltime]\n",
      "GET file:///d:/github/gps4icdemo/data/data-parkinson-t1-a.ttl SC=14\n",
      "GET file:///d:/github/gps4icdemo/data/t2.ttl SC=1\n",
      "GET file:///d:/github/gps4icdemo/parkinson/gps-desc.n3 SC=3\n",
      "GET file:///d:/github/gps4icdemo/parkinson/score-calculation.n3 SC=1\n",
      "GET file:///d:/github/gps4icdemo/path/aggreagatedpath-t0.n3 SC=1\n",
      "GET file:///d:/github/gps4icdemo/engine/gps-plugin-validation.n3 SC=11\n",
      "GET file:///d:/github/gps4icdemo/parkinson/gps-goal-parkinson.n3q SC=1\n",
      "networking 47 [msec cputime] 108 [msec walltime]\n",
      "reasoning 16 [msec cputime] 6 [msec walltime]\n",
      "2020-09-13T15:36:17.252Z in=32 out=0 ent=1 step=2 brake=4 inf=207478 sec=0.109 inf/sec=1903468\n",
      "\n"
     ]
    }
   ],
   "source": [
    "!eye --nope ../data/data-parkinson-t1-a.ttl ../data/t2.ttl ../parkinson/gps-desc.n3  ../parkinson/score-calculation.n3 ../path/aggreagatedPath-t0.n3 ../engine/gps-plugin-validation.n3 --query ../parkinson/gps-goal-parkinson.n3q\n"
   ]
  },
  {
   "cell_type": "markdown",
   "metadata": {
    "colab_type": "text",
    "id": "Xue2zF4F-p2f"
   },
   "source": [
    "**scenario a , the UPDRSScore drops by 1.5. The caculation relies on this data, and predicted that the remaining path would leads to satisfaction of the goal**"
   ]
  },
  {
   "cell_type": "code",
   "execution_count": 24,
   "metadata": {
    "colab": {},
    "colab_type": "code",
    "id": "AzMHd5Ex-p24"
   },
   "outputs": [
    {
     "name": "stdout",
     "output_type": "stream",
     "text": [
      "#Processed by EYE v20.0910.0008 josd\n",
      "#eye --nope ../data/data-parkinson-t1-b.ttl ../data/t2.ttl ../parkinson/gps-desc.n3 ../parkinson/score-calculation.n3 ../path/aggreagatedPath-t0.n3 ../engine/gps-plugin-validation.n3 --query ../parkinson/gps-goal-parkinson.n3q\n",
      "\n",
      "@prefix sct: <http://snomed.info/id/>.\n",
      "@prefix data: <http://josd.github.io/fluid/gps/data#>.\n",
      "@prefix care: <http://josd.github.io/fluid/gps/care#>.\n",
      "@prefix math: <http://www.w3.org/2000/10/swap/math#>.\n",
      "@prefix xsd: <http://www.w3.org/2001/XMLSchema#>.\n",
      "@prefix e: <http://eulersharp.sourceforge.net/2003/03swap/log-rules#>.\n",
      "@prefix gps: <http://josd.github.io/fluid/gps/gps-schema#>.\n",
      "@prefix action: <http://josd.github.io/fluid/gps/action#>.\n"
     ]
    },
    {
     "name": "stderr",
     "output_type": "stream",
     "text": [
      "eye --nope ../data/data-parkinson-t1-b.ttl ../data/t2.ttl ../parkinson/gps-desc.n3 ../parkinson/score-calculation.n3 ../path/aggreagatedPath-t0.n3 ../engine/gps-plugin-validation.n3 --query ../parkinson/gps-goal-parkinson.n3q\n",
      "EYE v20.0910.0008 josd\n",
      "SWI-Prolog version 8.0.3\n",
      "starting 62 [msec cputime] 111 [msec walltime]\n",
      "GET file:///d:/github/gps4icdemo/data/data-parkinson-t1-b.ttl SC=14\n",
      "GET file:///d:/github/gps4icdemo/data/t2.ttl SC=1\n",
      "GET file:///d:/github/gps4icdemo/parkinson/gps-desc.n3 SC=3\n",
      "GET file:///d:/github/gps4icdemo/parkinson/score-calculation.n3 SC=1\n",
      "GET file:///d:/github/gps4icdemo/path/aggreagatedpath-t0.n3 SC=1\n",
      "GET file:///d:/github/gps4icdemo/engine/gps-plugin-validation.n3 SC=11\n",
      "GET file:///d:/github/gps4icdemo/parkinson/gps-goal-parkinson.n3q SC=1\n",
      "networking 63 [msec cputime] 87 [msec walltime]\n",
      "reasoning 0 [msec cputime] 6 [msec walltime]\n",
      "2020-09-13T15:37:15.680Z in=32 out=1 ent=2 step=4 brake=4 inf=210251 sec=0.125 inf/sec=1682008\n",
      "\n"
     ]
    },
    {
     "name": "stdout",
     "output_type": "stream",
     "text": [
      "@prefix : <http://josd.github.io/fluid#>.\n",
      "@prefix log: <http://www.w3.org/2000/10/swap/log#>.\n",
      "@prefix string: <http://www.w3.org/2000/10/swap/string#>.\n",
      "@prefix medication: <http://josd.github.io/fluid/gps/medication#>.\n",
      "@prefix list: <http://www.w3.org/2000/10/swap/list#>.\n",
      "@prefix prolog: <http://eulersharp.sourceforge.net/2003/03swap/prolog#>.\n",
      "@prefix func: <http://www.w3.org/2007/rif-builtin-function#>.\n",
      "@prefix rdf: <http://www.w3.org/1999/02/22-rdf-syntax-ns#>.\n",
      "\n",
      "data:patient_1 gps:path ((((action:take_pill_Levodopa 1517928741 1523112741.0) gps:start 1517928741 {data:patient_1 care:updrs_score 12}) ((action:take_pill_Levodopa 1517928741 1523112741.0) gps:end 1523112741.0 {data:patient_1 care:updrs_score 10.5}) ((action:take_pill_Pramipexol 1523112741.0 1528296741.0) gps:start 1523112741.0 {data:patient_1 care:updrs_score 10.5}) (action:take_pill_Pramipexol gps:end 1528296741.0 {data:patient_1 care:updrs_score 9.2})) 10368000.0 199.42 0.6400000000000001 0.81 (9.2)).\n",
      "\n",
      "#2020-09-13T15:37:15.680Z in=32 out=1 ent=2 step=4 brake=4 inf=210251 sec=0.125 inf/sec=1682008\n",
      "#ENDS\n",
      "\n"
     ]
    }
   ],
   "source": [
    "!eye --nope ../data/data-parkinson-t1-b.ttl ../data/t2.ttl ../parkinson/gps-desc.n3  ../parkinson/score-calculation.n3 ../path/aggreagatedPath-t0.n3 ../engine/gps-plugin-validation.n3 --query ../parkinson/gps-goal-parkinson.n3q\n"
   ]
  },
  {
   "cell_type": "markdown",
   "metadata": {
    "colab_type": "text",
    "id": "0Q4NgAv3-p3B"
   },
   "source": [
    "# At T3, the patient adds a new path to treat colon cancer\n",
    "*GMT: Thursday, April 12, 2018 2:50:33 PM*"
   ]
  },
  {
   "cell_type": "markdown",
   "metadata": {
    "colab_type": "text",
    "id": "zn5Pt9r2-p3E"
   },
   "source": [
    "**check if following the existing path with the updated data can still lead to goal of the existing path (Parkinson).**"
   ]
  },
  {
   "cell_type": "code",
   "execution_count": 25,
   "metadata": {},
   "outputs": [
    {
     "name": "stdout",
     "output_type": "stream",
     "text": [
      "#Processed by EYE v20.0910.0008 josd"
     ]
    },
    {
     "name": "stderr",
     "output_type": "stream",
     "text": [
      "eye --nope ../data/data-colon-cancer-t3-a.ttl ../data/t3.ttl ../parkinson/gps-desc.n3 ../parkinson/score-calculation.n3 ../path/aggreagatedPath-t0.n3 ../engine/gps-plugin-validation.n3 --query ../parkinson/gps-goal-parkinson.n3q\n",
      "EYE v20.0910.0008 josd\n",
      "SWI-Prolog version 8.0.3\n",
      "starting 46 [msec cputime] 137 [msec walltime]\n",
      "GET file:///d:/github/gps4icdemo/data/data-colon-cancer-t3-a.ttl SC=25\n",
      "GET file:///d:/github/gps4icdemo/data/t3.ttl SC=1\n",
      "GET file:///d:/github/gps4icdemo/parkinson/gps-desc.n3 SC=3\n",
      "GET file:///d:/github/gps4icdemo/parkinson/score-calculation.n3 SC=1\n",
      "GET file:///d:/github/gps4icdemo/path/aggreagatedpath-t0.n3 SC=1\n",
      "GET file:///d:/github/gps4icdemo/engine/gps-plugin-validation.n3 SC=11\n",
      "GET file:///d:/github/gps4icdemo/parkinson/gps-goal-parkinson.n3q SC=1\n",
      "networking 32 [msec cputime] 198 [msec walltime]\n",
      "reasoning 0 [msec cputime] 4 [msec walltime]\n",
      "2020-09-13T17:28:23.582Z in=43 out=1 ent=2 step=4 brake=4 inf=215984 sec=0.078 inf/sec=2769026\n",
      "\n"
     ]
    },
    {
     "name": "stdout",
     "output_type": "stream",
     "text": [
      "\n",
      "#eye --nope ../data/data-colon-cancer-t3-a.ttl ../data/t3.ttl ../parkinson/gps-desc.n3 ../parkinson/score-calculation.n3 ../path/aggreagatedPath-t0.n3 ../engine/gps-plugin-validation.n3 --query ../parkinson/gps-goal-parkinson.n3q\n",
      "\n",
      "@prefix sct: <http://snomed.info/id/>.\n",
      "@prefix data: <http://josd.github.io/fluid/gps/data#>.\n",
      "@prefix care: <http://josd.github.io/fluid/gps/care#>.\n",
      "@prefix math: <http://www.w3.org/2000/10/swap/math#>.\n",
      "@prefix xsd: <http://www.w3.org/2001/XMLSchema#>.\n",
      "@prefix e: <http://eulersharp.sourceforge.net/2003/03swap/log-rules#>.\n",
      "@prefix gps: <http://josd.github.io/fluid/gps/gps-schema#>.\n",
      "@prefix action: <http://josd.github.io/fluid/gps/action#>.\n",
      "@prefix : <http://josd.github.io/fluid#>.\n",
      "@prefix log: <http://www.w3.org/2000/10/swap/log#>.\n",
      "@prefix string: <http://www.w3.org/2000/10/swap/string#>.\n",
      "@prefix medication: <http://josd.github.io/fluid/gps/medication#>.\n",
      "@prefix list: <http://www.w3.org/2000/10/swap/list#>.\n",
      "@prefix prolog: <http://eulersharp.sourceforge.net/2003/03swap/prolog#>.\n",
      "@prefix func: <http://www.w3.org/2007/rif-builtin-function#>.\n",
      "@prefix rdf: <http://www.w3.org/1999/02/22-rdf-syntax-ns#>.\n",
      "\n",
      "data:patient_1 gps:path ((((action:take_pill_Levodopa 1517928741 1523112741.0) gps:start 1517928741 {data:patient_1 care:updrs_score 12}) ((action:take_pill_Levodopa 1517928741 1523112741.0) gps:end 1523112741.0 {data:patient_1 care:updrs_score 10.5}) (action:take_pill_Pramipexol gps:start 1523112741.0 {data:patient_1 care:updrs_score 10.5}) (action:take_pill_Pramipexol gps:end 1528296741.0 {data:patient_1 care:updrs_score 9.2})) 10368000.0 199.42 0.6400000000000001 0.81 (9.2)).\n",
      "\n",
      "#2020-09-13T17:28:23.582Z in=43 out=1 ent=2 step=4 brake=4 inf=215984 sec=0.078 inf/sec=2769026\n",
      "#ENDS\n",
      "\n"
     ]
    }
   ],
   "source": [
    "!eye --nope ../data/data-colon-cancer-t3-a.ttl ../data/t3.ttl ../parkinson/gps-desc.n3  ../parkinson/score-calculation.n3 ../path/aggreagatedPath-t0.n3 ../engine/gps-plugin-validation.n3 --query ../parkinson/gps-goal-parkinson.n3q"
   ]
  },
  {
   "cell_type": "code",
   "execution_count": 26,
   "metadata": {
    "colab": {},
    "colab_type": "code",
    "id": "Ta5evxpB-p3F"
   },
   "outputs": [
    {
     "name": "stdout",
     "output_type": "stream",
     "text": [
      "#Processed by EYE v20.0910.0008 josd"
     ]
    },
    {
     "name": "stderr",
     "output_type": "stream",
     "text": [
      "eye --nope ../data/data-colon-cancer-t3-b.ttl ../data/t3.ttl ../parkinson/gps-desc.n3 ../parkinson/score-calculation.n3 ../path/aggreagatedPath-t0.n3 ../engine/gps-plugin-validation.n3 --query ../parkinson/gps-goal-parkinson.n3q\n",
      "EYE v20.0910.0008 josd\n",
      "SWI-Prolog version 8.0.3\n",
      "starting 46 [msec cputime] 91 [msec walltime]\n",
      "GET file:///d:/github/gps4icdemo/data/data-colon-cancer-t3-b.ttl SC=25\n",
      "GET file:///d:/github/gps4icdemo/data/t3.ttl SC=1\n",
      "GET file:///d:/github/gps4icdemo/parkinson/gps-desc.n3 SC=3\n",
      "GET file:///d:/github/gps4icdemo/parkinson/score-calculation.n3 SC=1\n",
      "GET file:///d:/github/gps4icdemo/path/aggreagatedpath-t0.n3 SC=1\n",
      "GET file:///d:/github/gps4icdemo/engine/gps-plugin-validation.n3 SC=11\n",
      "GET file:///d:/github/gps4icdemo/parkinson/gps-goal-parkinson.n3q SC=1\n",
      "networking 63 [msec cputime] 121 [msec walltime]\n",
      "reasoning 0 [msec cputime] 3 [msec walltime]\n",
      "2020-09-13T17:29:06.101Z in=43 out=1 ent=2 step=4 brake=4 inf=216009 sec=0.109 inf/sec=1981734\n",
      "\n"
     ]
    },
    {
     "name": "stdout",
     "output_type": "stream",
     "text": [
      "\n",
      "#eye --nope ../data/data-colon-cancer-t3-b.ttl ../data/t3.ttl ../parkinson/gps-desc.n3 ../parkinson/score-calculation.n3 ../path/aggreagatedPath-t0.n3 ../engine/gps-plugin-validation.n3 --query ../parkinson/gps-goal-parkinson.n3q\n",
      "\n",
      "@prefix sct: <http://snomed.info/id/>.\n",
      "@prefix data: <http://josd.github.io/fluid/gps/data#>.\n",
      "@prefix care: <http://josd.github.io/fluid/gps/care#>.\n",
      "@prefix math: <http://www.w3.org/2000/10/swap/math#>.\n",
      "@prefix xsd: <http://www.w3.org/2001/XMLSchema#>.\n",
      "@prefix e: <http://eulersharp.sourceforge.net/2003/03swap/log-rules#>.\n",
      "@prefix gps: <http://josd.github.io/fluid/gps/gps-schema#>.\n",
      "@prefix action: <http://josd.github.io/fluid/gps/action#>.\n",
      "@prefix : <http://josd.github.io/fluid#>.\n",
      "@prefix log: <http://www.w3.org/2000/10/swap/log#>.\n",
      "@prefix string: <http://www.w3.org/2000/10/swap/string#>.\n",
      "@prefix medication: <http://josd.github.io/fluid/gps/medication#>.\n",
      "@prefix list: <http://www.w3.org/2000/10/swap/list#>.\n",
      "@prefix prolog: <http://eulersharp.sourceforge.net/2003/03swap/prolog#>.\n",
      "@prefix func: <http://www.w3.org/2007/rif-builtin-function#>.\n",
      "@prefix rdf: <http://www.w3.org/1999/02/22-rdf-syntax-ns#>.\n",
      "\n",
      "data:patient_1 gps:path ((((action:take_pill_Levodopa 1517928741 1523112741.0) gps:start 1517928741 {data:patient_1 care:updrs_score 12}) ((action:take_pill_Levodopa 1517928741 1523112741.0) gps:end 1523112741.0 {data:patient_1 care:updrs_score 10.5}) (action:take_pill_Pramipexol gps:start 1523112741.0 {data:patient_1 care:updrs_score 10.5}) (action:take_pill_Pramipexol gps:end 1528296741.0 {data:patient_1 care:updrs_score 9.2})) 10368000.0 199.42 0.6400000000000001 0.81 (9.2)).\n",
      "\n",
      "#2020-09-13T17:29:06.101Z in=43 out=1 ent=2 step=4 brake=4 inf=216009 sec=0.109 inf/sec=1981734\n",
      "#ENDS\n",
      "\n"
     ]
    }
   ],
   "source": [
    "!eye --nope ../data/data-colon-cancer-t3-b.ttl ../data/t3.ttl ../parkinson/gps-desc.n3  ../parkinson/score-calculation.n3 ../path/aggreagatedPath-t0.n3 ../engine/gps-plugin-validation.n3 --query ../parkinson/gps-goal-parkinson.n3q\n"
   ]
  },
  {
   "cell_type": "markdown",
   "metadata": {
    "colab_type": "text",
    "id": "5_i3XHCP-p3J"
   },
   "source": [
    "**generate path for colon cancer**"
   ]
  },
  {
   "cell_type": "code",
   "execution_count": 27,
   "metadata": {},
   "outputs": [
    {
     "name": "stderr",
     "output_type": "stream",
     "text": [
      "eye --nope ../data/data-colon-cancer-t3-a.ttl ../colon-cancer/gps-desc.n3 ../colon-cancer/gps-knowledge.n3 ../engine/gps-plugin.n3 --query ../colon-cancer/gps-query.n3\n",
      "EYE v20.0910.0008 josd\n",
      "SWI-Prolog version 8.0.3\n",
      "starting 31 [msec cputime] 93 [msec walltime]\n",
      "GET file:///d:/github/gps4icdemo/data/data-colon-cancer-t3-a.ttl SC=25\n",
      "GET file:///d:/github/gps4icdemo/colon-cancer/gps-desc.n3 SC=3\n",
      "GET file:///d:/github/gps4icdemo/colon-cancer/gps-knowledge.n3 SC=11\n",
      "GET file:///d:/github/gps4icdemo/engine/gps-plugin.n3 SC=7\n",
      "GET file:///d:/github/gps4icdemo/colon-cancer/gps-query.n3 SC=1\n",
      "networking 31 [msec cputime] 78 [msec walltime]\n",
      "reasoning 0 [msec cputime] 3 [msec walltime]\n",
      "2020-09-13T17:30:23.793Z in=47 out=1 ent=1 step=4 brake=2 inf=172931 sec=0.062 inf/sec=2789210\n",
      "\n"
     ]
    }
   ],
   "source": [
    "!eye --nope ../data/data-colon-cancer-t3-a.ttl ../colon-cancer/gps-desc.n3 ../colon-cancer/gps-knowledge.n3 ../engine/gps-plugin.n3 --query ../colon-cancer/gps-query.n3 >../path/colon-cancer-answer-t3-a.n3"
   ]
  },
  {
   "cell_type": "code",
   "execution_count": 28,
   "metadata": {
    "colab": {
     "base_uri": "https://localhost:8080/",
     "height": 84
    },
    "colab_type": "code",
    "executionInfo": {
     "elapsed": 2262,
     "status": "ok",
     "timestamp": 1521193273481,
     "user": {
      "displayName": "Sun Hong",
      "photoUrl": "https://lh3.googleusercontent.com/a/default-user=s128",
      "userId": "102379393310511997000"
     },
     "user_tz": -60
    },
    "id": "9ZC8F5su-p3K",
    "outputId": "4c169868-014c-48df-de98-d5b17f130c14"
   },
   "outputs": [
    {
     "name": "stderr",
     "output_type": "stream",
     "text": [
      "eye --nope ../data/data-colon-cancer-t3-b.ttl ../colon-cancer/gps-desc.n3 ../colon-cancer/gps-knowledge.n3 ../engine/gps-plugin.n3 --query ../colon-cancer/gps-query.n3\n",
      "EYE v20.0910.0008 josd\n",
      "SWI-Prolog version 8.0.3\n",
      "starting 31 [msec cputime] 97 [msec walltime]\n",
      "GET file:///d:/github/gps4icdemo/data/data-colon-cancer-t3-b.ttl SC=25\n",
      "GET file:///d:/github/gps4icdemo/colon-cancer/gps-desc.n3 SC=3\n",
      "GET file:///d:/github/gps4icdemo/colon-cancer/gps-knowledge.n3 SC=11\n",
      "GET file:///d:/github/gps4icdemo/engine/gps-plugin.n3 SC=7\n",
      "GET file:///d:/github/gps4icdemo/colon-cancer/gps-query.n3 SC=1\n",
      "networking 31 [msec cputime] 38 [msec walltime]\n",
      "reasoning 0 [msec cputime] 2 [msec walltime]\n",
      "2020-09-13T17:32:10.636Z in=47 out=2 ent=2 step=2 brake=2 inf=170468 sec=0.062 inf/sec=2749484\n",
      "\n"
     ]
    }
   ],
   "source": [
    "!eye --nope ../data/data-colon-cancer-t3-b.ttl ../colon-cancer/gps-desc.n3 ../colon-cancer/gps-knowledge.n3 ../engine/gps-plugin.n3 --query ../colon-cancer/gps-query.n3 >../path/colon-cancer-answer-t3-b.n3"
   ]
  },
  {
   "cell_type": "markdown",
   "metadata": {
    "colab_type": "text",
    "id": "XKNvwMJG-p3T"
   },
   "source": [
    "**generate csv representation of the generated path, so that it could be visualized to the end user**"
   ]
  },
  {
   "cell_type": "code",
   "execution_count": 29,
   "metadata": {},
   "outputs": [
    {
     "name": "stderr",
     "output_type": "stream",
     "text": [
      "eye --nope ../path/colon-cancer-answer-t3-a.n3 ../engine/path-processor-original-colon-cancer.n3 --query ../engine/path-processor-original-colon-cancer.csvq --strings\n",
      "EYE v20.0910.0008 josd\n",
      "SWI-Prolog version 8.0.3\n",
      "starting 78 [msec cputime] 119 [msec walltime]\n",
      "GET file:///d:/github/gps4icdemo/path/colon-cancer-answer-t3-a.n3 SC=1\n",
      "GET file:///d:/github/gps4icdemo/engine/path-processor-original-colon-cancer.n3 SC=2\n",
      "GET file:///d:/github/gps4icdemo/engine/path-processor-original-colon-cancer.csvq SC=1\n",
      "networking 0 [msec cputime] 187 [msec walltime]\n",
      "reasoning 0 [msec cputime] 2 [msec walltime]\n",
      "2020-09-13T17:40:11.695Z in=4 out=9 ent=1 step=2 brake=4 inf=59441 sec=0.078 inf/sec=762064\n",
      "\n"
     ]
    }
   ],
   "source": [
    "! eye --nope ../path/colon-cancer-answer-t3-a.n3 ../engine/path-processor-original-colon-cancer.n3 --query ../engine/path-processor-original-colon-cancer.csvq --strings >../path/colon-cancer-answer-t3-a.csv"
   ]
  },
  {
   "cell_type": "code",
   "execution_count": 30,
   "metadata": {
    "colab": {},
    "colab_type": "code",
    "id": "ANH__NwJ-p3U",
    "outputId": "4ef5ac32-56c7-41da-b3ee-2c365bbbc720"
   },
   "outputs": [
    {
     "name": "stderr",
     "output_type": "stream",
     "text": [
      "eye --nope ../path/colon-cancer-answer-t3-b.n3 ../engine/path-processor-original-colon-cancer.n3 --query ../engine/path-processor-original-colon-cancer.csvq --strings\n",
      "EYE v20.0910.0008 josd\n",
      "SWI-Prolog version 8.0.3\n",
      "starting 46 [msec cputime] 116 [msec walltime]\n",
      "GET file:///d:/github/gps4icdemo/path/colon-cancer-answer-t3-b.n3 SC=2\n",
      "GET file:///d:/github/gps4icdemo/engine/path-processor-original-colon-cancer.n3 SC=2\n",
      "GET file:///d:/github/gps4icdemo/engine/path-processor-original-colon-cancer.csvq SC=1\n",
      "networking 0 [msec cputime] 116 [msec walltime]\n",
      "reasoning 16 [msec cputime] 3 [msec walltime]\n",
      "2020-09-13T17:40:35.592Z in=5 out=18 ent=2 step=4 brake=4 inf=67793 sec=0.062 inf/sec=1093435\n",
      "\n"
     ]
    }
   ],
   "source": [
    "! eye --nope ../path/colon-cancer-answer-t3-b.n3 ../engine/path-processor-original-colon-cancer.n3 --query ../engine/path-processor-original-colon-cancer.csvq --strings >../path/colon-cancer-answer-t3-b.csv"
   ]
  },
  {
   "cell_type": "markdown",
   "metadata": {
    "colab_type": "text",
    "id": "0h-g5LRW-p3Y"
   },
   "source": [
    "**display the generated path by reading the csv file**"
   ]
  },
  {
   "cell_type": "code",
   "execution_count": 32,
   "metadata": {
    "colab": {},
    "colab_type": "code",
    "id": "V4w-b3p2-p3Z"
   },
   "outputs": [
    {
     "data": {
      "text/html": [
       "<div>\n",
       "<style scoped>\n",
       "    .dataframe tbody tr th:only-of-type {\n",
       "        vertical-align: middle;\n",
       "    }\n",
       "\n",
       "    .dataframe tbody tr th {\n",
       "        vertical-align: top;\n",
       "    }\n",
       "\n",
       "    .dataframe thead th {\n",
       "        text-align: right;\n",
       "    }\n",
       "</style>\n",
       "<table border=\"1\" class=\"dataframe\">\n",
       "  <thead>\n",
       "    <tr style=\"text-align: right;\">\n",
       "      <th></th>\n",
       "      <th>PATH</th>\n",
       "      <th>DURATION</th>\n",
       "      <th>COST</th>\n",
       "      <th>BELIEF</th>\n",
       "      <th>COMFORT</th>\n",
       "      <th>METASTASIS_RISK</th>\n",
       "      <th>5YR_SURVIVAL_RATE</th>\n",
       "      <th>NON_TOXICITY</th>\n",
       "      <th>5YR_LOCAL_RELAPSE_RISK</th>\n",
       "    </tr>\n",
       "  </thead>\n",
       "  <tbody>\n",
       "    <tr>\n",
       "      <th>0</th>\n",
       "      <td>(\"surgery_colon_cancer\" \"Adjuvant_chemoradiotherapy\")</td>\n",
       "      <td>P85DT0H0M0.0S</td>\n",
       "      <td>43585.0</td>\n",
       "      <td>0.81</td>\n",
       "      <td>0.2</td>\n",
       "      <td>0.02</td>\n",
       "      <td>0.92</td>\n",
       "      <td>0.57</td>\n",
       "      <td>0.16</td>\n",
       "    </tr>\n",
       "  </tbody>\n",
       "</table>\n",
       "</div>"
      ],
      "text/plain": [
       "                                                    PATH       DURATION  \\\n",
       "0  (\"surgery_colon_cancer\" \"Adjuvant_chemoradiotherapy\")  P85DT0H0M0.0S   \n",
       "\n",
       "      COST  BELIEF  COMFORT  METASTASIS_RISK  5YR_SURVIVAL_RATE  NON_TOXICITY  \\\n",
       "0  43585.0  0.81    0.2      0.02             0.92               0.57           \n",
       "\n",
       "   5YR_LOCAL_RELAPSE_RISK  \n",
       "0  0.16                    "
      ]
     },
     "execution_count": 32,
     "metadata": {},
     "output_type": "execute_result"
    }
   ],
   "source": [
    "pd.read_csv('../path/colon-cancer-answer-t3-a.csv', sep=',', encoding = 'utf-8')"
   ]
  },
  {
   "cell_type": "code",
   "execution_count": 33,
   "metadata": {
    "colab": {},
    "colab_type": "code",
    "id": "SOqYO4JB-p3r"
   },
   "outputs": [
    {
     "data": {
      "text/html": [
       "<div>\n",
       "<style scoped>\n",
       "    .dataframe tbody tr th:only-of-type {\n",
       "        vertical-align: middle;\n",
       "    }\n",
       "\n",
       "    .dataframe tbody tr th {\n",
       "        vertical-align: top;\n",
       "    }\n",
       "\n",
       "    .dataframe thead th {\n",
       "        text-align: right;\n",
       "    }\n",
       "</style>\n",
       "<table border=\"1\" class=\"dataframe\">\n",
       "  <thead>\n",
       "    <tr style=\"text-align: right;\">\n",
       "      <th></th>\n",
       "      <th>PATH</th>\n",
       "      <th>DURATION</th>\n",
       "      <th>COST</th>\n",
       "      <th>BELIEF</th>\n",
       "      <th>COMFORT</th>\n",
       "      <th>METASTASIS_RISK</th>\n",
       "      <th>5YR_SURVIVAL_RATE</th>\n",
       "      <th>NON_TOXICITY</th>\n",
       "      <th>5YR_LOCAL_RELAPSE_RISK</th>\n",
       "    </tr>\n",
       "  </thead>\n",
       "  <tbody>\n",
       "    <tr>\n",
       "      <th>0</th>\n",
       "      <td>(\"Neoadjuvant_chemoradiotherapy\" \"surgery_colon_cancer\")</td>\n",
       "      <td>P55DT0H0M0.0S</td>\n",
       "      <td>35097.0</td>\n",
       "      <td>0.81</td>\n",
       "      <td>0.25</td>\n",
       "      <td>0.02</td>\n",
       "      <td>0.92</td>\n",
       "      <td>0.6935</td>\n",
       "      <td>0.06</td>\n",
       "    </tr>\n",
       "    <tr>\n",
       "      <th>1</th>\n",
       "      <td>(\"surgery_colon_cancer\" \"Adjuvant_chemoradiotherapy\")</td>\n",
       "      <td>P85DT0H0M0.0S</td>\n",
       "      <td>43585.0</td>\n",
       "      <td>0.81</td>\n",
       "      <td>0.20</td>\n",
       "      <td>0.02</td>\n",
       "      <td>0.92</td>\n",
       "      <td>0.5700</td>\n",
       "      <td>0.16</td>\n",
       "    </tr>\n",
       "  </tbody>\n",
       "</table>\n",
       "</div>"
      ],
      "text/plain": [
       "                                                       PATH       DURATION  \\\n",
       "0  (\"Neoadjuvant_chemoradiotherapy\" \"surgery_colon_cancer\")  P55DT0H0M0.0S   \n",
       "1  (\"surgery_colon_cancer\" \"Adjuvant_chemoradiotherapy\")     P85DT0H0M0.0S   \n",
       "\n",
       "      COST  BELIEF  COMFORT  METASTASIS_RISK  5YR_SURVIVAL_RATE  NON_TOXICITY  \\\n",
       "0  35097.0  0.81    0.25     0.02             0.92               0.6935         \n",
       "1  43585.0  0.81    0.20     0.02             0.92               0.5700         \n",
       "\n",
       "   5YR_LOCAL_RELAPSE_RISK  \n",
       "0  0.06                    \n",
       "1  0.16                    "
      ]
     },
     "execution_count": 33,
     "metadata": {},
     "output_type": "execute_result"
    }
   ],
   "source": [
    "pd.read_csv('../path/colon-cancer-answer-t3-b.csv', sep=',', encoding = 'utf-8')"
   ]
  },
  {
   "cell_type": "markdown",
   "metadata": {
    "colab_type": "text",
    "id": "NApw9Fz4-p34"
   },
   "source": [
    "**Manually select one path from the generated paths**"
   ]
  },
  {
   "cell_type": "code",
   "execution_count": 35,
   "metadata": {
    "colab": {},
    "colab_type": "code",
    "id": "vDJqhddU-p35"
   },
   "outputs": [],
   "source": [
    "#../path/colon-cancer-selected-path-t3-a.n3\n",
    "#..path/colon-cancer-selected-path-t3-b.n3"
   ]
  },
  {
   "cell_type": "markdown",
   "metadata": {
    "colab_type": "text",
    "id": "HN2E4a45-p38"
   },
   "source": [
    "**temporal process the selected path**"
   ]
  },
  {
   "cell_type": "code",
   "execution_count": 36,
   "metadata": {},
   "outputs": [
    {
     "name": "stderr",
     "output_type": "stream",
     "text": [
      "eye --nope ../path/colon-cancer-selected-path-t3-a.n3 ../data/t3.ttl ../engine/gps-temporal-rule.n3 ../colon-cancer/gps-desc.n3 --query ../engine/gps-temporal-query.n3q\n",
      "EYE v20.0910.0008 josd\n",
      "SWI-Prolog version 8.0.3\n",
      "starting 62 [msec cputime] 117 [msec walltime]\n",
      "GET file:///d:/github/gps4icdemo/path/colon-cancer-selected-path-t3-a.n3 SC=1\n",
      "GET file:///d:/github/gps4icdemo/data/t3.ttl SC=1\n",
      "GET file:///d:/github/gps4icdemo/engine/gps-temporal-rule.n3 SC=6\n",
      "GET file:///d:/github/gps4icdemo/colon-cancer/gps-desc.n3 SC=3\n",
      "GET file:///d:/github/gps4icdemo/engine/gps-temporal-query.n3q SC=1\n",
      "networking 31 [msec cputime] 200 [msec walltime]\n",
      "reasoning 16 [msec cputime] 14 [msec walltime]\n",
      "2020-09-13T18:21:30.660Z in=12 out=1 ent=14 step=34 brake=6 inf=159620 sec=0.109 inf/sec=1464404\n",
      "\n"
     ]
    }
   ],
   "source": [
    "!eye --nope ../path/colon-cancer-selected-path-t3-a.n3 ../data/t3.ttl ../engine/gps-temporal-rule.n3 ../colon-cancer/gps-desc.n3 --query ../engine/gps-temporal-query.n3q>../path/initial-temporal-path-t3-a.n3"
   ]
  },
  {
   "cell_type": "code",
   "execution_count": 37,
   "metadata": {
    "colab": {},
    "colab_type": "code",
    "id": "erT7WbZ9-p3_",
    "outputId": "0c8f3dcb-c6b6-43b4-fd2c-c07d8241b432"
   },
   "outputs": [
    {
     "name": "stderr",
     "output_type": "stream",
     "text": [
      "eye --nope ../path/colon-cancer-selected-path-t3-b.n3 ../data/t3.ttl ../engine/gps-temporal-rule.n3 ../colon-cancer/gps-desc.n3 --query ../engine/gps-temporal-query.n3q\n",
      "EYE v20.0910.0008 josd\n",
      "SWI-Prolog version 8.0.3\n",
      "starting 62 [msec cputime] 120 [msec walltime]\n",
      "GET file:///d:/github/gps4icdemo/path/colon-cancer-selected-path-t3-b.n3 SC=1\n",
      "GET file:///d:/github/gps4icdemo/data/t3.ttl SC=1\n",
      "GET file:///d:/github/gps4icdemo/engine/gps-temporal-rule.n3 SC=6\n",
      "GET file:///d:/github/gps4icdemo/colon-cancer/gps-desc.n3 SC=3\n",
      "GET file:///d:/github/gps4icdemo/engine/gps-temporal-query.n3q SC=1\n",
      "networking 0 [msec cputime] 70 [msec walltime]\n",
      "reasoning 16 [msec cputime] 9 [msec walltime]\n",
      "2020-09-13T18:21:59.220Z in=12 out=1 ent=14 step=34 brake=6 inf=159694 sec=0.078 inf/sec=2047359\n",
      "\n"
     ]
    }
   ],
   "source": [
    "!eye --nope ../path/colon-cancer-selected-path-t3-b.n3 ../data/t3.ttl ../engine/gps-temporal-rule.n3 ../colon-cancer/gps-desc.n3 --query ../engine/gps-temporal-query.n3q>../path/initial-temporal-path-t3-b.n3"
   ]
  },
  {
   "cell_type": "markdown",
   "metadata": {
    "colab_type": "text",
    "id": "dyxbHVp1-p4H"
   },
   "source": [
    "**aggregate the temporally processed path with existing paths.**"
   ]
  },
  {
   "cell_type": "code",
   "execution_count": 38,
   "metadata": {},
   "outputs": [
    {
     "name": "stderr",
     "output_type": "stream",
     "text": [
      "eye --nope ../path/initial-temporal-path-t3-a.n3 ../path/aggreagatedPath-t0.n3 ../engine/gps-aggregataion-rule.n3 --query ../engine/gps-temporal-query.n3q\n",
      "EYE v20.0910.0008 josd\n",
      "SWI-Prolog version 8.0.3\n",
      "starting 62 [msec cputime] 106 [msec walltime]\n",
      "GET file:///d:/github/gps4icdemo/path/initial-temporal-path-t3-a.n3 SC=1\n",
      "GET file:///d:/github/gps4icdemo/path/aggreagatedpath-t0.n3 SC=1\n",
      "GET file:///d:/github/gps4icdemo/engine/gps-aggregataion-rule.n3 SC=6\n",
      "GET file:///d:/github/gps4icdemo/engine/gps-temporal-query.n3q SC=1\n",
      "networking 31 [msec cputime] 144 [msec walltime]\n",
      "reasoning 47 [msec cputime] 42 [msec walltime]\n",
      "2020-09-13T18:23:07.071Z in=9 out=1 ent=11 step=43 brake=8 inf=217368 sec=0.140 inf/sec=1552629\n",
      "\n"
     ]
    }
   ],
   "source": [
    "!eye --nope ../path/initial-temporal-path-t3-a.n3 ../path/aggreagatedPath-t0.n3 ../engine/gps-aggregataion-rule.n3 --query ../engine/gps-temporal-query.n3q > ../path/initial-aggreagated-path-t3-a.n3"
   ]
  },
  {
   "cell_type": "code",
   "execution_count": 39,
   "metadata": {
    "colab": {},
    "colab_type": "code",
    "id": "YUbSTn4S-p4J",
    "outputId": "06834000-1dfb-46e4-f672-7c274db95b1d"
   },
   "outputs": [
    {
     "name": "stderr",
     "output_type": "stream",
     "text": [
      "eye --nope ../path/initial-temporal-path-t3-b.n3 ../path/aggreagatedPath-t0.n3 ../engine/gps-aggregataion-rule.n3 --query ../engine/gps-temporal-query.n3q\n",
      "EYE v20.0910.0008 josd\n",
      "SWI-Prolog version 8.0.3\n",
      "starting 62 [msec cputime] 149 [msec walltime]\n",
      "GET file:///d:/github/gps4icdemo/path/initial-temporal-path-t3-b.n3 SC=1\n",
      "GET file:///d:/github/gps4icdemo/path/aggreagatedpath-t0.n3 SC=1\n",
      "GET file:///d:/github/gps4icdemo/engine/gps-aggregataion-rule.n3 SC=6\n",
      "GET file:///d:/github/gps4icdemo/engine/gps-temporal-query.n3q SC=1\n",
      "networking 31 [msec cputime] 85 [msec walltime]\n",
      "reasoning 47 [msec cputime] 47 [msec walltime]\n",
      "2020-09-13T18:23:07.624Z in=9 out=1 ent=11 step=43 brake=8 inf=217449 sec=0.140 inf/sec=1553207\n",
      "\n"
     ]
    }
   ],
   "source": [
    "!eye --nope ../path/initial-temporal-path-t3-b.n3 ../path/aggreagatedPath-t0.n3 ../engine/gps-aggregataion-rule.n3 --query ../engine/gps-temporal-query.n3q > ../path/initial-aggreagated-path-t3-b.n3"
   ]
  },
  {
   "cell_type": "markdown",
   "metadata": {
    "colab_type": "text",
    "id": "yLuwoA0D-p4M"
   },
   "source": [
    "**process the aggregated path: to fill in the expected future state.**"
   ]
  },
  {
   "cell_type": "code",
   "execution_count": null,
   "metadata": {},
   "outputs": [],
   "source": [
    "!eye --nope data/data-colon-cancer-t3-a.ttl data/t3.ttl parkinson/gps-desc.n3 parkinson/score-calculation.n3  colon-cancer/gps-desc.n3 colon-cancer/gps-knowledge.n3 path/initial-aggreagated-path-t3-a.n3 engine/gps-plugin-aggregated-path-processing.n3 --tactic limited-answer 1 --query engine/gps-aggregation-query.n3q > path/aggreagatedPath-t3-a.n3"
   ]
  },
  {
   "cell_type": "code",
   "execution_count": null,
   "metadata": {
    "colab": {},
    "colab_type": "code",
    "id": "iZCpohs0-p4S",
    "outputId": "f57f80f6-0ea3-47cf-9255-ce574c54dbd1"
   },
   "outputs": [
    {
     "name": "stderr",
     "output_type": "stream",
     "text": [
      "eye --nope data/data-colon-cancer-t3-a.ttl data/t3.ttl parkinson/gps-desc.n3 parkinson/score-calculation.n3 colon-cancer/gps-desc.n3 colon-cancer/gps-knowledge.n3 path/initial-aggreagated-path-t3-a.n3 engine/gps-plugin-aggregated-path-processing.n3 --tactic limited-answer 1 --query engine/gps-aggregation-query.n3q\n",
      "EYE v18.0214.2047 josd\n",
      "SWI-Prolog 7.6.4 (x64-win64): Jan 12 2018, 14:06:18\n",
      "starting 31 [msec cputime] 136 [msec walltime]\n",
      "GET file:///d:/users/axifx/documents/github/restdesc/gps4ic/mockup-data/demo/data/data-colon-cancer-t3-a.ttl translating file:///d:/users/axifx/documents/github/restdesc/gps4ic/mockup-data/demo/data/data-colon-cancer-t3-a.ttl\n",
      "Done: translated 25 triples in 1.0 ms (24998 triples/s)\n",
      "SC=25\n",
      "GET file:///d:/users/axifx/documents/github/restdesc/gps4ic/mockup-data/demo/data/t3.ttl translating file:///d:/users/axifx/documents/github/restdesc/gps4ic/mockup-data/demo/data/t3.ttl\n",
      "Done: translated 1 triples in 1.0 ms (1000 triples/s)\n",
      "SC=1\n",
      "GET file:///d:/users/axifx/documents/github/restdesc/gps4ic/mockup-data/demo/parkinson/gps-desc.n3 translating file:///d:/users/axifx/documents/github/restdesc/gps4ic/mockup-data/demo/parkinson/gps-desc.n3\n",
      "Done: translated 32 triples in 2.0 ms (15998 triples/s)\n",
      "SC=32\n",
      "GET file:///d:/users/axifx/documents/github/restdesc/gps4ic/mockup-data/demo/parkinson/score-calculation.n3 translating file:///d:/users/axifx/documents/github/restdesc/gps4ic/mockup-data/demo/parkinson/score-calculation.n3\n",
      "Done: translated 7 triples in 1.0 ms (6999 triples/s)\n",
      "SC=7\n",
      "GET file:///d:/users/axifx/documents/github/restdesc/gps4ic/mockup-data/demo/colon-cancer/gps-desc.n3 translating file:///d:/users/axifx/documents/github/restdesc/gps4ic/mockup-data/demo/colon-cancer/gps-desc.n3\n",
      "Done: translated 92 triples in 1.0 ms (91991 triples/s)\n",
      "SC=92\n",
      "GET file:///d:/users/axifx/documents/github/restdesc/gps4ic/mockup-data/demo/colon-cancer/gps-knowledge.n3 translating file:///d:/users/axifx/documents/github/restdesc/gps4ic/mockup-data/demo/colon-cancer/gps-knowledge.n3\n",
      "Done: translated 62 triples in 1.0 ms (61994 triples/s)\n",
      "SC=62\n",
      "GET file:///d:/users/axifx/documents/github/restdesc/gps4ic/mockup-data/demo/path/initial-aggreagated-path-t3-a.n3 translating file:///d:/users/axifx/documents/github/restdesc/gps4ic/mockup-data/demo/path/initial-aggreagated-path-t3-a.n3\n",
      "Done: translated 5 triples in 1.0 ms (5000 triples/s)\n",
      "SC=5\n",
      "GET file:///d:/users/axifx/documents/github/restdesc/gps4ic/mockup-data/demo/engine/gps-plugin-aggregated-path-processing.n3 translating file:///d:/users/axifx/documents/github/restdesc/gps4ic/mockup-data/demo/engine/gps-plugin-aggregated-path-processing.n3\n",
      "Done: translated 94 triples in 3.0 ms (31330 triples/s)\n",
      "SC=94\n",
      "GET file:///d:/users/axifx/documents/github/restdesc/gps4ic/mockup-data/demo/engine/gps-aggregation-query.n3q translating file:///d:/users/axifx/documents/github/restdesc/gps4ic/mockup-data/demo/engine/gps-aggregation-query.n3q\n",
      "Done: translated 3 triples in 2.0 ms (1500 triples/s)\n",
      "SC=3\n",
      "networking 15 [msec cputime] 297 [msec walltime]\n",
      "reasoning 32 [msec cputime] 34 [msec walltime]\n",
      "2018-03-15T17:07:22.593Z in=321 out=1 ent=2 step=2 brake=3 inf=96904 sec=0.078 inf/sec=1242359\n",
      "\n",
      "eye --nope data/data-colon-cancer-t3-b.ttl data/t3.ttl parkinson/gps-desc.n3 parkinson/score-calculation.n3 colon-cancer/gps-desc.n3 colon-cancer/gps-knowledge.n3 path/initial-aggreagated-path-t3-b.n3 engine/gps-plugin-aggregated-path-processing.n3 --tactic limited-answer 1 --query engine/gps-aggregation-query.n3q\n",
      "EYE v18.0214.2047 josd\n",
      "SWI-Prolog 7.6.4 (x64-win64): Jan 12 2018, 14:06:18\n",
      "starting 31 [msec cputime] 175 [msec walltime]\n",
      "GET file:///d:/users/axifx/documents/github/restdesc/gps4ic/mockup-data/demo/data/data-colon-cancer-t3-b.ttl translating file:///d:/users/axifx/documents/github/restdesc/gps4ic/mockup-data/demo/data/data-colon-cancer-t3-b.ttl\n",
      "Done: translated 25 triples in 1.0 ms (24998 triples/s)\n",
      "SC=25\n",
      "GET file:///d:/users/axifx/documents/github/restdesc/gps4ic/mockup-data/demo/data/t3.ttl translating file:///d:/users/axifx/documents/github/restdesc/gps4ic/mockup-data/demo/data/t3.ttl\n",
      "Done: translated 1 triples\n",
      "SC=1\n",
      "GET file:///d:/users/axifx/documents/github/restdesc/gps4ic/mockup-data/demo/parkinson/gps-desc.n3 translating file:///d:/users/axifx/documents/github/restdesc/gps4ic/mockup-data/demo/parkinson/gps-desc.n3\n",
      "Done: translated 32 triples in 1.0 ms (31997 triples/s)\n",
      "SC=32\n",
      "GET file:///d:/users/axifx/documents/github/restdesc/gps4ic/mockup-data/demo/parkinson/score-calculation.n3 translating file:///d:/users/axifx/documents/github/restdesc/gps4ic/mockup-data/demo/parkinson/score-calculation.n3\n",
      "Done: translated 7 triples\n",
      "SC=7\n",
      "GET file:///d:/users/axifx/documents/github/restdesc/gps4ic/mockup-data/demo/colon-cancer/gps-desc.n3 translating file:///d:/users/axifx/documents/github/restdesc/gps4ic/mockup-data/demo/colon-cancer/gps-desc.n3\n",
      "Done: translated 92 triples in 1.0 ms (91991 triples/s)\n",
      "SC=92\n",
      "GET file:///d:/users/axifx/documents/github/restdesc/gps4ic/mockup-data/demo/colon-cancer/gps-knowledge.n3 translating file:///d:/users/axifx/documents/github/restdesc/gps4ic/mockup-data/demo/colon-cancer/gps-knowledge.n3\n",
      "Done: translated 62 triples in 1.0 ms (61994 triples/s)\n",
      "SC=62\n",
      "GET file:///d:/users/axifx/documents/github/restdesc/gps4ic/mockup-data/demo/path/initial-aggreagated-path-t3-b.n3 translating file:///d:/users/axifx/documents/github/restdesc/gps4ic/mockup-data/demo/path/initial-aggreagated-path-t3-b.n3\n",
      "Done: translated 5 triples in 1.0 ms (5000 triples/s)\n",
      "SC=5\n",
      "GET file:///d:/users/axifx/documents/github/restdesc/gps4ic/mockup-data/demo/engine/gps-plugin-aggregated-path-processing.n3 translating file:///d:/users/axifx/documents/github/restdesc/gps4ic/mockup-data/demo/engine/gps-plugin-aggregated-path-processing.n3\n",
      "Done: translated 94 triples in 1.0 ms (93991 triples/s)\n",
      "SC=94\n",
      "GET file:///d:/users/axifx/documents/github/restdesc/gps4ic/mockup-data/demo/engine/gps-aggregation-query.n3q translating file:///d:/users/axifx/documents/github/restdesc/gps4ic/mockup-data/demo/engine/gps-aggregation-query.n3q\n",
      "Done: translated 3 triples in 1.0 ms (3000 triples/s)\n",
      "SC=3\n",
      "networking 0 [msec cputime] 247 [msec walltime]\n",
      "reasoning 15 [msec cputime] 20 [msec walltime]\n",
      "2018-03-15T17:07:23.131Z in=321 out=1 ent=2 step=2 brake=3 inf=96840 sec=0.046 inf/sec=2105217\n",
      "\n"
     ]
    }
   ],
   "source": [
    "!eye --nope data/data-colon-cancer-t3-b.ttl data/t3.ttl parkinson/gps-desc.n3 parkinson/score-calculation.n3  colon-cancer/gps-desc.n3 colon-cancer/gps-knowledge.n3 path/initial-aggreagated-path-t3-b.n3 engine/gps-plugin-aggregated-path-processing.n3 --tactic limited-answer 1 --query engine/gps-aggregation-query.n3q > path/aggreagatedPath-t3-b.n3"
   ]
  },
  {
   "cell_type": "markdown",
   "metadata": {
    "colab_type": "text",
    "id": "B8ZgSskd-p4n"
   },
   "source": [
    "### validate the aggregated path, both goals are validated"
   ]
  },
  {
   "cell_type": "code",
   "execution_count": null,
   "metadata": {
    "colab": {},
    "colab_type": "code",
    "id": "VdPc6JoN-p40"
   },
   "outputs": [],
   "source": [
    "#!eye --nope data/data-colon-cancer-t3-a.ttl data/t3.ttl parkinson/gps-desc.n3 parkinson/score-calculation.n3  colon-cancer/gps-desc.n3 colon-cancer/gps-knowledge.n3 path/aggreagatedPath-t3-a.n3 engine/gps-plugin-validation.n3 --query parkinson/gps-goal-parkinson.n3q\n",
    "\n",
    "#!eye --nope data/data-colon-cancer-t3-a.ttl data/t3.ttl parkinson/gps-desc.n3 parkinson/score-calculation.n3  colon-cancer/gps-desc.n3 colon-cancer/gps-knowledge.n3 path/aggreagatedPath-t3-a.n3 engine/gps-plugin-validation.n3 --query colon-cancer/gps-query.n3\n",
    "\n",
    "#!eye --nope data/data-colon-cancer-t3-b.ttl data/t3.ttl parkinson/gps-desc.n3 parkinson/score-calculation.n3  colon-cancer/gps-desc.n3 colon-cancer/gps-knowledge.n3 path/aggreagatedPath-t3-b.n3 engine/gps-plugin-validation.n3 --query parkinson/gps-goal-parkinson.n3q\n",
    "\n",
    "#!eye --nope data/data-colon-cancer-t3-b.ttl data/t3.ttl parkinson/gps-desc.n3 parkinson/score-calculation.n3  colon-cancer/gps-desc.n3 colon-cancer/gps-knowledge.n3 path/aggreagatedPath-t3-b.n3 engine/gps-plugin-validation.n3 --query colon-cancer/gps-query.n3"
   ]
  },
  {
   "cell_type": "markdown",
   "metadata": {
    "colab_type": "text",
    "id": "xAScOUj6-p44"
   },
   "source": [
    "### process the aggregated path to provide a better visualization with excel"
   ]
  },
  {
   "cell_type": "code",
   "execution_count": null,
   "metadata": {
    "colab": {},
    "colab_type": "code",
    "id": "DLgOlS-T-p44",
    "outputId": "5c0da2d0-4899-4bb7-fcd8-7d62ef0e6c2f"
   },
   "outputs": [
    {
     "name": "stderr",
     "output_type": "stream",
     "text": [
      "eye --nope path/aggreagatedPath-t3-a.n3 --query engine/path-processor.csvq --strings\n",
      "EYE v18.0214.2047 josd\n",
      "SWI-Prolog 7.6.4 (x64-win64): Jan 12 2018, 14:06:18\n",
      "starting 46 [msec cputime] 134 [msec walltime]\n",
      "GET file:///d:/users/axifx/documents/github/restdesc/gps4ic/mockup-data/demo/path/aggreagatedpath-t3-a.n3 translating file:///d:/users/axifx/documents/github/restdesc/gps4ic/mockup-data/demo/path/aggreagatedpath-t3-a.n3\n",
      "Done: translated 22 triples in 1.0 ms (21998 triples/s)\n",
      "SC=22\n",
      "GET file:///d:/users/axifx/documents/github/restdesc/gps4ic/mockup-data/demo/engine/path-processor.csvq translating file:///d:/users/axifx/documents/github/restdesc/gps4ic/mockup-data/demo/engine/path-processor.csvq\n",
      "Done: translated 13 triples in 1.0 ms (12999 triples/s)\n",
      "SC=13\n",
      "networking 0 [msec cputime] 70 [msec walltime]\n",
      "reasoning 16 [msec cputime] 6 [msec walltime]\n",
      "2018-03-15T17:07:23.431Z in=35 out=42 ent=0 step=0 brake=1 inf=35143 sec=0.062 inf/sec=566823\n",
      "\n"
     ]
    },
    {
     "data": {
      "text/html": [
       "<div>\n",
       "<style>\n",
       "    .dataframe thead tr:only-child th {\n",
       "        text-align: right;\n",
       "    }\n",
       "\n",
       "    .dataframe thead th {\n",
       "        text-align: left;\n",
       "    }\n",
       "\n",
       "    .dataframe tbody tr th {\n",
       "        vertical-align: top;\n",
       "    }\n",
       "</style>\n",
       "<table border=\"1\" class=\"dataframe\">\n",
       "  <thead>\n",
       "    <tr style=\"text-align: right;\">\n",
       "      <th></th>\n",
       "      <th>Action</th>\n",
       "      <th>start_time</th>\n",
       "      <th>end_time</th>\n",
       "      <th>state</th>\n",
       "      <th>due_time</th>\n",
       "      <th>graph_retract</th>\n",
       "      <th>graph_assert</th>\n",
       "    </tr>\n",
       "  </thead>\n",
       "  <tbody>\n",
       "    <tr>\n",
       "      <th>0</th>\n",
       "      <td>http://josd.github.io/fluid/gps/action#take_pill_Pramipexol</td>\n",
       "      <td>2018-04-07T14:52:21.0Z</td>\n",
       "      <td>2018-06-06T14:52:21.0Z</td>\n",
       "      <td>http://josd.github.io/fluid/gps/gps-schema#start</td>\n",
       "      <td>2018-04-07T14:52:21.0Z</td>\n",
       "      <td>{data:patient_1 care:updrs_score 10.5}</td>\n",
       "      <td>NaN</td>\n",
       "    </tr>\n",
       "    <tr>\n",
       "      <th>1</th>\n",
       "      <td>http://josd.github.io/fluid/gps/action#surgery_colon_cancer</td>\n",
       "      <td>2018-04-12T14:50:33Z</td>\n",
       "      <td>2018-04-17T14:50:33.0Z</td>\n",
       "      <td>http://josd.github.io/fluid/gps/gps-schema#start</td>\n",
       "      <td>2018-04-12T14:50:33Z</td>\n",
       "      <td>{data:patient_1 care:tumor_size 40 . data:patient_1 care:metastasis_risk 0.4 . data:patient_1 &lt;http://josd.github.io/fluid/gps/care#5yr_survival_rate&gt; 0.2 . data:patient_1 care:non_toxicity 1 . data:patient_1 &lt;http://josd.github.io/fluid/gps/care#5yr_local_relapse_risk&gt; 0}</td>\n",
       "      <td>NaN</td>\n",
       "    </tr>\n",
       "    <tr>\n",
       "      <th>2</th>\n",
       "      <td>http://josd.github.io/fluid/gps/action#surgery_colon_cancer</td>\n",
       "      <td>2018-04-12T14:50:33Z</td>\n",
       "      <td>2018-04-17T14:50:33.0Z</td>\n",
       "      <td>http://josd.github.io/fluid/gps/gps-schema#end</td>\n",
       "      <td>2018-04-17T14:50:33.0Z</td>\n",
       "      <td>NaN</td>\n",
       "      <td>{data:patient_1 care:tumor_size 0 . data:patient_1 care:metastasis_risk 0.04000000000000001 . data:patient_1 &lt;http://josd.github.io/fluid/gps/care#5yr_survival_rate&gt; 0.84 . data:patient_1 care:non_toxicity 0.95 . data:patient_1 care:taken action:surgery_colon_cancer. data:patient_1 &lt;http://josd.github.io/fluid/gps/care#5yr_local_relapse_risk&gt; 0.2}</td>\n",
       "    </tr>\n",
       "    <tr>\n",
       "      <th>3</th>\n",
       "      <td>http://josd.github.io/fluid/gps/action#Adjuvant_chemoradiotherapy</td>\n",
       "      <td>2018-04-17T14:50:33.0Z</td>\n",
       "      <td>2018-07-06T14:50:33.0Z</td>\n",
       "      <td>http://josd.github.io/fluid/gps/gps-schema#start</td>\n",
       "      <td>2018-04-17T14:50:33.0Z</td>\n",
       "      <td>{data:patient_1 care:metastasis_risk 0.04000000000000001 . data:patient_1 &lt;http://josd.github.io/fluid/gps/care#5yr_survival_rate&gt; 0.84 . data:patient_1 care:non_toxicity 0.95}</td>\n",
       "      <td>NaN</td>\n",
       "    </tr>\n",
       "    <tr>\n",
       "      <th>4</th>\n",
       "      <td>http://josd.github.io/fluid/gps/action#take_pill_Pramipexol</td>\n",
       "      <td>2018-04-07T14:52:21.0Z</td>\n",
       "      <td>2018-06-06T14:52:21.0Z</td>\n",
       "      <td>http://josd.github.io/fluid/gps/gps-schema#end</td>\n",
       "      <td>2018-06-06T14:52:21.0Z</td>\n",
       "      <td>NaN</td>\n",
       "      <td>{data:patient_1 care:updrs_score 9.2}</td>\n",
       "    </tr>\n",
       "    <tr>\n",
       "      <th>5</th>\n",
       "      <td>http://josd.github.io/fluid/gps/action#Adjuvant_chemoradiotherapy</td>\n",
       "      <td>2018-04-17T14:50:33.0Z</td>\n",
       "      <td>2018-07-06T14:50:33.0Z</td>\n",
       "      <td>http://josd.github.io/fluid/gps/gps-schema#end</td>\n",
       "      <td>2018-07-06T14:50:33.0Z</td>\n",
       "      <td>NaN</td>\n",
       "      <td>{data:patient_1 care:metastasis_risk 0.020000000000000004 . data:patient_1 &lt;http://josd.github.io/fluid/gps/care#5yr_survival_rate&gt; 0.9199999999999999 . data:patient_1 care:non_toxicity 0.57 . data:patient_1 care:taken action:Adjuvant_chemoradiotherapy. data:patient_1 &lt;http://josd.github.io/fluid/gps/care#5yr_local_relapse_risk&gt; 0.16000000000000003}</td>\n",
       "    </tr>\n",
       "  </tbody>\n",
       "</table>\n",
       "</div>"
      ],
      "text/plain": [
       "                                                              Action  \\\n",
       "0  http://josd.github.io/fluid/gps/action#take_pill_Pramipexol         \n",
       "1  http://josd.github.io/fluid/gps/action#surgery_colon_cancer         \n",
       "2  http://josd.github.io/fluid/gps/action#surgery_colon_cancer         \n",
       "3  http://josd.github.io/fluid/gps/action#Adjuvant_chemoradiotherapy   \n",
       "4  http://josd.github.io/fluid/gps/action#take_pill_Pramipexol         \n",
       "5  http://josd.github.io/fluid/gps/action#Adjuvant_chemoradiotherapy   \n",
       "\n",
       "               start_time                end_time  \\\n",
       "0  2018-04-07T14:52:21.0Z  2018-06-06T14:52:21.0Z   \n",
       "1  2018-04-12T14:50:33Z    2018-04-17T14:50:33.0Z   \n",
       "2  2018-04-12T14:50:33Z    2018-04-17T14:50:33.0Z   \n",
       "3  2018-04-17T14:50:33.0Z  2018-07-06T14:50:33.0Z   \n",
       "4  2018-04-07T14:52:21.0Z  2018-06-06T14:52:21.0Z   \n",
       "5  2018-04-17T14:50:33.0Z  2018-07-06T14:50:33.0Z   \n",
       "\n",
       "                                              state                due_time  \\\n",
       "0  http://josd.github.io/fluid/gps/gps-schema#start  2018-04-07T14:52:21.0Z   \n",
       "1  http://josd.github.io/fluid/gps/gps-schema#start  2018-04-12T14:50:33Z     \n",
       "2  http://josd.github.io/fluid/gps/gps-schema#end    2018-04-17T14:50:33.0Z   \n",
       "3  http://josd.github.io/fluid/gps/gps-schema#start  2018-04-17T14:50:33.0Z   \n",
       "4  http://josd.github.io/fluid/gps/gps-schema#end    2018-06-06T14:52:21.0Z   \n",
       "5  http://josd.github.io/fluid/gps/gps-schema#end    2018-07-06T14:50:33.0Z   \n",
       "\n",
       "                                                                                                                                                                                                                                                                       graph_retract  \\\n",
       "0  {data:patient_1 care:updrs_score 10.5}                                                                                                                                                                                                                                              \n",
       "1  {data:patient_1 care:tumor_size 40 . data:patient_1 care:metastasis_risk 0.4 . data:patient_1 <http://josd.github.io/fluid/gps/care#5yr_survival_rate> 0.2 . data:patient_1 care:non_toxicity 1 . data:patient_1 <http://josd.github.io/fluid/gps/care#5yr_local_relapse_risk> 0}   \n",
       "2  NaN                                                                                                                                                                                                                                                                                 \n",
       "3  {data:patient_1 care:metastasis_risk 0.04000000000000001 . data:patient_1 <http://josd.github.io/fluid/gps/care#5yr_survival_rate> 0.84 . data:patient_1 care:non_toxicity 0.95}                                                                                                    \n",
       "4  NaN                                                                                                                                                                                                                                                                                 \n",
       "5  NaN                                                                                                                                                                                                                                                                                 \n",
       "\n",
       "                                                                                                                                                                                                                                                                                                                                                      graph_assert  \n",
       "0  NaN                                                                                                                                                                                                                                                                                                                                                              \n",
       "1  NaN                                                                                                                                                                                                                                                                                                                                                              \n",
       "2  {data:patient_1 care:tumor_size 0 . data:patient_1 care:metastasis_risk 0.04000000000000001 . data:patient_1 <http://josd.github.io/fluid/gps/care#5yr_survival_rate> 0.84 . data:patient_1 care:non_toxicity 0.95 . data:patient_1 care:taken action:surgery_colon_cancer. data:patient_1 <http://josd.github.io/fluid/gps/care#5yr_local_relapse_risk> 0.2}    \n",
       "3  NaN                                                                                                                                                                                                                                                                                                                                                              \n",
       "4  {data:patient_1 care:updrs_score 9.2}                                                                                                                                                                                                                                                                                                                            \n",
       "5  {data:patient_1 care:metastasis_risk 0.020000000000000004 . data:patient_1 <http://josd.github.io/fluid/gps/care#5yr_survival_rate> 0.9199999999999999 . data:patient_1 care:non_toxicity 0.57 . data:patient_1 care:taken action:Adjuvant_chemoradiotherapy. data:patient_1 <http://josd.github.io/fluid/gps/care#5yr_local_relapse_risk> 0.16000000000000003}  "
      ]
     },
     "execution_count": 91,
     "metadata": {
      "tags": []
     },
     "output_type": "execute_result"
    }
   ],
   "source": [
    "!eye --nope path/aggreagatedPath-t3-a.n3 --query engine/path-processor.csvq --strings >path/aggreagatedPath-t3-a.csv\n",
    "\n",
    "pd.read_csv('path/aggreagatedPath-t3-a.csv', sep=',', encoding = 'utf-8')"
   ]
  },
  {
   "cell_type": "code",
   "execution_count": null,
   "metadata": {
    "colab": {},
    "colab_type": "code",
    "id": "I9LaBNSS-p46",
    "outputId": "abb42939-1a3b-4233-c650-e8f916c72435"
   },
   "outputs": [
    {
     "name": "stderr",
     "output_type": "stream",
     "text": [
      "eye --nope path/aggreagatedPath-t3-b.n3 --query engine/path-processor.csvq --strings\n",
      "EYE v18.0214.2047 josd\n",
      "SWI-Prolog 7.6.4 (x64-win64): Jan 12 2018, 14:06:18\n",
      "starting 62 [msec cputime] 174 [msec walltime]\n",
      "GET file:///d:/users/axifx/documents/github/restdesc/gps4ic/mockup-data/demo/path/aggreagatedpath-t3-b.n3 translating file:///d:/users/axifx/documents/github/restdesc/gps4ic/mockup-data/demo/path/aggreagatedpath-t3-b.n3\n",
      "Done: translated 23 triples in 1.0 ms (22998 triples/s)\n",
      "SC=23\n",
      "GET file:///d:/users/axifx/documents/github/restdesc/gps4ic/mockup-data/demo/engine/path-processor.csvq translating file:///d:/users/axifx/documents/github/restdesc/gps4ic/mockup-data/demo/engine/path-processor.csvq\n",
      "Done: translated 13 triples in 1.0 ms (12999 triples/s)\n",
      "SC=13\n",
      "networking 0 [msec cputime] 56 [msec walltime]\n",
      "reasoning 0 [msec cputime] 3 [msec walltime]\n",
      "2018-03-15T17:07:23.769Z in=36 out=42 ent=0 step=0 brake=1 inf=34858 sec=0.062 inf/sec=562226\n",
      "\n"
     ]
    },
    {
     "data": {
      "text/html": [
       "<div>\n",
       "<style>\n",
       "    .dataframe thead tr:only-child th {\n",
       "        text-align: right;\n",
       "    }\n",
       "\n",
       "    .dataframe thead th {\n",
       "        text-align: left;\n",
       "    }\n",
       "\n",
       "    .dataframe tbody tr th {\n",
       "        vertical-align: top;\n",
       "    }\n",
       "</style>\n",
       "<table border=\"1\" class=\"dataframe\">\n",
       "  <thead>\n",
       "    <tr style=\"text-align: right;\">\n",
       "      <th></th>\n",
       "      <th>Action</th>\n",
       "      <th>start_time</th>\n",
       "      <th>end_time</th>\n",
       "      <th>state</th>\n",
       "      <th>due_time</th>\n",
       "      <th>graph_retract</th>\n",
       "      <th>graph_assert</th>\n",
       "    </tr>\n",
       "  </thead>\n",
       "  <tbody>\n",
       "    <tr>\n",
       "      <th>0</th>\n",
       "      <td>http://josd.github.io/fluid/gps/action#take_pill_Pramipexol</td>\n",
       "      <td>2018-04-07T14:52:21.0Z</td>\n",
       "      <td>2018-06-06T14:52:21.0Z</td>\n",
       "      <td>http://josd.github.io/fluid/gps/gps-schema#start</td>\n",
       "      <td>2018-04-07T14:52:21.0Z</td>\n",
       "      <td>{data:patient_1 care:updrs_score 10.5}</td>\n",
       "      <td>NaN</td>\n",
       "    </tr>\n",
       "    <tr>\n",
       "      <th>1</th>\n",
       "      <td>http://josd.github.io/fluid/gps/action#Neoadjuvant_chemoradiotherapy</td>\n",
       "      <td>2018-04-12T14:50:33Z</td>\n",
       "      <td>2018-06-01T14:50:33.0Z</td>\n",
       "      <td>http://josd.github.io/fluid/gps/gps-schema#start</td>\n",
       "      <td>2018-04-12T14:50:33Z</td>\n",
       "      <td>{data:patient_1 care:tumor_size 40 . data:patient_1 care:metastasis_risk 0.4 . data:patient_1 &lt;http://josd.github.io/fluid/gps/care#5yr_survival_rate&gt; 0.2 . data:patient_1 care:non_toxicity 1}</td>\n",
       "      <td>NaN</td>\n",
       "    </tr>\n",
       "    <tr>\n",
       "      <th>2</th>\n",
       "      <td>http://josd.github.io/fluid/gps/action#Neoadjuvant_chemoradiotherapy</td>\n",
       "      <td>2018-04-12T14:50:33Z</td>\n",
       "      <td>2018-06-01T14:50:33.0Z</td>\n",
       "      <td>http://josd.github.io/fluid/gps/gps-schema#end</td>\n",
       "      <td>2018-06-01T14:50:33.0Z</td>\n",
       "      <td>NaN</td>\n",
       "      <td>{data:patient_1 care:tumor_size 28.0 . data:patient_1 care:metastasis_risk 0.2 . data:patient_1 &lt;http://josd.github.io/fluid/gps/care#5yr_survival_rate&gt; 0.6 . data:patient_1 care:non_toxicity 0.73 . data:patient_1 care:taken action:Neoadjuvant_chemoradiotherapy}</td>\n",
       "    </tr>\n",
       "    <tr>\n",
       "      <th>3</th>\n",
       "      <td>http://josd.github.io/fluid/gps/action#surgery_colon_cancer</td>\n",
       "      <td>2018-06-01T14:50:33.0Z</td>\n",
       "      <td>2018-06-06T14:50:33.0Z</td>\n",
       "      <td>http://josd.github.io/fluid/gps/gps-schema#start</td>\n",
       "      <td>2018-06-01T14:50:33.0Z</td>\n",
       "      <td>{data:patient_1 care:tumor_size 28.0 . data:patient_1 care:metastasis_risk 0.2 . data:patient_1 &lt;http://josd.github.io/fluid/gps/care#5yr_survival_rate&gt; 0.6 . data:patient_1 care:non_toxicity 0.73 . data:patient_1 &lt;http://josd.github.io/fluid/gps/care#5yr_local_relapse_risk&gt; 0}</td>\n",
       "      <td>NaN</td>\n",
       "    </tr>\n",
       "    <tr>\n",
       "      <th>4</th>\n",
       "      <td>http://josd.github.io/fluid/gps/action#surgery_colon_cancer</td>\n",
       "      <td>2018-06-01T14:50:33.0Z</td>\n",
       "      <td>2018-06-06T14:50:33.0Z</td>\n",
       "      <td>http://josd.github.io/fluid/gps/gps-schema#end</td>\n",
       "      <td>2018-06-06T14:50:33.0Z</td>\n",
       "      <td>NaN</td>\n",
       "      <td>{data:patient_1 care:tumor_size 0 . data:patient_1 care:metastasis_risk 0.020000000000000004 . data:patient_1 &lt;http://josd.github.io/fluid/gps/care#5yr_survival_rate&gt; 0.9199999999999999 . data:patient_1 care:non_toxicity 0.6935 . data:patient_1 care:taken action:surgery_colon_cancer. data:patient_1 &lt;http://josd.github.io/fluid/gps/care#5yr_local_relapse_risk&gt; 0.06}</td>\n",
       "    </tr>\n",
       "    <tr>\n",
       "      <th>5</th>\n",
       "      <td>http://josd.github.io/fluid/gps/action#take_pill_Pramipexol</td>\n",
       "      <td>2018-04-07T14:52:21.0Z</td>\n",
       "      <td>2018-06-06T14:52:21.0Z</td>\n",
       "      <td>http://josd.github.io/fluid/gps/gps-schema#end</td>\n",
       "      <td>2018-06-06T14:52:21.0Z</td>\n",
       "      <td>NaN</td>\n",
       "      <td>{data:patient_1 care:updrs_score 9.2}</td>\n",
       "    </tr>\n",
       "  </tbody>\n",
       "</table>\n",
       "</div>"
      ],
      "text/plain": [
       "                                                                 Action  \\\n",
       "0  http://josd.github.io/fluid/gps/action#take_pill_Pramipexol            \n",
       "1  http://josd.github.io/fluid/gps/action#Neoadjuvant_chemoradiotherapy   \n",
       "2  http://josd.github.io/fluid/gps/action#Neoadjuvant_chemoradiotherapy   \n",
       "3  http://josd.github.io/fluid/gps/action#surgery_colon_cancer            \n",
       "4  http://josd.github.io/fluid/gps/action#surgery_colon_cancer            \n",
       "5  http://josd.github.io/fluid/gps/action#take_pill_Pramipexol            \n",
       "\n",
       "               start_time                end_time  \\\n",
       "0  2018-04-07T14:52:21.0Z  2018-06-06T14:52:21.0Z   \n",
       "1  2018-04-12T14:50:33Z    2018-06-01T14:50:33.0Z   \n",
       "2  2018-04-12T14:50:33Z    2018-06-01T14:50:33.0Z   \n",
       "3  2018-06-01T14:50:33.0Z  2018-06-06T14:50:33.0Z   \n",
       "4  2018-06-01T14:50:33.0Z  2018-06-06T14:50:33.0Z   \n",
       "5  2018-04-07T14:52:21.0Z  2018-06-06T14:52:21.0Z   \n",
       "\n",
       "                                              state                due_time  \\\n",
       "0  http://josd.github.io/fluid/gps/gps-schema#start  2018-04-07T14:52:21.0Z   \n",
       "1  http://josd.github.io/fluid/gps/gps-schema#start  2018-04-12T14:50:33Z     \n",
       "2  http://josd.github.io/fluid/gps/gps-schema#end    2018-06-01T14:50:33.0Z   \n",
       "3  http://josd.github.io/fluid/gps/gps-schema#start  2018-06-01T14:50:33.0Z   \n",
       "4  http://josd.github.io/fluid/gps/gps-schema#end    2018-06-06T14:50:33.0Z   \n",
       "5  http://josd.github.io/fluid/gps/gps-schema#end    2018-06-06T14:52:21.0Z   \n",
       "\n",
       "                                                                                                                                                                                                                                                                            graph_retract  \\\n",
       "0  {data:patient_1 care:updrs_score 10.5}                                                                                                                                                                                                                                                   \n",
       "1  {data:patient_1 care:tumor_size 40 . data:patient_1 care:metastasis_risk 0.4 . data:patient_1 <http://josd.github.io/fluid/gps/care#5yr_survival_rate> 0.2 . data:patient_1 care:non_toxicity 1}                                                                                         \n",
       "2  NaN                                                                                                                                                                                                                                                                                      \n",
       "3  {data:patient_1 care:tumor_size 28.0 . data:patient_1 care:metastasis_risk 0.2 . data:patient_1 <http://josd.github.io/fluid/gps/care#5yr_survival_rate> 0.6 . data:patient_1 care:non_toxicity 0.73 . data:patient_1 <http://josd.github.io/fluid/gps/care#5yr_local_relapse_risk> 0}   \n",
       "4  NaN                                                                                                                                                                                                                                                                                      \n",
       "5  NaN                                                                                                                                                                                                                                                                                      \n",
       "\n",
       "                                                                                                                                                                                                                                                                                                                                                                      graph_assert  \n",
       "0  NaN                                                                                                                                                                                                                                                                                                                                                                              \n",
       "1  NaN                                                                                                                                                                                                                                                                                                                                                                              \n",
       "2  {data:patient_1 care:tumor_size 28.0 . data:patient_1 care:metastasis_risk 0.2 . data:patient_1 <http://josd.github.io/fluid/gps/care#5yr_survival_rate> 0.6 . data:patient_1 care:non_toxicity 0.73 . data:patient_1 care:taken action:Neoadjuvant_chemoradiotherapy}                                                                                                           \n",
       "3  NaN                                                                                                                                                                                                                                                                                                                                                                              \n",
       "4  {data:patient_1 care:tumor_size 0 . data:patient_1 care:metastasis_risk 0.020000000000000004 . data:patient_1 <http://josd.github.io/fluid/gps/care#5yr_survival_rate> 0.9199999999999999 . data:patient_1 care:non_toxicity 0.6935 . data:patient_1 care:taken action:surgery_colon_cancer. data:patient_1 <http://josd.github.io/fluid/gps/care#5yr_local_relapse_risk> 0.06}  \n",
       "5  {data:patient_1 care:updrs_score 9.2}                                                                                                                                                                                                                                                                                                                                            "
      ]
     },
     "execution_count": 92,
     "metadata": {
      "tags": []
     },
     "output_type": "execute_result"
    }
   ],
   "source": [
    "!eye --nope path/aggreagatedPath-t3-b.n3 --query engine/path-processor.csvq --strings >path/aggreagatedPath-t3-b.csv\n",
    "\n",
    "pd.read_csv('path/aggreagatedPath-t3-b.csv', sep=',', encoding = 'utf-8')"
   ]
  },
  {
   "cell_type": "markdown",
   "metadata": {
    "colab_type": "text",
    "id": "ynS5G2Nt-p48"
   },
   "source": [
    "### process the aggregated path to provide a better visualization with plotly"
   ]
  },
  {
   "cell_type": "code",
   "execution_count": null,
   "metadata": {
    "colab": {},
    "colab_type": "code",
    "id": "KoIIrLxu-p49",
    "outputId": "c3dbe39e-35af-4864-ebed-b5b97c0317ba"
   },
   "outputs": [
    {
     "name": "stderr",
     "output_type": "stream",
     "text": [
      "eye --nope path/aggreagatedPath-t3-a.n3 parkinson/gps-desc.n3 colon-cancer/gps-desc.n3 engine/path-processor-visual.n3 --query engine/path-processor-visual.csvq --strings\n",
      "EYE v18.0214.2047 josd\n",
      "SWI-Prolog 7.6.4 (x64-win64): Jan 12 2018, 14:06:18\n",
      "starting 46 [msec cputime] 133 [msec walltime]\n",
      "GET file:///d:/users/axifx/documents/github/restdesc/gps4ic/mockup-data/demo/path/aggreagatedpath-t3-a.n3 translating file:///d:/users/axifx/documents/github/restdesc/gps4ic/mockup-data/demo/path/aggreagatedpath-t3-a.n3\n",
      "Done: translated 22 triples in 1.0 ms (21998 triples/s)\n",
      "SC=22\n",
      "GET file:///d:/users/axifx/documents/github/restdesc/gps4ic/mockup-data/demo/parkinson/gps-desc.n3 translating file:///d:/users/axifx/documents/github/restdesc/gps4ic/mockup-data/demo/parkinson/gps-desc.n3\n",
      "Done: translated 32 triples in 2.0 ms (15998 triples/s)\n",
      "SC=32\n",
      "GET file:///d:/users/axifx/documents/github/restdesc/gps4ic/mockup-data/demo/colon-cancer/gps-desc.n3 translating file:///d:/users/axifx/documents/github/restdesc/gps4ic/mockup-data/demo/colon-cancer/gps-desc.n3\n",
      "Done: translated 92 triples in 2.0 ms (45995 triples/s)\n",
      "SC=92\n",
      "GET file:///d:/users/axifx/documents/github/restdesc/gps4ic/mockup-data/demo/engine/path-processor-visual.n3 translating file:///d:/users/axifx/documents/github/restdesc/gps4ic/mockup-data/demo/engine/path-processor-visual.n3\n",
      "Done: translated 17 triples in 1.0 ms (16998 triples/s)\n",
      "SC=17\n",
      "GET file:///d:/users/axifx/documents/github/restdesc/gps4ic/mockup-data/demo/engine/path-processor-visual.csvq translating file:///d:/users/axifx/documents/github/restdesc/gps4ic/mockup-data/demo/engine/path-processor-visual.csvq\n",
      "Done: translated 3 triples in 2.0 ms (1500 triples/s)\n",
      "SC=3\n",
      "networking 16 [msec cputime] 163 [msec walltime]\n",
      "reasoning 0 [msec cputime] 3 [msec walltime]\n",
      "2018-03-15T17:07:24.190Z in=166 out=12 ent=3 step=12 brake=2 inf=39744 sec=0.062 inf/sec=641032\n",
      "\n"
     ]
    },
    {
     "data": {
      "application/vnd.plotly.v1+json": {
       "data": [
        {
         "marker": {
          "color": "white"
         },
         "name": "",
         "x": [
          "2018-04-07T14:52:21.0Z",
          "2018-06-06T14:52:21.0Z"
         ],
         "y": [
          0,
          0
         ]
        },
        {
         "marker": {
          "color": "white"
         },
         "name": "",
         "x": [
          "2018-04-12T14:50:33Z",
          "2018-04-17T14:50:33.0Z"
         ],
         "y": [
          1,
          1
         ]
        },
        {
         "marker": {
          "color": "white"
         },
         "name": "",
         "x": [
          "2018-04-17T14:50:33.0Z",
          "2018-07-06T14:50:33.0Z"
         ],
         "y": [
          2,
          2
         ]
        },
        {
         "hoverinfo": "none",
         "marker": {
          "color": "rgb(0, 0, 220)",
          "size": 1
         },
         "name": "Colon_cancer",
         "showlegend": true,
         "x": [
          "2018-04-17T14:50:33.0Z",
          "2018-04-17T14:50:33.0Z"
         ],
         "y": [
          0,
          0
         ]
        },
        {
         "hoverinfo": "none",
         "marker": {
          "color": "rgb(0, 220, 0)",
          "size": 1
         },
         "name": "Parkinson",
         "showlegend": true,
         "x": [
          "2018-04-17T14:50:33.0Z",
          "2018-04-17T14:50:33.0Z"
         ],
         "y": [
          1,
          1
         ]
        }
       ],
       "layout": {
        "autosize": false,
        "height": 700,
        "hovermode": "closest",
        "margin": {
         "l": 200
        },
        "shapes": [
         {
          "fillcolor": "rgb(0, 220, 0)",
          "line": {
           "width": 0
          },
          "opacity": 1,
          "type": "rect",
          "x0": "2018-04-07T14:52:21.0Z",
          "x1": "2018-06-06T14:52:21.0Z",
          "xref": "x",
          "y0": -0.2,
          "y1": 0.2,
          "yref": "y"
         },
         {
          "fillcolor": "rgb(0, 0, 220)",
          "line": {
           "width": 0
          },
          "opacity": 1,
          "type": "rect",
          "x0": "2018-04-12T14:50:33Z",
          "x1": "2018-04-17T14:50:33.0Z",
          "xref": "x",
          "y0": 0.8,
          "y1": 1.2,
          "yref": "y"
         },
         {
          "fillcolor": "rgb(0, 0, 220)",
          "line": {
           "width": 0
          },
          "opacity": 1,
          "type": "rect",
          "x0": "2018-04-17T14:50:33.0Z",
          "x1": "2018-07-06T14:50:33.0Z",
          "xref": "x",
          "y0": 1.8,
          "y1": 2.2,
          "yref": "y"
         }
        ],
        "showlegend": true,
        "title": "Path-Parkinson-Colon-Cancer-a",
        "width": 1000,
        "xaxis": {
         "rangeselector": {
          "buttons": [
           {
            "count": 7,
            "label": "1w",
            "step": "day",
            "stepmode": "backward"
           },
           {
            "count": 1,
            "label": "1m",
            "step": "month",
            "stepmode": "backward"
           },
           {
            "count": 6,
            "label": "6m",
            "step": "month",
            "stepmode": "backward"
           },
           {
            "count": 1,
            "label": "YTD",
            "step": "year",
            "stepmode": "todate"
           },
           {
            "count": 1,
            "label": "1y",
            "step": "year",
            "stepmode": "backward"
           },
           {
            "step": "all"
           }
          ]
         },
         "showgrid": false,
         "type": "date",
         "zeroline": false
        },
        "yaxis": {
         "autorange": false,
         "range": [
          -1,
          4
         ],
         "showgrid": false,
         "ticktext": [
          "take_pill_Pramipexol",
          "surgery_colon_cancer",
          "Adjuvant_chemoradiotherapy"
         ],
         "tickvals": [
          0,
          1,
          2
         ],
         "zeroline": false
        }
       }
      },
      "text/html": [
       "<div id=\"450bf0f2-1629-4331-997d-c049a2051612\" style=\"height: 700px; width: 1000px;\" class=\"plotly-graph-div\"></div><script type=\"text/javascript\">require([\"plotly\"], function(Plotly) { window.PLOTLYENV=window.PLOTLYENV || {};window.PLOTLYENV.BASE_URL=\"https://plot.ly\";Plotly.newPlot(\"450bf0f2-1629-4331-997d-c049a2051612\", [{\"x\": [\"2018-04-07T14:52:21.0Z\", \"2018-06-06T14:52:21.0Z\"], \"y\": [0, 0], \"name\": \"\", \"marker\": {\"color\": \"white\"}}, {\"x\": [\"2018-04-12T14:50:33Z\", \"2018-04-17T14:50:33.0Z\"], \"y\": [1, 1], \"name\": \"\", \"marker\": {\"color\": \"white\"}}, {\"x\": [\"2018-04-17T14:50:33.0Z\", \"2018-07-06T14:50:33.0Z\"], \"y\": [2, 2], \"name\": \"\", \"marker\": {\"color\": \"white\"}}, {\"x\": [\"2018-04-17T14:50:33.0Z\", \"2018-04-17T14:50:33.0Z\"], \"y\": [0, 0], \"showlegend\": true, \"hoverinfo\": \"none\", \"name\": \"Colon_cancer\", \"marker\": {\"color\": \"rgb(0, 0, 220)\", \"size\": 1}}, {\"x\": [\"2018-04-17T14:50:33.0Z\", \"2018-04-17T14:50:33.0Z\"], \"y\": [1, 1], \"showlegend\": true, \"hoverinfo\": \"none\", \"name\": \"Parkinson\", \"marker\": {\"color\": \"rgb(0, 220, 0)\", \"size\": 1}}], {\"title\": \"Path-Parkinson-Colon-Cancer-a\", \"showlegend\": true, \"height\": 700, \"width\": 1000, \"shapes\": [{\"x0\": \"2018-04-07T14:52:21.0Z\", \"x1\": \"2018-06-06T14:52:21.0Z\", \"type\": \"rect\", \"xref\": \"x\", \"yref\": \"y\", \"opacity\": 1, \"line\": {\"width\": 0}, \"y0\": -0.2, \"y1\": 0.2, \"fillcolor\": \"rgb(0, 220, 0)\"}, {\"x0\": \"2018-04-12T14:50:33Z\", \"x1\": \"2018-04-17T14:50:33.0Z\", \"type\": \"rect\", \"xref\": \"x\", \"yref\": \"y\", \"opacity\": 1, \"line\": {\"width\": 0}, \"y0\": 0.8, \"y1\": 1.2, \"fillcolor\": \"rgb(0, 0, 220)\"}, {\"x0\": \"2018-04-17T14:50:33.0Z\", \"x1\": \"2018-07-06T14:50:33.0Z\", \"type\": \"rect\", \"xref\": \"x\", \"yref\": \"y\", \"opacity\": 1, \"line\": {\"width\": 0}, \"y0\": 1.8, \"y1\": 2.2, \"fillcolor\": \"rgb(0, 0, 220)\"}], \"hovermode\": \"closest\", \"yaxis\": {\"showgrid\": false, \"ticktext\": [\"take_pill_Pramipexol\", \"surgery_colon_cancer\", \"Adjuvant_chemoradiotherapy\"], \"tickvals\": [0, 1, 2], \"range\": [-1, 4], \"autorange\": false, \"zeroline\": false}, \"xaxis\": {\"showgrid\": false, \"zeroline\": false, \"rangeselector\": {\"buttons\": [{\"count\": 7, \"label\": \"1w\", \"step\": \"day\", \"stepmode\": \"backward\"}, {\"count\": 1, \"label\": \"1m\", \"step\": \"month\", \"stepmode\": \"backward\"}, {\"count\": 6, \"label\": \"6m\", \"step\": \"month\", \"stepmode\": \"backward\"}, {\"count\": 1, \"label\": \"YTD\", \"step\": \"year\", \"stepmode\": \"todate\"}, {\"count\": 1, \"label\": \"1y\", \"step\": \"year\", \"stepmode\": \"backward\"}, {\"step\": \"all\"}]}, \"type\": \"date\"}, \"autosize\": false, \"margin\": {\"l\": 200}}, {\"showLink\": false, \"linkText\": \"Export to plot.ly\"})});</script>"
      ],
      "text/vnd.plotly.v1+html": [
       "<div id=\"450bf0f2-1629-4331-997d-c049a2051612\" style=\"height: 700px; width: 1000px;\" class=\"plotly-graph-div\"></div><script type=\"text/javascript\">require([\"plotly\"], function(Plotly) { window.PLOTLYENV=window.PLOTLYENV || {};window.PLOTLYENV.BASE_URL=\"https://plot.ly\";Plotly.newPlot(\"450bf0f2-1629-4331-997d-c049a2051612\", [{\"x\": [\"2018-04-07T14:52:21.0Z\", \"2018-06-06T14:52:21.0Z\"], \"y\": [0, 0], \"name\": \"\", \"marker\": {\"color\": \"white\"}}, {\"x\": [\"2018-04-12T14:50:33Z\", \"2018-04-17T14:50:33.0Z\"], \"y\": [1, 1], \"name\": \"\", \"marker\": {\"color\": \"white\"}}, {\"x\": [\"2018-04-17T14:50:33.0Z\", \"2018-07-06T14:50:33.0Z\"], \"y\": [2, 2], \"name\": \"\", \"marker\": {\"color\": \"white\"}}, {\"x\": [\"2018-04-17T14:50:33.0Z\", \"2018-04-17T14:50:33.0Z\"], \"y\": [0, 0], \"showlegend\": true, \"hoverinfo\": \"none\", \"name\": \"Colon_cancer\", \"marker\": {\"color\": \"rgb(0, 0, 220)\", \"size\": 1}}, {\"x\": [\"2018-04-17T14:50:33.0Z\", \"2018-04-17T14:50:33.0Z\"], \"y\": [1, 1], \"showlegend\": true, \"hoverinfo\": \"none\", \"name\": \"Parkinson\", \"marker\": {\"color\": \"rgb(0, 220, 0)\", \"size\": 1}}], {\"title\": \"Path-Parkinson-Colon-Cancer-a\", \"showlegend\": true, \"height\": 700, \"width\": 1000, \"shapes\": [{\"x0\": \"2018-04-07T14:52:21.0Z\", \"x1\": \"2018-06-06T14:52:21.0Z\", \"type\": \"rect\", \"xref\": \"x\", \"yref\": \"y\", \"opacity\": 1, \"line\": {\"width\": 0}, \"y0\": -0.2, \"y1\": 0.2, \"fillcolor\": \"rgb(0, 220, 0)\"}, {\"x0\": \"2018-04-12T14:50:33Z\", \"x1\": \"2018-04-17T14:50:33.0Z\", \"type\": \"rect\", \"xref\": \"x\", \"yref\": \"y\", \"opacity\": 1, \"line\": {\"width\": 0}, \"y0\": 0.8, \"y1\": 1.2, \"fillcolor\": \"rgb(0, 0, 220)\"}, {\"x0\": \"2018-04-17T14:50:33.0Z\", \"x1\": \"2018-07-06T14:50:33.0Z\", \"type\": \"rect\", \"xref\": \"x\", \"yref\": \"y\", \"opacity\": 1, \"line\": {\"width\": 0}, \"y0\": 1.8, \"y1\": 2.2, \"fillcolor\": \"rgb(0, 0, 220)\"}], \"hovermode\": \"closest\", \"yaxis\": {\"showgrid\": false, \"ticktext\": [\"take_pill_Pramipexol\", \"surgery_colon_cancer\", \"Adjuvant_chemoradiotherapy\"], \"tickvals\": [0, 1, 2], \"range\": [-1, 4], \"autorange\": false, \"zeroline\": false}, \"xaxis\": {\"showgrid\": false, \"zeroline\": false, \"rangeselector\": {\"buttons\": [{\"count\": 7, \"label\": \"1w\", \"step\": \"day\", \"stepmode\": \"backward\"}, {\"count\": 1, \"label\": \"1m\", \"step\": \"month\", \"stepmode\": \"backward\"}, {\"count\": 6, \"label\": \"6m\", \"step\": \"month\", \"stepmode\": \"backward\"}, {\"count\": 1, \"label\": \"YTD\", \"step\": \"year\", \"stepmode\": \"todate\"}, {\"count\": 1, \"label\": \"1y\", \"step\": \"year\", \"stepmode\": \"backward\"}, {\"step\": \"all\"}]}, \"type\": \"date\"}, \"autosize\": false, \"margin\": {\"l\": 200}}, {\"showLink\": false, \"linkText\": \"Export to plot.ly\"})});</script>"
      ]
     },
     "metadata": {
      "tags": []
     },
     "output_type": "display_data"
    }
   ],
   "source": [
    "!eye --nope path/aggreagatedPath-t3-a.n3  parkinson/gps-desc.n3  colon-cancer/gps-desc.n3 engine/path-processor-visual.n3 --query engine/path-processor-visual.csvq --strings >path/aggreagatedPath-plot-t3-a.csv\n",
    "df_path_a = pd.read_csv('path/aggreagatedPath-plot-t3-a.csv', sep=',', encoding = 'utf-8')\n",
    "df_a = [dict(Task=df_path_a.action_name[0], Start=df_path_a.start_time[0], Finish=df_path_a.end_time[0], Resource=df_path_a.map_name[0])]\n",
    "i=1\n",
    "while i < len(df_path_a):\n",
    "    df_a.append( dict(Task=df_path_a.action_name[i], Start=df_path_a.start_time[i], Finish=df_path_a.end_time[i], Resource=df_path_a.map_name[i]) )\n",
    "    i+=1\n",
    "\n",
    "colors = dict(Conflict = 'rgb(220, 0, 0)',\n",
    "              Colon_cancer = 'rgb(0, 0, 220)',\n",
    "              Parkinson = 'rgb(0, 220, 0)') \n",
    "fig_a = ff.create_gantt(df_a, colors=colors, index_col='Resource', show_colorbar=True,  title='Path-Parkinson-Colon-Cancer-a')\n",
    "fig_a['layout'].update(autosize=False, width=1000, height=700, margin=dict(l=200))\n",
    "iplot(fig_a, show_link=False)"
   ]
  },
  {
   "cell_type": "code",
   "execution_count": null,
   "metadata": {
    "colab": {},
    "colab_type": "code",
    "id": "5JISyE2K-p5B",
    "outputId": "8f0d7ea1-7008-4d03-fc00-b049c774a441"
   },
   "outputs": [
    {
     "name": "stderr",
     "output_type": "stream",
     "text": [
      "eye --nope path/aggreagatedPath-t3-b.n3 parkinson/gps-desc.n3 colon-cancer/gps-desc.n3 engine/path-processor-visual.n3 --query engine/path-processor-visual.csvq --strings\n",
      "EYE v18.0214.2047 josd\n",
      "SWI-Prolog 7.6.4 (x64-win64): Jan 12 2018, 14:06:18\n",
      "starting 46 [msec cputime] 199 [msec walltime]\n",
      "GET file:///d:/users/axifx/documents/github/restdesc/gps4ic/mockup-data/demo/path/aggreagatedpath-t3-b.n3 translating file:///d:/users/axifx/documents/github/restdesc/gps4ic/mockup-data/demo/path/aggreagatedpath-t3-b.n3\n",
      "Done: translated 23 triples in 1.0 ms (22998 triples/s)\n",
      "SC=23\n",
      "GET file:///d:/users/axifx/documents/github/restdesc/gps4ic/mockup-data/demo/parkinson/gps-desc.n3 translating file:///d:/users/axifx/documents/github/restdesc/gps4ic/mockup-data/demo/parkinson/gps-desc.n3\n",
      "Done: translated 32 triples in 1.0 ms (31997 triples/s)\n",
      "SC=32\n",
      "GET file:///d:/users/axifx/documents/github/restdesc/gps4ic/mockup-data/demo/colon-cancer/gps-desc.n3 translating file:///d:/users/axifx/documents/github/restdesc/gps4ic/mockup-data/demo/colon-cancer/gps-desc.n3\n",
      "Done: translated 92 triples in 2.0 ms (45995 triples/s)\n",
      "SC=92\n",
      "GET file:///d:/users/axifx/documents/github/restdesc/gps4ic/mockup-data/demo/engine/path-processor-visual.n3 translating file:///d:/users/axifx/documents/github/restdesc/gps4ic/mockup-data/demo/engine/path-processor-visual.n3\n",
      "Done: translated 17 triples in 2.0 ms (8499 triples/s)\n",
      "SC=17\n",
      "GET file:///d:/users/axifx/documents/github/restdesc/gps4ic/mockup-data/demo/engine/path-processor-visual.csvq translating file:///d:/users/axifx/documents/github/restdesc/gps4ic/mockup-data/demo/engine/path-processor-visual.csvq\n",
      "Done: translated 3 triples in 1.0 ms (3000 triples/s)\n",
      "SC=3\n",
      "networking 0 [msec cputime] 202 [msec walltime]\n",
      "reasoning 0 [msec cputime] 4 [msec walltime]\n",
      "2018-03-15T17:07:24.747Z in=167 out=12 ent=3 step=12 brake=2 inf=39927 sec=0.046 inf/sec=867978\n",
      "\n"
     ]
    },
    {
     "data": {
      "application/vnd.plotly.v1+json": {
       "data": [
        {
         "marker": {
          "color": "white"
         },
         "name": "",
         "x": [
          "2018-04-07T14:52:21.0Z",
          "2018-06-06T14:52:21.0Z"
         ],
         "y": [
          0,
          0
         ]
        },
        {
         "marker": {
          "color": "white"
         },
         "name": "",
         "x": [
          "2018-04-12T14:50:33Z",
          "2018-06-01T14:50:33.0Z"
         ],
         "y": [
          1,
          1
         ]
        },
        {
         "marker": {
          "color": "white"
         },
         "name": "",
         "x": [
          "2018-06-01T14:50:33.0Z",
          "2018-06-06T14:50:33.0Z"
         ],
         "y": [
          2,
          2
         ]
        },
        {
         "hoverinfo": "none",
         "marker": {
          "color": "rgb(0, 0, 220)",
          "size": 1
         },
         "name": "Colon_cancer",
         "showlegend": true,
         "x": [
          "2018-06-01T14:50:33.0Z",
          "2018-06-01T14:50:33.0Z"
         ],
         "y": [
          0,
          0
         ]
        },
        {
         "hoverinfo": "none",
         "marker": {
          "color": "rgb(0, 220, 0)",
          "size": 1
         },
         "name": "Parkinson",
         "showlegend": true,
         "x": [
          "2018-06-01T14:50:33.0Z",
          "2018-06-01T14:50:33.0Z"
         ],
         "y": [
          1,
          1
         ]
        }
       ],
       "layout": {
        "autosize": false,
        "height": 700,
        "hovermode": "closest",
        "margin": {
         "l": 200
        },
        "shapes": [
         {
          "fillcolor": "rgb(0, 220, 0)",
          "line": {
           "width": 0
          },
          "opacity": 1,
          "type": "rect",
          "x0": "2018-04-07T14:52:21.0Z",
          "x1": "2018-06-06T14:52:21.0Z",
          "xref": "x",
          "y0": -0.2,
          "y1": 0.2,
          "yref": "y"
         },
         {
          "fillcolor": "rgb(0, 0, 220)",
          "line": {
           "width": 0
          },
          "opacity": 1,
          "type": "rect",
          "x0": "2018-04-12T14:50:33Z",
          "x1": "2018-06-01T14:50:33.0Z",
          "xref": "x",
          "y0": 0.8,
          "y1": 1.2,
          "yref": "y"
         },
         {
          "fillcolor": "rgb(0, 0, 220)",
          "line": {
           "width": 0
          },
          "opacity": 1,
          "type": "rect",
          "x0": "2018-06-01T14:50:33.0Z",
          "x1": "2018-06-06T14:50:33.0Z",
          "xref": "x",
          "y0": 1.8,
          "y1": 2.2,
          "yref": "y"
         }
        ],
        "showlegend": true,
        "title": "Path-Parkinson-Colon-Cancer-b",
        "width": 1000,
        "xaxis": {
         "rangeselector": {
          "buttons": [
           {
            "count": 7,
            "label": "1w",
            "step": "day",
            "stepmode": "backward"
           },
           {
            "count": 1,
            "label": "1m",
            "step": "month",
            "stepmode": "backward"
           },
           {
            "count": 6,
            "label": "6m",
            "step": "month",
            "stepmode": "backward"
           },
           {
            "count": 1,
            "label": "YTD",
            "step": "year",
            "stepmode": "todate"
           },
           {
            "count": 1,
            "label": "1y",
            "step": "year",
            "stepmode": "backward"
           },
           {
            "step": "all"
           }
          ]
         },
         "showgrid": false,
         "type": "date",
         "zeroline": false
        },
        "yaxis": {
         "autorange": false,
         "range": [
          -1,
          4
         ],
         "showgrid": false,
         "ticktext": [
          "take_pill_Pramipexol",
          "Neoadjuvant_chemoradiotherapy",
          "surgery_colon_cancer"
         ],
         "tickvals": [
          0,
          1,
          2
         ],
         "zeroline": false
        }
       }
      },
      "text/html": [
       "<div id=\"0f9a7916-2287-441c-b88b-fa83cb6d9967\" style=\"height: 700px; width: 1000px;\" class=\"plotly-graph-div\"></div><script type=\"text/javascript\">require([\"plotly\"], function(Plotly) { window.PLOTLYENV=window.PLOTLYENV || {};window.PLOTLYENV.BASE_URL=\"https://plot.ly\";Plotly.newPlot(\"0f9a7916-2287-441c-b88b-fa83cb6d9967\", [{\"x\": [\"2018-04-07T14:52:21.0Z\", \"2018-06-06T14:52:21.0Z\"], \"y\": [0, 0], \"name\": \"\", \"marker\": {\"color\": \"white\"}}, {\"x\": [\"2018-04-12T14:50:33Z\", \"2018-06-01T14:50:33.0Z\"], \"y\": [1, 1], \"name\": \"\", \"marker\": {\"color\": \"white\"}}, {\"x\": [\"2018-06-01T14:50:33.0Z\", \"2018-06-06T14:50:33.0Z\"], \"y\": [2, 2], \"name\": \"\", \"marker\": {\"color\": \"white\"}}, {\"x\": [\"2018-06-01T14:50:33.0Z\", \"2018-06-01T14:50:33.0Z\"], \"y\": [0, 0], \"showlegend\": true, \"hoverinfo\": \"none\", \"name\": \"Colon_cancer\", \"marker\": {\"color\": \"rgb(0, 0, 220)\", \"size\": 1}}, {\"x\": [\"2018-06-01T14:50:33.0Z\", \"2018-06-01T14:50:33.0Z\"], \"y\": [1, 1], \"showlegend\": true, \"hoverinfo\": \"none\", \"name\": \"Parkinson\", \"marker\": {\"color\": \"rgb(0, 220, 0)\", \"size\": 1}}], {\"title\": \"Path-Parkinson-Colon-Cancer-b\", \"showlegend\": true, \"height\": 700, \"width\": 1000, \"shapes\": [{\"x0\": \"2018-04-07T14:52:21.0Z\", \"x1\": \"2018-06-06T14:52:21.0Z\", \"type\": \"rect\", \"xref\": \"x\", \"yref\": \"y\", \"opacity\": 1, \"line\": {\"width\": 0}, \"y0\": -0.2, \"y1\": 0.2, \"fillcolor\": \"rgb(0, 220, 0)\"}, {\"x0\": \"2018-04-12T14:50:33Z\", \"x1\": \"2018-06-01T14:50:33.0Z\", \"type\": \"rect\", \"xref\": \"x\", \"yref\": \"y\", \"opacity\": 1, \"line\": {\"width\": 0}, \"y0\": 0.8, \"y1\": 1.2, \"fillcolor\": \"rgb(0, 0, 220)\"}, {\"x0\": \"2018-06-01T14:50:33.0Z\", \"x1\": \"2018-06-06T14:50:33.0Z\", \"type\": \"rect\", \"xref\": \"x\", \"yref\": \"y\", \"opacity\": 1, \"line\": {\"width\": 0}, \"y0\": 1.8, \"y1\": 2.2, \"fillcolor\": \"rgb(0, 0, 220)\"}], \"hovermode\": \"closest\", \"yaxis\": {\"showgrid\": false, \"ticktext\": [\"take_pill_Pramipexol\", \"Neoadjuvant_chemoradiotherapy\", \"surgery_colon_cancer\"], \"tickvals\": [0, 1, 2], \"range\": [-1, 4], \"autorange\": false, \"zeroline\": false}, \"xaxis\": {\"showgrid\": false, \"zeroline\": false, \"rangeselector\": {\"buttons\": [{\"count\": 7, \"label\": \"1w\", \"step\": \"day\", \"stepmode\": \"backward\"}, {\"count\": 1, \"label\": \"1m\", \"step\": \"month\", \"stepmode\": \"backward\"}, {\"count\": 6, \"label\": \"6m\", \"step\": \"month\", \"stepmode\": \"backward\"}, {\"count\": 1, \"label\": \"YTD\", \"step\": \"year\", \"stepmode\": \"todate\"}, {\"count\": 1, \"label\": \"1y\", \"step\": \"year\", \"stepmode\": \"backward\"}, {\"step\": \"all\"}]}, \"type\": \"date\"}, \"autosize\": false, \"margin\": {\"l\": 200}}, {\"showLink\": false, \"linkText\": \"Export to plot.ly\"})});</script>"
      ],
      "text/vnd.plotly.v1+html": [
       "<div id=\"0f9a7916-2287-441c-b88b-fa83cb6d9967\" style=\"height: 700px; width: 1000px;\" class=\"plotly-graph-div\"></div><script type=\"text/javascript\">require([\"plotly\"], function(Plotly) { window.PLOTLYENV=window.PLOTLYENV || {};window.PLOTLYENV.BASE_URL=\"https://plot.ly\";Plotly.newPlot(\"0f9a7916-2287-441c-b88b-fa83cb6d9967\", [{\"x\": [\"2018-04-07T14:52:21.0Z\", \"2018-06-06T14:52:21.0Z\"], \"y\": [0, 0], \"name\": \"\", \"marker\": {\"color\": \"white\"}}, {\"x\": [\"2018-04-12T14:50:33Z\", \"2018-06-01T14:50:33.0Z\"], \"y\": [1, 1], \"name\": \"\", \"marker\": {\"color\": \"white\"}}, {\"x\": [\"2018-06-01T14:50:33.0Z\", \"2018-06-06T14:50:33.0Z\"], \"y\": [2, 2], \"name\": \"\", \"marker\": {\"color\": \"white\"}}, {\"x\": [\"2018-06-01T14:50:33.0Z\", \"2018-06-01T14:50:33.0Z\"], \"y\": [0, 0], \"showlegend\": true, \"hoverinfo\": \"none\", \"name\": \"Colon_cancer\", \"marker\": {\"color\": \"rgb(0, 0, 220)\", \"size\": 1}}, {\"x\": [\"2018-06-01T14:50:33.0Z\", \"2018-06-01T14:50:33.0Z\"], \"y\": [1, 1], \"showlegend\": true, \"hoverinfo\": \"none\", \"name\": \"Parkinson\", \"marker\": {\"color\": \"rgb(0, 220, 0)\", \"size\": 1}}], {\"title\": \"Path-Parkinson-Colon-Cancer-b\", \"showlegend\": true, \"height\": 700, \"width\": 1000, \"shapes\": [{\"x0\": \"2018-04-07T14:52:21.0Z\", \"x1\": \"2018-06-06T14:52:21.0Z\", \"type\": \"rect\", \"xref\": \"x\", \"yref\": \"y\", \"opacity\": 1, \"line\": {\"width\": 0}, \"y0\": -0.2, \"y1\": 0.2, \"fillcolor\": \"rgb(0, 220, 0)\"}, {\"x0\": \"2018-04-12T14:50:33Z\", \"x1\": \"2018-06-01T14:50:33.0Z\", \"type\": \"rect\", \"xref\": \"x\", \"yref\": \"y\", \"opacity\": 1, \"line\": {\"width\": 0}, \"y0\": 0.8, \"y1\": 1.2, \"fillcolor\": \"rgb(0, 0, 220)\"}, {\"x0\": \"2018-06-01T14:50:33.0Z\", \"x1\": \"2018-06-06T14:50:33.0Z\", \"type\": \"rect\", \"xref\": \"x\", \"yref\": \"y\", \"opacity\": 1, \"line\": {\"width\": 0}, \"y0\": 1.8, \"y1\": 2.2, \"fillcolor\": \"rgb(0, 0, 220)\"}], \"hovermode\": \"closest\", \"yaxis\": {\"showgrid\": false, \"ticktext\": [\"take_pill_Pramipexol\", \"Neoadjuvant_chemoradiotherapy\", \"surgery_colon_cancer\"], \"tickvals\": [0, 1, 2], \"range\": [-1, 4], \"autorange\": false, \"zeroline\": false}, \"xaxis\": {\"showgrid\": false, \"zeroline\": false, \"rangeselector\": {\"buttons\": [{\"count\": 7, \"label\": \"1w\", \"step\": \"day\", \"stepmode\": \"backward\"}, {\"count\": 1, \"label\": \"1m\", \"step\": \"month\", \"stepmode\": \"backward\"}, {\"count\": 6, \"label\": \"6m\", \"step\": \"month\", \"stepmode\": \"backward\"}, {\"count\": 1, \"label\": \"YTD\", \"step\": \"year\", \"stepmode\": \"todate\"}, {\"count\": 1, \"label\": \"1y\", \"step\": \"year\", \"stepmode\": \"backward\"}, {\"step\": \"all\"}]}, \"type\": \"date\"}, \"autosize\": false, \"margin\": {\"l\": 200}}, {\"showLink\": false, \"linkText\": \"Export to plot.ly\"})});</script>"
      ]
     },
     "metadata": {
      "tags": []
     },
     "output_type": "display_data"
    }
   ],
   "source": [
    "!eye --nope path/aggreagatedPath-t3-b.n3  parkinson/gps-desc.n3  colon-cancer/gps-desc.n3 engine/path-processor-visual.n3 --query engine/path-processor-visual.csvq --strings >path/aggreagatedPath-plot-t3-b.csv\n",
    "df_path_b = pd.read_csv('path/aggreagatedPath-plot-t3-b.csv', sep=',', encoding = 'utf-8')\n",
    "df_b = [dict(Task=df_path_b.action_name[0], Start=df_path_b.start_time[0], Finish=df_path_b.end_time[0], Resource=df_path_b.map_name[0])]\n",
    "i=1\n",
    "while i < len(df_path_b):\n",
    "    df_b.append( dict(Task=df_path_b.action_name[i], Start=df_path_b.start_time[i], Finish=df_path_b.end_time[i], Resource=df_path_b.map_name[i]) )\n",
    "    i+=1\n",
    "\n",
    "colors = dict(Conflict = 'rgb(220, 0, 0)',\n",
    "              Colon_cancer = 'rgb(0, 0, 220)',\n",
    "              Parkinson = 'rgb(0, 220, 0)')\n",
    "fig_b = ff.create_gantt(df_b, colors=colors, index_col='Resource', show_colorbar=True,  title='Path-Parkinson-Colon-Cancer-b')\n",
    "fig_b['layout'].update(autosize=False, width=1000, height=700, margin=dict(l=200))\n",
    "iplot(fig_b, show_link=False)"
   ]
  },
  {
   "cell_type": "markdown",
   "metadata": {
    "colab_type": "text",
    "id": "Nqd58KGh-p5K"
   },
   "source": [
    "### alert detection"
   ]
  },
  {
   "cell_type": "code",
   "execution_count": null,
   "metadata": {
    "colab": {},
    "colab_type": "code",
    "id": "1liQoPFW-p5K",
    "outputId": "87592a8e-3833-46a2-f99d-4f20885de05e"
   },
   "outputs": [
    {
     "name": "stderr",
     "output_type": "stream",
     "text": [
      "eye --nope data/data-colon-cancer-t3-a.ttl data/t3.ttl parkinson/gps-desc.n3 parkinson/score-calculation.n3 colon-cancer/gps-desc.n3 colon-cancer/gps-knowledge.n3 path/aggreagatedPath-t3-a.n3 knowledge/knowledge.n3 engine/gps-plugin-validation.n3 --query engine/gps-alert-detection.csvq --strings\n",
      "EYE v18.0214.2047 josd\n",
      "SWI-Prolog 7.6.4 (x64-win64): Jan 12 2018, 14:06:18\n",
      "starting 31 [msec cputime] 194 [msec walltime]\n",
      "GET file:///d:/users/axifx/documents/github/restdesc/gps4ic/mockup-data/demo/data/data-colon-cancer-t3-a.ttl translating file:///d:/users/axifx/documents/github/restdesc/gps4ic/mockup-data/demo/data/data-colon-cancer-t3-a.ttl\n",
      "Done: translated 25 triples in 1.0 ms (24998 triples/s)\n",
      "SC=25\n",
      "GET file:///d:/users/axifx/documents/github/restdesc/gps4ic/mockup-data/demo/data/t3.ttl translating file:///d:/users/axifx/documents/github/restdesc/gps4ic/mockup-data/demo/data/t3.ttl\n",
      "Done: translated 1 triples in 1.0 ms (1000 triples/s)\n",
      "SC=1\n",
      "GET file:///d:/users/axifx/documents/github/restdesc/gps4ic/mockup-data/demo/parkinson/gps-desc.n3 translating file:///d:/users/axifx/documents/github/restdesc/gps4ic/mockup-data/demo/parkinson/gps-desc.n3\n",
      "Done: translated 32 triples in 1.0 ms (31997 triples/s)\n",
      "SC=32\n",
      "GET file:///d:/users/axifx/documents/github/restdesc/gps4ic/mockup-data/demo/parkinson/score-calculation.n3 translating file:///d:/users/axifx/documents/github/restdesc/gps4ic/mockup-data/demo/parkinson/score-calculation.n3\n",
      "Done: translated 7 triples\n",
      "SC=7\n",
      "GET file:///d:/users/axifx/documents/github/restdesc/gps4ic/mockup-data/demo/colon-cancer/gps-desc.n3 translating file:///d:/users/axifx/documents/github/restdesc/gps4ic/mockup-data/demo/colon-cancer/gps-desc.n3\n",
      "Done: translated 92 triples in 1.0 ms (91991 triples/s)\n",
      "SC=92\n",
      "GET file:///d:/users/axifx/documents/github/restdesc/gps4ic/mockup-data/demo/colon-cancer/gps-knowledge.n3 translating file:///d:/users/axifx/documents/github/restdesc/gps4ic/mockup-data/demo/colon-cancer/gps-knowledge.n3\n",
      "Done: translated 62 triples in 1.0 ms (61994 triples/s)\n",
      "SC=62\n",
      "GET file:///d:/users/axifx/documents/github/restdesc/gps4ic/mockup-data/demo/path/aggreagatedpath-t3-a.n3 translating file:///d:/users/axifx/documents/github/restdesc/gps4ic/mockup-data/demo/path/aggreagatedpath-t3-a.n3\n",
      "Done: translated 22 triples in 1.0 ms (21998 triples/s)\n",
      "SC=22\n",
      "GET file:///d:/users/axifx/documents/github/restdesc/gps4ic/mockup-data/demo/knowledge/knowledge.n3 translating file:///d:/users/axifx/documents/github/restdesc/gps4ic/mockup-data/demo/knowledge/knowledge.n3\n",
      "Done: translated 5 triples in 1.0 ms (5000 triples/s)\n",
      "SC=5\n",
      "GET file:///d:/users/axifx/documents/github/restdesc/gps4ic/mockup-data/demo/engine/gps-plugin-validation.n3 translating file:///d:/users/axifx/documents/github/restdesc/gps4ic/mockup-data/demo/engine/gps-plugin-validation.n3\n",
      "Done: translated 112 triples in 2.0 ms (55994 triples/s)\n",
      "SC=112\n",
      "GET file:///d:/users/axifx/documents/github/restdesc/gps4ic/mockup-data/demo/engine/gps-alert-detection.csvq translating file:///d:/users/axifx/documents/github/restdesc/gps4ic/mockup-data/demo/engine/gps-alert-detection.csvq\n",
      "Done: translated 13 triples in 1.0 ms (12999 triples/s)\n",
      "SC=13\n",
      "networking 15 [msec cputime] 276 [msec walltime]\n",
      "reasoning 0 [msec cputime] 3 [msec walltime]\n",
      "2018-03-15T17:07:25.380Z in=371 out=8 ent=1 step=2 brake=4 inf=50578 sec=0.046 inf/sec=1099522\n",
      "\n"
     ]
    },
    {
     "data": {
      "application/vnd.plotly.v1+json": {
       "data": [
        {
         "marker": {
          "color": "white"
         },
         "name": "",
         "x": [
          "2018-04-07T14:52:21.0Z",
          "2018-06-06T14:52:21.0Z"
         ],
         "y": [
          0,
          0
         ]
        },
        {
         "marker": {
          "color": "white"
         },
         "name": "",
         "x": [
          "2018-04-12T14:50:33Z",
          "2018-04-17T14:50:33.0Z"
         ],
         "y": [
          1,
          1
         ]
        },
        {
         "marker": {
          "color": "white"
         },
         "name": "",
         "x": [
          "2018-04-17T14:50:33.0Z",
          "2018-07-06T14:50:33.0Z"
         ],
         "y": [
          2,
          2
         ]
        },
        {
         "marker": {
          "color": "white"
         },
         "name": "",
         "x": [
          "2018-04-12T14:50:33Z",
          "2018-04-17T14:50:33.0Z"
         ],
         "y": [
          3,
          3
         ]
        },
        {
         "hoverinfo": "none",
         "marker": {
          "color": "rgb(0, 0, 220)",
          "size": 1
         },
         "name": "Colon_cancer",
         "showlegend": true,
         "x": [
          "2018-04-12T14:50:33Z",
          "2018-04-12T14:50:33Z"
         ],
         "y": [
          0,
          0
         ]
        },
        {
         "hoverinfo": "none",
         "marker": {
          "color": "rgb(220, 0, 0)",
          "size": 1
         },
         "name": "Conflict",
         "showlegend": true,
         "x": [
          "2018-04-12T14:50:33Z",
          "2018-04-12T14:50:33Z"
         ],
         "y": [
          1,
          1
         ]
        },
        {
         "hoverinfo": "none",
         "marker": {
          "color": "rgb(0, 220, 0)",
          "size": 1
         },
         "name": "Parkinson",
         "showlegend": true,
         "x": [
          "2018-04-12T14:50:33Z",
          "2018-04-12T14:50:33Z"
         ],
         "y": [
          2,
          2
         ]
        }
       ],
       "layout": {
        "autosize": false,
        "height": 600,
        "hovermode": "closest",
        "margin": {
         "l": 200
        },
        "shapes": [
         {
          "fillcolor": "rgb(0, 220, 0)",
          "line": {
           "width": 0
          },
          "opacity": 1,
          "type": "rect",
          "x0": "2018-04-07T14:52:21.0Z",
          "x1": "2018-06-06T14:52:21.0Z",
          "xref": "x",
          "y0": -0.2,
          "y1": 0.2,
          "yref": "y"
         },
         {
          "fillcolor": "rgb(0, 0, 220)",
          "line": {
           "width": 0
          },
          "opacity": 1,
          "type": "rect",
          "x0": "2018-04-12T14:50:33Z",
          "x1": "2018-04-17T14:50:33.0Z",
          "xref": "x",
          "y0": 0.8,
          "y1": 1.2,
          "yref": "y"
         },
         {
          "fillcolor": "rgb(0, 0, 220)",
          "line": {
           "width": 0
          },
          "opacity": 1,
          "type": "rect",
          "x0": "2018-04-17T14:50:33.0Z",
          "x1": "2018-07-06T14:50:33.0Z",
          "xref": "x",
          "y0": 1.8,
          "y1": 2.2,
          "yref": "y"
         },
         {
          "fillcolor": "rgb(220, 0, 0)",
          "line": {
           "width": 0
          },
          "opacity": 1,
          "type": "rect",
          "x0": "2018-04-12T14:50:33Z",
          "x1": "2018-04-17T14:50:33.0Z",
          "xref": "x",
          "y0": 2.8,
          "y1": 3.2,
          "yref": "y"
         }
        ],
        "showlegend": true,
        "title": "Path-Parkinson-Colon-Cancer-a",
        "width": 800,
        "xaxis": {
         "rangeselector": {
          "buttons": [
           {
            "count": 7,
            "label": "1w",
            "step": "day",
            "stepmode": "backward"
           },
           {
            "count": 1,
            "label": "1m",
            "step": "month",
            "stepmode": "backward"
           },
           {
            "count": 6,
            "label": "6m",
            "step": "month",
            "stepmode": "backward"
           },
           {
            "count": 1,
            "label": "YTD",
            "step": "year",
            "stepmode": "todate"
           },
           {
            "count": 1,
            "label": "1y",
            "step": "year",
            "stepmode": "backward"
           },
           {
            "step": "all"
           }
          ]
         },
         "showgrid": false,
         "type": "date",
         "zeroline": false
        },
        "yaxis": {
         "autorange": false,
         "range": [
          -1,
          5
         ],
         "showgrid": false,
         "ticktext": [
          "take_pill_Pramipexol",
          "surgery_colon_cancer",
          "Adjuvant_chemoradiotherapy",
          "surgery_colon_cancer"
         ],
         "tickvals": [
          0,
          1,
          2,
          3
         ],
         "zeroline": false
        }
       }
      },
      "text/html": [
       "<div id=\"838590f0-34bd-4b5d-8ad9-aa36836a07bd\" style=\"height: 600px; width: 800px;\" class=\"plotly-graph-div\"></div><script type=\"text/javascript\">require([\"plotly\"], function(Plotly) { window.PLOTLYENV=window.PLOTLYENV || {};window.PLOTLYENV.BASE_URL=\"https://plot.ly\";Plotly.newPlot(\"838590f0-34bd-4b5d-8ad9-aa36836a07bd\", [{\"x\": [\"2018-04-07T14:52:21.0Z\", \"2018-06-06T14:52:21.0Z\"], \"y\": [0, 0], \"name\": \"\", \"marker\": {\"color\": \"white\"}}, {\"x\": [\"2018-04-12T14:50:33Z\", \"2018-04-17T14:50:33.0Z\"], \"y\": [1, 1], \"name\": \"\", \"marker\": {\"color\": \"white\"}}, {\"x\": [\"2018-04-17T14:50:33.0Z\", \"2018-07-06T14:50:33.0Z\"], \"y\": [2, 2], \"name\": \"\", \"marker\": {\"color\": \"white\"}}, {\"x\": [\"2018-04-12T14:50:33Z\", \"2018-04-17T14:50:33.0Z\"], \"y\": [3, 3], \"name\": \"\", \"marker\": {\"color\": \"white\"}}, {\"x\": [\"2018-04-12T14:50:33Z\", \"2018-04-12T14:50:33Z\"], \"y\": [0, 0], \"showlegend\": true, \"hoverinfo\": \"none\", \"name\": \"Colon_cancer\", \"marker\": {\"color\": \"rgb(0, 0, 220)\", \"size\": 1}}, {\"x\": [\"2018-04-12T14:50:33Z\", \"2018-04-12T14:50:33Z\"], \"y\": [1, 1], \"showlegend\": true, \"hoverinfo\": \"none\", \"name\": \"Conflict\", \"marker\": {\"color\": \"rgb(220, 0, 0)\", \"size\": 1}}, {\"x\": [\"2018-04-12T14:50:33Z\", \"2018-04-12T14:50:33Z\"], \"y\": [2, 2], \"showlegend\": true, \"hoverinfo\": \"none\", \"name\": \"Parkinson\", \"marker\": {\"color\": \"rgb(0, 220, 0)\", \"size\": 1}}], {\"title\": \"Path-Parkinson-Colon-Cancer-a\", \"showlegend\": true, \"height\": 600, \"width\": 800, \"shapes\": [{\"x0\": \"2018-04-07T14:52:21.0Z\", \"x1\": \"2018-06-06T14:52:21.0Z\", \"type\": \"rect\", \"xref\": \"x\", \"yref\": \"y\", \"opacity\": 1, \"line\": {\"width\": 0}, \"y0\": -0.2, \"y1\": 0.2, \"fillcolor\": \"rgb(0, 220, 0)\"}, {\"x0\": \"2018-04-12T14:50:33Z\", \"x1\": \"2018-04-17T14:50:33.0Z\", \"type\": \"rect\", \"xref\": \"x\", \"yref\": \"y\", \"opacity\": 1, \"line\": {\"width\": 0}, \"y0\": 0.8, \"y1\": 1.2, \"fillcolor\": \"rgb(0, 0, 220)\"}, {\"x0\": \"2018-04-17T14:50:33.0Z\", \"x1\": \"2018-07-06T14:50:33.0Z\", \"type\": \"rect\", \"xref\": \"x\", \"yref\": \"y\", \"opacity\": 1, \"line\": {\"width\": 0}, \"y0\": 1.8, \"y1\": 2.2, \"fillcolor\": \"rgb(0, 0, 220)\"}, {\"x0\": \"2018-04-12T14:50:33Z\", \"x1\": \"2018-04-17T14:50:33.0Z\", \"type\": \"rect\", \"xref\": \"x\", \"yref\": \"y\", \"opacity\": 1, \"line\": {\"width\": 0}, \"y0\": 2.8, \"y1\": 3.2, \"fillcolor\": \"rgb(220, 0, 0)\"}], \"hovermode\": \"closest\", \"yaxis\": {\"showgrid\": false, \"ticktext\": [\"take_pill_Pramipexol\", \"surgery_colon_cancer\", \"Adjuvant_chemoradiotherapy\", \"surgery_colon_cancer\"], \"tickvals\": [0, 1, 2, 3], \"range\": [-1, 5], \"autorange\": false, \"zeroline\": false}, \"xaxis\": {\"showgrid\": false, \"zeroline\": false, \"rangeselector\": {\"buttons\": [{\"count\": 7, \"label\": \"1w\", \"step\": \"day\", \"stepmode\": \"backward\"}, {\"count\": 1, \"label\": \"1m\", \"step\": \"month\", \"stepmode\": \"backward\"}, {\"count\": 6, \"label\": \"6m\", \"step\": \"month\", \"stepmode\": \"backward\"}, {\"count\": 1, \"label\": \"YTD\", \"step\": \"year\", \"stepmode\": \"todate\"}, {\"count\": 1, \"label\": \"1y\", \"step\": \"year\", \"stepmode\": \"backward\"}, {\"step\": \"all\"}]}, \"type\": \"date\"}, \"autosize\": false, \"margin\": {\"l\": 200}}, {\"showLink\": false, \"linkText\": \"Export to plot.ly\"})});</script>"
      ],
      "text/vnd.plotly.v1+html": [
       "<div id=\"838590f0-34bd-4b5d-8ad9-aa36836a07bd\" style=\"height: 600px; width: 800px;\" class=\"plotly-graph-div\"></div><script type=\"text/javascript\">require([\"plotly\"], function(Plotly) { window.PLOTLYENV=window.PLOTLYENV || {};window.PLOTLYENV.BASE_URL=\"https://plot.ly\";Plotly.newPlot(\"838590f0-34bd-4b5d-8ad9-aa36836a07bd\", [{\"x\": [\"2018-04-07T14:52:21.0Z\", \"2018-06-06T14:52:21.0Z\"], \"y\": [0, 0], \"name\": \"\", \"marker\": {\"color\": \"white\"}}, {\"x\": [\"2018-04-12T14:50:33Z\", \"2018-04-17T14:50:33.0Z\"], \"y\": [1, 1], \"name\": \"\", \"marker\": {\"color\": \"white\"}}, {\"x\": [\"2018-04-17T14:50:33.0Z\", \"2018-07-06T14:50:33.0Z\"], \"y\": [2, 2], \"name\": \"\", \"marker\": {\"color\": \"white\"}}, {\"x\": [\"2018-04-12T14:50:33Z\", \"2018-04-17T14:50:33.0Z\"], \"y\": [3, 3], \"name\": \"\", \"marker\": {\"color\": \"white\"}}, {\"x\": [\"2018-04-12T14:50:33Z\", \"2018-04-12T14:50:33Z\"], \"y\": [0, 0], \"showlegend\": true, \"hoverinfo\": \"none\", \"name\": \"Colon_cancer\", \"marker\": {\"color\": \"rgb(0, 0, 220)\", \"size\": 1}}, {\"x\": [\"2018-04-12T14:50:33Z\", \"2018-04-12T14:50:33Z\"], \"y\": [1, 1], \"showlegend\": true, \"hoverinfo\": \"none\", \"name\": \"Conflict\", \"marker\": {\"color\": \"rgb(220, 0, 0)\", \"size\": 1}}, {\"x\": [\"2018-04-12T14:50:33Z\", \"2018-04-12T14:50:33Z\"], \"y\": [2, 2], \"showlegend\": true, \"hoverinfo\": \"none\", \"name\": \"Parkinson\", \"marker\": {\"color\": \"rgb(0, 220, 0)\", \"size\": 1}}], {\"title\": \"Path-Parkinson-Colon-Cancer-a\", \"showlegend\": true, \"height\": 600, \"width\": 800, \"shapes\": [{\"x0\": \"2018-04-07T14:52:21.0Z\", \"x1\": \"2018-06-06T14:52:21.0Z\", \"type\": \"rect\", \"xref\": \"x\", \"yref\": \"y\", \"opacity\": 1, \"line\": {\"width\": 0}, \"y0\": -0.2, \"y1\": 0.2, \"fillcolor\": \"rgb(0, 220, 0)\"}, {\"x0\": \"2018-04-12T14:50:33Z\", \"x1\": \"2018-04-17T14:50:33.0Z\", \"type\": \"rect\", \"xref\": \"x\", \"yref\": \"y\", \"opacity\": 1, \"line\": {\"width\": 0}, \"y0\": 0.8, \"y1\": 1.2, \"fillcolor\": \"rgb(0, 0, 220)\"}, {\"x0\": \"2018-04-17T14:50:33.0Z\", \"x1\": \"2018-07-06T14:50:33.0Z\", \"type\": \"rect\", \"xref\": \"x\", \"yref\": \"y\", \"opacity\": 1, \"line\": {\"width\": 0}, \"y0\": 1.8, \"y1\": 2.2, \"fillcolor\": \"rgb(0, 0, 220)\"}, {\"x0\": \"2018-04-12T14:50:33Z\", \"x1\": \"2018-04-17T14:50:33.0Z\", \"type\": \"rect\", \"xref\": \"x\", \"yref\": \"y\", \"opacity\": 1, \"line\": {\"width\": 0}, \"y0\": 2.8, \"y1\": 3.2, \"fillcolor\": \"rgb(220, 0, 0)\"}], \"hovermode\": \"closest\", \"yaxis\": {\"showgrid\": false, \"ticktext\": [\"take_pill_Pramipexol\", \"surgery_colon_cancer\", \"Adjuvant_chemoradiotherapy\", \"surgery_colon_cancer\"], \"tickvals\": [0, 1, 2, 3], \"range\": [-1, 5], \"autorange\": false, \"zeroline\": false}, \"xaxis\": {\"showgrid\": false, \"zeroline\": false, \"rangeselector\": {\"buttons\": [{\"count\": 7, \"label\": \"1w\", \"step\": \"day\", \"stepmode\": \"backward\"}, {\"count\": 1, \"label\": \"1m\", \"step\": \"month\", \"stepmode\": \"backward\"}, {\"count\": 6, \"label\": \"6m\", \"step\": \"month\", \"stepmode\": \"backward\"}, {\"count\": 1, \"label\": \"YTD\", \"step\": \"year\", \"stepmode\": \"todate\"}, {\"count\": 1, \"label\": \"1y\", \"step\": \"year\", \"stepmode\": \"backward\"}, {\"step\": \"all\"}]}, \"type\": \"date\"}, \"autosize\": false, \"margin\": {\"l\": 200}}, {\"showLink\": false, \"linkText\": \"Export to plot.ly\"})});</script>"
      ]
     },
     "metadata": {
      "tags": []
     },
     "output_type": "display_data"
    }
   ],
   "source": [
    "!eye --nope data/data-colon-cancer-t3-a.ttl data/t3.ttl parkinson/gps-desc.n3 parkinson/score-calculation.n3  colon-cancer/gps-desc.n3 colon-cancer/gps-knowledge.n3 path/aggreagatedPath-t3-a.n3 knowledge/knowledge.n3 engine/gps-plugin-validation.n3 --query  engine/gps-alert-detection.csvq --strings >path/detected-conflict-t3-a.csv\n",
    "conflict_action_a = pd.read_csv('path/detected-conflict-t3-a.csv', sep=',', encoding = 'utf-8')\n",
    "\n",
    "df_path_a = pd.read_csv('path/aggreagatedPath-plot-t3-a.csv', sep=',', encoding = 'utf-8')\n",
    "df_a = [dict(Task=df_path_a.action_name[0], Start=df_path_a.start_time[0], Finish=df_path_a.end_time[0], Resource=df_path_a.map_name[0])]\n",
    "i=1\n",
    "while i < len(df_path_a):\n",
    "    df_a.append( dict(Task=df_path_a.action_name[i], Start=df_path_a.start_time[i], Finish=df_path_a.end_time[i], Resource=df_path_a.map_name[i]) )\n",
    "    i+=1\n",
    "df_a.append( dict(Task=conflict_action_a.action_name[0], Start=conflict_action_a.start_time[0], Finish=conflict_action_a.end_time[0], Resource=conflict_action_a.map_name[0]) )\n",
    "\n",
    "\n",
    "colors = dict(Conflict = 'rgb(220, 0, 0)',\n",
    "              Colon_cancer = 'rgb(0, 0, 220)',\n",
    "              Parkinson = 'rgb(0, 220, 0)')\n",
    "fig_a_alert = ff.create_gantt(df_a, colors=colors, index_col='Resource', show_colorbar=True,  title='Path-Parkinson-Colon-Cancer-a')\n",
    "fig_a_alert['layout'].update(autosize=False, width=800, height=600, margin=dict(l=200))\n",
    "iplot(fig_a_alert, show_link=False)\n",
    "\n"
   ]
  },
  {
   "cell_type": "code",
   "execution_count": null,
   "metadata": {
    "colab": {},
    "colab_type": "code",
    "id": "6gabO4cc-p5O"
   },
   "outputs": [],
   "source": []
  },
  {
   "cell_type": "code",
   "execution_count": null,
   "metadata": {
    "colab": {},
    "colab_type": "code",
    "id": "bBz49CbJ-p5Y",
    "outputId": "fadcc353-b7c7-4970-b662-4d83bce004e6"
   },
   "outputs": [
    {
     "name": "stderr",
     "output_type": "stream",
     "text": [
      "eye --nope data/data-colon-cancer-t3-b.ttl data/t3.ttl parkinson/gps-desc.n3 parkinson/score-calculation.n3 colon-cancer/gps-desc.n3 colon-cancer/gps-knowledge.n3 path/aggreagatedPath-t3-b.n3 knowledge/knowledge.n3 engine/gps-plugin-validation.n3 --query engine/gps-alert-detection.csvq --strings\n",
      "EYE v18.0214.2047 josd\n",
      "SWI-Prolog 7.6.4 (x64-win64): Jan 12 2018, 14:06:18\n",
      "starting 31 [msec cputime] 194 [msec walltime]\n",
      "GET file:///d:/users/axifx/documents/github/restdesc/gps4ic/mockup-data/demo/data/data-colon-cancer-t3-b.ttl translating file:///d:/users/axifx/documents/github/restdesc/gps4ic/mockup-data/demo/data/data-colon-cancer-t3-b.ttl\n",
      "Done: translated 25 triples in 1.0 ms (24998 triples/s)\n",
      "SC=25\n",
      "GET file:///d:/users/axifx/documents/github/restdesc/gps4ic/mockup-data/demo/data/t3.ttl translating file:///d:/users/axifx/documents/github/restdesc/gps4ic/mockup-data/demo/data/t3.ttl\n",
      "Done: translated 1 triples in 1.0 ms (1000 triples/s)\n",
      "SC=1\n",
      "GET file:///d:/users/axifx/documents/github/restdesc/gps4ic/mockup-data/demo/parkinson/gps-desc.n3 translating file:///d:/users/axifx/documents/github/restdesc/gps4ic/mockup-data/demo/parkinson/gps-desc.n3\n",
      "Done: translated 32 triples in 1.0 ms (31997 triples/s)\n",
      "SC=32\n",
      "GET file:///d:/users/axifx/documents/github/restdesc/gps4ic/mockup-data/demo/parkinson/score-calculation.n3 translating file:///d:/users/axifx/documents/github/restdesc/gps4ic/mockup-data/demo/parkinson/score-calculation.n3\n",
      "Done: translated 7 triples in 1.0 ms (6999 triples/s)\n",
      "SC=7\n",
      "GET file:///d:/users/axifx/documents/github/restdesc/gps4ic/mockup-data/demo/colon-cancer/gps-desc.n3 translating file:///d:/users/axifx/documents/github/restdesc/gps4ic/mockup-data/demo/colon-cancer/gps-desc.n3\n",
      "Done: translated 92 triples in 1.0 ms (91991 triples/s)\n",
      "SC=92\n",
      "GET file:///d:/users/axifx/documents/github/restdesc/gps4ic/mockup-data/demo/colon-cancer/gps-knowledge.n3 translating file:///d:/users/axifx/documents/github/restdesc/gps4ic/mockup-data/demo/colon-cancer/gps-knowledge.n3\n",
      "Done: translated 62 triples in 1.0 ms (61994 triples/s)\n",
      "SC=62\n",
      "GET file:///d:/users/axifx/documents/github/restdesc/gps4ic/mockup-data/demo/path/aggreagatedpath-t3-b.n3 translating file:///d:/users/axifx/documents/github/restdesc/gps4ic/mockup-data/demo/path/aggreagatedpath-t3-b.n3\n",
      "Done: translated 23 triples\n",
      "SC=23\n",
      "GET file:///d:/users/axifx/documents/github/restdesc/gps4ic/mockup-data/demo/knowledge/knowledge.n3 translating file:///d:/users/axifx/documents/github/restdesc/gps4ic/mockup-data/demo/knowledge/knowledge.n3\n",
      "Done: translated 5 triples in 1.0 ms (5000 triples/s)\n",
      "SC=5\n",
      "GET file:///d:/users/axifx/documents/github/restdesc/gps4ic/mockup-data/demo/engine/gps-plugin-validation.n3 translating file:///d:/users/axifx/documents/github/restdesc/gps4ic/mockup-data/demo/engine/gps-plugin-validation.n3\n",
      "Done: translated 112 triples in 2.0 ms (55994 triples/s)\n",
      "SC=112\n",
      "GET file:///d:/users/axifx/documents/github/restdesc/gps4ic/mockup-data/demo/engine/gps-alert-detection.csvq translating file:///d:/users/axifx/documents/github/restdesc/gps4ic/mockup-data/demo/engine/gps-alert-detection.csvq\n",
      "Done: translated 13 triples in 1.0 ms (12999 triples/s)\n",
      "SC=13\n",
      "networking 0 [msec cputime] 323 [msec walltime]\n",
      "reasoning 15 [msec cputime] 14 [msec walltime]\n",
      "2018-03-15T17:07:26.058Z in=372 out=4 ent=1 step=2 brake=4 inf=62296 sec=0.046 inf/sec=1354261\n",
      "\n"
     ]
    },
    {
     "data": {
      "application/vnd.plotly.v1+json": {
       "data": [
        {
         "marker": {
          "color": "white"
         },
         "name": "",
         "x": [
          "2018-04-07T14:52:21.0Z",
          "2018-06-06T14:52:21.0Z"
         ],
         "y": [
          0,
          0
         ]
        },
        {
         "marker": {
          "color": "white"
         },
         "name": "",
         "x": [
          "2018-04-12T14:50:33Z",
          "2018-06-01T14:50:33.0Z"
         ],
         "y": [
          1,
          1
         ]
        },
        {
         "marker": {
          "color": "white"
         },
         "name": "",
         "x": [
          "2018-06-01T14:50:33.0Z",
          "2018-06-06T14:50:33.0Z"
         ],
         "y": [
          2,
          2
         ]
        },
        {
         "marker": {
          "color": "white"
         },
         "name": "",
         "x": [
          "2018-06-01T14:50:33.0Z",
          "2018-06-06T14:50:33.0Z"
         ],
         "y": [
          3,
          3
         ]
        },
        {
         "hoverinfo": "none",
         "marker": {
          "color": "rgb(0, 0, 220)",
          "size": 1
         },
         "name": "Colon_cancer",
         "showlegend": true,
         "x": [
          "2018-06-01T14:50:33.0Z",
          "2018-06-01T14:50:33.0Z"
         ],
         "y": [
          0,
          0
         ]
        },
        {
         "hoverinfo": "none",
         "marker": {
          "color": "rgb(220, 0, 0)",
          "size": 1
         },
         "name": "Conflict",
         "showlegend": true,
         "x": [
          "2018-06-01T14:50:33.0Z",
          "2018-06-01T14:50:33.0Z"
         ],
         "y": [
          1,
          1
         ]
        },
        {
         "hoverinfo": "none",
         "marker": {
          "color": "rgb(0, 220, 0)",
          "size": 1
         },
         "name": "Parkinson",
         "showlegend": true,
         "x": [
          "2018-06-01T14:50:33.0Z",
          "2018-06-01T14:50:33.0Z"
         ],
         "y": [
          2,
          2
         ]
        }
       ],
       "layout": {
        "autosize": false,
        "height": 600,
        "hovermode": "closest",
        "margin": {
         "l": 200
        },
        "shapes": [
         {
          "fillcolor": "rgb(0, 220, 0)",
          "line": {
           "width": 0
          },
          "opacity": 1,
          "type": "rect",
          "x0": "2018-04-07T14:52:21.0Z",
          "x1": "2018-06-06T14:52:21.0Z",
          "xref": "x",
          "y0": -0.2,
          "y1": 0.2,
          "yref": "y"
         },
         {
          "fillcolor": "rgb(0, 0, 220)",
          "line": {
           "width": 0
          },
          "opacity": 1,
          "type": "rect",
          "x0": "2018-04-12T14:50:33Z",
          "x1": "2018-06-01T14:50:33.0Z",
          "xref": "x",
          "y0": 0.8,
          "y1": 1.2,
          "yref": "y"
         },
         {
          "fillcolor": "rgb(0, 0, 220)",
          "line": {
           "width": 0
          },
          "opacity": 1,
          "type": "rect",
          "x0": "2018-06-01T14:50:33.0Z",
          "x1": "2018-06-06T14:50:33.0Z",
          "xref": "x",
          "y0": 1.8,
          "y1": 2.2,
          "yref": "y"
         },
         {
          "fillcolor": "rgb(220, 0, 0)",
          "line": {
           "width": 0
          },
          "opacity": 1,
          "type": "rect",
          "x0": "2018-06-01T14:50:33.0Z",
          "x1": "2018-06-06T14:50:33.0Z",
          "xref": "x",
          "y0": 2.8,
          "y1": 3.2,
          "yref": "y"
         }
        ],
        "showlegend": true,
        "title": "Path-Parkinson-Colon-Cancer-b",
        "width": 800,
        "xaxis": {
         "rangeselector": {
          "buttons": [
           {
            "count": 7,
            "label": "1w",
            "step": "day",
            "stepmode": "backward"
           },
           {
            "count": 1,
            "label": "1m",
            "step": "month",
            "stepmode": "backward"
           },
           {
            "count": 6,
            "label": "6m",
            "step": "month",
            "stepmode": "backward"
           },
           {
            "count": 1,
            "label": "YTD",
            "step": "year",
            "stepmode": "todate"
           },
           {
            "count": 1,
            "label": "1y",
            "step": "year",
            "stepmode": "backward"
           },
           {
            "step": "all"
           }
          ]
         },
         "showgrid": false,
         "type": "date",
         "zeroline": false
        },
        "yaxis": {
         "autorange": false,
         "range": [
          -1,
          5
         ],
         "showgrid": false,
         "ticktext": [
          "take_pill_Pramipexol",
          "Neoadjuvant_chemoradiotherapy",
          "surgery_colon_cancer",
          "surgery_colon_cancer"
         ],
         "tickvals": [
          0,
          1,
          2,
          3
         ],
         "zeroline": false
        }
       }
      },
      "text/html": [
       "<div id=\"0d7a68fa-a992-46e2-8a79-2a543d1e9b41\" style=\"height: 600px; width: 800px;\" class=\"plotly-graph-div\"></div><script type=\"text/javascript\">require([\"plotly\"], function(Plotly) { window.PLOTLYENV=window.PLOTLYENV || {};window.PLOTLYENV.BASE_URL=\"https://plot.ly\";Plotly.newPlot(\"0d7a68fa-a992-46e2-8a79-2a543d1e9b41\", [{\"x\": [\"2018-04-07T14:52:21.0Z\", \"2018-06-06T14:52:21.0Z\"], \"y\": [0, 0], \"name\": \"\", \"marker\": {\"color\": \"white\"}}, {\"x\": [\"2018-04-12T14:50:33Z\", \"2018-06-01T14:50:33.0Z\"], \"y\": [1, 1], \"name\": \"\", \"marker\": {\"color\": \"white\"}}, {\"x\": [\"2018-06-01T14:50:33.0Z\", \"2018-06-06T14:50:33.0Z\"], \"y\": [2, 2], \"name\": \"\", \"marker\": {\"color\": \"white\"}}, {\"x\": [\"2018-06-01T14:50:33.0Z\", \"2018-06-06T14:50:33.0Z\"], \"y\": [3, 3], \"name\": \"\", \"marker\": {\"color\": \"white\"}}, {\"x\": [\"2018-06-01T14:50:33.0Z\", \"2018-06-01T14:50:33.0Z\"], \"y\": [0, 0], \"showlegend\": true, \"hoverinfo\": \"none\", \"name\": \"Colon_cancer\", \"marker\": {\"color\": \"rgb(0, 0, 220)\", \"size\": 1}}, {\"x\": [\"2018-06-01T14:50:33.0Z\", \"2018-06-01T14:50:33.0Z\"], \"y\": [1, 1], \"showlegend\": true, \"hoverinfo\": \"none\", \"name\": \"Conflict\", \"marker\": {\"color\": \"rgb(220, 0, 0)\", \"size\": 1}}, {\"x\": [\"2018-06-01T14:50:33.0Z\", \"2018-06-01T14:50:33.0Z\"], \"y\": [2, 2], \"showlegend\": true, \"hoverinfo\": \"none\", \"name\": \"Parkinson\", \"marker\": {\"color\": \"rgb(0, 220, 0)\", \"size\": 1}}], {\"title\": \"Path-Parkinson-Colon-Cancer-b\", \"showlegend\": true, \"height\": 600, \"width\": 800, \"shapes\": [{\"x0\": \"2018-04-07T14:52:21.0Z\", \"x1\": \"2018-06-06T14:52:21.0Z\", \"type\": \"rect\", \"xref\": \"x\", \"yref\": \"y\", \"opacity\": 1, \"line\": {\"width\": 0}, \"y0\": -0.2, \"y1\": 0.2, \"fillcolor\": \"rgb(0, 220, 0)\"}, {\"x0\": \"2018-04-12T14:50:33Z\", \"x1\": \"2018-06-01T14:50:33.0Z\", \"type\": \"rect\", \"xref\": \"x\", \"yref\": \"y\", \"opacity\": 1, \"line\": {\"width\": 0}, \"y0\": 0.8, \"y1\": 1.2, \"fillcolor\": \"rgb(0, 0, 220)\"}, {\"x0\": \"2018-06-01T14:50:33.0Z\", \"x1\": \"2018-06-06T14:50:33.0Z\", \"type\": \"rect\", \"xref\": \"x\", \"yref\": \"y\", \"opacity\": 1, \"line\": {\"width\": 0}, \"y0\": 1.8, \"y1\": 2.2, \"fillcolor\": \"rgb(0, 0, 220)\"}, {\"x0\": \"2018-06-01T14:50:33.0Z\", \"x1\": \"2018-06-06T14:50:33.0Z\", \"type\": \"rect\", \"xref\": \"x\", \"yref\": \"y\", \"opacity\": 1, \"line\": {\"width\": 0}, \"y0\": 2.8, \"y1\": 3.2, \"fillcolor\": \"rgb(220, 0, 0)\"}], \"hovermode\": \"closest\", \"yaxis\": {\"showgrid\": false, \"ticktext\": [\"take_pill_Pramipexol\", \"Neoadjuvant_chemoradiotherapy\", \"surgery_colon_cancer\", \"surgery_colon_cancer\"], \"tickvals\": [0, 1, 2, 3], \"range\": [-1, 5], \"autorange\": false, \"zeroline\": false}, \"xaxis\": {\"showgrid\": false, \"zeroline\": false, \"rangeselector\": {\"buttons\": [{\"count\": 7, \"label\": \"1w\", \"step\": \"day\", \"stepmode\": \"backward\"}, {\"count\": 1, \"label\": \"1m\", \"step\": \"month\", \"stepmode\": \"backward\"}, {\"count\": 6, \"label\": \"6m\", \"step\": \"month\", \"stepmode\": \"backward\"}, {\"count\": 1, \"label\": \"YTD\", \"step\": \"year\", \"stepmode\": \"todate\"}, {\"count\": 1, \"label\": \"1y\", \"step\": \"year\", \"stepmode\": \"backward\"}, {\"step\": \"all\"}]}, \"type\": \"date\"}, \"autosize\": false, \"margin\": {\"l\": 200}}, {\"showLink\": false, \"linkText\": \"Export to plot.ly\"})});</script>"
      ],
      "text/vnd.plotly.v1+html": [
       "<div id=\"0d7a68fa-a992-46e2-8a79-2a543d1e9b41\" style=\"height: 600px; width: 800px;\" class=\"plotly-graph-div\"></div><script type=\"text/javascript\">require([\"plotly\"], function(Plotly) { window.PLOTLYENV=window.PLOTLYENV || {};window.PLOTLYENV.BASE_URL=\"https://plot.ly\";Plotly.newPlot(\"0d7a68fa-a992-46e2-8a79-2a543d1e9b41\", [{\"x\": [\"2018-04-07T14:52:21.0Z\", \"2018-06-06T14:52:21.0Z\"], \"y\": [0, 0], \"name\": \"\", \"marker\": {\"color\": \"white\"}}, {\"x\": [\"2018-04-12T14:50:33Z\", \"2018-06-01T14:50:33.0Z\"], \"y\": [1, 1], \"name\": \"\", \"marker\": {\"color\": \"white\"}}, {\"x\": [\"2018-06-01T14:50:33.0Z\", \"2018-06-06T14:50:33.0Z\"], \"y\": [2, 2], \"name\": \"\", \"marker\": {\"color\": \"white\"}}, {\"x\": [\"2018-06-01T14:50:33.0Z\", \"2018-06-06T14:50:33.0Z\"], \"y\": [3, 3], \"name\": \"\", \"marker\": {\"color\": \"white\"}}, {\"x\": [\"2018-06-01T14:50:33.0Z\", \"2018-06-01T14:50:33.0Z\"], \"y\": [0, 0], \"showlegend\": true, \"hoverinfo\": \"none\", \"name\": \"Colon_cancer\", \"marker\": {\"color\": \"rgb(0, 0, 220)\", \"size\": 1}}, {\"x\": [\"2018-06-01T14:50:33.0Z\", \"2018-06-01T14:50:33.0Z\"], \"y\": [1, 1], \"showlegend\": true, \"hoverinfo\": \"none\", \"name\": \"Conflict\", \"marker\": {\"color\": \"rgb(220, 0, 0)\", \"size\": 1}}, {\"x\": [\"2018-06-01T14:50:33.0Z\", \"2018-06-01T14:50:33.0Z\"], \"y\": [2, 2], \"showlegend\": true, \"hoverinfo\": \"none\", \"name\": \"Parkinson\", \"marker\": {\"color\": \"rgb(0, 220, 0)\", \"size\": 1}}], {\"title\": \"Path-Parkinson-Colon-Cancer-b\", \"showlegend\": true, \"height\": 600, \"width\": 800, \"shapes\": [{\"x0\": \"2018-04-07T14:52:21.0Z\", \"x1\": \"2018-06-06T14:52:21.0Z\", \"type\": \"rect\", \"xref\": \"x\", \"yref\": \"y\", \"opacity\": 1, \"line\": {\"width\": 0}, \"y0\": -0.2, \"y1\": 0.2, \"fillcolor\": \"rgb(0, 220, 0)\"}, {\"x0\": \"2018-04-12T14:50:33Z\", \"x1\": \"2018-06-01T14:50:33.0Z\", \"type\": \"rect\", \"xref\": \"x\", \"yref\": \"y\", \"opacity\": 1, \"line\": {\"width\": 0}, \"y0\": 0.8, \"y1\": 1.2, \"fillcolor\": \"rgb(0, 0, 220)\"}, {\"x0\": \"2018-06-01T14:50:33.0Z\", \"x1\": \"2018-06-06T14:50:33.0Z\", \"type\": \"rect\", \"xref\": \"x\", \"yref\": \"y\", \"opacity\": 1, \"line\": {\"width\": 0}, \"y0\": 1.8, \"y1\": 2.2, \"fillcolor\": \"rgb(0, 0, 220)\"}, {\"x0\": \"2018-06-01T14:50:33.0Z\", \"x1\": \"2018-06-06T14:50:33.0Z\", \"type\": \"rect\", \"xref\": \"x\", \"yref\": \"y\", \"opacity\": 1, \"line\": {\"width\": 0}, \"y0\": 2.8, \"y1\": 3.2, \"fillcolor\": \"rgb(220, 0, 0)\"}], \"hovermode\": \"closest\", \"yaxis\": {\"showgrid\": false, \"ticktext\": [\"take_pill_Pramipexol\", \"Neoadjuvant_chemoradiotherapy\", \"surgery_colon_cancer\", \"surgery_colon_cancer\"], \"tickvals\": [0, 1, 2, 3], \"range\": [-1, 5], \"autorange\": false, \"zeroline\": false}, \"xaxis\": {\"showgrid\": false, \"zeroline\": false, \"rangeselector\": {\"buttons\": [{\"count\": 7, \"label\": \"1w\", \"step\": \"day\", \"stepmode\": \"backward\"}, {\"count\": 1, \"label\": \"1m\", \"step\": \"month\", \"stepmode\": \"backward\"}, {\"count\": 6, \"label\": \"6m\", \"step\": \"month\", \"stepmode\": \"backward\"}, {\"count\": 1, \"label\": \"YTD\", \"step\": \"year\", \"stepmode\": \"todate\"}, {\"count\": 1, \"label\": \"1y\", \"step\": \"year\", \"stepmode\": \"backward\"}, {\"step\": \"all\"}]}, \"type\": \"date\"}, \"autosize\": false, \"margin\": {\"l\": 200}}, {\"showLink\": false, \"linkText\": \"Export to plot.ly\"})});</script>"
      ]
     },
     "metadata": {
      "tags": []
     },
     "output_type": "display_data"
    }
   ],
   "source": [
    "!eye --nope data/data-colon-cancer-t3-b.ttl data/t3.ttl parkinson/gps-desc.n3 parkinson/score-calculation.n3  colon-cancer/gps-desc.n3 colon-cancer/gps-knowledge.n3 path/aggreagatedPath-t3-b.n3 knowledge/knowledge.n3 engine/gps-plugin-validation.n3 --query  engine/gps-alert-detection.csvq --strings >path/detected-conflict-t3-b.csv\n",
    "\n",
    "conflict_action_b = pd.read_csv('path/detected-conflict-t3-b.csv', sep=',', encoding = 'utf-8')\n",
    "\n",
    "df_path_b = pd.read_csv('path/aggreagatedPath-plot-t3-b.csv', sep=',', encoding = 'utf-8')\n",
    "df_b = [dict(Task=df_path_b.action_name[0], Start=df_path_b.start_time[0], Finish=df_path_b.end_time[0], Resource=df_path_b.map_name[0])]\n",
    "i=1\n",
    "while i < len(df_path_b):\n",
    "    df_b.append( dict(Task=df_path_b.action_name[i], Start=df_path_b.start_time[i], Finish=df_path_b.end_time[i], Resource=df_path_b.map_name[i]) )\n",
    "    i+=1\n",
    "df_b.append( dict(Task=conflict_action_b.action_name[0], Start=conflict_action_b.start_time[0], Finish=conflict_action_b.end_time[0], Resource=conflict_action_b.map_name[0]) )\n",
    "\n",
    "\n",
    "colors = dict(Conflict = 'rgb(220, 0, 0)',\n",
    "              Colon_cancer = 'rgb(0, 0, 220)',\n",
    "              Parkinson = 'rgb(0, 220, 0)')\n",
    "\n",
    "fig_b_alert = ff.create_gantt(df_b, colors=colors, index_col='Resource', show_colorbar=True,  title='Path-Parkinson-Colon-Cancer-b')\n",
    "fig_b_alert['layout'].update(autosize=False, width=800, height=600, margin=dict(l=200))\n",
    "\n",
    "iplot(fig_b_alert, show_link=False)"
   ]
  },
  {
   "cell_type": "markdown",
   "metadata": {
    "colab_type": "text",
    "id": "C4WFcVAg-p5d"
   },
   "source": [
    "### Break down the task of adjuvant_chemoradiotherapy into a set of episodes"
   ]
  },
  {
   "cell_type": "markdown",
   "metadata": {
    "colab_type": "text",
    "id": "PGdA54HH-p5d"
   },
   "source": [
    "#### Generate query of finishing the task of adjuvant_chemoradiotherapy (that will be used to generate sub steps)."
   ]
  },
  {
   "cell_type": "code",
   "execution_count": null,
   "metadata": {
    "colab": {},
    "colab_type": "code",
    "id": "UaZBaawN-p5e",
    "outputId": "fd459ad6-fd90-4469-ba3b-31f0807a7eb4"
   },
   "outputs": [
    {
     "name": "stderr",
     "output_type": "stream",
     "text": [
      "eye --nope path/initial-temporal-path-t3-a.n3 colon-cancer/gps-desc.n3 --query colon-cancer/details/gps-adjuvant-chemoradiotherapy-goal-gen.n3q\n",
      "EYE v18.0214.2047 josd\n",
      "SWI-Prolog 7.6.4 (x64-win64): Jan 12 2018, 14:06:18\n",
      "starting 15 [msec cputime] 209 [msec walltime]\n",
      "GET file:///d:/users/axifx/documents/github/restdesc/gps4ic/mockup-data/demo/path/initial-temporal-path-t3-a.n3 translating file:///d:/users/axifx/documents/github/restdesc/gps4ic/mockup-data/demo/path/initial-temporal-path-t3-a.n3\n",
      "Done: translated 1 triples in 1.0 ms (1000 triples/s)\n",
      "SC=1\n",
      "GET file:///d:/users/axifx/documents/github/restdesc/gps4ic/mockup-data/demo/colon-cancer/gps-desc.n3 translating file:///d:/users/axifx/documents/github/restdesc/gps4ic/mockup-data/demo/colon-cancer/gps-desc.n3\n",
      "Done: translated 92 triples in 1.0 ms (91991 triples/s)\n",
      "SC=92\n",
      "GET file:///d:/users/axifx/documents/github/restdesc/gps4ic/mockup-data/demo/colon-cancer/details/gps-adjuvant-chemoradiotherapy-goal-gen.n3q translating file:///d:/users/axifx/documents/github/restdesc/gps4ic/mockup-data/demo/colon-cancer/details/gps-adjuvant-chemoradiotherapy-goal-gen.n3q\n",
      "Done: translated 13 triples in 2.0 ms (6499 triples/s)\n",
      "SC=13\n",
      "networking 16 [msec cputime] 134 [msec walltime]\n",
      "reasoning 15 [msec cputime] 2 [msec walltime]\n",
      "2018-03-15T17:07:26.522Z in=106 out=1 ent=1 step=2 brake=1 inf=26846 sec=0.046 inf/sec=583609\n",
      "\n"
     ]
    }
   ],
   "source": [
    "!eye --nope path/initial-temporal-path-t3-a.n3 colon-cancer/gps-desc.n3 --query colon-cancer/details/gps-adjuvant-chemoradiotherapy-goal-gen.n3q >colon-cancer/details/goal_adjuvant_chemoradiotherapy.n3q"
   ]
  },
  {
   "cell_type": "markdown",
   "metadata": {
    "colab_type": "text",
    "id": "1IVTsKm--p5j"
   },
   "source": [
    "#### Retrieve the start time of the adjuvant_chemoradiotherapy."
   ]
  },
  {
   "cell_type": "code",
   "execution_count": null,
   "metadata": {
    "colab": {},
    "colab_type": "code",
    "id": "5z-jWMds-p5l",
    "outputId": "bef4b81d-d05f-45a2-815c-eee7504f859f"
   },
   "outputs": [
    {
     "name": "stderr",
     "output_type": "stream",
     "text": [
      "eye --nope path/initial-temporal-path-t3-a.n3 --query colon-cancer/details/gps-adjuvant-chemoradiotherapy-time-gen.n3q\n",
      "EYE v18.0214.2047 josd\n",
      "SWI-Prolog 7.6.4 (x64-win64): Jan 12 2018, 14:06:18\n",
      "starting 15 [msec cputime] 175 [msec walltime]\n",
      "GET file:///d:/users/axifx/documents/github/restdesc/gps4ic/mockup-data/demo/path/initial-temporal-path-t3-a.n3 translating file:///d:/users/axifx/documents/github/restdesc/gps4ic/mockup-data/demo/path/initial-temporal-path-t3-a.n3\n",
      "Done: translated 1 triples\n",
      "SC=1\n",
      "GET file:///d:/users/axifx/documents/github/restdesc/gps4ic/mockup-data/demo/colon-cancer/details/gps-adjuvant-chemoradiotherapy-time-gen.n3q translating file:///d:/users/axifx/documents/github/restdesc/gps4ic/mockup-data/demo/colon-cancer/details/gps-adjuvant-chemoradiotherapy-time-gen.n3q\n",
      "Done: translated 4 triples in 2.0 ms (2000 triples/s)\n",
      "SC=4\n",
      "networking 0 [msec cputime] 59 [msec walltime]\n",
      "reasoning 0 [msec cputime] 1 [msec walltime]\n",
      "2018-03-15T17:07:26.991Z in=5 out=1 ent=1 step=2 brake=1 inf=20927 sec=0.015 inf/sec=1395133\n",
      "\n"
     ]
    }
   ],
   "source": [
    "!eye --nope path/initial-temporal-path-t3-a.n3 --query colon-cancer/details/gps-adjuvant-chemoradiotherapy-time-gen.n3q >colon-cancer/details/adjuvant_chemoradiotherapy_start_time.ttl"
   ]
  },
  {
   "cell_type": "markdown",
   "metadata": {
    "colab_type": "text",
    "id": "vQhG5nzh-p5y"
   },
   "source": [
    "#### Generate sub-plans for adjuvant-chemoradiotherapy."
   ]
  },
  {
   "cell_type": "code",
   "execution_count": null,
   "metadata": {
    "colab": {},
    "colab_type": "code",
    "id": "2oAzFvjx-p51",
    "outputId": "1a157a29-db19-4646-9e11-994c4cfcdad1"
   },
   "outputs": [
    {
     "name": "stderr",
     "output_type": "stream",
     "text": [
      "eye --nope path/initial-temporal-path-t3-a.n3 colon-cancer/gps-desc.n3 colon-cancer/details/gps-desc-exd.n3 engine/gps-plugin.n3 --query colon-cancer/details/goal_adjuvant_chemoradiotherapy.n3q\n",
      "EYE v18.0214.2047 josd\n",
      "SWI-Prolog 7.6.4 (x64-win64): Jan 12 2018, 14:06:18\n",
      "starting 31 [msec cputime] 155 [msec walltime]\n",
      "GET file:///d:/users/axifx/documents/github/restdesc/gps4ic/mockup-data/demo/path/initial-temporal-path-t3-a.n3 translating file:///d:/users/axifx/documents/github/restdesc/gps4ic/mockup-data/demo/path/initial-temporal-path-t3-a.n3\n",
      "Done: translated 1 triples\n",
      "SC=1\n",
      "GET file:///d:/users/axifx/documents/github/restdesc/gps4ic/mockup-data/demo/colon-cancer/gps-desc.n3 translating file:///d:/users/axifx/documents/github/restdesc/gps4ic/mockup-data/demo/colon-cancer/gps-desc.n3\n",
      "Done: translated 92 triples in 2.0 ms (45995 triples/s)\n",
      "SC=92\n",
      "GET file:///d:/users/axifx/documents/github/restdesc/gps4ic/mockup-data/demo/colon-cancer/details/gps-desc-exd.n3 translating file:///d:/users/axifx/documents/github/restdesc/gps4ic/mockup-data/demo/colon-cancer/details/gps-desc-exd.n3\n",
      "Done: translated 58 triples in 1.0 ms (57994 triples/s)\n",
      "SC=58\n",
      "GET file:///d:/users/axifx/documents/github/restdesc/gps4ic/mockup-data/demo/engine/gps-plugin.n3 translating file:///d:/users/axifx/documents/github/restdesc/gps4ic/mockup-data/demo/engine/gps-plugin.n3\n",
      "Done: translated 47 triples in 1.0 ms (46995 triples/s)\n",
      "SC=47\n",
      "GET file:///d:/users/axifx/documents/github/restdesc/gps4ic/mockup-data/demo/colon-cancer/details/goal_adjuvant_chemoradiotherapy.n3q translating file:///d:/users/axifx/documents/github/restdesc/gps4ic/mockup-data/demo/colon-cancer/details/goal_adjuvant_chemoradiotherapy.n3q\n",
      "Done: translated 4 triples in 1.0 ms (4000 triples/s)\n",
      "SC=4\n",
      "networking 0 [msec cputime] 161 [msec walltime]\n",
      "reasoning 15 [msec cputime] 6 [msec walltime]\n",
      "2018-03-15T17:07:27.427Z in=202 out=1 ent=1 step=4 brake=2 inf=44204 sec=0.046 inf/sec=960957\n",
      "\n"
     ]
    }
   ],
   "source": [
    "!eye --nope path/initial-temporal-path-t3-a.n3 colon-cancer/gps-desc.n3 colon-cancer/details/gps-desc-exd.n3 engine/gps-plugin.n3 --query colon-cancer/details/goal_adjuvant_chemoradiotherapy.n3q >path/path_adjuvant_chemoradiotherapy.n3"
   ]
  },
  {
   "cell_type": "markdown",
   "metadata": {
    "colab_type": "text",
    "id": "OFHR_yHQ-p58"
   },
   "source": [
    "#### Temporally process the generated path, to add start and end time for each episode."
   ]
  },
  {
   "cell_type": "code",
   "execution_count": null,
   "metadata": {
    "colab": {},
    "colab_type": "code",
    "id": "g6vpRfC2-p58",
    "outputId": "638483f2-c182-4f65-88bc-5ae4329de2b9"
   },
   "outputs": [
    {
     "name": "stderr",
     "output_type": "stream",
     "text": [
      "eye --nope path/path_adjuvant_chemoradiotherapy-selected.n3 colon-cancer/details/adjuvant_chemoradiotherapy_start_time.ttl engine/gps-temporal-rule.n3 colon-cancer/details/gps-desc-exd.n3 --query engine/gps-temporal-query.n3q\n",
      "EYE v18.0214.2047 josd\n",
      "SWI-Prolog 7.6.4 (x64-win64): Jan 12 2018, 14:06:18\n",
      "starting 31 [msec cputime] 145 [msec walltime]\n",
      "GET file:///d:/users/axifx/documents/github/restdesc/gps4ic/mockup-data/demo/path/path_adjuvant_chemoradiotherapy-selected.n3 translating file:///d:/users/axifx/documents/github/restdesc/gps4ic/mockup-data/demo/path/path_adjuvant_chemoradiotherapy-selected.n3\n",
      "Done: translated 1 triples in 2.0 ms (500 triples/s)\n",
      "SC=1\n",
      "GET file:///d:/users/axifx/documents/github/restdesc/gps4ic/mockup-data/demo/colon-cancer/details/adjuvant_chemoradiotherapy_start_time.ttl translating file:///d:/users/axifx/documents/github/restdesc/gps4ic/mockup-data/demo/colon-cancer/details/adjuvant_chemoradiotherapy_start_time.ttl\n",
      "Done: translated 1 triples\n",
      "SC=1\n",
      "GET file:///d:/users/axifx/documents/github/restdesc/gps4ic/mockup-data/demo/engine/gps-temporal-rule.n3 translating file:///d:/users/axifx/documents/github/restdesc/gps4ic/mockup-data/demo/engine/gps-temporal-rule.n3\n",
      "Done: translated 55 triples in 2.0 ms (27497 triples/s)\n",
      "SC=55\n",
      "GET file:///d:/users/axifx/documents/github/restdesc/gps4ic/mockup-data/demo/colon-cancer/details/gps-desc-exd.n3 translating file:///d:/users/axifx/documents/github/restdesc/gps4ic/mockup-data/demo/colon-cancer/details/gps-desc-exd.n3\n",
      "Done: translated 58 triples in 1.0 ms (57994 triples/s)\n",
      "SC=58\n",
      "GET file:///d:/users/axifx/documents/github/restdesc/gps4ic/mockup-data/demo/engine/gps-temporal-query.n3q translating file:///d:/users/axifx/documents/github/restdesc/gps4ic/mockup-data/demo/engine/gps-temporal-query.n3q\n",
      "Done: translated 3 triples in 1.0 ms (3000 triples/s)\n",
      "SC=3\n",
      "networking 15 [msec cputime] 149 [msec walltime]\n",
      "reasoning 16 [msec cputime] 17 [msec walltime]\n",
      "2018-03-15T17:07:27.843Z in=118 out=1 ent=24 step=81 brake=10 inf=130045 sec=0.062 inf/sec=2097500\n",
      "\n"
     ]
    }
   ],
   "source": [
    "!eye --nope path/path_adjuvant_chemoradiotherapy-selected.n3 colon-cancer/details/adjuvant_chemoradiotherapy_start_time.ttl engine/gps-temporal-rule.n3 colon-cancer/details/gps-desc-exd.n3 --query engine/gps-temporal-query.n3q>path/path_adjuvant_chemoradiotherapy_temporal.n3"
   ]
  },
  {
   "cell_type": "markdown",
   "metadata": {
    "colab_type": "text",
    "id": "h5CRS0px-p6C"
   },
   "source": [
    "#### Generate the csv file for visualization."
   ]
  },
  {
   "cell_type": "code",
   "execution_count": null,
   "metadata": {
    "colab": {},
    "colab_type": "code",
    "id": "pUHWtuVP-p6F",
    "outputId": "532316d6-9a11-4863-ec18-54d40e175546"
   },
   "outputs": [
    {
     "name": "stderr",
     "output_type": "stream",
     "text": [
      "eye --nope path/path_adjuvant_chemoradiotherapy_temporal.n3 colon-cancer/details/gps-desc-exd.n3 engine/path-processor-visual.n3 --query engine/path-processor-visual.csvq --strings\n",
      "EYE v18.0214.2047 josd\n",
      "SWI-Prolog 7.6.4 (x64-win64): Jan 12 2018, 14:06:18\n",
      "starting 15 [msec cputime] 134 [msec walltime]\n",
      "GET file:///d:/users/axifx/documents/github/restdesc/gps4ic/mockup-data/demo/path/path_adjuvant_chemoradiotherapy_temporal.n3 translating file:///d:/users/axifx/documents/github/restdesc/gps4ic/mockup-data/demo/path/path_adjuvant_chemoradiotherapy_temporal.n3\n",
      "Done: translated 1 triples in 1.0 ms (1000 triples/s)\n",
      "SC=1\n",
      "GET file:///d:/users/axifx/documents/github/restdesc/gps4ic/mockup-data/demo/colon-cancer/details/gps-desc-exd.n3 translating file:///d:/users/axifx/documents/github/restdesc/gps4ic/mockup-data/demo/colon-cancer/details/gps-desc-exd.n3\n",
      "Done: translated 58 triples in 1.0 ms (57994 triples/s)\n",
      "SC=58\n",
      "GET file:///d:/users/axifx/documents/github/restdesc/gps4ic/mockup-data/demo/engine/path-processor-visual.n3 translating file:///d:/users/axifx/documents/github/restdesc/gps4ic/mockup-data/demo/engine/path-processor-visual.n3\n",
      "Done: translated 17 triples in 1.0 ms (16998 triples/s)\n",
      "SC=17\n",
      "GET file:///d:/users/axifx/documents/github/restdesc/gps4ic/mockup-data/demo/engine/path-processor-visual.csvq translating file:///d:/users/axifx/documents/github/restdesc/gps4ic/mockup-data/demo/engine/path-processor-visual.csvq\n",
      "Done: translated 3 triples in 1.0 ms (3000 triples/s)\n",
      "SC=3\n",
      "networking 31 [msec cputime] 133 [msec walltime]\n",
      "reasoning 0 [msec cputime] 5 [msec walltime]\n",
      "2018-03-15T17:07:28.214Z in=79 out=16 ent=4 step=16 brake=2 inf=38549 sec=0.046 inf/sec=838022\n",
      "\n"
     ]
    }
   ],
   "source": [
    "!eye --nope path/path_adjuvant_chemoradiotherapy_temporal.n3 colon-cancer/details/gps-desc-exd.n3 engine/path-processor-visual.n3 --query engine/path-processor-visual.csvq --strings >path/path_adjuvant_chemoradiotherapy.csv"
   ]
  },
  {
   "cell_type": "markdown",
   "metadata": {
    "colab_type": "text",
    "id": "epKPGFbb-p6P"
   },
   "source": [
    "#### Visualize the output"
   ]
  },
  {
   "cell_type": "code",
   "execution_count": null,
   "metadata": {
    "colab": {},
    "colab_type": "code",
    "id": "Jcopwr1L-p6P",
    "outputId": "13b428e1-911d-46ff-c428-d736a0b05340"
   },
   "outputs": [
    {
     "data": {
      "application/vnd.plotly.v1+json": {
       "data": [
        {
         "marker": {
          "color": "white"
         },
         "name": "",
         "x": [
          "2018-04-07T14:52:21.0Z",
          "2018-06-06T14:52:21.0Z"
         ],
         "y": [
          0,
          0
         ]
        },
        {
         "marker": {
          "color": "white"
         },
         "name": "",
         "x": [
          "2018-04-12T14:50:33Z",
          "2018-04-17T14:50:33.0Z"
         ],
         "y": [
          1,
          1
         ]
        },
        {
         "marker": {
          "color": "white"
         },
         "name": "",
         "x": [
          "2018-04-17T14:50:33.0Z",
          "2018-07-06T14:50:33.0Z"
         ],
         "y": [
          2,
          2
         ]
        },
        {
         "marker": {
          "color": "white"
         },
         "name": "",
         "x": [
          "2018-04-12T14:50:33Z",
          "2018-04-17T14:50:33.0Z"
         ],
         "y": [
          3,
          3
         ]
        },
        {
         "marker": {
          "color": "white"
         },
         "name": "",
         "x": [
          "2018-04-17T14:50:33Z",
          "2018-05-07T14:50:33.0Z"
         ],
         "y": [
          4,
          4
         ]
        },
        {
         "marker": {
          "color": "white"
         },
         "name": "",
         "x": [
          "2018-05-07T14:50:33.0Z",
          "2018-05-27T14:50:33.0Z"
         ],
         "y": [
          5,
          5
         ]
        },
        {
         "marker": {
          "color": "white"
         },
         "name": "",
         "x": [
          "2018-05-27T14:50:33.0Z",
          "2018-06-16T14:50:33.0Z"
         ],
         "y": [
          6,
          6
         ]
        },
        {
         "marker": {
          "color": "white"
         },
         "name": "",
         "x": [
          "2018-06-16T14:50:33.0Z",
          "2018-07-06T14:50:33.0Z"
         ],
         "y": [
          7,
          7
         ]
        },
        {
         "hoverinfo": "none",
         "marker": {
          "color": "rgb(0, 0, 220)",
          "size": 1
         },
         "name": "Colon_cancer",
         "showlegend": true,
         "x": [
          "2018-06-16T14:50:33.0Z",
          "2018-06-16T14:50:33.0Z"
         ],
         "y": [
          0,
          0
         ]
        },
        {
         "hoverinfo": "none",
         "marker": {
          "color": "rgb(60, 60, 60)",
          "size": 1
         },
         "name": "Colon_cancer_a_c",
         "showlegend": true,
         "x": [
          "2018-06-16T14:50:33.0Z",
          "2018-06-16T14:50:33.0Z"
         ],
         "y": [
          1,
          1
         ]
        },
        {
         "hoverinfo": "none",
         "marker": {
          "color": "rgb(220, 0, 0)",
          "size": 1
         },
         "name": "Conflict",
         "showlegend": true,
         "x": [
          "2018-06-16T14:50:33.0Z",
          "2018-06-16T14:50:33.0Z"
         ],
         "y": [
          2,
          2
         ]
        },
        {
         "hoverinfo": "none",
         "marker": {
          "color": "rgb(0, 220, 0)",
          "size": 1
         },
         "name": "Parkinson",
         "showlegend": true,
         "x": [
          "2018-06-16T14:50:33.0Z",
          "2018-06-16T14:50:33.0Z"
         ],
         "y": [
          3,
          3
         ]
        }
       ],
       "layout": {
        "autosize": false,
        "height": 600,
        "hovermode": "closest",
        "margin": {
         "l": 200
        },
        "shapes": [
         {
          "fillcolor": "rgb(0, 220, 0)",
          "line": {
           "width": 0
          },
          "opacity": 1,
          "type": "rect",
          "x0": "2018-04-07T14:52:21.0Z",
          "x1": "2018-06-06T14:52:21.0Z",
          "xref": "x",
          "y0": -0.2,
          "y1": 0.2,
          "yref": "y"
         },
         {
          "fillcolor": "rgb(0, 0, 220)",
          "line": {
           "width": 0
          },
          "opacity": 1,
          "type": "rect",
          "x0": "2018-04-12T14:50:33Z",
          "x1": "2018-04-17T14:50:33.0Z",
          "xref": "x",
          "y0": 0.8,
          "y1": 1.2,
          "yref": "y"
         },
         {
          "fillcolor": "rgb(0, 0, 220)",
          "line": {
           "width": 0
          },
          "opacity": 1,
          "type": "rect",
          "x0": "2018-04-17T14:50:33.0Z",
          "x1": "2018-07-06T14:50:33.0Z",
          "xref": "x",
          "y0": 1.8,
          "y1": 2.2,
          "yref": "y"
         },
         {
          "fillcolor": "rgb(220, 0, 0)",
          "line": {
           "width": 0
          },
          "opacity": 1,
          "type": "rect",
          "x0": "2018-04-12T14:50:33Z",
          "x1": "2018-04-17T14:50:33.0Z",
          "xref": "x",
          "y0": 2.8,
          "y1": 3.2,
          "yref": "y"
         },
         {
          "fillcolor": "rgb(60, 60, 60)",
          "line": {
           "width": 0
          },
          "opacity": 1,
          "type": "rect",
          "x0": "2018-04-17T14:50:33Z",
          "x1": "2018-05-07T14:50:33.0Z",
          "xref": "x",
          "y0": 3.8,
          "y1": 4.2,
          "yref": "y"
         },
         {
          "fillcolor": "rgb(60, 60, 60)",
          "line": {
           "width": 0
          },
          "opacity": 1,
          "type": "rect",
          "x0": "2018-05-07T14:50:33.0Z",
          "x1": "2018-05-27T14:50:33.0Z",
          "xref": "x",
          "y0": 4.8,
          "y1": 5.2,
          "yref": "y"
         },
         {
          "fillcolor": "rgb(60, 60, 60)",
          "line": {
           "width": 0
          },
          "opacity": 1,
          "type": "rect",
          "x0": "2018-05-27T14:50:33.0Z",
          "x1": "2018-06-16T14:50:33.0Z",
          "xref": "x",
          "y0": 5.8,
          "y1": 6.2,
          "yref": "y"
         },
         {
          "fillcolor": "rgb(60, 60, 60)",
          "line": {
           "width": 0
          },
          "opacity": 1,
          "type": "rect",
          "x0": "2018-06-16T14:50:33.0Z",
          "x1": "2018-07-06T14:50:33.0Z",
          "xref": "x",
          "y0": 6.8,
          "y1": 7.2,
          "yref": "y"
         }
        ],
        "showlegend": true,
        "title": "Path-Parkinson-Colon-Cancer-a",
        "width": 800,
        "xaxis": {
         "rangeselector": {
          "buttons": [
           {
            "count": 7,
            "label": "1w",
            "step": "day",
            "stepmode": "backward"
           },
           {
            "count": 1,
            "label": "1m",
            "step": "month",
            "stepmode": "backward"
           },
           {
            "count": 6,
            "label": "6m",
            "step": "month",
            "stepmode": "backward"
           },
           {
            "count": 1,
            "label": "YTD",
            "step": "year",
            "stepmode": "todate"
           },
           {
            "count": 1,
            "label": "1y",
            "step": "year",
            "stepmode": "backward"
           },
           {
            "step": "all"
           }
          ]
         },
         "showgrid": false,
         "type": "date",
         "zeroline": false
        },
        "yaxis": {
         "autorange": false,
         "range": [
          -1,
          9
         ],
         "showgrid": false,
         "ticktext": [
          "take_pill_Pramipexol",
          "surgery_colon_cancer",
          "Adjuvant_chemoradiotherapy",
          "surgery_colon_cancer",
          "Adjuvant_chemoradiotherapy_episode1",
          "Adjuvant_chemoradiotherapy_episode2",
          "Adjuvant_chemoradiotherapy_episode3",
          "Adjuvant_chemoradiotherapy_episode4"
         ],
         "tickvals": [
          0,
          1,
          2,
          3,
          4,
          5,
          6,
          7
         ],
         "zeroline": false
        }
       }
      },
      "text/html": [
       "<div id=\"148b6de4-88bb-4d85-93fa-de717a5e083b\" style=\"height: 600px; width: 800px;\" class=\"plotly-graph-div\"></div><script type=\"text/javascript\">require([\"plotly\"], function(Plotly) { window.PLOTLYENV=window.PLOTLYENV || {};window.PLOTLYENV.BASE_URL=\"https://plot.ly\";Plotly.newPlot(\"148b6de4-88bb-4d85-93fa-de717a5e083b\", [{\"x\": [\"2018-04-07T14:52:21.0Z\", \"2018-06-06T14:52:21.0Z\"], \"y\": [0, 0], \"name\": \"\", \"marker\": {\"color\": \"white\"}}, {\"x\": [\"2018-04-12T14:50:33Z\", \"2018-04-17T14:50:33.0Z\"], \"y\": [1, 1], \"name\": \"\", \"marker\": {\"color\": \"white\"}}, {\"x\": [\"2018-04-17T14:50:33.0Z\", \"2018-07-06T14:50:33.0Z\"], \"y\": [2, 2], \"name\": \"\", \"marker\": {\"color\": \"white\"}}, {\"x\": [\"2018-04-12T14:50:33Z\", \"2018-04-17T14:50:33.0Z\"], \"y\": [3, 3], \"name\": \"\", \"marker\": {\"color\": \"white\"}}, {\"x\": [\"2018-04-17T14:50:33Z\", \"2018-05-07T14:50:33.0Z\"], \"y\": [4, 4], \"name\": \"\", \"marker\": {\"color\": \"white\"}}, {\"x\": [\"2018-05-07T14:50:33.0Z\", \"2018-05-27T14:50:33.0Z\"], \"y\": [5, 5], \"name\": \"\", \"marker\": {\"color\": \"white\"}}, {\"x\": [\"2018-05-27T14:50:33.0Z\", \"2018-06-16T14:50:33.0Z\"], \"y\": [6, 6], \"name\": \"\", \"marker\": {\"color\": \"white\"}}, {\"x\": [\"2018-06-16T14:50:33.0Z\", \"2018-07-06T14:50:33.0Z\"], \"y\": [7, 7], \"name\": \"\", \"marker\": {\"color\": \"white\"}}, {\"x\": [\"2018-06-16T14:50:33.0Z\", \"2018-06-16T14:50:33.0Z\"], \"y\": [0, 0], \"showlegend\": true, \"hoverinfo\": \"none\", \"name\": \"Colon_cancer\", \"marker\": {\"color\": \"rgb(0, 0, 220)\", \"size\": 1}}, {\"x\": [\"2018-06-16T14:50:33.0Z\", \"2018-06-16T14:50:33.0Z\"], \"y\": [1, 1], \"showlegend\": true, \"hoverinfo\": \"none\", \"name\": \"Colon_cancer_a_c\", \"marker\": {\"color\": \"rgb(60, 60, 60)\", \"size\": 1}}, {\"x\": [\"2018-06-16T14:50:33.0Z\", \"2018-06-16T14:50:33.0Z\"], \"y\": [2, 2], \"showlegend\": true, \"hoverinfo\": \"none\", \"name\": \"Conflict\", \"marker\": {\"color\": \"rgb(220, 0, 0)\", \"size\": 1}}, {\"x\": [\"2018-06-16T14:50:33.0Z\", \"2018-06-16T14:50:33.0Z\"], \"y\": [3, 3], \"showlegend\": true, \"hoverinfo\": \"none\", \"name\": \"Parkinson\", \"marker\": {\"color\": \"rgb(0, 220, 0)\", \"size\": 1}}], {\"title\": \"Path-Parkinson-Colon-Cancer-a\", \"showlegend\": true, \"height\": 600, \"width\": 800, \"shapes\": [{\"x0\": \"2018-04-07T14:52:21.0Z\", \"x1\": \"2018-06-06T14:52:21.0Z\", \"type\": \"rect\", \"xref\": \"x\", \"yref\": \"y\", \"opacity\": 1, \"line\": {\"width\": 0}, \"y0\": -0.2, \"y1\": 0.2, \"fillcolor\": \"rgb(0, 220, 0)\"}, {\"x0\": \"2018-04-12T14:50:33Z\", \"x1\": \"2018-04-17T14:50:33.0Z\", \"type\": \"rect\", \"xref\": \"x\", \"yref\": \"y\", \"opacity\": 1, \"line\": {\"width\": 0}, \"y0\": 0.8, \"y1\": 1.2, \"fillcolor\": \"rgb(0, 0, 220)\"}, {\"x0\": \"2018-04-17T14:50:33.0Z\", \"x1\": \"2018-07-06T14:50:33.0Z\", \"type\": \"rect\", \"xref\": \"x\", \"yref\": \"y\", \"opacity\": 1, \"line\": {\"width\": 0}, \"y0\": 1.8, \"y1\": 2.2, \"fillcolor\": \"rgb(0, 0, 220)\"}, {\"x0\": \"2018-04-12T14:50:33Z\", \"x1\": \"2018-04-17T14:50:33.0Z\", \"type\": \"rect\", \"xref\": \"x\", \"yref\": \"y\", \"opacity\": 1, \"line\": {\"width\": 0}, \"y0\": 2.8, \"y1\": 3.2, \"fillcolor\": \"rgb(220, 0, 0)\"}, {\"x0\": \"2018-04-17T14:50:33Z\", \"x1\": \"2018-05-07T14:50:33.0Z\", \"type\": \"rect\", \"xref\": \"x\", \"yref\": \"y\", \"opacity\": 1, \"line\": {\"width\": 0}, \"y0\": 3.8, \"y1\": 4.2, \"fillcolor\": \"rgb(60, 60, 60)\"}, {\"x0\": \"2018-05-07T14:50:33.0Z\", \"x1\": \"2018-05-27T14:50:33.0Z\", \"type\": \"rect\", \"xref\": \"x\", \"yref\": \"y\", \"opacity\": 1, \"line\": {\"width\": 0}, \"y0\": 4.8, \"y1\": 5.2, \"fillcolor\": \"rgb(60, 60, 60)\"}, {\"x0\": \"2018-05-27T14:50:33.0Z\", \"x1\": \"2018-06-16T14:50:33.0Z\", \"type\": \"rect\", \"xref\": \"x\", \"yref\": \"y\", \"opacity\": 1, \"line\": {\"width\": 0}, \"y0\": 5.8, \"y1\": 6.2, \"fillcolor\": \"rgb(60, 60, 60)\"}, {\"x0\": \"2018-06-16T14:50:33.0Z\", \"x1\": \"2018-07-06T14:50:33.0Z\", \"type\": \"rect\", \"xref\": \"x\", \"yref\": \"y\", \"opacity\": 1, \"line\": {\"width\": 0}, \"y0\": 6.8, \"y1\": 7.2, \"fillcolor\": \"rgb(60, 60, 60)\"}], \"hovermode\": \"closest\", \"yaxis\": {\"showgrid\": false, \"ticktext\": [\"take_pill_Pramipexol\", \"surgery_colon_cancer\", \"Adjuvant_chemoradiotherapy\", \"surgery_colon_cancer\", \"Adjuvant_chemoradiotherapy_episode1\", \"Adjuvant_chemoradiotherapy_episode2\", \"Adjuvant_chemoradiotherapy_episode3\", \"Adjuvant_chemoradiotherapy_episode4\"], \"tickvals\": [0, 1, 2, 3, 4, 5, 6, 7], \"range\": [-1, 9], \"autorange\": false, \"zeroline\": false}, \"xaxis\": {\"showgrid\": false, \"zeroline\": false, \"rangeselector\": {\"buttons\": [{\"count\": 7, \"label\": \"1w\", \"step\": \"day\", \"stepmode\": \"backward\"}, {\"count\": 1, \"label\": \"1m\", \"step\": \"month\", \"stepmode\": \"backward\"}, {\"count\": 6, \"label\": \"6m\", \"step\": \"month\", \"stepmode\": \"backward\"}, {\"count\": 1, \"label\": \"YTD\", \"step\": \"year\", \"stepmode\": \"todate\"}, {\"count\": 1, \"label\": \"1y\", \"step\": \"year\", \"stepmode\": \"backward\"}, {\"step\": \"all\"}]}, \"type\": \"date\"}, \"autosize\": false, \"margin\": {\"l\": 200}}, {\"showLink\": false, \"linkText\": \"Export to plot.ly\"})});</script>"
      ],
      "text/vnd.plotly.v1+html": [
       "<div id=\"148b6de4-88bb-4d85-93fa-de717a5e083b\" style=\"height: 600px; width: 800px;\" class=\"plotly-graph-div\"></div><script type=\"text/javascript\">require([\"plotly\"], function(Plotly) { window.PLOTLYENV=window.PLOTLYENV || {};window.PLOTLYENV.BASE_URL=\"https://plot.ly\";Plotly.newPlot(\"148b6de4-88bb-4d85-93fa-de717a5e083b\", [{\"x\": [\"2018-04-07T14:52:21.0Z\", \"2018-06-06T14:52:21.0Z\"], \"y\": [0, 0], \"name\": \"\", \"marker\": {\"color\": \"white\"}}, {\"x\": [\"2018-04-12T14:50:33Z\", \"2018-04-17T14:50:33.0Z\"], \"y\": [1, 1], \"name\": \"\", \"marker\": {\"color\": \"white\"}}, {\"x\": [\"2018-04-17T14:50:33.0Z\", \"2018-07-06T14:50:33.0Z\"], \"y\": [2, 2], \"name\": \"\", \"marker\": {\"color\": \"white\"}}, {\"x\": [\"2018-04-12T14:50:33Z\", \"2018-04-17T14:50:33.0Z\"], \"y\": [3, 3], \"name\": \"\", \"marker\": {\"color\": \"white\"}}, {\"x\": [\"2018-04-17T14:50:33Z\", \"2018-05-07T14:50:33.0Z\"], \"y\": [4, 4], \"name\": \"\", \"marker\": {\"color\": \"white\"}}, {\"x\": [\"2018-05-07T14:50:33.0Z\", \"2018-05-27T14:50:33.0Z\"], \"y\": [5, 5], \"name\": \"\", \"marker\": {\"color\": \"white\"}}, {\"x\": [\"2018-05-27T14:50:33.0Z\", \"2018-06-16T14:50:33.0Z\"], \"y\": [6, 6], \"name\": \"\", \"marker\": {\"color\": \"white\"}}, {\"x\": [\"2018-06-16T14:50:33.0Z\", \"2018-07-06T14:50:33.0Z\"], \"y\": [7, 7], \"name\": \"\", \"marker\": {\"color\": \"white\"}}, {\"x\": [\"2018-06-16T14:50:33.0Z\", \"2018-06-16T14:50:33.0Z\"], \"y\": [0, 0], \"showlegend\": true, \"hoverinfo\": \"none\", \"name\": \"Colon_cancer\", \"marker\": {\"color\": \"rgb(0, 0, 220)\", \"size\": 1}}, {\"x\": [\"2018-06-16T14:50:33.0Z\", \"2018-06-16T14:50:33.0Z\"], \"y\": [1, 1], \"showlegend\": true, \"hoverinfo\": \"none\", \"name\": \"Colon_cancer_a_c\", \"marker\": {\"color\": \"rgb(60, 60, 60)\", \"size\": 1}}, {\"x\": [\"2018-06-16T14:50:33.0Z\", \"2018-06-16T14:50:33.0Z\"], \"y\": [2, 2], \"showlegend\": true, \"hoverinfo\": \"none\", \"name\": \"Conflict\", \"marker\": {\"color\": \"rgb(220, 0, 0)\", \"size\": 1}}, {\"x\": [\"2018-06-16T14:50:33.0Z\", \"2018-06-16T14:50:33.0Z\"], \"y\": [3, 3], \"showlegend\": true, \"hoverinfo\": \"none\", \"name\": \"Parkinson\", \"marker\": {\"color\": \"rgb(0, 220, 0)\", \"size\": 1}}], {\"title\": \"Path-Parkinson-Colon-Cancer-a\", \"showlegend\": true, \"height\": 600, \"width\": 800, \"shapes\": [{\"x0\": \"2018-04-07T14:52:21.0Z\", \"x1\": \"2018-06-06T14:52:21.0Z\", \"type\": \"rect\", \"xref\": \"x\", \"yref\": \"y\", \"opacity\": 1, \"line\": {\"width\": 0}, \"y0\": -0.2, \"y1\": 0.2, \"fillcolor\": \"rgb(0, 220, 0)\"}, {\"x0\": \"2018-04-12T14:50:33Z\", \"x1\": \"2018-04-17T14:50:33.0Z\", \"type\": \"rect\", \"xref\": \"x\", \"yref\": \"y\", \"opacity\": 1, \"line\": {\"width\": 0}, \"y0\": 0.8, \"y1\": 1.2, \"fillcolor\": \"rgb(0, 0, 220)\"}, {\"x0\": \"2018-04-17T14:50:33.0Z\", \"x1\": \"2018-07-06T14:50:33.0Z\", \"type\": \"rect\", \"xref\": \"x\", \"yref\": \"y\", \"opacity\": 1, \"line\": {\"width\": 0}, \"y0\": 1.8, \"y1\": 2.2, \"fillcolor\": \"rgb(0, 0, 220)\"}, {\"x0\": \"2018-04-12T14:50:33Z\", \"x1\": \"2018-04-17T14:50:33.0Z\", \"type\": \"rect\", \"xref\": \"x\", \"yref\": \"y\", \"opacity\": 1, \"line\": {\"width\": 0}, \"y0\": 2.8, \"y1\": 3.2, \"fillcolor\": \"rgb(220, 0, 0)\"}, {\"x0\": \"2018-04-17T14:50:33Z\", \"x1\": \"2018-05-07T14:50:33.0Z\", \"type\": \"rect\", \"xref\": \"x\", \"yref\": \"y\", \"opacity\": 1, \"line\": {\"width\": 0}, \"y0\": 3.8, \"y1\": 4.2, \"fillcolor\": \"rgb(60, 60, 60)\"}, {\"x0\": \"2018-05-07T14:50:33.0Z\", \"x1\": \"2018-05-27T14:50:33.0Z\", \"type\": \"rect\", \"xref\": \"x\", \"yref\": \"y\", \"opacity\": 1, \"line\": {\"width\": 0}, \"y0\": 4.8, \"y1\": 5.2, \"fillcolor\": \"rgb(60, 60, 60)\"}, {\"x0\": \"2018-05-27T14:50:33.0Z\", \"x1\": \"2018-06-16T14:50:33.0Z\", \"type\": \"rect\", \"xref\": \"x\", \"yref\": \"y\", \"opacity\": 1, \"line\": {\"width\": 0}, \"y0\": 5.8, \"y1\": 6.2, \"fillcolor\": \"rgb(60, 60, 60)\"}, {\"x0\": \"2018-06-16T14:50:33.0Z\", \"x1\": \"2018-07-06T14:50:33.0Z\", \"type\": \"rect\", \"xref\": \"x\", \"yref\": \"y\", \"opacity\": 1, \"line\": {\"width\": 0}, \"y0\": 6.8, \"y1\": 7.2, \"fillcolor\": \"rgb(60, 60, 60)\"}], \"hovermode\": \"closest\", \"yaxis\": {\"showgrid\": false, \"ticktext\": [\"take_pill_Pramipexol\", \"surgery_colon_cancer\", \"Adjuvant_chemoradiotherapy\", \"surgery_colon_cancer\", \"Adjuvant_chemoradiotherapy_episode1\", \"Adjuvant_chemoradiotherapy_episode2\", \"Adjuvant_chemoradiotherapy_episode3\", \"Adjuvant_chemoradiotherapy_episode4\"], \"tickvals\": [0, 1, 2, 3, 4, 5, 6, 7], \"range\": [-1, 9], \"autorange\": false, \"zeroline\": false}, \"xaxis\": {\"showgrid\": false, \"zeroline\": false, \"rangeselector\": {\"buttons\": [{\"count\": 7, \"label\": \"1w\", \"step\": \"day\", \"stepmode\": \"backward\"}, {\"count\": 1, \"label\": \"1m\", \"step\": \"month\", \"stepmode\": \"backward\"}, {\"count\": 6, \"label\": \"6m\", \"step\": \"month\", \"stepmode\": \"backward\"}, {\"count\": 1, \"label\": \"YTD\", \"step\": \"year\", \"stepmode\": \"todate\"}, {\"count\": 1, \"label\": \"1y\", \"step\": \"year\", \"stepmode\": \"backward\"}, {\"step\": \"all\"}]}, \"type\": \"date\"}, \"autosize\": false, \"margin\": {\"l\": 200}}, {\"showLink\": false, \"linkText\": \"Export to plot.ly\"})});</script>"
      ]
     },
     "metadata": {
      "tags": []
     },
     "output_type": "display_data"
    }
   ],
   "source": [
    "conflict_action_a = pd.read_csv('path/detected-conflict-t3-a.csv', sep=',', encoding = 'utf-8')\n",
    "df_path_a = pd.read_csv('path/aggreagatedPath-plot-t3-a.csv', sep=',', encoding = 'utf-8')\n",
    "adjuvant_chemoradiotherapy_a = pd.read_csv('path/path_adjuvant_chemoradiotherapy.csv', sep=',', encoding = 'utf-8')\n",
    "\n",
    "df_a = [dict(Task=df_path_a.action_name[0], Start=df_path_a.start_time[0], Finish=df_path_a.end_time[0], Resource=df_path_a.map_name[0])]\n",
    "i=1\n",
    "while i < len(df_path_a):\n",
    "    df_a.append( dict(Task=df_path_a.action_name[i], Start=df_path_a.start_time[i], Finish=df_path_a.end_time[i], Resource=df_path_a.map_name[i]) )\n",
    "    i+=1\n",
    "df_a.append( dict(Task=conflict_action_a.action_name[0], Start=conflict_action_a.start_time[0], Finish=conflict_action_a.end_time[0], Resource=conflict_action_a.map_name[0]) )\n",
    "\n",
    "j=0\n",
    "while j < len(adjuvant_chemoradiotherapy_a):\n",
    "    df_a.append( dict(Task=adjuvant_chemoradiotherapy_a.action_name[j], Start=adjuvant_chemoradiotherapy_a.start_time[j], Finish=adjuvant_chemoradiotherapy_a.end_time[j], Resource=adjuvant_chemoradiotherapy_a.map_name[j]) )\n",
    "    j+=1\n",
    "\n",
    "\n",
    "\n",
    "colors = dict(Conflict = 'rgb(220, 0, 0)',\n",
    "              Colon_cancer_a_c = 'rgb(60, 60, 60)',\n",
    "              Colon_cancer = 'rgb(0, 0, 220)',\n",
    "              Parkinson = 'rgb(0, 220, 0)')\n",
    "fig_a_details = ff.create_gantt(df_a, colors=colors, index_col='Resource', show_colorbar=True,  title='Path-Parkinson-Colon-Cancer-a')\n",
    "fig_a_details['layout'].update(autosize=False, width=800, height=600, margin=dict(l=200))\n",
    "iplot(fig_a_details, show_link=False)\n"
   ]
  },
  {
   "cell_type": "code",
   "execution_count": null,
   "metadata": {
    "colab": {},
    "colab_type": "code",
    "id": "LQ8KQihD-p6a"
   },
   "outputs": [],
   "source": []
  },
  {
   "cell_type": "markdown",
   "metadata": {
    "colab_type": "text",
    "id": "5knBkz_w-p6c"
   },
   "source": [
    "## Demo done, thanks for watching!"
   ]
  }
 ],
 "metadata": {
  "colab": {
   "name": "GPS4IC-demonstration-execution.ipynb",
   "provenance": []
  },
  "kernelspec": {
   "display_name": "Python 3",
   "language": "python",
   "name": "python3"
  },
  "language_info": {
   "codemirror_mode": {
    "name": "ipython",
    "version": 3
   },
   "file_extension": ".py",
   "mimetype": "text/x-python",
   "name": "python",
   "nbconvert_exporter": "python",
   "pygments_lexer": "ipython3",
   "version": "3.7.7"
  },
  "toc": {
   "base_numbering": 1,
   "nav_menu": {},
   "number_sections": false,
   "sideBar": true,
   "skip_h1_title": false,
   "title_cell": "Table of Contents",
   "title_sidebar": "Contents",
   "toc_cell": true,
   "toc_position": {},
   "toc_section_display": true,
   "toc_window_display": false
  }
 },
 "nbformat": 4,
 "nbformat_minor": 1
}
