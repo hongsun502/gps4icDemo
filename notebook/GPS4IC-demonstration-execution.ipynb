{
 "cells": [
  {
   "cell_type": "markdown",
   "metadata": {
    "colab_type": "text",
    "id": "HvGjiRaE-p1L"
   },
   "source": [
    "# GPS4IC demonstration - Execution\n",
    "\n",
    "*Execute the following commands to generate output of the demonstration*"
   ]
  },
  {
   "cell_type": "markdown",
   "metadata": {
    "toc": true
   },
   "source": [
    "<h1>Table of Contents<span class=\"tocSkip\"></span></h1>\n",
    "<div class=\"toc\"><ul class=\"toc-item\"><li><span><a href=\"#GPS4IC-demonstration---Execution\" data-toc-modified-id=\"GPS4IC-demonstration---Execution-1\">GPS4IC demonstration - Execution</a></span></li><li><span><a href=\"#At-T0,-a-patient-is-coming-for-treatment-of-Parkinson-disease\" data-toc-modified-id=\"At-T0,-a-patient-is-coming-for-treatment-of-Parkinson-disease-2\">At T0, a patient is coming for treatment of Parkinson disease</a></span><ul class=\"toc-item\"><li><ul class=\"toc-item\"><li><span><a href=\"#Display-patient-current-status\" data-toc-modified-id=\"Display-patient-current-status-2.0.1\">Display patient current status</a></span></li></ul></li><li><span><a href=\"#Step-1.-Generate-path-for-parkinson-disease\" data-toc-modified-id=\"Step-1.-Generate-path-for-parkinson-disease-2.1\">Step 1. Generate path for parkinson disease</a></span></li><li><span><a href=\"#Step-2.-Manually-select-one-path\" data-toc-modified-id=\"Step-2.-Manually-select-one-path-2.2\">Step 2. Manually select one path</a></span><ul class=\"toc-item\"><li><span><a href=\"#Step-3.-Visualize-the-aggregated-path\" data-toc-modified-id=\"Step-3.-Visualize-the-aggregated-path-2.2.1\">Step 3. Visualize the aggregated path</a></span><ul class=\"toc-item\"><li><span><a href=\"#The-command-below-process-the-aggregated-path-to-provide-a-better-visualization-with-plotly\" data-toc-modified-id=\"The-command-below-process-the-aggregated-path-to-provide-a-better-visualization-with-plotly-2.2.1.1\">The command below process the aggregated path to provide a better visualization with plotly</a></span></li></ul></li></ul></li></ul></li><li><span><a href=\"#At-T1,-the-patient-got-an-updated-data\" data-toc-modified-id=\"At-T1,-the-patient-got-an-updated-data-3\">At T1, the patient got an updated data</a></span></li><li><span><a href=\"#At-T2,-the-first-action-finishes,-the-patient-got-an-updated-data\" data-toc-modified-id=\"At-T2,-the-first-action-finishes,-the-patient-got-an-updated-data-4\">At T2, the first action finishes, the patient got an updated data</a></span></li><li><span><a href=\"#At-T3,-the-patient-adds-a-new-path-to-treat-colon-cancer\" data-toc-modified-id=\"At-T3,-the-patient-adds-a-new-path-to-treat-colon-cancer-5\">At T3, the patient adds a new path to treat colon cancer</a></span><ul class=\"toc-item\"><li><ul class=\"toc-item\"><li><span><a href=\"#validate-the-aggregated-path,-both-goals-are-validated\" data-toc-modified-id=\"validate-the-aggregated-path,-both-goals-are-validated-5.0.1\">validate the aggregated path, both goals are validated</a></span></li><li><span><a href=\"#process-the-aggregated-path-to-provide-a-better-visualization-with-excel\" data-toc-modified-id=\"process-the-aggregated-path-to-provide-a-better-visualization-with-excel-5.0.2\">process the aggregated path to provide a better visualization with excel</a></span></li><li><span><a href=\"#process-the-aggregated-path-to-provide-a-better-visualization-with-plotly\" data-toc-modified-id=\"process-the-aggregated-path-to-provide-a-better-visualization-with-plotly-5.0.3\">process the aggregated path to provide a better visualization with plotly</a></span></li><li><span><a href=\"#alert-detection\" data-toc-modified-id=\"alert-detection-5.0.4\">alert detection</a></span></li><li><span><a href=\"#Break-down-the-task-of-adjuvant_chemoradiotherapy-into-a-set-of-episodes\" data-toc-modified-id=\"Break-down-the-task-of-adjuvant_chemoradiotherapy-into-a-set-of-episodes-5.0.5\">Break down the task of adjuvant_chemoradiotherapy into a set of episodes</a></span><ul class=\"toc-item\"><li><span><a href=\"#Generate-query-of-finishing-the-task-of-adjuvant_chemoradiotherapy-(that-will-be-used-to-generate-sub-steps).\" data-toc-modified-id=\"Generate-query-of-finishing-the-task-of-adjuvant_chemoradiotherapy-(that-will-be-used-to-generate-sub-steps).-5.0.5.1\">Generate query of finishing the task of adjuvant_chemoradiotherapy (that will be used to generate sub steps).</a></span></li><li><span><a href=\"#Retrieve-the-start-time-of-the-adjuvant_chemoradiotherapy.\" data-toc-modified-id=\"Retrieve-the-start-time-of-the-adjuvant_chemoradiotherapy.-5.0.5.2\">Retrieve the start time of the adjuvant_chemoradiotherapy.</a></span></li><li><span><a href=\"#Generate-sub-plans-for-adjuvant-chemoradiotherapy.\" data-toc-modified-id=\"Generate-sub-plans-for-adjuvant-chemoradiotherapy.-5.0.5.3\">Generate sub-plans for adjuvant-chemoradiotherapy.</a></span></li><li><span><a href=\"#Temporally-process-the-generated-path,-to-add-start-and-end-time-for-each-episode.\" data-toc-modified-id=\"Temporally-process-the-generated-path,-to-add-start-and-end-time-for-each-episode.-5.0.5.4\">Temporally process the generated path, to add start and end time for each episode.</a></span></li><li><span><a href=\"#Generate-the-csv-file-for-visualization.\" data-toc-modified-id=\"Generate-the-csv-file-for-visualization.-5.0.5.5\">Generate the csv file for visualization.</a></span></li><li><span><a href=\"#Visualize-the-output\" data-toc-modified-id=\"Visualize-the-output-5.0.5.6\">Visualize the output</a></span></li></ul></li></ul></li><li><span><a href=\"#Demo-done,-thanks-for-watching!\" data-toc-modified-id=\"Demo-done,-thanks-for-watching!-5.1\">Demo done, thanks for watching!</a></span></li></ul></li></ul></div>"
   ]
  },
  {
   "cell_type": "code",
   "execution_count": 46,
   "metadata": {
    "colab": {
     "base_uri": "https://localhost:8080/",
     "height": 70
    },
    "colab_type": "code",
    "executionInfo": {
     "elapsed": 1916,
     "status": "ok",
     "timestamp": 1591299330463,
     "user": {
      "displayName": "Sun Hong",
      "photoUrl": "",
      "userId": "15604721942150290112"
     },
     "user_tz": -120
    },
    "id": "wksVbs4X-p1U",
    "outputId": "17632193-45bd-4392-9ea5-9d26a28f6c0e"
   },
   "outputs": [
    {
     "name": "stderr",
     "output_type": "stream",
     "text": [
      "c:\\users\\hong_sun\\pycharmprojects\\workspace\\venv\\lib\\site-packages\\ipykernel_launcher.py:3: FutureWarning:\n",
      "\n",
      "Passing a negative integer is deprecated in version 1.0 and will not be supported in future version. Instead, use None to not limit the column width.\n",
      "\n"
     ]
    },
    {
     "data": {
      "text/html": [
       "<style>.container { width:95% !important; }</style>"
      ],
      "text/plain": [
       "<IPython.core.display.HTML object>"
      ]
     },
     "metadata": {},
     "output_type": "display_data"
    },
    {
     "data": {
      "text/html": [
       "        <script type=\"text/javascript\">\n",
       "        window.PlotlyConfig = {MathJaxConfig: 'local'};\n",
       "        if (window.MathJax) {MathJax.Hub.Config({SVG: {font: \"STIX-Web\"}});}\n",
       "        if (typeof require !== 'undefined') {\n",
       "        require.undef(\"plotly\");\n",
       "        requirejs.config({\n",
       "            paths: {\n",
       "                'plotly': ['https://cdn.plot.ly/plotly-latest.min']\n",
       "            }\n",
       "        });\n",
       "        require(['plotly'], function(Plotly) {\n",
       "            window._Plotly = Plotly;\n",
       "        });\n",
       "        }\n",
       "        </script>\n",
       "        "
      ]
     },
     "metadata": {},
     "output_type": "display_data"
    }
   ],
   "source": [
    "import pandas as pd\n",
    "from scipy import stats\n",
    "pd.set_option('display.max_colwidth', -1) \n",
    "import matplotlib.pyplot as plt\n",
    "import numpy as np\n",
    "import os\n",
    "import re\n",
    "from IPython.core.display import display, HTML\n",
    "display(HTML(\"<style>.container { width:95% !important; }</style>\"))\n",
    "\n",
    "%matplotlib inline\n",
    "\n",
    "from plotly import __version__\n",
    "from plotly.offline import download_plotlyjs, init_notebook_mode, plot, iplot\n",
    "import plotly.figure_factory as ff\n",
    "init_notebook_mode(connected=True)\n",
    "import plotly.graph_objs as go\n",
    "\n",
    "\n"
   ]
  },
  {
   "cell_type": "markdown",
   "metadata": {
    "colab_type": "text",
    "id": "pZ2lsJaX-p1l"
   },
   "source": [
    "# At T0, a patient is coming for treatment of Parkinson disease\n",
    "*GMT: Tuesday, February 6, 2018 2:50:41 PM*"
   ]
  },
  {
   "cell_type": "markdown",
   "metadata": {
    "colab_type": "text",
    "id": "Rns6yzTw-p1n"
   },
   "source": [
    "### Display patient current status\n",
    "\n",
    "*The patient is diagnosed with Parkinson disease.The UPDRS (Unified Parkinson’s Disease Rating Scale), which is aggregated value of a few categories are used to provide insight into the progression of Parkinson disease. A separated updrs calculation rule is used to calculate the UPDRS Score for the patient at runtime.*"
   ]
  },
  {
   "cell_type": "markdown",
   "metadata": {
    "colab_type": "text",
    "id": "ULDWokch-p1o"
   },
   "source": [
    "## Step 1. Generate path for parkinson disease\n",
    "*The command below calls the EYE reasoner and generates the paths that can meet the specified goal.*"
   ]
  },
  {
   "cell_type": "code",
   "execution_count": 47,
   "metadata": {
    "colab": {},
    "colab_type": "code",
    "id": "B3qNGADU-p1u"
   },
   "outputs": [
    {
     "name": "stderr",
     "output_type": "stream",
     "text": [
      "eye --nope ../data/data-parkinson-t0.ttl ../parkinson/gps-desc.n3 ../parkinson/score-calculation.n3 ../engine/gps-plugin.n3 --query ../parkinson/gps-goal-parkinson.n3q\n",
      "EYE v20.0910.0008 josd\n",
      "SWI-Prolog version 8.0.3\n",
      "starting 31 [msec cputime] 86 [msec walltime]\n",
      "GET file:///d:/github/gps4icdemo/data/data-parkinson-t0.ttl SC=14\n",
      "GET file:///d:/github/gps4icdemo/parkinson/gps-desc.n3 SC=3\n",
      "GET file:///d:/github/gps4icdemo/parkinson/score-calculation.n3 SC=1\n",
      "GET file:///d:/github/gps4icdemo/engine/gps-plugin.n3 SC=7\n",
      "GET file:///d:/github/gps4icdemo/parkinson/gps-goal-parkinson.n3q SC=1\n",
      "networking 15 [msec cputime] 28 [msec walltime]\n",
      "reasoning 16 [msec cputime] 8 [msec walltime]\n",
      "2021-01-05T21:43:32.630Z in=26 out=4 ent=5 step=10 brake=4 inf=145279 sec=0.062 inf/sec=2343210\n",
      "\n"
     ]
    }
   ],
   "source": [
    "!eye --nope ../data/data-parkinson-t0.ttl ../parkinson/gps-desc.n3 ../parkinson/score-calculation.n3 ../engine/gps-plugin.n3 --query ../parkinson/gps-goal-parkinson.n3q >../path/parkinson-answer-t0.n3\n"
   ]
  },
  {
   "cell_type": "markdown",
   "metadata": {
    "colab_type": "text",
    "id": "_7Q2Bcm5-p1y"
   },
   "source": [
    "*The command below processes the generated paths to produce csv output*"
   ]
  },
  {
   "cell_type": "code",
   "execution_count": 48,
   "metadata": {
    "colab": {},
    "colab_type": "code",
    "id": "cGq-zxZG-p10"
   },
   "outputs": [
    {
     "name": "stderr",
     "output_type": "stream",
     "text": [
      "eye --nope ../path/parkinson-answer-t0.n3 ../engine/path-processor-original-parkinson.n3 --query ../engine/path-processor-original-parkinson.csvq --strings\n",
      "EYE v20.0910.0008 josd\n",
      "SWI-Prolog version 8.0.3\n",
      "starting 15 [msec cputime] 98 [msec walltime]\n",
      "GET file:///d:/github/gps4icdemo/path/parkinson-answer-t0.n3 SC=4\n",
      "GET file:///d:/github/gps4icdemo/engine/path-processor-original-parkinson.n3 SC=2\n",
      "GET file:///d:/github/gps4icdemo/engine/path-processor-original-parkinson.csvq SC=1\n",
      "networking 0 [msec cputime] 17 [msec walltime]\n",
      "reasoning 0 [msec cputime] 5 [msec walltime]\n",
      "2021-01-05T21:43:32.935Z in=7 out=24 ent=4 step=8 brake=4 inf=82776 sec=0.015 inf/sec=5518400\n",
      "\n"
     ]
    }
   ],
   "source": [
    "!eye --nope ../path/parkinson-answer-t0.n3 ../engine/path-processor-original-parkinson.n3 --query ../engine/path-processor-original-parkinson.csvq --strings >../path/parkinson-answer-t0.csv\n"
   ]
  },
  {
   "cell_type": "markdown",
   "metadata": {
    "colab_type": "text",
    "id": "JpOSgFEw-p13"
   },
   "source": [
    "*Import the file generated by the previous command, and display it*"
   ]
  },
  {
   "cell_type": "code",
   "execution_count": 49,
   "metadata": {
    "colab": {},
    "colab_type": "code",
    "id": "U-_Cn8ll-p17"
   },
   "outputs": [
    {
     "data": {
      "text/html": [
       "<div>\n",
       "<style scoped>\n",
       "    .dataframe tbody tr th:only-of-type {\n",
       "        vertical-align: middle;\n",
       "    }\n",
       "\n",
       "    .dataframe tbody tr th {\n",
       "        vertical-align: top;\n",
       "    }\n",
       "\n",
       "    .dataframe thead th {\n",
       "        text-align: right;\n",
       "    }\n",
       "</style>\n",
       "<table border=\"1\" class=\"dataframe\">\n",
       "  <thead>\n",
       "    <tr style=\"text-align: right;\">\n",
       "      <th></th>\n",
       "      <th>PATH</th>\n",
       "      <th>DURATION</th>\n",
       "      <th>COST</th>\n",
       "      <th>BELIEF</th>\n",
       "      <th>COMFORT</th>\n",
       "      <th>UPDRS_SCORE</th>\n",
       "    </tr>\n",
       "  </thead>\n",
       "  <tbody>\n",
       "    <tr>\n",
       "      <th>0</th>\n",
       "      <td>(\"take_pill_Levodopa\" \"take_pill_Levodopa\")</td>\n",
       "      <td>P120DT0H0M0.0S</td>\n",
       "      <td>28.18</td>\n",
       "      <td>0.64</td>\n",
       "      <td>0.64</td>\n",
       "      <td>9.0</td>\n",
       "    </tr>\n",
       "    <tr>\n",
       "      <th>1</th>\n",
       "      <td>(\"take_pill_Levodopa\" \"take_pill_Pramipexol\")</td>\n",
       "      <td>P120DT0H0M0.0S</td>\n",
       "      <td>113.80</td>\n",
       "      <td>0.64</td>\n",
       "      <td>0.72</td>\n",
       "      <td>9.2</td>\n",
       "    </tr>\n",
       "    <tr>\n",
       "      <th>2</th>\n",
       "      <td>(\"take_pill_Pramipexol\" \"take_pill_Levodopa\")</td>\n",
       "      <td>P120DT0H0M0.0S</td>\n",
       "      <td>113.80</td>\n",
       "      <td>0.64</td>\n",
       "      <td>0.72</td>\n",
       "      <td>9.2</td>\n",
       "    </tr>\n",
       "    <tr>\n",
       "      <th>3</th>\n",
       "      <td>(\"take_pill_Pramipexol\" \"take_pill_Pramipexol\")</td>\n",
       "      <td>P120DT0H0M0.0S</td>\n",
       "      <td>199.42</td>\n",
       "      <td>0.64</td>\n",
       "      <td>0.81</td>\n",
       "      <td>9.4</td>\n",
       "    </tr>\n",
       "  </tbody>\n",
       "</table>\n",
       "</div>"
      ],
      "text/plain": [
       "                                              PATH        DURATION    COST  \\\n",
       "0  (\"take_pill_Levodopa\" \"take_pill_Levodopa\")      P120DT0H0M0.0S  28.18    \n",
       "1  (\"take_pill_Levodopa\" \"take_pill_Pramipexol\")    P120DT0H0M0.0S  113.80   \n",
       "2  (\"take_pill_Pramipexol\" \"take_pill_Levodopa\")    P120DT0H0M0.0S  113.80   \n",
       "3  (\"take_pill_Pramipexol\" \"take_pill_Pramipexol\")  P120DT0H0M0.0S  199.42   \n",
       "\n",
       "   BELIEF  COMFORT  UPDRS_SCORE  \n",
       "0  0.64    0.64     9.0          \n",
       "1  0.64    0.72     9.2          \n",
       "2  0.64    0.72     9.2          \n",
       "3  0.64    0.81     9.4          "
      ]
     },
     "execution_count": 49,
     "metadata": {},
     "output_type": "execute_result"
    }
   ],
   "source": [
    "pd.read_csv('../path/parkinson-answer-t0.csv', sep=',', encoding = 'utf-8')"
   ]
  },
  {
   "cell_type": "markdown",
   "metadata": {
    "colab_type": "text",
    "id": "mT-G0A80-p1_"
   },
   "source": [
    "## Step 2. Manually select one path\n",
    "*The end user manually select a path, the cell below displays the selected path*"
   ]
  },
  {
   "cell_type": "markdown",
   "metadata": {
    "colab_type": "text",
    "id": "0Chy2sTz-p2B"
   },
   "source": [
    "**The operations below is run by system without user interference.**"
   ]
  },
  {
   "cell_type": "markdown",
   "metadata": {
    "colab_type": "text",
    "id": "0Chy2sTz-p2B"
   },
   "source": [
    "**The command below process the selected path following the temporal order of an action, each action will be assigned with a start and end dateTime**"
   ]
  },
  {
   "cell_type": "code",
   "execution_count": 50,
   "metadata": {
    "colab": {},
    "colab_type": "code",
    "id": "14WkIq0g-p2B"
   },
   "outputs": [
    {
     "name": "stderr",
     "output_type": "stream",
     "text": [
      "eye --nope ../path/parkinson-selected-path-t0.n3 ../data/t0.ttl ../engine/gps-temporal-rule.n3 ../parkinson/gps-desc.n3 --query ../engine/gps-temporal-query.n3q\n",
      "EYE v20.0910.0008 josd\n",
      "SWI-Prolog version 8.0.3\n",
      "starting 15 [msec cputime] 83 [msec walltime]\n",
      "GET file:///d:/github/gps4icdemo/path/parkinson-selected-path-t0.n3 SC=1\n",
      "GET file:///d:/github/gps4icdemo/data/t0.ttl SC=1\n",
      "GET file:///d:/github/gps4icdemo/engine/gps-temporal-rule.n3 SC=6\n",
      "GET file:///d:/github/gps4icdemo/parkinson/gps-desc.n3 SC=3\n",
      "GET file:///d:/github/gps4icdemo/engine/gps-temporal-query.n3q SC=1\n",
      "networking 0 [msec cputime] 25 [msec walltime]\n",
      "reasoning 16 [msec cputime] 10 [msec walltime]\n",
      "2021-01-05T21:43:33.248Z in=12 out=1 ent=14 step=34 brake=6 inf=125513 sec=0.031 inf/sec=4048806\n",
      "\n"
     ]
    }
   ],
   "source": [
    "!eye --nope ../path/parkinson-selected-path-t0.n3 ../data/t0.ttl ../engine/gps-temporal-rule.n3 ../parkinson/gps-desc.n3 --query ../engine/gps-temporal-query.n3q>../path/initial-aggregated-path-t0.n3\n"
   ]
  },
  {
   "cell_type": "markdown",
   "metadata": {
    "colab_type": "text",
    "id": "J8CiFMGD-p2E"
   },
   "source": [
    "**The temporally processed path would be aggregated with the eixsitng paths, but since this is the first path assigned to this patient, this aggregation step is skipped.**"
   ]
  },
  {
   "cell_type": "markdown",
   "metadata": {
    "colab_type": "text",
    "id": "0Chy2sTz-p2B"
   },
   "source": [
    "**The command below process the aggregated path: for each action, the expected state that this action leads to are generated and assigned to it.**"
   ]
  },
  {
   "cell_type": "code",
   "execution_count": 51,
   "metadata": {
    "colab": {},
    "colab_type": "code",
    "id": "Wwnyb-OB-p2F"
   },
   "outputs": [
    {
     "name": "stderr",
     "output_type": "stream",
     "text": [
      "eye --nope ../data/data-parkinson-t0.ttl ../data/t0.ttl ../parkinson/gps-desc.n3 ../parkinson/score-calculation.n3 ../path/initial-aggregated-path-t0.n3 ../engine/gps-plugin-aggregated-path-processing.n3 --tactic limited-answer 1 --query ../engine/gps-aggregation-query.n3q\n",
      "EYE v20.0910.0008 josd\n",
      "SWI-Prolog version 8.0.3\n",
      "starting 15 [msec cputime] 81 [msec walltime]\n",
      "GET file:///d:/github/gps4icdemo/data/data-parkinson-t0.ttl SC=14\n",
      "GET file:///d:/github/gps4icdemo/data/t0.ttl SC=1\n",
      "GET file:///d:/github/gps4icdemo/parkinson/gps-desc.n3 SC=3\n",
      "GET file:///d:/github/gps4icdemo/parkinson/score-calculation.n3 SC=1\n",
      "GET file:///d:/github/gps4icdemo/path/initial-aggregated-path-t0.n3 SC=1\n",
      "GET file:///d:/github/gps4icdemo/engine/gps-plugin-aggregated-path-processing.n3 SC=12\n",
      "GET file:///d:/github/gps4icdemo/engine/gps-aggregation-query.n3q SC=1\n",
      "networking 16 [msec cputime] 52 [msec walltime]\n",
      "reasoning 0 [msec cputime] 1 [msec walltime]\n",
      "2021-01-05T21:43:33.561Z in=33 out=1 ent=2 step=2 brake=3 inf=158894 sec=0.031 inf/sec=5125613\n",
      "\n"
     ]
    }
   ],
   "source": [
    "!eye --nope ../data/data-parkinson-t0.ttl ../data/t0.ttl ../parkinson/gps-desc.n3 ../parkinson/score-calculation.n3  ../path/initial-aggregated-path-t0.n3 ../engine/gps-plugin-aggregated-path-processing.n3 --tactic limited-answer 1 --query ../engine/gps-aggregation-query.n3q > ../path/aggreagatedPath-t0.n3\n"
   ]
  },
  {
   "cell_type": "markdown",
   "metadata": {
    "colab_type": "text",
    "id": "T7eEy8-9-p2J"
   },
   "source": [
    "**Validate the above path to check if it can still reach the goal defined for the Parkinson disease**"
   ]
  },
  {
   "cell_type": "code",
   "execution_count": 52,
   "metadata": {
    "colab": {},
    "colab_type": "code",
    "id": "bxihLJfO-p2K"
   },
   "outputs": [
    {
     "name": "stdout",
     "output_type": "stream",
     "text": [
      "#Processed by EYE v20.0910.0008 josd\n",
      "#eye --nope ../data/data-parkinson-t0.ttl ../data/t0.ttl ../parkinson/gps-desc.n3 ../parkinson/score-calculation.n3 ../path/aggreagatedPath-t0.n3 ../engine/gps-plugin-validation.n3 --query ../parkinson/gps-goal-parkinson.n3q\n",
      "\n",
      "@prefix sct: <http://snomed.info/id/>.\n",
      "@prefix data: <http://josd.github.io/eye/reasoning/gps/data#>.\n",
      "@prefix care: <http://josd.github.io/eye/reasoning/gps/care#>.\n",
      "@prefix math: <http://www.w3.org/2000/10/swap/math#>.\n",
      "@prefix xsd: <http://www.w3.org/2001/XMLSchema#>.\n",
      "@prefix e: <http://eulersharp.sourceforge.net/2003/03swap/log-rules#>.\n",
      "@prefix gps: <http://josd.github.io/eye/reasoning/gps/gps-schema#>.\n",
      "@prefix action: <http://josd.github.io/eye/reasoning/gps/action#>.\n",
      "@prefix : <http://josd.github.io/eye/reasoning#>.\n",
      "@prefix log: <http://www.w3.org/2000/10/swap/log#>.\n",
      "@prefix string: <http://www.w3.org/2000/10/swap/string#>.\n",
      "@prefix medication: <http://josd.github.io/eye/reasoning/gps/medication#>.\n",
      "@prefix list: <http://www.w3.org/2000/10/swap/list#>.\n",
      "@prefix prolog: <http://eulersharp.sourceforge.net/2003/03swap/prolog#>.\n",
      "@prefix func: <http://www.w3.org/2007/rif-builtin-function#>.\n",
      "@prefix rdf: <http://www.w3.org/1999/02/22-rdf-syntax-ns#>.\n",
      "\n",
      "data:patient_1 gps:path ((((action:take_pill_Levodopa 1517928741 1523112741.0) gps:start 1517928741 {data:patient_1 care:updrs_score 12}) (action:take_pill_Levodopa gps:end 1523112741.0 {data:patient_1 care:updrs_score 10.5}) ((action:take_pill_Pramipexol 1523112741.0 1528296741.0) gps:start 1523112741.0 {data:patient_1 care:updrs_score 10.5}) (action:take_pill_Pramipexol gps:end 1528296741.0 {data:patient_1 care:updrs_score 9.2})) 20736000.0 227.59999999999997 0.40960000000000013 0.5184000000000002 (9.2)).\n",
      "\n",
      "#2021-01-05T21:43:33.868Z in=32 out=1 ent=2 step=4 brake=4 inf=206953 sec=0.046 inf/sec=4498978\n",
      "#ENDS\n",
      "\n"
     ]
    },
    {
     "name": "stderr",
     "output_type": "stream",
     "text": [
      "eye --nope ../data/data-parkinson-t0.ttl ../data/t0.ttl ../parkinson/gps-desc.n3 ../parkinson/score-calculation.n3 ../path/aggreagatedPath-t0.n3 ../engine/gps-plugin-validation.n3 --query ../parkinson/gps-goal-parkinson.n3q\n",
      "EYE v20.0910.0008 josd\n",
      "SWI-Prolog version 8.0.3\n",
      "starting 15 [msec cputime] 77 [msec walltime]\n",
      "GET file:///d:/github/gps4icdemo/data/data-parkinson-t0.ttl SC=14\n",
      "GET file:///d:/github/gps4icdemo/data/t0.ttl SC=1\n",
      "GET file:///d:/github/gps4icdemo/parkinson/gps-desc.n3 SC=3\n",
      "GET file:///d:/github/gps4icdemo/parkinson/score-calculation.n3 SC=1\n",
      "GET file:///d:/github/gps4icdemo/path/aggreagatedpath-t0.n3 SC=1\n",
      "GET file:///d:/github/gps4icdemo/engine/gps-plugin-validation.n3 SC=11\n",
      "GET file:///d:/github/gps4icdemo/parkinson/gps-goal-parkinson.n3q SC=1\n",
      "networking 31 [msec cputime] 52 [msec walltime]\n",
      "reasoning 0 [msec cputime] 2 [msec walltime]\n",
      "2021-01-05T21:43:33.868Z in=32 out=1 ent=2 step=4 brake=4 inf=206953 sec=0.046 inf/sec=4498978\n",
      "\n"
     ]
    }
   ],
   "source": [
    "!eye --nope ../data/data-parkinson-t0.ttl ../data/t0.ttl ../parkinson/gps-desc.n3  ../parkinson/score-calculation.n3 ../path/aggreagatedPath-t0.n3 ../engine/gps-plugin-validation.n3 --query ../parkinson/gps-goal-parkinson.n3q\n"
   ]
  },
  {
   "cell_type": "markdown",
   "metadata": {
    "colab_type": "text",
    "id": "DnD_gl2o-p2S"
   },
   "source": [
    "### Step 3. Visualize the aggregated path\n",
    "*The command below process the aggregated path generate csv file, and display the file in the notebook*"
   ]
  },
  {
   "cell_type": "markdown",
   "metadata": {},
   "source": [
    "*In the aggregated path, each action is splitted into two events: start and end. Each event explicitly states its expected timestamp, as well as corresponding graph to retract (for start event) or assert (for end event)*"
   ]
  },
  {
   "cell_type": "code",
   "execution_count": 53,
   "metadata": {},
   "outputs": [
    {
     "name": "stdout",
     "output_type": "stream",
     "text": [
      "#Processed by EYE v20.0910.0008 josd\n",
      "#eye --nope ../data/data-parkinson-t0.ttl ../data/t0.ttl ../parkinson/gps-desc.n3 ../parkinson/score-calculation.n3 ../path/initial-aggregated-path-t0.n3 ../engine/gps-plugin-aggregated-path-processing.n3 --tactic limited-answer 1 --query ../engine/gps-aggregation-query.n3q\n",
      "\n",
      "@prefix sct: <http://snomed.info/id/>.\n",
      "@prefix data: <http://josd.github.io/eye/reasoning/gps/data#>.\n",
      "@prefix care: <http://josd.github.io/eye/reasoning/gps/care#>.\n",
      "@prefix math: <http://www.w3.org/2000/10/swap/math#>.\n",
      "@prefix xsd: <http://www.w3.org/2001/XMLSchema#>.\n",
      "@prefix e: <http://eulersharp.sourceforge.net/2003/03swap/log-rules#>.\n",
      "@prefix gps: <http://josd.github.io/eye/reasoning/gps/gps-schema#>.\n",
      "@prefix action: <http://josd.github.io/eye/reasoning/gps/action#>.\n",
      "@prefix : <http://josd.github.io/eye/reasoning#>.\n",
      "@prefix log: <http://www.w3.org/2000/10/swap/log#>.\n",
      "@prefix string: <http://www.w3.org/2000/10/swap/string#>.\n",
      "@prefix medication: <http://josd.github.io/eye/reasoning/gps/medication#>.\n",
      "@prefix list: <http://www.w3.org/2000/10/swap/list#>.\n",
      "@prefix prolog: <http://eulersharp.sourceforge.net/2003/03swap/prolog#>.\n",
      "@prefix func: <http://www.w3.org/2007/rif-builtin-function#>.\n",
      "@prefix rdf: <http://www.w3.org/1999/02/22-rdf-syntax-ns#>.\n",
      "\n",
      "data:patient_1 gps:aggregatedPath (((action:take_pill_Levodopa 1517928741 1523112741.0) gps:start 1517928741 {data:patient_1 care:updrs_score 12}) ((action:take_pill_Levodopa 1517928741 1523112741.0) gps:end 1523112741.0 {data:patient_1 care:updrs_score 10.5}) ((action:take_pill_Pramipexol 1523112741.0 1528296741.0) gps:start 1523112741.0 {data:patient_1 care:updrs_score 10.5}) ((action:take_pill_Pramipexol 1523112741.0 1528296741.0) gps:end 1528296741.0 {data:patient_1 care:updrs_score 9.2})).\n",
      "\n",
      "#2021-01-05T21:43:33.561Z in=33 out=1 ent=2 step=2 brake=3 inf=158894 sec=0.031 inf/sec=5125613\n",
      "#ENDS\n",
      "\n",
      "\n"
     ]
    }
   ],
   "source": [
    "f=open(\"../path/aggreagatedPath-t0.n3\")\n",
    "print(f.read())"
   ]
  },
  {
   "cell_type": "code",
   "execution_count": 54,
   "metadata": {
    "colab": {},
    "colab_type": "code",
    "id": "PDTmmat_-p2S"
   },
   "outputs": [
    {
     "name": "stderr",
     "output_type": "stream",
     "text": [
      "eye --nope ../path/aggreagatedPath-t0.n3 --query ../engine/path-processor.csvq --strings\n",
      "EYE v20.0910.0008 josd\n",
      "SWI-Prolog version 8.0.3\n",
      "starting 31 [msec cputime] 74 [msec walltime]\n",
      "GET file:///d:/github/gps4icdemo/path/aggreagatedpath-t0.n3 SC=1\n",
      "GET file:///d:/github/gps4icdemo/engine/path-processor.csvq SC=1\n",
      "networking 0 [msec cputime] 10 [msec walltime]\n",
      "reasoning 15 [msec cputime] 1 [msec walltime]\n",
      "2021-01-05T21:43:34.129Z in=2 out=28 ent=0 step=0 brake=1 inf=48347 sec=0.046 inf/sec=1051022\n",
      "\n"
     ]
    },
    {
     "data": {
      "text/html": [
       "<div>\n",
       "<style scoped>\n",
       "    .dataframe tbody tr th:only-of-type {\n",
       "        vertical-align: middle;\n",
       "    }\n",
       "\n",
       "    .dataframe tbody tr th {\n",
       "        vertical-align: top;\n",
       "    }\n",
       "\n",
       "    .dataframe thead th {\n",
       "        text-align: right;\n",
       "    }\n",
       "</style>\n",
       "<table border=\"1\" class=\"dataframe\">\n",
       "  <thead>\n",
       "    <tr style=\"text-align: right;\">\n",
       "      <th></th>\n",
       "      <th>Action</th>\n",
       "      <th>start_time</th>\n",
       "      <th>end_time</th>\n",
       "      <th>state</th>\n",
       "      <th>due_time</th>\n",
       "      <th>graph_retract</th>\n",
       "      <th>graph_assert</th>\n",
       "    </tr>\n",
       "  </thead>\n",
       "  <tbody>\n",
       "    <tr>\n",
       "      <th>0</th>\n",
       "      <td>http://josd.github.io/eye/reasoning/gps/action#take_pill_Levodopa</td>\n",
       "      <td>2018-02-06T14:52:21Z</td>\n",
       "      <td>2018-04-07T14:52:21.0Z</td>\n",
       "      <td>http://josd.github.io/eye/reasoning/gps/gps-schema#start</td>\n",
       "      <td>2018-02-06T14:52:21Z</td>\n",
       "      <td>{data:patient_1 care:updrs_score 12}</td>\n",
       "      <td>NaN</td>\n",
       "    </tr>\n",
       "    <tr>\n",
       "      <th>1</th>\n",
       "      <td>http://josd.github.io/eye/reasoning/gps/action#take_pill_Levodopa</td>\n",
       "      <td>2018-02-06T14:52:21Z</td>\n",
       "      <td>2018-04-07T14:52:21.0Z</td>\n",
       "      <td>http://josd.github.io/eye/reasoning/gps/gps-schema#end</td>\n",
       "      <td>2018-04-07T14:52:21.0Z</td>\n",
       "      <td>NaN</td>\n",
       "      <td>{data:patient_1 care:updrs_score 10.5}</td>\n",
       "    </tr>\n",
       "    <tr>\n",
       "      <th>2</th>\n",
       "      <td>http://josd.github.io/eye/reasoning/gps/action#take_pill_Pramipexol</td>\n",
       "      <td>2018-04-07T14:52:21.0Z</td>\n",
       "      <td>2018-06-06T14:52:21.0Z</td>\n",
       "      <td>http://josd.github.io/eye/reasoning/gps/gps-schema#start</td>\n",
       "      <td>2018-04-07T14:52:21.0Z</td>\n",
       "      <td>{data:patient_1 care:updrs_score 10.5}</td>\n",
       "      <td>NaN</td>\n",
       "    </tr>\n",
       "    <tr>\n",
       "      <th>3</th>\n",
       "      <td>http://josd.github.io/eye/reasoning/gps/action#take_pill_Pramipexol</td>\n",
       "      <td>2018-04-07T14:52:21.0Z</td>\n",
       "      <td>2018-06-06T14:52:21.0Z</td>\n",
       "      <td>http://josd.github.io/eye/reasoning/gps/gps-schema#end</td>\n",
       "      <td>2018-06-06T14:52:21.0Z</td>\n",
       "      <td>NaN</td>\n",
       "      <td>{data:patient_1 care:updrs_score 9.2}</td>\n",
       "    </tr>\n",
       "  </tbody>\n",
       "</table>\n",
       "</div>"
      ],
      "text/plain": [
       "                                                                Action  \\\n",
       "0  http://josd.github.io/eye/reasoning/gps/action#take_pill_Levodopa     \n",
       "1  http://josd.github.io/eye/reasoning/gps/action#take_pill_Levodopa     \n",
       "2  http://josd.github.io/eye/reasoning/gps/action#take_pill_Pramipexol   \n",
       "3  http://josd.github.io/eye/reasoning/gps/action#take_pill_Pramipexol   \n",
       "\n",
       "               start_time                end_time  \\\n",
       "0  2018-02-06T14:52:21Z    2018-04-07T14:52:21.0Z   \n",
       "1  2018-02-06T14:52:21Z    2018-04-07T14:52:21.0Z   \n",
       "2  2018-04-07T14:52:21.0Z  2018-06-06T14:52:21.0Z   \n",
       "3  2018-04-07T14:52:21.0Z  2018-06-06T14:52:21.0Z   \n",
       "\n",
       "                                                      state  \\\n",
       "0  http://josd.github.io/eye/reasoning/gps/gps-schema#start   \n",
       "1  http://josd.github.io/eye/reasoning/gps/gps-schema#end     \n",
       "2  http://josd.github.io/eye/reasoning/gps/gps-schema#start   \n",
       "3  http://josd.github.io/eye/reasoning/gps/gps-schema#end     \n",
       "\n",
       "                 due_time                           graph_retract  \\\n",
       "0  2018-02-06T14:52:21Z    {data:patient_1 care:updrs_score 12}     \n",
       "1  2018-04-07T14:52:21.0Z  NaN                                      \n",
       "2  2018-04-07T14:52:21.0Z  {data:patient_1 care:updrs_score 10.5}   \n",
       "3  2018-06-06T14:52:21.0Z  NaN                                      \n",
       "\n",
       "                             graph_assert  \n",
       "0  NaN                                     \n",
       "1  {data:patient_1 care:updrs_score 10.5}  \n",
       "2  NaN                                     \n",
       "3  {data:patient_1 care:updrs_score 9.2}   "
      ]
     },
     "execution_count": 54,
     "metadata": {},
     "output_type": "execute_result"
    }
   ],
   "source": [
    "!eye --nope ../path/aggreagatedPath-t0.n3 --query ../engine/path-processor.csvq --strings >../path/aggreagatedPath-t0.csv\n",
    "\n",
    "pd.read_csv('../path/aggreagatedPath-t0.csv', sep=',', encoding = 'utf-8')"
   ]
  },
  {
   "cell_type": "markdown",
   "metadata": {
    "colab_type": "text",
    "id": "X46xLaUu-p2V"
   },
   "source": [
    "#### The command below process the aggregated path to provide a better visualization with plotly"
   ]
  },
  {
   "cell_type": "code",
   "execution_count": 55,
   "metadata": {
    "colab": {
     "base_uri": "https://localhost:8080/",
     "height": 410
    },
    "colab_type": "code",
    "executionInfo": {
     "elapsed": 10594,
     "status": "error",
     "timestamp": 1591299352062,
     "user": {
      "displayName": "Sun Hong",
      "photoUrl": "",
      "userId": "15604721942150290112"
     },
     "user_tz": -120
    },
    "id": "Lx1-dfuT-p2V",
    "outputId": "36173dfd-7675-403b-a15c-1739734bdab5"
   },
   "outputs": [
    {
     "name": "stderr",
     "output_type": "stream",
     "text": [
      "eye --nope ../path/aggreagatedPath-t0.n3 ../parkinson/gps-desc.n3 ../engine/path-processor-visual.n3 --query ../engine/path-processor-visual.csvq --strings\n",
      "EYE v20.0910.0008 josd\n",
      "SWI-Prolog version 8.0.3\n",
      "starting 15 [msec cputime] 82 [msec walltime]\n",
      "GET file:///d:/github/gps4icdemo/path/aggreagatedpath-t0.n3 SC=1\n",
      "GET file:///d:/github/gps4icdemo/parkinson/gps-desc.n3 SC=3\n",
      "GET file:///d:/github/gps4icdemo/engine/path-processor-visual.n3 SC=2\n",
      "GET file:///d:/github/gps4icdemo/engine/path-processor-visual.csvq SC=1\n",
      "networking 16 [msec cputime] 23 [msec walltime]\n",
      "reasoning 15 [msec cputime] 2 [msec walltime]\n",
      "2021-01-05T21:43:34.426Z in=7 out=8 ent=2 step=8 brake=2 inf=108967 sec=0.046 inf/sec=2368848\n",
      "\n"
     ]
    },
    {
     "data": {
      "application/vnd.plotly.v1+json": {
       "config": {
        "linkText": "Export to plot.ly",
        "plotlyServerURL": "https://plot.ly",
        "showLink": false
       },
       "data": [
        {
         "fill": "toself",
         "fillcolor": "rgb(0, 220, 0)",
         "hoverinfo": "name",
         "legendgroup": "rgb(0, 220, 0)",
         "mode": "none",
         "name": "Parkinson",
         "type": "scatter",
         "x": [
          "2018-02-06T14:52:21Z",
          "2018-04-07T14:52:21.0Z",
          "2018-04-07T14:52:21.0Z",
          "2018-02-06T14:52:21Z",
          "2018-02-06T14:52:21Z",
          "2018-04-07T14:52:21.0Z",
          "2018-06-06T14:52:21.0Z",
          "2018-06-06T14:52:21.0Z",
          "2018-04-07T14:52:21.0Z"
         ],
         "y": [
          -0.2,
          -0.2,
          0.2,
          0.2,
          null,
          0.8,
          0.8,
          1.2,
          1.2
         ]
        },
        {
         "legendgroup": "rgb(0, 220, 0)",
         "marker": {
          "color": "rgb(0, 220, 0)",
          "opacity": 0,
          "size": 1
         },
         "mode": "markers",
         "name": "",
         "showlegend": false,
         "text": [
          null,
          null,
          null,
          null
         ],
         "type": "scatter",
         "x": [
          "2018-02-06T14:52:21Z",
          "2018-04-07T14:52:21.0Z",
          "2018-04-07T14:52:21.0Z",
          "2018-06-06T14:52:21.0Z"
         ],
         "y": [
          0,
          0,
          1,
          1
         ]
        }
       ],
       "layout": {
        "autosize": false,
        "height": 600,
        "hovermode": "closest",
        "margin": {
         "l": 200
        },
        "showlegend": true,
        "template": {
         "data": {
          "bar": [
           {
            "error_x": {
             "color": "#2a3f5f"
            },
            "error_y": {
             "color": "#2a3f5f"
            },
            "marker": {
             "line": {
              "color": "#E5ECF6",
              "width": 0.5
             }
            },
            "type": "bar"
           }
          ],
          "barpolar": [
           {
            "marker": {
             "line": {
              "color": "#E5ECF6",
              "width": 0.5
             }
            },
            "type": "barpolar"
           }
          ],
          "carpet": [
           {
            "aaxis": {
             "endlinecolor": "#2a3f5f",
             "gridcolor": "white",
             "linecolor": "white",
             "minorgridcolor": "white",
             "startlinecolor": "#2a3f5f"
            },
            "baxis": {
             "endlinecolor": "#2a3f5f",
             "gridcolor": "white",
             "linecolor": "white",
             "minorgridcolor": "white",
             "startlinecolor": "#2a3f5f"
            },
            "type": "carpet"
           }
          ],
          "choropleth": [
           {
            "colorbar": {
             "outlinewidth": 0,
             "ticks": ""
            },
            "type": "choropleth"
           }
          ],
          "contour": [
           {
            "colorbar": {
             "outlinewidth": 0,
             "ticks": ""
            },
            "colorscale": [
             [
              0,
              "#0d0887"
             ],
             [
              0.1111111111111111,
              "#46039f"
             ],
             [
              0.2222222222222222,
              "#7201a8"
             ],
             [
              0.3333333333333333,
              "#9c179e"
             ],
             [
              0.4444444444444444,
              "#bd3786"
             ],
             [
              0.5555555555555556,
              "#d8576b"
             ],
             [
              0.6666666666666666,
              "#ed7953"
             ],
             [
              0.7777777777777778,
              "#fb9f3a"
             ],
             [
              0.8888888888888888,
              "#fdca26"
             ],
             [
              1,
              "#f0f921"
             ]
            ],
            "type": "contour"
           }
          ],
          "contourcarpet": [
           {
            "colorbar": {
             "outlinewidth": 0,
             "ticks": ""
            },
            "type": "contourcarpet"
           }
          ],
          "heatmap": [
           {
            "colorbar": {
             "outlinewidth": 0,
             "ticks": ""
            },
            "colorscale": [
             [
              0,
              "#0d0887"
             ],
             [
              0.1111111111111111,
              "#46039f"
             ],
             [
              0.2222222222222222,
              "#7201a8"
             ],
             [
              0.3333333333333333,
              "#9c179e"
             ],
             [
              0.4444444444444444,
              "#bd3786"
             ],
             [
              0.5555555555555556,
              "#d8576b"
             ],
             [
              0.6666666666666666,
              "#ed7953"
             ],
             [
              0.7777777777777778,
              "#fb9f3a"
             ],
             [
              0.8888888888888888,
              "#fdca26"
             ],
             [
              1,
              "#f0f921"
             ]
            ],
            "type": "heatmap"
           }
          ],
          "heatmapgl": [
           {
            "colorbar": {
             "outlinewidth": 0,
             "ticks": ""
            },
            "colorscale": [
             [
              0,
              "#0d0887"
             ],
             [
              0.1111111111111111,
              "#46039f"
             ],
             [
              0.2222222222222222,
              "#7201a8"
             ],
             [
              0.3333333333333333,
              "#9c179e"
             ],
             [
              0.4444444444444444,
              "#bd3786"
             ],
             [
              0.5555555555555556,
              "#d8576b"
             ],
             [
              0.6666666666666666,
              "#ed7953"
             ],
             [
              0.7777777777777778,
              "#fb9f3a"
             ],
             [
              0.8888888888888888,
              "#fdca26"
             ],
             [
              1,
              "#f0f921"
             ]
            ],
            "type": "heatmapgl"
           }
          ],
          "histogram": [
           {
            "marker": {
             "colorbar": {
              "outlinewidth": 0,
              "ticks": ""
             }
            },
            "type": "histogram"
           }
          ],
          "histogram2d": [
           {
            "colorbar": {
             "outlinewidth": 0,
             "ticks": ""
            },
            "colorscale": [
             [
              0,
              "#0d0887"
             ],
             [
              0.1111111111111111,
              "#46039f"
             ],
             [
              0.2222222222222222,
              "#7201a8"
             ],
             [
              0.3333333333333333,
              "#9c179e"
             ],
             [
              0.4444444444444444,
              "#bd3786"
             ],
             [
              0.5555555555555556,
              "#d8576b"
             ],
             [
              0.6666666666666666,
              "#ed7953"
             ],
             [
              0.7777777777777778,
              "#fb9f3a"
             ],
             [
              0.8888888888888888,
              "#fdca26"
             ],
             [
              1,
              "#f0f921"
             ]
            ],
            "type": "histogram2d"
           }
          ],
          "histogram2dcontour": [
           {
            "colorbar": {
             "outlinewidth": 0,
             "ticks": ""
            },
            "colorscale": [
             [
              0,
              "#0d0887"
             ],
             [
              0.1111111111111111,
              "#46039f"
             ],
             [
              0.2222222222222222,
              "#7201a8"
             ],
             [
              0.3333333333333333,
              "#9c179e"
             ],
             [
              0.4444444444444444,
              "#bd3786"
             ],
             [
              0.5555555555555556,
              "#d8576b"
             ],
             [
              0.6666666666666666,
              "#ed7953"
             ],
             [
              0.7777777777777778,
              "#fb9f3a"
             ],
             [
              0.8888888888888888,
              "#fdca26"
             ],
             [
              1,
              "#f0f921"
             ]
            ],
            "type": "histogram2dcontour"
           }
          ],
          "mesh3d": [
           {
            "colorbar": {
             "outlinewidth": 0,
             "ticks": ""
            },
            "type": "mesh3d"
           }
          ],
          "parcoords": [
           {
            "line": {
             "colorbar": {
              "outlinewidth": 0,
              "ticks": ""
             }
            },
            "type": "parcoords"
           }
          ],
          "pie": [
           {
            "automargin": true,
            "type": "pie"
           }
          ],
          "scatter": [
           {
            "marker": {
             "colorbar": {
              "outlinewidth": 0,
              "ticks": ""
             }
            },
            "type": "scatter"
           }
          ],
          "scatter3d": [
           {
            "line": {
             "colorbar": {
              "outlinewidth": 0,
              "ticks": ""
             }
            },
            "marker": {
             "colorbar": {
              "outlinewidth": 0,
              "ticks": ""
             }
            },
            "type": "scatter3d"
           }
          ],
          "scattercarpet": [
           {
            "marker": {
             "colorbar": {
              "outlinewidth": 0,
              "ticks": ""
             }
            },
            "type": "scattercarpet"
           }
          ],
          "scattergeo": [
           {
            "marker": {
             "colorbar": {
              "outlinewidth": 0,
              "ticks": ""
             }
            },
            "type": "scattergeo"
           }
          ],
          "scattergl": [
           {
            "marker": {
             "colorbar": {
              "outlinewidth": 0,
              "ticks": ""
             }
            },
            "type": "scattergl"
           }
          ],
          "scattermapbox": [
           {
            "marker": {
             "colorbar": {
              "outlinewidth": 0,
              "ticks": ""
             }
            },
            "type": "scattermapbox"
           }
          ],
          "scatterpolar": [
           {
            "marker": {
             "colorbar": {
              "outlinewidth": 0,
              "ticks": ""
             }
            },
            "type": "scatterpolar"
           }
          ],
          "scatterpolargl": [
           {
            "marker": {
             "colorbar": {
              "outlinewidth": 0,
              "ticks": ""
             }
            },
            "type": "scatterpolargl"
           }
          ],
          "scatterternary": [
           {
            "marker": {
             "colorbar": {
              "outlinewidth": 0,
              "ticks": ""
             }
            },
            "type": "scatterternary"
           }
          ],
          "surface": [
           {
            "colorbar": {
             "outlinewidth": 0,
             "ticks": ""
            },
            "colorscale": [
             [
              0,
              "#0d0887"
             ],
             [
              0.1111111111111111,
              "#46039f"
             ],
             [
              0.2222222222222222,
              "#7201a8"
             ],
             [
              0.3333333333333333,
              "#9c179e"
             ],
             [
              0.4444444444444444,
              "#bd3786"
             ],
             [
              0.5555555555555556,
              "#d8576b"
             ],
             [
              0.6666666666666666,
              "#ed7953"
             ],
             [
              0.7777777777777778,
              "#fb9f3a"
             ],
             [
              0.8888888888888888,
              "#fdca26"
             ],
             [
              1,
              "#f0f921"
             ]
            ],
            "type": "surface"
           }
          ],
          "table": [
           {
            "cells": {
             "fill": {
              "color": "#EBF0F8"
             },
             "line": {
              "color": "white"
             }
            },
            "header": {
             "fill": {
              "color": "#C8D4E3"
             },
             "line": {
              "color": "white"
             }
            },
            "type": "table"
           }
          ]
         },
         "layout": {
          "annotationdefaults": {
           "arrowcolor": "#2a3f5f",
           "arrowhead": 0,
           "arrowwidth": 1
          },
          "coloraxis": {
           "colorbar": {
            "outlinewidth": 0,
            "ticks": ""
           }
          },
          "colorscale": {
           "diverging": [
            [
             0,
             "#8e0152"
            ],
            [
             0.1,
             "#c51b7d"
            ],
            [
             0.2,
             "#de77ae"
            ],
            [
             0.3,
             "#f1b6da"
            ],
            [
             0.4,
             "#fde0ef"
            ],
            [
             0.5,
             "#f7f7f7"
            ],
            [
             0.6,
             "#e6f5d0"
            ],
            [
             0.7,
             "#b8e186"
            ],
            [
             0.8,
             "#7fbc41"
            ],
            [
             0.9,
             "#4d9221"
            ],
            [
             1,
             "#276419"
            ]
           ],
           "sequential": [
            [
             0,
             "#0d0887"
            ],
            [
             0.1111111111111111,
             "#46039f"
            ],
            [
             0.2222222222222222,
             "#7201a8"
            ],
            [
             0.3333333333333333,
             "#9c179e"
            ],
            [
             0.4444444444444444,
             "#bd3786"
            ],
            [
             0.5555555555555556,
             "#d8576b"
            ],
            [
             0.6666666666666666,
             "#ed7953"
            ],
            [
             0.7777777777777778,
             "#fb9f3a"
            ],
            [
             0.8888888888888888,
             "#fdca26"
            ],
            [
             1,
             "#f0f921"
            ]
           ],
           "sequentialminus": [
            [
             0,
             "#0d0887"
            ],
            [
             0.1111111111111111,
             "#46039f"
            ],
            [
             0.2222222222222222,
             "#7201a8"
            ],
            [
             0.3333333333333333,
             "#9c179e"
            ],
            [
             0.4444444444444444,
             "#bd3786"
            ],
            [
             0.5555555555555556,
             "#d8576b"
            ],
            [
             0.6666666666666666,
             "#ed7953"
            ],
            [
             0.7777777777777778,
             "#fb9f3a"
            ],
            [
             0.8888888888888888,
             "#fdca26"
            ],
            [
             1,
             "#f0f921"
            ]
           ]
          },
          "colorway": [
           "#636efa",
           "#EF553B",
           "#00cc96",
           "#ab63fa",
           "#FFA15A",
           "#19d3f3",
           "#FF6692",
           "#B6E880",
           "#FF97FF",
           "#FECB52"
          ],
          "font": {
           "color": "#2a3f5f"
          },
          "geo": {
           "bgcolor": "white",
           "lakecolor": "white",
           "landcolor": "#E5ECF6",
           "showlakes": true,
           "showland": true,
           "subunitcolor": "white"
          },
          "hoverlabel": {
           "align": "left"
          },
          "hovermode": "closest",
          "mapbox": {
           "style": "light"
          },
          "paper_bgcolor": "white",
          "plot_bgcolor": "#E5ECF6",
          "polar": {
           "angularaxis": {
            "gridcolor": "white",
            "linecolor": "white",
            "ticks": ""
           },
           "bgcolor": "#E5ECF6",
           "radialaxis": {
            "gridcolor": "white",
            "linecolor": "white",
            "ticks": ""
           }
          },
          "scene": {
           "xaxis": {
            "backgroundcolor": "#E5ECF6",
            "gridcolor": "white",
            "gridwidth": 2,
            "linecolor": "white",
            "showbackground": true,
            "ticks": "",
            "zerolinecolor": "white"
           },
           "yaxis": {
            "backgroundcolor": "#E5ECF6",
            "gridcolor": "white",
            "gridwidth": 2,
            "linecolor": "white",
            "showbackground": true,
            "ticks": "",
            "zerolinecolor": "white"
           },
           "zaxis": {
            "backgroundcolor": "#E5ECF6",
            "gridcolor": "white",
            "gridwidth": 2,
            "linecolor": "white",
            "showbackground": true,
            "ticks": "",
            "zerolinecolor": "white"
           }
          },
          "shapedefaults": {
           "line": {
            "color": "#2a3f5f"
           }
          },
          "ternary": {
           "aaxis": {
            "gridcolor": "white",
            "linecolor": "white",
            "ticks": ""
           },
           "baxis": {
            "gridcolor": "white",
            "linecolor": "white",
            "ticks": ""
           },
           "bgcolor": "#E5ECF6",
           "caxis": {
            "gridcolor": "white",
            "linecolor": "white",
            "ticks": ""
           }
          },
          "title": {
           "x": 0.05
          },
          "xaxis": {
           "automargin": true,
           "gridcolor": "white",
           "linecolor": "white",
           "ticks": "",
           "title": {
            "standoff": 15
           },
           "zerolinecolor": "white",
           "zerolinewidth": 2
          },
          "yaxis": {
           "automargin": true,
           "gridcolor": "white",
           "linecolor": "white",
           "ticks": "",
           "title": {
            "standoff": 15
           },
           "zerolinecolor": "white",
           "zerolinewidth": 2
          }
         }
        },
        "title": {
         "text": "Path-Parkinson"
        },
        "width": 800,
        "xaxis": {
         "rangeselector": {
          "buttons": [
           {
            "count": 7,
            "label": "1w",
            "step": "day",
            "stepmode": "backward"
           },
           {
            "count": 1,
            "label": "1m",
            "step": "month",
            "stepmode": "backward"
           },
           {
            "count": 6,
            "label": "6m",
            "step": "month",
            "stepmode": "backward"
           },
           {
            "count": 1,
            "label": "YTD",
            "step": "year",
            "stepmode": "todate"
           },
           {
            "count": 1,
            "label": "1y",
            "step": "year",
            "stepmode": "backward"
           },
           {
            "step": "all"
           }
          ]
         },
         "showgrid": false,
         "type": "date",
         "zeroline": false
        },
        "yaxis": {
         "autorange": false,
         "range": [
          -1,
          3
         ],
         "showgrid": false,
         "ticktext": [
          "take_pill_Levodopa",
          "take_pill_Pramipexol"
         ],
         "tickvals": [
          0,
          1
         ],
         "zeroline": false
        }
       }
      },
      "text/html": [
       "<div>\n",
       "        \n",
       "        \n",
       "            <div id=\"d3652c53-aa5f-4922-8ad0-aa6b73a2fba1\" class=\"plotly-graph-div\" style=\"height:600px; width:800px;\"></div>\n",
       "            <script type=\"text/javascript\">\n",
       "                require([\"plotly\"], function(Plotly) {\n",
       "                    window.PLOTLYENV=window.PLOTLYENV || {};\n",
       "                    \n",
       "                if (document.getElementById(\"d3652c53-aa5f-4922-8ad0-aa6b73a2fba1\")) {\n",
       "                    Plotly.newPlot(\n",
       "                        'd3652c53-aa5f-4922-8ad0-aa6b73a2fba1',\n",
       "                        [{\"fill\": \"toself\", \"fillcolor\": \"rgb(0, 220, 0)\", \"hoverinfo\": \"name\", \"legendgroup\": \"rgb(0, 220, 0)\", \"mode\": \"none\", \"name\": \"Parkinson\", \"type\": \"scatter\", \"x\": [\"2018-02-06T14:52:21Z\", \"2018-04-07T14:52:21.0Z\", \"2018-04-07T14:52:21.0Z\", \"2018-02-06T14:52:21Z\", \"2018-02-06T14:52:21Z\", \"2018-04-07T14:52:21.0Z\", \"2018-06-06T14:52:21.0Z\", \"2018-06-06T14:52:21.0Z\", \"2018-04-07T14:52:21.0Z\"], \"y\": [-0.2, -0.2, 0.2, 0.2, null, 0.8, 0.8, 1.2, 1.2]}, {\"legendgroup\": \"rgb(0, 220, 0)\", \"marker\": {\"color\": \"rgb(0, 220, 0)\", \"opacity\": 0, \"size\": 1}, \"mode\": \"markers\", \"name\": \"\", \"showlegend\": false, \"text\": [null, null, null, null], \"type\": \"scatter\", \"x\": [\"2018-02-06T14:52:21Z\", \"2018-04-07T14:52:21.0Z\", \"2018-04-07T14:52:21.0Z\", \"2018-06-06T14:52:21.0Z\"], \"y\": [0, 0, 1, 1]}],\n",
       "                        {\"autosize\": false, \"height\": 600, \"hovermode\": \"closest\", \"margin\": {\"l\": 200}, \"showlegend\": true, \"template\": {\"data\": {\"bar\": [{\"error_x\": {\"color\": \"#2a3f5f\"}, \"error_y\": {\"color\": \"#2a3f5f\"}, \"marker\": {\"line\": {\"color\": \"#E5ECF6\", \"width\": 0.5}}, \"type\": \"bar\"}], \"barpolar\": [{\"marker\": {\"line\": {\"color\": \"#E5ECF6\", \"width\": 0.5}}, \"type\": \"barpolar\"}], \"carpet\": [{\"aaxis\": {\"endlinecolor\": \"#2a3f5f\", \"gridcolor\": \"white\", \"linecolor\": \"white\", \"minorgridcolor\": \"white\", \"startlinecolor\": \"#2a3f5f\"}, \"baxis\": {\"endlinecolor\": \"#2a3f5f\", \"gridcolor\": \"white\", \"linecolor\": \"white\", \"minorgridcolor\": \"white\", \"startlinecolor\": \"#2a3f5f\"}, \"type\": \"carpet\"}], \"choropleth\": [{\"colorbar\": {\"outlinewidth\": 0, \"ticks\": \"\"}, \"type\": \"choropleth\"}], \"contour\": [{\"colorbar\": {\"outlinewidth\": 0, \"ticks\": \"\"}, \"colorscale\": [[0.0, \"#0d0887\"], [0.1111111111111111, \"#46039f\"], [0.2222222222222222, \"#7201a8\"], [0.3333333333333333, \"#9c179e\"], [0.4444444444444444, \"#bd3786\"], [0.5555555555555556, \"#d8576b\"], [0.6666666666666666, \"#ed7953\"], [0.7777777777777778, \"#fb9f3a\"], [0.8888888888888888, \"#fdca26\"], [1.0, \"#f0f921\"]], \"type\": \"contour\"}], \"contourcarpet\": [{\"colorbar\": {\"outlinewidth\": 0, \"ticks\": \"\"}, \"type\": \"contourcarpet\"}], \"heatmap\": [{\"colorbar\": {\"outlinewidth\": 0, \"ticks\": \"\"}, \"colorscale\": [[0.0, \"#0d0887\"], [0.1111111111111111, \"#46039f\"], [0.2222222222222222, \"#7201a8\"], [0.3333333333333333, \"#9c179e\"], [0.4444444444444444, \"#bd3786\"], [0.5555555555555556, \"#d8576b\"], [0.6666666666666666, \"#ed7953\"], [0.7777777777777778, \"#fb9f3a\"], [0.8888888888888888, \"#fdca26\"], [1.0, \"#f0f921\"]], \"type\": \"heatmap\"}], \"heatmapgl\": [{\"colorbar\": {\"outlinewidth\": 0, \"ticks\": \"\"}, \"colorscale\": [[0.0, \"#0d0887\"], [0.1111111111111111, \"#46039f\"], [0.2222222222222222, \"#7201a8\"], [0.3333333333333333, \"#9c179e\"], [0.4444444444444444, \"#bd3786\"], [0.5555555555555556, \"#d8576b\"], [0.6666666666666666, \"#ed7953\"], [0.7777777777777778, \"#fb9f3a\"], [0.8888888888888888, \"#fdca26\"], [1.0, \"#f0f921\"]], \"type\": \"heatmapgl\"}], \"histogram\": [{\"marker\": {\"colorbar\": {\"outlinewidth\": 0, \"ticks\": \"\"}}, \"type\": \"histogram\"}], \"histogram2d\": [{\"colorbar\": {\"outlinewidth\": 0, \"ticks\": \"\"}, \"colorscale\": [[0.0, \"#0d0887\"], [0.1111111111111111, \"#46039f\"], [0.2222222222222222, \"#7201a8\"], [0.3333333333333333, \"#9c179e\"], [0.4444444444444444, \"#bd3786\"], [0.5555555555555556, \"#d8576b\"], [0.6666666666666666, \"#ed7953\"], [0.7777777777777778, \"#fb9f3a\"], [0.8888888888888888, \"#fdca26\"], [1.0, \"#f0f921\"]], \"type\": \"histogram2d\"}], \"histogram2dcontour\": [{\"colorbar\": {\"outlinewidth\": 0, \"ticks\": \"\"}, \"colorscale\": [[0.0, \"#0d0887\"], [0.1111111111111111, \"#46039f\"], [0.2222222222222222, \"#7201a8\"], [0.3333333333333333, \"#9c179e\"], [0.4444444444444444, \"#bd3786\"], [0.5555555555555556, \"#d8576b\"], [0.6666666666666666, \"#ed7953\"], [0.7777777777777778, \"#fb9f3a\"], [0.8888888888888888, \"#fdca26\"], [1.0, \"#f0f921\"]], \"type\": \"histogram2dcontour\"}], \"mesh3d\": [{\"colorbar\": {\"outlinewidth\": 0, \"ticks\": \"\"}, \"type\": \"mesh3d\"}], \"parcoords\": [{\"line\": {\"colorbar\": {\"outlinewidth\": 0, \"ticks\": \"\"}}, \"type\": \"parcoords\"}], \"pie\": [{\"automargin\": true, \"type\": \"pie\"}], \"scatter\": [{\"marker\": {\"colorbar\": {\"outlinewidth\": 0, \"ticks\": \"\"}}, \"type\": \"scatter\"}], \"scatter3d\": [{\"line\": {\"colorbar\": {\"outlinewidth\": 0, \"ticks\": \"\"}}, \"marker\": {\"colorbar\": {\"outlinewidth\": 0, \"ticks\": \"\"}}, \"type\": \"scatter3d\"}], \"scattercarpet\": [{\"marker\": {\"colorbar\": {\"outlinewidth\": 0, \"ticks\": \"\"}}, \"type\": \"scattercarpet\"}], \"scattergeo\": [{\"marker\": {\"colorbar\": {\"outlinewidth\": 0, \"ticks\": \"\"}}, \"type\": \"scattergeo\"}], \"scattergl\": [{\"marker\": {\"colorbar\": {\"outlinewidth\": 0, \"ticks\": \"\"}}, \"type\": \"scattergl\"}], \"scattermapbox\": [{\"marker\": {\"colorbar\": {\"outlinewidth\": 0, \"ticks\": \"\"}}, \"type\": \"scattermapbox\"}], \"scatterpolar\": [{\"marker\": {\"colorbar\": {\"outlinewidth\": 0, \"ticks\": \"\"}}, \"type\": \"scatterpolar\"}], \"scatterpolargl\": [{\"marker\": {\"colorbar\": {\"outlinewidth\": 0, \"ticks\": \"\"}}, \"type\": \"scatterpolargl\"}], \"scatterternary\": [{\"marker\": {\"colorbar\": {\"outlinewidth\": 0, \"ticks\": \"\"}}, \"type\": \"scatterternary\"}], \"surface\": [{\"colorbar\": {\"outlinewidth\": 0, \"ticks\": \"\"}, \"colorscale\": [[0.0, \"#0d0887\"], [0.1111111111111111, \"#46039f\"], [0.2222222222222222, \"#7201a8\"], [0.3333333333333333, \"#9c179e\"], [0.4444444444444444, \"#bd3786\"], [0.5555555555555556, \"#d8576b\"], [0.6666666666666666, \"#ed7953\"], [0.7777777777777778, \"#fb9f3a\"], [0.8888888888888888, \"#fdca26\"], [1.0, \"#f0f921\"]], \"type\": \"surface\"}], \"table\": [{\"cells\": {\"fill\": {\"color\": \"#EBF0F8\"}, \"line\": {\"color\": \"white\"}}, \"header\": {\"fill\": {\"color\": \"#C8D4E3\"}, \"line\": {\"color\": \"white\"}}, \"type\": \"table\"}]}, \"layout\": {\"annotationdefaults\": {\"arrowcolor\": \"#2a3f5f\", \"arrowhead\": 0, \"arrowwidth\": 1}, \"coloraxis\": {\"colorbar\": {\"outlinewidth\": 0, \"ticks\": \"\"}}, \"colorscale\": {\"diverging\": [[0, \"#8e0152\"], [0.1, \"#c51b7d\"], [0.2, \"#de77ae\"], [0.3, \"#f1b6da\"], [0.4, \"#fde0ef\"], [0.5, \"#f7f7f7\"], [0.6, \"#e6f5d0\"], [0.7, \"#b8e186\"], [0.8, \"#7fbc41\"], [0.9, \"#4d9221\"], [1, \"#276419\"]], \"sequential\": [[0.0, \"#0d0887\"], [0.1111111111111111, \"#46039f\"], [0.2222222222222222, \"#7201a8\"], [0.3333333333333333, \"#9c179e\"], [0.4444444444444444, \"#bd3786\"], [0.5555555555555556, \"#d8576b\"], [0.6666666666666666, \"#ed7953\"], [0.7777777777777778, \"#fb9f3a\"], [0.8888888888888888, \"#fdca26\"], [1.0, \"#f0f921\"]], \"sequentialminus\": [[0.0, \"#0d0887\"], [0.1111111111111111, \"#46039f\"], [0.2222222222222222, \"#7201a8\"], [0.3333333333333333, \"#9c179e\"], [0.4444444444444444, \"#bd3786\"], [0.5555555555555556, \"#d8576b\"], [0.6666666666666666, \"#ed7953\"], [0.7777777777777778, \"#fb9f3a\"], [0.8888888888888888, \"#fdca26\"], [1.0, \"#f0f921\"]]}, \"colorway\": [\"#636efa\", \"#EF553B\", \"#00cc96\", \"#ab63fa\", \"#FFA15A\", \"#19d3f3\", \"#FF6692\", \"#B6E880\", \"#FF97FF\", \"#FECB52\"], \"font\": {\"color\": \"#2a3f5f\"}, \"geo\": {\"bgcolor\": \"white\", \"lakecolor\": \"white\", \"landcolor\": \"#E5ECF6\", \"showlakes\": true, \"showland\": true, \"subunitcolor\": \"white\"}, \"hoverlabel\": {\"align\": \"left\"}, \"hovermode\": \"closest\", \"mapbox\": {\"style\": \"light\"}, \"paper_bgcolor\": \"white\", \"plot_bgcolor\": \"#E5ECF6\", \"polar\": {\"angularaxis\": {\"gridcolor\": \"white\", \"linecolor\": \"white\", \"ticks\": \"\"}, \"bgcolor\": \"#E5ECF6\", \"radialaxis\": {\"gridcolor\": \"white\", \"linecolor\": \"white\", \"ticks\": \"\"}}, \"scene\": {\"xaxis\": {\"backgroundcolor\": \"#E5ECF6\", \"gridcolor\": \"white\", \"gridwidth\": 2, \"linecolor\": \"white\", \"showbackground\": true, \"ticks\": \"\", \"zerolinecolor\": \"white\"}, \"yaxis\": {\"backgroundcolor\": \"#E5ECF6\", \"gridcolor\": \"white\", \"gridwidth\": 2, \"linecolor\": \"white\", \"showbackground\": true, \"ticks\": \"\", \"zerolinecolor\": \"white\"}, \"zaxis\": {\"backgroundcolor\": \"#E5ECF6\", \"gridcolor\": \"white\", \"gridwidth\": 2, \"linecolor\": \"white\", \"showbackground\": true, \"ticks\": \"\", \"zerolinecolor\": \"white\"}}, \"shapedefaults\": {\"line\": {\"color\": \"#2a3f5f\"}}, \"ternary\": {\"aaxis\": {\"gridcolor\": \"white\", \"linecolor\": \"white\", \"ticks\": \"\"}, \"baxis\": {\"gridcolor\": \"white\", \"linecolor\": \"white\", \"ticks\": \"\"}, \"bgcolor\": \"#E5ECF6\", \"caxis\": {\"gridcolor\": \"white\", \"linecolor\": \"white\", \"ticks\": \"\"}}, \"title\": {\"x\": 0.05}, \"xaxis\": {\"automargin\": true, \"gridcolor\": \"white\", \"linecolor\": \"white\", \"ticks\": \"\", \"title\": {\"standoff\": 15}, \"zerolinecolor\": \"white\", \"zerolinewidth\": 2}, \"yaxis\": {\"automargin\": true, \"gridcolor\": \"white\", \"linecolor\": \"white\", \"ticks\": \"\", \"title\": {\"standoff\": 15}, \"zerolinecolor\": \"white\", \"zerolinewidth\": 2}}}, \"title\": {\"text\": \"Path-Parkinson\"}, \"width\": 800, \"xaxis\": {\"rangeselector\": {\"buttons\": [{\"count\": 7, \"label\": \"1w\", \"step\": \"day\", \"stepmode\": \"backward\"}, {\"count\": 1, \"label\": \"1m\", \"step\": \"month\", \"stepmode\": \"backward\"}, {\"count\": 6, \"label\": \"6m\", \"step\": \"month\", \"stepmode\": \"backward\"}, {\"count\": 1, \"label\": \"YTD\", \"step\": \"year\", \"stepmode\": \"todate\"}, {\"count\": 1, \"label\": \"1y\", \"step\": \"year\", \"stepmode\": \"backward\"}, {\"step\": \"all\"}]}, \"showgrid\": false, \"type\": \"date\", \"zeroline\": false}, \"yaxis\": {\"autorange\": false, \"range\": [-1, 3], \"showgrid\": false, \"ticktext\": [\"take_pill_Levodopa\", \"take_pill_Pramipexol\"], \"tickvals\": [0, 1], \"zeroline\": false}},\n",
       "                        {\"responsive\": true}\n",
       "                    ).then(function(){\n",
       "                            \n",
       "var gd = document.getElementById('d3652c53-aa5f-4922-8ad0-aa6b73a2fba1');\n",
       "var x = new MutationObserver(function (mutations, observer) {{\n",
       "        var display = window.getComputedStyle(gd).display;\n",
       "        if (!display || display === 'none') {{\n",
       "            console.log([gd, 'removed!']);\n",
       "            Plotly.purge(gd);\n",
       "            observer.disconnect();\n",
       "        }}\n",
       "}});\n",
       "\n",
       "// Listen for the removal of the full notebook cells\n",
       "var notebookContainer = gd.closest('#notebook-container');\n",
       "if (notebookContainer) {{\n",
       "    x.observe(notebookContainer, {childList: true});\n",
       "}}\n",
       "\n",
       "// Listen for the clearing of the current output cell\n",
       "var outputEl = gd.closest('.output');\n",
       "if (outputEl) {{\n",
       "    x.observe(outputEl, {childList: true});\n",
       "}}\n",
       "\n",
       "                        })\n",
       "                };\n",
       "                });\n",
       "            </script>\n",
       "        </div>"
      ]
     },
     "metadata": {},
     "output_type": "display_data"
    }
   ],
   "source": [
    "!eye --nope ../path/aggreagatedPath-t0.n3 ../parkinson/gps-desc.n3 ../engine/path-processor-visual.n3 --query ../engine/path-processor-visual.csvq --strings >../path/aggreagatedPath-plot-t0.csv\n",
    "\n",
    "df_path = pd.read_csv('../path/aggreagatedPath-plot-t0.csv', sep=',', encoding = 'utf-8')\n",
    "df = [dict(Task=df_path.action_name[0], Start=df_path.start_time[0], Finish=df_path.end_time[0], Resource=df_path.map_name[0])]\n",
    "i=1\n",
    "while i < len(df_path):\n",
    "    df.append( dict(Task=df_path.action_name[i], Start=df_path.start_time[i], Finish=df_path.end_time[i], Resource=df_path.map_name[i]) )\n",
    "    i+=1\n",
    "\n",
    "colors = dict(Conflict = 'rgb(220, 0, 0)',\n",
    "              Colon_cancer = 'rgb(0, 0, 220)',\n",
    "              Parkinson = 'rgb(0, 220, 0)')\n",
    "\n",
    "fig = ff.create_gantt(df, colors=colors, index_col='Resource', show_colorbar=True,  title='Path-Parkinson')\n",
    "fig['layout'].update(autosize=False, width=800, height=600, margin=dict(l=200))\n",
    "iplot(fig, show_link=False)"
   ]
  },
  {
   "cell_type": "markdown",
   "metadata": {
    "colab_type": "text",
    "id": "Xue2zF4F-p2f"
   },
   "source": [
    "# At T1, the patient got an updated data\n",
    "*GMT: Wednesday, March 7, 2018 2:09:33 PM*\n",
    "\n",
    "Since at T1, the first action is ongoing, but still not finished yet, at this timepoint, it difficult to predict what will happen when it ends, so the updated data will not influence the prediction if relevant data would be affected by the ongoing action, the prediction may only update when an action is finished. "
   ]
  },
  {
   "cell_type": "markdown",
   "metadata": {
    "colab_type": "text",
    "id": "Xue2zF4F-p2f"
   },
   "source": [
    "**scenario a, the UPDRSScore remains the same, but it is too early to draw conclusion. The caculation relies on predicted graph in the last run, \n",
    "and the new value provided at T1 is not in use for the path validation**"
   ]
  },
  {
   "cell_type": "code",
   "execution_count": 56,
   "metadata": {
    "colab": {},
    "colab_type": "code",
    "id": "5rY9419I-p2g"
   },
   "outputs": [
    {
     "name": "stdout",
     "output_type": "stream",
     "text": [
      "#Processed by EYE v20.0910.0008 josd\n",
      "#eye --nope ../data/data-parkinson-t1-a.ttl ../data/t1.ttl ../parkinson/gps-desc.n3 ../parkinson/score-calculation.n3 ../path/aggreagatedPath-t0.n3 ../engine/gps-plugin-validation.n3 --query ../parkinson/gps-goal-parkinson.n3q\n",
      "\n",
      "@prefix sct: <http://snomed.info/id/>.\n",
      "@prefix data: <http://josd.github.io/eye/reasoning/gps/data#>.\n",
      "@prefix care: <http://josd.github.io/eye/reasoning/gps/care#>.\n",
      "@prefix math: <http://www.w3.org/2000/10/swap/math#>.\n",
      "@prefix xsd: <http://www.w3.org/2001/XMLSchema#>.\n",
      "@prefix e: <http://eulersharp.sourceforge.net/2003/03swap/log-rules#>.\n",
      "@prefix gps: <http://josd.github.io/eye/reasoning/gps/gps-schema#>.\n",
      "@prefix action: <http://josd.github.io/eye/reasoning/gps/action#>.\n",
      "@prefix : <http://josd.github.io/eye/reasoning#>.\n",
      "@prefix log: <http://www.w3.org/2000/10/swap/log#>.\n",
      "@prefix string: <http://www.w3.org/2000/10/swap/string#>.\n",
      "@prefix medication: <http://josd.github.io/eye/reasoning/gps/medication#>.\n",
      "@prefix list: <http://www.w3.org/2000/10/swap/list#>.\n",
      "@prefix prolog: <http://eulersharp.sourceforge.net/2003/03swap/prolog#>.\n",
      "@prefix func: <http://www.w3.org/2007/rif-builtin-function#>.\n",
      "@prefix rdf: <http://www.w3.org/1999/02/22-rdf-syntax-ns#>.\n",
      "\n",
      "data:patient_1 gps:path (((action:take_pill_Levodopa gps:start 1517928741 {data:patient_1 care:updrs_score 12}) (action:take_pill_Levodopa gps:end 1523112741.0 {data:patient_1 care:updrs_score 10.5}) ((action:take_pill_Pramipexol 1523112741.0 1528296741.0) gps:start 1523112741.0 {data:patient_1 care:updrs_score 10.5}) (action:take_pill_Pramipexol gps:end 1528296741.0 {data:patient_1 care:updrs_score 9.2})) 20736000.0 227.59999999999997 0.40960000000000013 0.5184000000000002 (9.2)).\n",
      "\n",
      "#2021-01-05T21:43:34.781Z in=32 out=1 ent=2 step=4 brake=4 inf=206443 sec=0.031 inf/sec=6659452\n",
      "#ENDS\n",
      "\n"
     ]
    },
    {
     "name": "stderr",
     "output_type": "stream",
     "text": [
      "eye --nope ../data/data-parkinson-t1-a.ttl ../data/t1.ttl ../parkinson/gps-desc.n3 ../parkinson/score-calculation.n3 ../path/aggreagatedPath-t0.n3 ../engine/gps-plugin-validation.n3 --query ../parkinson/gps-goal-parkinson.n3q\n",
      "EYE v20.0910.0008 josd\n",
      "SWI-Prolog version 8.0.3\n",
      "starting 15 [msec cputime] 86 [msec walltime]\n",
      "GET file:///d:/github/gps4icdemo/data/data-parkinson-t1-a.ttl SC=14\n",
      "GET file:///d:/github/gps4icdemo/data/t1.ttl SC=1\n",
      "GET file:///d:/github/gps4icdemo/parkinson/gps-desc.n3 SC=3\n",
      "GET file:///d:/github/gps4icdemo/parkinson/score-calculation.n3 SC=1\n",
      "GET file:///d:/github/gps4icdemo/path/aggreagatedpath-t0.n3 SC=1\n",
      "GET file:///d:/github/gps4icdemo/engine/gps-plugin-validation.n3 SC=11\n",
      "GET file:///d:/github/gps4icdemo/parkinson/gps-goal-parkinson.n3q SC=1\n",
      "networking 16 [msec cputime] 64 [msec walltime]\n",
      "reasoning 0 [msec cputime] 4 [msec walltime]\n",
      "2021-01-05T21:43:34.781Z in=32 out=1 ent=2 step=4 brake=4 inf=206443 sec=0.031 inf/sec=6659452\n",
      "\n"
     ]
    }
   ],
   "source": [
    "!eye --nope ../data/data-parkinson-t1-a.ttl ../data/t1.ttl ../parkinson/gps-desc.n3  ../parkinson/score-calculation.n3 ../path/aggreagatedPath-t0.n3 ../engine/gps-plugin-validation.n3 --query ../parkinson/gps-goal-parkinson.n3q\n"
   ]
  },
  {
   "cell_type": "markdown",
   "metadata": {
    "colab_type": "text",
    "id": "Xue2zF4F-p2f"
   },
   "source": [
    "**scenario b, the UPDRSScore drops by 1.5, but it is too early to draw conclusion. The caculation relies on predicted graph in the last run, \n",
    "and the new value provided at T1 is not in use for the path validation**"
   ]
  },
  {
   "cell_type": "code",
   "execution_count": 57,
   "metadata": {
    "colab": {},
    "colab_type": "code",
    "id": "4eFxg_jC-p2l"
   },
   "outputs": [
    {
     "name": "stdout",
     "output_type": "stream",
     "text": [
      "#Processed by EYE v20.0910.0008 josd\n",
      "#eye --nope ../data/data-parkinson-t1-b.ttl ../data/t1.ttl ../parkinson/gps-desc.n3 ../parkinson/score-calculation.n3 ../path/aggreagatedPath-t0.n3 ../engine/gps-plugin-validation.n3 --query ../parkinson/gps-goal-parkinson.n3q\n",
      "\n",
      "@prefix sct: <http://snomed.info/id/>.\n",
      "@prefix data: <http://josd.github.io/eye/reasoning/gps/data#>.\n",
      "@prefix care: <http://josd.github.io/eye/reasoning/gps/care#>.\n",
      "@prefix math: <http://www.w3.org/2000/10/swap/math#>.\n",
      "@prefix xsd: <http://www.w3.org/2001/XMLSchema#>.\n",
      "@prefix e: <http://eulersharp.sourceforge.net/2003/03swap/log-rules#>.\n",
      "@prefix gps: <http://josd.github.io/eye/reasoning/gps/gps-schema#>.\n",
      "@prefix action: <http://josd.github.io/eye/reasoning/gps/action#>.\n",
      "@prefix : <http://josd.github.io/eye/reasoning#>.\n",
      "@prefix log: <http://www.w3.org/2000/10/swap/log#>.\n",
      "@prefix string: <http://www.w3.org/2000/10/swap/string#>.\n",
      "@prefix medication: <http://josd.github.io/eye/reasoning/gps/medication#>.\n",
      "@prefix list: <http://www.w3.org/2000/10/swap/list#>.\n",
      "@prefix prolog: <http://eulersharp.sourceforge.net/2003/03swap/prolog#>.\n",
      "@prefix func: <http://www.w3.org/2007/rif-builtin-function#>.\n",
      "@prefix rdf: <http://www.w3.org/1999/02/22-rdf-syntax-ns#>.\n",
      "\n",
      "data:patient_1 gps:path (((action:take_pill_Levodopa gps:start 1517928741 {data:patient_1 care:updrs_score 12}) (action:take_pill_Levodopa gps:end 1523112741.0 {data:patient_1 care:updrs_score 10.5}) ((action:take_pill_Pramipexol 1523112741.0 1528296741.0) gps:start 1523112741.0 {data:patient_1 care:updrs_score 10.5}) (action:take_pill_Pramipexol gps:end 1528296741.0 {data:patient_1 care:updrs_score 9.2})) 20736000.0 227.59999999999997 0.40960000000000013 0.5184000000000002 (9.2)).\n",
      "\n",
      "#2021-01-05T21:43:35.092Z in=32 out=1 ent=2 step=4 brake=4 inf=206476 sec=0.062 inf/sec=3330258\n",
      "#ENDS\n",
      "\n"
     ]
    },
    {
     "name": "stderr",
     "output_type": "stream",
     "text": [
      "eye --nope ../data/data-parkinson-t1-b.ttl ../data/t1.ttl ../parkinson/gps-desc.n3 ../parkinson/score-calculation.n3 ../path/aggreagatedPath-t0.n3 ../engine/gps-plugin-validation.n3 --query ../parkinson/gps-goal-parkinson.n3q\n",
      "EYE v20.0910.0008 josd\n",
      "SWI-Prolog version 8.0.3\n",
      "starting 31 [msec cputime] 80 [msec walltime]\n",
      "GET file:///d:/github/gps4icdemo/data/data-parkinson-t1-b.ttl SC=14\n",
      "GET file:///d:/github/gps4icdemo/data/t1.ttl SC=1\n",
      "GET file:///d:/github/gps4icdemo/parkinson/gps-desc.n3 SC=3\n",
      "GET file:///d:/github/gps4icdemo/parkinson/score-calculation.n3 SC=1\n",
      "GET file:///d:/github/gps4icdemo/path/aggreagatedpath-t0.n3 SC=1\n",
      "GET file:///d:/github/gps4icdemo/engine/gps-plugin-validation.n3 SC=11\n",
      "GET file:///d:/github/gps4icdemo/parkinson/gps-goal-parkinson.n3q SC=1\n",
      "networking 31 [msec cputime] 57 [msec walltime]\n",
      "reasoning 0 [msec cputime] 2 [msec walltime]\n",
      "2021-01-05T21:43:35.092Z in=32 out=1 ent=2 step=4 brake=4 inf=206476 sec=0.062 inf/sec=3330258\n",
      "\n"
     ]
    }
   ],
   "source": [
    "!eye --nope ../data/data-parkinson-t1-b.ttl ../data/t1.ttl ../parkinson/gps-desc.n3  ../parkinson/score-calculation.n3 ../path/aggreagatedPath-t0.n3 ../engine/gps-plugin-validation.n3 --query ../parkinson/gps-goal-parkinson.n3q\n"
   ]
  },
  {
   "cell_type": "markdown",
   "metadata": {
    "colab_type": "text",
    "id": "Xue2zF4F-p2f"
   },
   "source": [
    "**scenario c, the UPDRSScore drops by 1.9, but it is too early to draw conclusion. The caculation relies on predicted graph in the last run, \n",
    "and the new value provided at T1 is not in use for the path validation**"
   ]
  },
  {
   "cell_type": "code",
   "execution_count": 58,
   "metadata": {
    "colab": {},
    "colab_type": "code",
    "id": "EJhvdvfz-p2o"
   },
   "outputs": [
    {
     "name": "stdout",
     "output_type": "stream",
     "text": [
      "#Processed by EYE v20.0910.0008 josd"
     ]
    },
    {
     "name": "stderr",
     "output_type": "stream",
     "text": [
      "eye --nope ../data/data-parkinson-t1-c.ttl ../data/t1.ttl ../parkinson/gps-desc.n3 ../parkinson/score-calculation.n3 ../path/aggreagatedPath-t0.n3 ../engine/gps-plugin-validation.n3 --query ../parkinson/gps-goal-parkinson.n3q\n",
      "EYE v20.0910.0008 josd\n",
      "SWI-Prolog version 8.0.3\n",
      "starting 15 [msec cputime] 78 [msec walltime]\n",
      "GET file:///d:/github/gps4icdemo/data/data-parkinson-t1-c.ttl SC=14\n",
      "GET file:///d:/github/gps4icdemo/data/t1.ttl SC=1\n",
      "GET file:///d:/github/gps4icdemo/parkinson/gps-desc.n3 SC=3\n",
      "GET file:///d:/github/gps4icdemo/parkinson/score-calculation.n3 SC=1\n",
      "GET file:///d:/github/gps4icdemo/path/aggreagatedpath-t0.n3 SC=1\n",
      "GET file:///d:/github/gps4icdemo/engine/gps-plugin-validation.n3 SC=11\n",
      "GET file:///d:/github/gps4icdemo/parkinson/gps-goal-parkinson.n3q SC=1\n",
      "networking 31 [msec cputime] 51 [msec walltime]\n",
      "reasoning 0 [msec cputime] 3 [msec walltime]\n",
      "2021-01-05T21:43:35.402Z in=32 out=1 ent=2 step=4 brake=4 inf=206475 sec=0.046 inf/sec=4488587\n",
      "\n"
     ]
    },
    {
     "name": "stdout",
     "output_type": "stream",
     "text": [
      "\n",
      "#eye --nope ../data/data-parkinson-t1-c.ttl ../data/t1.ttl ../parkinson/gps-desc.n3 ../parkinson/score-calculation.n3 ../path/aggreagatedPath-t0.n3 ../engine/gps-plugin-validation.n3 --query ../parkinson/gps-goal-parkinson.n3q\n",
      "\n",
      "@prefix sct: <http://snomed.info/id/>.\n",
      "@prefix data: <http://josd.github.io/eye/reasoning/gps/data#>.\n",
      "@prefix care: <http://josd.github.io/eye/reasoning/gps/care#>.\n",
      "@prefix math: <http://www.w3.org/2000/10/swap/math#>.\n",
      "@prefix xsd: <http://www.w3.org/2001/XMLSchema#>.\n",
      "@prefix e: <http://eulersharp.sourceforge.net/2003/03swap/log-rules#>.\n",
      "@prefix gps: <http://josd.github.io/eye/reasoning/gps/gps-schema#>.\n",
      "@prefix action: <http://josd.github.io/eye/reasoning/gps/action#>.\n",
      "@prefix : <http://josd.github.io/eye/reasoning#>.\n",
      "@prefix log: <http://www.w3.org/2000/10/swap/log#>.\n",
      "@prefix string: <http://www.w3.org/2000/10/swap/string#>.\n",
      "@prefix medication: <http://josd.github.io/eye/reasoning/gps/medication#>.\n",
      "@prefix list: <http://www.w3.org/2000/10/swap/list#>.\n",
      "@prefix prolog: <http://eulersharp.sourceforge.net/2003/03swap/prolog#>.\n",
      "@prefix func: <http://www.w3.org/2007/rif-builtin-function#>.\n",
      "@prefix rdf: <http://www.w3.org/1999/02/22-rdf-syntax-ns#>.\n",
      "\n",
      "data:patient_1 gps:path (((action:take_pill_Levodopa gps:start 1517928741 {data:patient_1 care:updrs_score 12}) (action:take_pill_Levodopa gps:end 1523112741.0 {data:patient_1 care:updrs_score 10.5}) ((action:take_pill_Pramipexol 1523112741.0 1528296741.0) gps:start 1523112741.0 {data:patient_1 care:updrs_score 10.5}) (action:take_pill_Pramipexol gps:end 1528296741.0 {data:patient_1 care:updrs_score 9.2})) 20736000.0 227.59999999999997 0.40960000000000013 0.5184000000000002 (9.2)).\n",
      "\n",
      "#2021-01-05T21:43:35.402Z in=32 out=1 ent=2 step=4 brake=4 inf=206475 sec=0.046 inf/sec=4488587\n",
      "#ENDS\n",
      "\n"
     ]
    }
   ],
   "source": [
    "!eye --nope ../data/data-parkinson-t1-c.ttl ../data/t1.ttl ../parkinson/gps-desc.n3  ../parkinson/score-calculation.n3 ../path/aggreagatedPath-t0.n3 ../engine/gps-plugin-validation.n3 --query ../parkinson/gps-goal-parkinson.n3q\n"
   ]
  },
  {
   "cell_type": "markdown",
   "metadata": {
    "colab_type": "text",
    "id": "Ot6IUILP-p2x"
   },
   "source": [
    "# At T2, the first action finishes, the patient got an updated data\n",
    "*GMT: Saturday, April 7, 2018 2:52:21 PM*"
   ]
  },
  {
   "cell_type": "markdown",
   "metadata": {
    "colab_type": "text",
    "id": "Xue2zF4F-p2f"
   },
   "source": [
    "**scenario a , the UPDRSScore remains the same. The caculation relies on this data, and predicted that the path no longer succeeds**"
   ]
  },
  {
   "cell_type": "code",
   "execution_count": 59,
   "metadata": {
    "colab": {},
    "colab_type": "code",
    "id": "PsYRdHNy-p2z"
   },
   "outputs": [
    {
     "name": "stdout",
     "output_type": "stream",
     "text": [
      "#Processed by EYE v20.0910.0008 josd"
     ]
    },
    {
     "name": "stderr",
     "output_type": "stream",
     "text": [
      "eye --nope ../data/data-parkinson-t1-a.ttl ../data/t2.ttl ../parkinson/gps-desc.n3 ../parkinson/score-calculation.n3 ../path/aggreagatedPath-t0.n3 ../engine/gps-plugin-validation.n3 --query ../parkinson/gps-goal-parkinson.n3q\n",
      "EYE v20.0910.0008 josd\n",
      "SWI-Prolog version 8.0.3\n",
      "starting 31 [msec cputime] 80 [msec walltime]\n",
      "GET file:///d:/github/gps4icdemo/data/data-parkinson-t1-a.ttl SC=14\n",
      "GET file:///d:/github/gps4icdemo/data/t2.ttl SC=1\n",
      "GET file:///d:/github/gps4icdemo/parkinson/gps-desc.n3 SC=3\n",
      "GET file:///d:/github/gps4icdemo/parkinson/score-calculation.n3 SC=1\n",
      "GET file:///d:/github/gps4icdemo/path/aggreagatedpath-t0.n3 SC=1\n",
      "GET file:///d:/github/gps4icdemo/engine/gps-plugin-validation.n3 SC=11\n",
      "GET file:///d:/github/gps4icdemo/parkinson/gps-goal-parkinson.n3q SC=1\n",
      "networking 15 [msec cputime] 52 [msec walltime]\n",
      "reasoning 0 [msec cputime] 2 [msec walltime]\n",
      "2021-01-05T21:43:35.701Z in=32 out=0 ent=1 step=2 brake=4 inf=208857 sec=0.046 inf/sec=4540370\n",
      "\n"
     ]
    },
    {
     "name": "stdout",
     "output_type": "stream",
     "text": [
      "\n",
      "#eye --nope ../data/data-parkinson-t1-a.ttl ../data/t2.ttl ../parkinson/gps-desc.n3 ../parkinson/score-calculation.n3 ../path/aggreagatedPath-t0.n3 ../engine/gps-plugin-validation.n3 --query ../parkinson/gps-goal-parkinson.n3q\n",
      "\n",
      "@prefix sct: <http://snomed.info/id/>.\n",
      "@prefix data: <http://josd.github.io/eye/reasoning/gps/data#>.\n",
      "@prefix care: <http://josd.github.io/eye/reasoning/gps/care#>.\n",
      "@prefix math: <http://www.w3.org/2000/10/swap/math#>.\n",
      "@prefix xsd: <http://www.w3.org/2001/XMLSchema#>.\n",
      "@prefix e: <http://eulersharp.sourceforge.net/2003/03swap/log-rules#>.\n",
      "@prefix gps: <http://josd.github.io/eye/reasoning/gps/gps-schema#>.\n",
      "@prefix action: <http://josd.github.io/eye/reasoning/gps/action#>.\n",
      "@prefix : <http://josd.github.io/eye/reasoning#>.\n",
      "@prefix log: <http://www.w3.org/2000/10/swap/log#>.\n",
      "@prefix string: <http://www.w3.org/2000/10/swap/string#>.\n",
      "@prefix medication: <http://josd.github.io/eye/reasoning/gps/medication#>.\n",
      "@prefix list: <http://www.w3.org/2000/10/swap/list#>.\n",
      "@prefix prolog: <http://eulersharp.sourceforge.net/2003/03swap/prolog#>.\n",
      "@prefix func: <http://www.w3.org/2007/rif-builtin-function#>.\n",
      "@prefix rdf: <http://www.w3.org/1999/02/22-rdf-syntax-ns#>.\n",
      "\n",
      "\n",
      "#2021-01-05T21:43:35.701Z in=32 out=0 ent=1 step=2 brake=4 inf=208857 sec=0.046 inf/sec=4540370\n",
      "#ENDS\n",
      "\n"
     ]
    }
   ],
   "source": [
    "!eye --nope ../data/data-parkinson-t1-a.ttl ../data/t2.ttl ../parkinson/gps-desc.n3  ../parkinson/score-calculation.n3 ../path/aggreagatedPath-t0.n3 ../engine/gps-plugin-validation.n3 --query ../parkinson/gps-goal-parkinson.n3q\n"
   ]
  },
  {
   "cell_type": "markdown",
   "metadata": {
    "colab_type": "text",
    "id": "Xue2zF4F-p2f"
   },
   "source": [
    "**scenario a , the UPDRSScore drops by 1.5. The caculation relies on this data, and predicted that the remaining path would leads to satisfaction of the goal**"
   ]
  },
  {
   "cell_type": "code",
   "execution_count": 60,
   "metadata": {
    "colab": {},
    "colab_type": "code",
    "id": "AzMHd5Ex-p24"
   },
   "outputs": [
    {
     "name": "stdout",
     "output_type": "stream",
     "text": [
      "#Processed by EYE v20.0910.0008 josd"
     ]
    },
    {
     "name": "stderr",
     "output_type": "stream",
     "text": [
      "eye --nope ../data/data-parkinson-t1-b.ttl ../data/t2.ttl ../parkinson/gps-desc.n3 ../parkinson/score-calculation.n3 ../path/aggreagatedPath-t0.n3 ../engine/gps-plugin-validation.n3 --query ../parkinson/gps-goal-parkinson.n3q\n",
      "EYE v20.0910.0008 josd\n",
      "SWI-Prolog version 8.0.3\n",
      "starting 31 [msec cputime] 99 [msec walltime]\n",
      "GET file:///d:/github/gps4icdemo/data/data-parkinson-t1-b.ttl SC=14\n",
      "GET file:///d:/github/gps4icdemo/data/t2.ttl SC=1\n",
      "GET file:///d:/github/gps4icdemo/parkinson/gps-desc.n3 SC=3\n",
      "GET file:///d:/github/gps4icdemo/parkinson/score-calculation.n3 SC=1\n",
      "GET file:///d:/github/gps4icdemo/path/aggreagatedpath-t0.n3 SC=1\n",
      "GET file:///d:/github/gps4icdemo/engine/gps-plugin-validation.n3 SC=11\n",
      "GET file:///d:/github/gps4icdemo/parkinson/gps-goal-parkinson.n3q SC=1\n",
      "networking 0 [msec cputime] 66 [msec walltime]\n",
      "reasoning 15 [msec cputime] 5 [msec walltime]\n",
      "2021-01-05T21:43:36.054Z in=32 out=1 ent=2 step=4 brake=4 inf=211624 sec=0.046 inf/sec=4600522\n",
      "\n"
     ]
    },
    {
     "name": "stdout",
     "output_type": "stream",
     "text": [
      "\n",
      "#eye --nope ../data/data-parkinson-t1-b.ttl ../data/t2.ttl ../parkinson/gps-desc.n3 ../parkinson/score-calculation.n3 ../path/aggreagatedPath-t0.n3 ../engine/gps-plugin-validation.n3 --query ../parkinson/gps-goal-parkinson.n3q\n",
      "\n",
      "@prefix sct: <http://snomed.info/id/>.\n",
      "@prefix data: <http://josd.github.io/eye/reasoning/gps/data#>.\n",
      "@prefix care: <http://josd.github.io/eye/reasoning/gps/care#>.\n",
      "@prefix math: <http://www.w3.org/2000/10/swap/math#>.\n",
      "@prefix xsd: <http://www.w3.org/2001/XMLSchema#>.\n",
      "@prefix e: <http://eulersharp.sourceforge.net/2003/03swap/log-rules#>.\n",
      "@prefix gps: <http://josd.github.io/eye/reasoning/gps/gps-schema#>.\n",
      "@prefix action: <http://josd.github.io/eye/reasoning/gps/action#>.\n",
      "@prefix : <http://josd.github.io/eye/reasoning#>.\n",
      "@prefix log: <http://www.w3.org/2000/10/swap/log#>.\n",
      "@prefix string: <http://www.w3.org/2000/10/swap/string#>.\n",
      "@prefix medication: <http://josd.github.io/eye/reasoning/gps/medication#>.\n",
      "@prefix list: <http://www.w3.org/2000/10/swap/list#>.\n",
      "@prefix prolog: <http://eulersharp.sourceforge.net/2003/03swap/prolog#>.\n",
      "@prefix func: <http://www.w3.org/2007/rif-builtin-function#>.\n",
      "@prefix rdf: <http://www.w3.org/1999/02/22-rdf-syntax-ns#>.\n",
      "\n",
      "data:patient_1 gps:path ((((action:take_pill_Levodopa 1517928741 1523112741.0) gps:start 1517928741 {data:patient_1 care:updrs_score 12}) ((action:take_pill_Levodopa 1517928741 1523112741.0) gps:end 1523112741.0 {data:patient_1 care:updrs_score 10.5}) ((action:take_pill_Pramipexol 1523112741.0 1528296741.0) gps:start 1523112741.0 {data:patient_1 care:updrs_score 10.5}) (action:take_pill_Pramipexol gps:end 1528296741.0 {data:patient_1 care:updrs_score 9.2})) 10368000.0 199.42 0.6400000000000001 0.81 (9.2)).\n",
      "\n",
      "#2021-01-05T21:43:36.054Z in=32 out=1 ent=2 step=4 brake=4 inf=211624 sec=0.046 inf/sec=4600522\n",
      "#ENDS\n",
      "\n"
     ]
    }
   ],
   "source": [
    "!eye --nope ../data/data-parkinson-t1-b.ttl ../data/t2.ttl ../parkinson/gps-desc.n3  ../parkinson/score-calculation.n3 ../path/aggreagatedPath-t0.n3 ../engine/gps-plugin-validation.n3 --query ../parkinson/gps-goal-parkinson.n3q\n"
   ]
  },
  {
   "cell_type": "markdown",
   "metadata": {
    "colab_type": "text",
    "id": "0Q4NgAv3-p3B"
   },
   "source": [
    "# At T3, the patient adds a new path to treat colon cancer\n",
    "*GMT: Thursday, April 12, 2018 2:50:33 PM*"
   ]
  },
  {
   "cell_type": "markdown",
   "metadata": {
    "colab_type": "text",
    "id": "zn5Pt9r2-p3E"
   },
   "source": [
    "**check if following the existing path with the updated data can still lead to goal of the existing path (Parkinson).**"
   ]
  },
  {
   "cell_type": "code",
   "execution_count": 61,
   "metadata": {},
   "outputs": [
    {
     "name": "stdout",
     "output_type": "stream",
     "text": [
      "#Processed by EYE v20.0910.0008 josd\n",
      "#eye --nope ../data/data-colon-cancer-t3-a.ttl ../data/t3.ttl ../parkinson/gps-desc.n3 ../parkinson/score-calculation.n3 ../path/aggreagatedPath-t0.n3 ../engine/gps-plugin-validation.n3 --query ../parkinson/gps-goal-parkinson.n3q\n",
      "\n",
      "@prefix sct: <http://snomed.info/id/>.\n",
      "@prefix data: <http://josd.github.io/eye/reasoning/gps/data#>.\n",
      "@prefix care: <http://josd.github.io/eye/reasoning/gps/care#>.\n",
      "@prefix math: <http://www.w3.org/2000/10/swap/math#>.\n",
      "@prefix xsd: <http://www.w3.org/2001/XMLSchema#>.\n",
      "@prefix e: <http://eulersharp.sourceforge.net/2003/03swap/log-rules#>.\n",
      "@prefix gps: <http://josd.github.io/eye/reasoning/gps/gps-schema#>.\n",
      "@prefix action: <http://josd.github.io/eye/reasoning/gps/action#>.\n",
      "@prefix : <http://josd.github.io/eye/reasoning#>.\n",
      "@prefix log: <http://www.w3.org/2000/10/swap/log#>.\n",
      "@prefix string: <http://www.w3.org/2000/10/swap/string#>.\n",
      "@prefix medication: <http://josd.github.io/eye/reasoning/gps/medication#>.\n",
      "@prefix list: <http://www.w3.org/2000/10/swap/list#>.\n",
      "@prefix prolog: <http://eulersharp.sourceforge.net/2003/03swap/prolog#>.\n",
      "@prefix func: <http://www.w3.org/2007/rif-builtin-function#>.\n",
      "@prefix rdf: <http://www.w3.org/1999/02/22-rdf-syntax-ns#>.\n",
      "\n",
      "data:patient_1 gps:path ((((action:take_pill_Levodopa 1517928741 1523112741.0) gps:start 1517928741 {data:patient_1 care:updrs_score 12}) ((action:take_pill_Levodopa 1517928741 1523112741.0) gps:end 1523112741.0 {data:patient_1 care:updrs_score 10.5}) (action:take_pill_Pramipexol gps:start 1523112741.0 {data:patient_1 care:updrs_score 10.5}) (action:take_pill_Pramipexol gps:end 1528296741.0 {data:patient_1 care:updrs_score 9.2})) 10368000.0 199.42 0.6400000000000001 0.81 (9.2)).\n",
      "\n",
      "#2021-01-05T21:43:36.400Z in=43 out=1 ent=2 step=4 brake=4 inf=217359 sec=0.062 inf/sec=3505790\n",
      "#ENDS\n",
      "\n"
     ]
    },
    {
     "name": "stderr",
     "output_type": "stream",
     "text": [
      "eye --nope ../data/data-colon-cancer-t3-a.ttl ../data/t3.ttl ../parkinson/gps-desc.n3 ../parkinson/score-calculation.n3 ../path/aggreagatedPath-t0.n3 ../engine/gps-plugin-validation.n3 --query ../parkinson/gps-goal-parkinson.n3q\n",
      "EYE v20.0910.0008 josd\n",
      "SWI-Prolog version 8.0.3\n",
      "starting 46 [msec cputime] 101 [msec walltime]\n",
      "GET file:///d:/github/gps4icdemo/data/data-colon-cancer-t3-a.ttl SC=25\n",
      "GET file:///d:/github/gps4icdemo/data/t3.ttl SC=1\n",
      "GET file:///d:/github/gps4icdemo/parkinson/gps-desc.n3 SC=3\n",
      "GET file:///d:/github/gps4icdemo/parkinson/score-calculation.n3 SC=1\n",
      "GET file:///d:/github/gps4icdemo/path/aggreagatedpath-t0.n3 SC=1\n",
      "GET file:///d:/github/gps4icdemo/engine/gps-plugin-validation.n3 SC=11\n",
      "GET file:///d:/github/gps4icdemo/parkinson/gps-goal-parkinson.n3q SC=1\n",
      "networking 16 [msec cputime] 60 [msec walltime]\n",
      "reasoning 0 [msec cputime] 6 [msec walltime]\n",
      "2021-01-05T21:43:36.400Z in=43 out=1 ent=2 step=4 brake=4 inf=217359 sec=0.062 inf/sec=3505790\n",
      "\n"
     ]
    }
   ],
   "source": [
    "!eye --nope ../data/data-colon-cancer-t3-a.ttl ../data/t3.ttl ../parkinson/gps-desc.n3  ../parkinson/score-calculation.n3 ../path/aggreagatedPath-t0.n3 ../engine/gps-plugin-validation.n3 --query ../parkinson/gps-goal-parkinson.n3q"
   ]
  },
  {
   "cell_type": "code",
   "execution_count": 62,
   "metadata": {
    "colab": {},
    "colab_type": "code",
    "id": "Ta5evxpB-p3F"
   },
   "outputs": [
    {
     "name": "stdout",
     "output_type": "stream",
     "text": [
      "#Processed by EYE v20.0910.0008 josd"
     ]
    },
    {
     "name": "stderr",
     "output_type": "stream",
     "text": [
      "eye --nope ../data/data-colon-cancer-t3-b.ttl ../data/t3.ttl ../parkinson/gps-desc.n3 ../parkinson/score-calculation.n3 ../path/aggreagatedPath-t0.n3 ../engine/gps-plugin-validation.n3 --query ../parkinson/gps-goal-parkinson.n3q\n",
      "EYE v20.0910.0008 josd\n",
      "SWI-Prolog version 8.0.3\n",
      "starting 31 [msec cputime] 92 [msec walltime]\n",
      "GET file:///d:/github/gps4icdemo/data/data-colon-cancer-t3-b.ttl SC=25\n",
      "GET file:///d:/github/gps4icdemo/data/t3.ttl SC=1\n",
      "GET file:///d:/github/gps4icdemo/parkinson/gps-desc.n3 SC=3\n",
      "GET file:///d:/github/gps4icdemo/parkinson/score-calculation.n3 SC=1\n",
      "GET file:///d:/github/gps4icdemo/path/aggreagatedpath-t0.n3 SC=1\n",
      "GET file:///d:/github/gps4icdemo/engine/gps-plugin-validation.n3 SC=11\n",
      "GET file:///d:/github/gps4icdemo/parkinson/gps-goal-parkinson.n3q SC=1\n",
      "networking 31 [msec cputime] 59 [msec walltime]\n",
      "reasoning 0 [msec cputime] 3 [msec walltime]\n",
      "2021-01-05T21:43:36.727Z in=43 out=1 ent=2 step=4 brake=4 inf=217368 sec=0.062 inf/sec=3505935\n",
      "\n"
     ]
    },
    {
     "name": "stdout",
     "output_type": "stream",
     "text": [
      "\n",
      "#eye --nope ../data/data-colon-cancer-t3-b.ttl ../data/t3.ttl ../parkinson/gps-desc.n3 ../parkinson/score-calculation.n3 ../path/aggreagatedPath-t0.n3 ../engine/gps-plugin-validation.n3 --query ../parkinson/gps-goal-parkinson.n3q\n",
      "\n",
      "@prefix sct: <http://snomed.info/id/>.\n",
      "@prefix data: <http://josd.github.io/eye/reasoning/gps/data#>.\n",
      "@prefix care: <http://josd.github.io/eye/reasoning/gps/care#>.\n",
      "@prefix math: <http://www.w3.org/2000/10/swap/math#>.\n",
      "@prefix xsd: <http://www.w3.org/2001/XMLSchema#>.\n",
      "@prefix e: <http://eulersharp.sourceforge.net/2003/03swap/log-rules#>.\n",
      "@prefix gps: <http://josd.github.io/eye/reasoning/gps/gps-schema#>.\n",
      "@prefix action: <http://josd.github.io/eye/reasoning/gps/action#>.\n",
      "@prefix : <http://josd.github.io/eye/reasoning#>.\n",
      "@prefix log: <http://www.w3.org/2000/10/swap/log#>.\n",
      "@prefix string: <http://www.w3.org/2000/10/swap/string#>.\n",
      "@prefix medication: <http://josd.github.io/eye/reasoning/gps/medication#>.\n",
      "@prefix list: <http://www.w3.org/2000/10/swap/list#>.\n",
      "@prefix prolog: <http://eulersharp.sourceforge.net/2003/03swap/prolog#>.\n",
      "@prefix func: <http://www.w3.org/2007/rif-builtin-function#>.\n",
      "@prefix rdf: <http://www.w3.org/1999/02/22-rdf-syntax-ns#>.\n",
      "\n",
      "data:patient_1 gps:path ((((action:take_pill_Levodopa 1517928741 1523112741.0) gps:start 1517928741 {data:patient_1 care:updrs_score 12}) ((action:take_pill_Levodopa 1517928741 1523112741.0) gps:end 1523112741.0 {data:patient_1 care:updrs_score 10.5}) (action:take_pill_Pramipexol gps:start 1523112741.0 {data:patient_1 care:updrs_score 10.5}) (action:take_pill_Pramipexol gps:end 1528296741.0 {data:patient_1 care:updrs_score 9.2})) 10368000.0 199.42 0.6400000000000001 0.81 (9.2)).\n",
      "\n",
      "#2021-01-05T21:43:36.727Z in=43 out=1 ent=2 step=4 brake=4 inf=217368 sec=0.062 inf/sec=3505935\n",
      "#ENDS\n",
      "\n"
     ]
    }
   ],
   "source": [
    "!eye --nope ../data/data-colon-cancer-t3-b.ttl ../data/t3.ttl ../parkinson/gps-desc.n3  ../parkinson/score-calculation.n3 ../path/aggreagatedPath-t0.n3 ../engine/gps-plugin-validation.n3 --query ../parkinson/gps-goal-parkinson.n3q\n"
   ]
  },
  {
   "cell_type": "markdown",
   "metadata": {
    "colab_type": "text",
    "id": "5_i3XHCP-p3J"
   },
   "source": [
    "**generate path for colon cancer**"
   ]
  },
  {
   "cell_type": "code",
   "execution_count": 63,
   "metadata": {},
   "outputs": [
    {
     "name": "stderr",
     "output_type": "stream",
     "text": [
      "eye --nope ../data/data-colon-cancer-t3-a.ttl ../colon-cancer/gps-desc.n3 ../colon-cancer/gps-knowledge.n3 ../engine/gps-plugin.n3 --query ../colon-cancer/gps-query.n3\n",
      "EYE v20.0910.0008 josd\n",
      "SWI-Prolog version 8.0.3\n",
      "starting 31 [msec cputime] 94 [msec walltime]\n",
      "GET file:///d:/github/gps4icdemo/data/data-colon-cancer-t3-a.ttl SC=25\n",
      "GET file:///d:/github/gps4icdemo/colon-cancer/gps-desc.n3 SC=3\n",
      "GET file:///d:/github/gps4icdemo/colon-cancer/gps-knowledge.n3 SC=11\n",
      "GET file:///d:/github/gps4icdemo/engine/gps-plugin.n3 SC=7\n",
      "GET file:///d:/github/gps4icdemo/colon-cancer/gps-query.n3 SC=1\n",
      "networking 47 [msec cputime] 65 [msec walltime]\n",
      "reasoning 15 [msec cputime] 3 [msec walltime]\n",
      "2021-01-05T21:43:37.067Z in=47 out=1 ent=1 step=4 brake=2 inf=173950 sec=0.093 inf/sec=1870430\n",
      "\n"
     ]
    }
   ],
   "source": [
    "!eye --nope ../data/data-colon-cancer-t3-a.ttl ../colon-cancer/gps-desc.n3 ../colon-cancer/gps-knowledge.n3 ../engine/gps-plugin.n3 --query ../colon-cancer/gps-query.n3 >../path/colon-cancer-answer-t3-a.n3"
   ]
  },
  {
   "cell_type": "code",
   "execution_count": 64,
   "metadata": {
    "colab": {
     "base_uri": "https://localhost:8080/",
     "height": 84
    },
    "colab_type": "code",
    "executionInfo": {
     "elapsed": 2262,
     "status": "ok",
     "timestamp": 1521193273481,
     "user": {
      "displayName": "Sun Hong",
      "photoUrl": "https://lh3.googleusercontent.com/a/default-user=s128",
      "userId": "102379393310511997000"
     },
     "user_tz": -60
    },
    "id": "9ZC8F5su-p3K",
    "outputId": "4c169868-014c-48df-de98-d5b17f130c14"
   },
   "outputs": [
    {
     "name": "stderr",
     "output_type": "stream",
     "text": [
      "eye --nope ../data/data-colon-cancer-t3-b.ttl ../colon-cancer/gps-desc.n3 ../colon-cancer/gps-knowledge.n3 ../engine/gps-plugin.n3 --query ../colon-cancer/gps-query.n3\n",
      "EYE v20.0910.0008 josd\n",
      "SWI-Prolog version 8.0.3\n",
      "starting 31 [msec cputime] 79 [msec walltime]\n",
      "GET file:///d:/github/gps4icdemo/data/data-colon-cancer-t3-b.ttl SC=25\n",
      "GET file:///d:/github/gps4icdemo/colon-cancer/gps-desc.n3 SC=3\n",
      "GET file:///d:/github/gps4icdemo/colon-cancer/gps-knowledge.n3 SC=11\n",
      "GET file:///d:/github/gps4icdemo/engine/gps-plugin.n3 SC=7\n",
      "GET file:///d:/github/gps4icdemo/colon-cancer/gps-query.n3 SC=1\n",
      "networking 31 [msec cputime] 45 [msec walltime]\n",
      "reasoning 0 [msec cputime] 0 [msec walltime]\n",
      "2021-01-05T21:43:37.369Z in=47 out=2 ent=2 step=2 brake=2 inf=171485 sec=0.062 inf/sec=2765887\n",
      "\n"
     ]
    }
   ],
   "source": [
    "!eye --nope ../data/data-colon-cancer-t3-b.ttl ../colon-cancer/gps-desc.n3 ../colon-cancer/gps-knowledge.n3 ../engine/gps-plugin.n3 --query ../colon-cancer/gps-query.n3 >../path/colon-cancer-answer-t3-b.n3"
   ]
  },
  {
   "cell_type": "markdown",
   "metadata": {
    "colab_type": "text",
    "id": "XKNvwMJG-p3T"
   },
   "source": [
    "**generate csv representation of the generated path, so that it could be visualized to the end user**"
   ]
  },
  {
   "cell_type": "code",
   "execution_count": 65,
   "metadata": {},
   "outputs": [
    {
     "name": "stderr",
     "output_type": "stream",
     "text": [
      "eye --nope ../path/colon-cancer-answer-t3-a.n3 ../engine/path-processor-original-colon-cancer.n3 --query ../engine/path-processor-original-colon-cancer.csvq --strings\n",
      "EYE v20.0910.0008 josd\n",
      "SWI-Prolog version 8.0.3\n",
      "starting 15 [msec cputime] 78 [msec walltime]\n",
      "GET file:///d:/github/gps4icdemo/path/colon-cancer-answer-t3-a.n3 SC=1\n",
      "GET file:///d:/github/gps4icdemo/engine/path-processor-original-colon-cancer.n3 SC=2\n",
      "GET file:///d:/github/gps4icdemo/engine/path-processor-original-colon-cancer.csvq SC=1\n",
      "networking 16 [msec cputime] 18 [msec walltime]\n",
      "reasoning 0 [msec cputime] 1 [msec walltime]\n",
      "2021-01-05T21:43:37.640Z in=4 out=9 ent=1 step=2 brake=4 inf=61812 sec=0.031 inf/sec=1993935\n",
      "\n"
     ]
    }
   ],
   "source": [
    "! eye --nope ../path/colon-cancer-answer-t3-a.n3 ../engine/path-processor-original-colon-cancer.n3 --query ../engine/path-processor-original-colon-cancer.csvq --strings >../path/colon-cancer-answer-t3-a.csv"
   ]
  },
  {
   "cell_type": "code",
   "execution_count": 66,
   "metadata": {
    "colab": {},
    "colab_type": "code",
    "id": "ANH__NwJ-p3U",
    "outputId": "4ef5ac32-56c7-41da-b3ee-2c365bbbc720"
   },
   "outputs": [
    {
     "name": "stderr",
     "output_type": "stream",
     "text": [
      "eye --nope ../path/colon-cancer-answer-t3-b.n3 ../engine/path-processor-original-colon-cancer.n3 --query ../engine/path-processor-original-colon-cancer.csvq --strings\n",
      "EYE v20.0910.0008 josd\n",
      "SWI-Prolog version 8.0.3\n",
      "starting 31 [msec cputime] 78 [msec walltime]\n",
      "GET file:///d:/github/gps4icdemo/path/colon-cancer-answer-t3-b.n3 SC=2\n",
      "GET file:///d:/github/gps4icdemo/engine/path-processor-original-colon-cancer.n3 SC=2\n",
      "GET file:///d:/github/gps4icdemo/engine/path-processor-original-colon-cancer.csvq SC=1\n",
      "networking 0 [msec cputime] 17 [msec walltime]\n",
      "reasoning 0 [msec cputime] 2 [msec walltime]\n",
      "2021-01-05T21:43:37.899Z in=5 out=18 ent=2 step=4 brake=4 inf=71588 sec=0.031 inf/sec=2309290\n",
      "\n"
     ]
    }
   ],
   "source": [
    "! eye --nope ../path/colon-cancer-answer-t3-b.n3 ../engine/path-processor-original-colon-cancer.n3 --query ../engine/path-processor-original-colon-cancer.csvq --strings >../path/colon-cancer-answer-t3-b.csv"
   ]
  },
  {
   "cell_type": "markdown",
   "metadata": {
    "colab_type": "text",
    "id": "0h-g5LRW-p3Y"
   },
   "source": [
    "**display the generated path by reading the csv file**"
   ]
  },
  {
   "cell_type": "code",
   "execution_count": 67,
   "metadata": {
    "colab": {},
    "colab_type": "code",
    "id": "V4w-b3p2-p3Z"
   },
   "outputs": [
    {
     "data": {
      "text/html": [
       "<div>\n",
       "<style scoped>\n",
       "    .dataframe tbody tr th:only-of-type {\n",
       "        vertical-align: middle;\n",
       "    }\n",
       "\n",
       "    .dataframe tbody tr th {\n",
       "        vertical-align: top;\n",
       "    }\n",
       "\n",
       "    .dataframe thead th {\n",
       "        text-align: right;\n",
       "    }\n",
       "</style>\n",
       "<table border=\"1\" class=\"dataframe\">\n",
       "  <thead>\n",
       "    <tr style=\"text-align: right;\">\n",
       "      <th></th>\n",
       "      <th>PATH</th>\n",
       "      <th>DURATION</th>\n",
       "      <th>COST</th>\n",
       "      <th>BELIEF</th>\n",
       "      <th>COMFORT</th>\n",
       "      <th>METASTASIS_RISK</th>\n",
       "      <th>5YR_SURVIVAL_RATE</th>\n",
       "      <th>NON_TOXICITY</th>\n",
       "      <th>5YR_LOCAL_RELAPSE_RISK</th>\n",
       "    </tr>\n",
       "  </thead>\n",
       "  <tbody>\n",
       "    <tr>\n",
       "      <th>0</th>\n",
       "      <td>(\"surgery_colon_cancer\" \"Adjuvant_chemoradiotherapy\")</td>\n",
       "      <td>P85DT0H0M0.0S</td>\n",
       "      <td>43585.0</td>\n",
       "      <td>0.81</td>\n",
       "      <td>0.2</td>\n",
       "      <td>0.02</td>\n",
       "      <td>0.92</td>\n",
       "      <td>0.57</td>\n",
       "      <td>0.16</td>\n",
       "    </tr>\n",
       "  </tbody>\n",
       "</table>\n",
       "</div>"
      ],
      "text/plain": [
       "                                                    PATH       DURATION  \\\n",
       "0  (\"surgery_colon_cancer\" \"Adjuvant_chemoradiotherapy\")  P85DT0H0M0.0S   \n",
       "\n",
       "      COST  BELIEF  COMFORT  METASTASIS_RISK  5YR_SURVIVAL_RATE  NON_TOXICITY  \\\n",
       "0  43585.0  0.81    0.2      0.02             0.92               0.57           \n",
       "\n",
       "   5YR_LOCAL_RELAPSE_RISK  \n",
       "0  0.16                    "
      ]
     },
     "execution_count": 67,
     "metadata": {},
     "output_type": "execute_result"
    }
   ],
   "source": [
    "pd.read_csv('../path/colon-cancer-answer-t3-a.csv', sep=',', encoding = 'utf-8')"
   ]
  },
  {
   "cell_type": "code",
   "execution_count": 68,
   "metadata": {
    "colab": {},
    "colab_type": "code",
    "id": "SOqYO4JB-p3r"
   },
   "outputs": [
    {
     "data": {
      "text/html": [
       "<div>\n",
       "<style scoped>\n",
       "    .dataframe tbody tr th:only-of-type {\n",
       "        vertical-align: middle;\n",
       "    }\n",
       "\n",
       "    .dataframe tbody tr th {\n",
       "        vertical-align: top;\n",
       "    }\n",
       "\n",
       "    .dataframe thead th {\n",
       "        text-align: right;\n",
       "    }\n",
       "</style>\n",
       "<table border=\"1\" class=\"dataframe\">\n",
       "  <thead>\n",
       "    <tr style=\"text-align: right;\">\n",
       "      <th></th>\n",
       "      <th>PATH</th>\n",
       "      <th>DURATION</th>\n",
       "      <th>COST</th>\n",
       "      <th>BELIEF</th>\n",
       "      <th>COMFORT</th>\n",
       "      <th>METASTASIS_RISK</th>\n",
       "      <th>5YR_SURVIVAL_RATE</th>\n",
       "      <th>NON_TOXICITY</th>\n",
       "      <th>5YR_LOCAL_RELAPSE_RISK</th>\n",
       "    </tr>\n",
       "  </thead>\n",
       "  <tbody>\n",
       "    <tr>\n",
       "      <th>0</th>\n",
       "      <td>(\"Neoadjuvant_chemoradiotherapy\" \"surgery_colon_cancer\")</td>\n",
       "      <td>P55DT0H0M0.0S</td>\n",
       "      <td>35097.0</td>\n",
       "      <td>0.81</td>\n",
       "      <td>0.25</td>\n",
       "      <td>0.02</td>\n",
       "      <td>0.92</td>\n",
       "      <td>0.6935</td>\n",
       "      <td>0.06</td>\n",
       "    </tr>\n",
       "    <tr>\n",
       "      <th>1</th>\n",
       "      <td>(\"surgery_colon_cancer\" \"Adjuvant_chemoradiotherapy\")</td>\n",
       "      <td>P85DT0H0M0.0S</td>\n",
       "      <td>43585.0</td>\n",
       "      <td>0.81</td>\n",
       "      <td>0.20</td>\n",
       "      <td>0.02</td>\n",
       "      <td>0.92</td>\n",
       "      <td>0.5700</td>\n",
       "      <td>0.16</td>\n",
       "    </tr>\n",
       "  </tbody>\n",
       "</table>\n",
       "</div>"
      ],
      "text/plain": [
       "                                                       PATH       DURATION  \\\n",
       "0  (\"Neoadjuvant_chemoradiotherapy\" \"surgery_colon_cancer\")  P55DT0H0M0.0S   \n",
       "1  (\"surgery_colon_cancer\" \"Adjuvant_chemoradiotherapy\")     P85DT0H0M0.0S   \n",
       "\n",
       "      COST  BELIEF  COMFORT  METASTASIS_RISK  5YR_SURVIVAL_RATE  NON_TOXICITY  \\\n",
       "0  35097.0  0.81    0.25     0.02             0.92               0.6935         \n",
       "1  43585.0  0.81    0.20     0.02             0.92               0.5700         \n",
       "\n",
       "   5YR_LOCAL_RELAPSE_RISK  \n",
       "0  0.06                    \n",
       "1  0.16                    "
      ]
     },
     "execution_count": 68,
     "metadata": {},
     "output_type": "execute_result"
    }
   ],
   "source": [
    "pd.read_csv('../path/colon-cancer-answer-t3-b.csv', sep=',', encoding = 'utf-8')"
   ]
  },
  {
   "cell_type": "markdown",
   "metadata": {
    "colab_type": "text",
    "id": "NApw9Fz4-p34"
   },
   "source": [
    "**Manually select one path from the generated paths**"
   ]
  },
  {
   "cell_type": "code",
   "execution_count": 69,
   "metadata": {
    "colab": {},
    "colab_type": "code",
    "id": "vDJqhddU-p35"
   },
   "outputs": [],
   "source": [
    "#../path/colon-cancer-selected-path-t3-a.n3\n",
    "#..path/colon-cancer-selected-path-t3-b.n3"
   ]
  },
  {
   "cell_type": "markdown",
   "metadata": {
    "colab_type": "text",
    "id": "HN2E4a45-p38"
   },
   "source": [
    "**temporal process the selected path**"
   ]
  },
  {
   "cell_type": "code",
   "execution_count": 70,
   "metadata": {},
   "outputs": [
    {
     "name": "stderr",
     "output_type": "stream",
     "text": [
      "eye --nope ../path/colon-cancer-selected-path-t3-a.n3 ../data/t3.ttl ../engine/gps-temporal-rule.n3 ../colon-cancer/gps-desc.n3 --query ../engine/gps-temporal-query.n3q\n",
      "EYE v20.0910.0008 josd\n",
      "SWI-Prolog version 8.0.3\n",
      "starting 46 [msec cputime] 96 [msec walltime]\n",
      "GET file:///d:/github/gps4icdemo/path/colon-cancer-selected-path-t3-a.n3 SC=1\n",
      "GET file:///d:/github/gps4icdemo/data/t3.ttl SC=1\n",
      "GET file:///d:/github/gps4icdemo/engine/gps-temporal-rule.n3 SC=6\n",
      "GET file:///d:/github/gps4icdemo/colon-cancer/gps-desc.n3 SC=3\n",
      "GET file:///d:/github/gps4icdemo/engine/gps-temporal-query.n3q SC=1\n",
      "networking 16 [msec cputime] 54 [msec walltime]\n",
      "reasoning 0 [msec cputime] 6 [msec walltime]\n",
      "2021-01-05T21:43:38.268Z in=12 out=1 ent=14 step=34 brake=6 inf=161069 sec=0.062 inf/sec=2597887\n",
      "\n"
     ]
    }
   ],
   "source": [
    "!eye --nope ../path/colon-cancer-selected-path-t3-a.n3 ../data/t3.ttl ../engine/gps-temporal-rule.n3 ../colon-cancer/gps-desc.n3 --query ../engine/gps-temporal-query.n3q>../path/initial-temporal-path-t3-a.n3"
   ]
  },
  {
   "cell_type": "code",
   "execution_count": 71,
   "metadata": {
    "colab": {},
    "colab_type": "code",
    "id": "erT7WbZ9-p3_",
    "outputId": "0c8f3dcb-c6b6-43b4-fd2c-c07d8241b432"
   },
   "outputs": [
    {
     "name": "stderr",
     "output_type": "stream",
     "text": [
      "eye --nope ../path/colon-cancer-selected-path-t3-b.n3 ../data/t3.ttl ../engine/gps-temporal-rule.n3 ../colon-cancer/gps-desc.n3 --query ../engine/gps-temporal-query.n3q\n",
      "EYE v20.0910.0008 josd\n",
      "SWI-Prolog version 8.0.3\n",
      "starting 46 [msec cputime] 84 [msec walltime]\n",
      "GET file:///d:/github/gps4icdemo/path/colon-cancer-selected-path-t3-b.n3 SC=1\n",
      "GET file:///d:/github/gps4icdemo/data/t3.ttl SC=1\n",
      "GET file:///d:/github/gps4icdemo/engine/gps-temporal-rule.n3 SC=6\n",
      "GET file:///d:/github/gps4icdemo/colon-cancer/gps-desc.n3 SC=3\n",
      "GET file:///d:/github/gps4icdemo/engine/gps-temporal-query.n3q SC=1\n",
      "networking 16 [msec cputime] 39 [msec walltime]\n",
      "reasoning 0 [msec cputime] 5 [msec walltime]\n",
      "2021-01-05T21:43:38.573Z in=12 out=1 ent=14 step=34 brake=6 inf=161146 sec=0.062 inf/sec=2599129\n",
      "\n"
     ]
    }
   ],
   "source": [
    "!eye --nope ../path/colon-cancer-selected-path-t3-b.n3 ../data/t3.ttl ../engine/gps-temporal-rule.n3 ../colon-cancer/gps-desc.n3 --query ../engine/gps-temporal-query.n3q>../path/initial-temporal-path-t3-b.n3"
   ]
  },
  {
   "cell_type": "markdown",
   "metadata": {
    "colab_type": "text",
    "id": "dyxbHVp1-p4H"
   },
   "source": [
    "**aggregate the temporally processed path with existing paths.**"
   ]
  },
  {
   "cell_type": "code",
   "execution_count": 72,
   "metadata": {},
   "outputs": [
    {
     "name": "stderr",
     "output_type": "stream",
     "text": [
      "eye --nope ../path/initial-temporal-path-t3-a.n3 ../path/aggreagatedPath-t0.n3 ../engine/gps-aggregataion-rule.n3 --query ../engine/gps-temporal-query.n3q\n",
      "EYE v20.0910.0008 josd\n",
      "SWI-Prolog version 8.0.3\n",
      "starting 15 [msec cputime] 74 [msec walltime]\n",
      "GET file:///d:/github/gps4icdemo/path/initial-temporal-path-t3-a.n3 SC=1\n",
      "GET file:///d:/github/gps4icdemo/path/aggreagatedpath-t0.n3 SC=1\n",
      "GET file:///d:/github/gps4icdemo/engine/gps-aggregataion-rule.n3 SC=6\n",
      "GET file:///d:/github/gps4icdemo/engine/gps-temporal-query.n3q SC=1\n",
      "networking 0 [msec cputime] 21 [msec walltime]\n",
      "reasoning 16 [msec cputime] 16 [msec walltime]\n",
      "2021-01-05T21:43:38.855Z in=9 out=1 ent=11 step=43 brake=8 inf=218726 sec=0.031 inf/sec=7055677\n",
      "\n"
     ]
    }
   ],
   "source": [
    "!eye --nope ../path/initial-temporal-path-t3-a.n3 ../path/aggreagatedPath-t0.n3 ../engine/gps-aggregataion-rule.n3 --query ../engine/gps-temporal-query.n3q > ../path/initial-aggreagated-path-t3-a.n3"
   ]
  },
  {
   "cell_type": "code",
   "execution_count": 73,
   "metadata": {
    "colab": {},
    "colab_type": "code",
    "id": "YUbSTn4S-p4J",
    "outputId": "06834000-1dfb-46e4-f672-7c274db95b1d"
   },
   "outputs": [
    {
     "name": "stderr",
     "output_type": "stream",
     "text": [
      "eye --nope ../path/initial-temporal-path-t3-b.n3 ../path/aggreagatedPath-t0.n3 ../engine/gps-aggregataion-rule.n3 --query ../engine/gps-temporal-query.n3q\n",
      "EYE v20.0910.0008 josd\n",
      "SWI-Prolog version 8.0.3\n",
      "starting 31 [msec cputime] 71 [msec walltime]\n",
      "GET file:///d:/github/gps4icdemo/path/initial-temporal-path-t3-b.n3 SC=1\n",
      "GET file:///d:/github/gps4icdemo/path/aggreagatedpath-t0.n3 SC=1\n",
      "GET file:///d:/github/gps4icdemo/engine/gps-aggregataion-rule.n3 SC=6\n",
      "GET file:///d:/github/gps4icdemo/engine/gps-temporal-query.n3q SC=1\n",
      "networking 0 [msec cputime] 22 [msec walltime]\n",
      "reasoning 15 [msec cputime] 16 [msec walltime]\n",
      "2021-01-05T21:43:39.138Z in=9 out=1 ent=11 step=43 brake=8 inf=218807 sec=0.046 inf/sec=4756674\n",
      "\n"
     ]
    }
   ],
   "source": [
    "!eye --nope ../path/initial-temporal-path-t3-b.n3 ../path/aggreagatedPath-t0.n3 ../engine/gps-aggregataion-rule.n3 --query ../engine/gps-temporal-query.n3q > ../path/initial-aggreagated-path-t3-b.n3"
   ]
  },
  {
   "cell_type": "markdown",
   "metadata": {
    "colab_type": "text",
    "id": "yLuwoA0D-p4M"
   },
   "source": [
    "**process the aggregated path: to fill in the expected future state.**"
   ]
  },
  {
   "cell_type": "code",
   "execution_count": 74,
   "metadata": {},
   "outputs": [
    {
     "name": "stderr",
     "output_type": "stream",
     "text": [
      "eye --nope ../data/data-colon-cancer-t3-a.ttl ../data/t3.ttl ../parkinson/gps-desc.n3 ../parkinson/score-calculation.n3 ../colon-cancer/gps-desc.n3 ../colon-cancer/gps-knowledge.n3 ../path/initial-aggreagated-path-t3-a.n3 ../engine/gps-plugin-aggregated-path-processing.n3 --tactic limited-answer 1 --query ../engine/gps-aggregation-query.n3q\n",
      "EYE v20.0910.0008 josd\n",
      "SWI-Prolog version 8.0.3\n",
      "starting 31 [msec cputime] 72 [msec walltime]\n",
      "GET file:///d:/github/gps4icdemo/data/data-colon-cancer-t3-a.ttl SC=25\n",
      "GET file:///d:/github/gps4icdemo/data/t3.ttl SC=1\n",
      "GET file:///d:/github/gps4icdemo/parkinson/gps-desc.n3 SC=3\n",
      "GET file:///d:/github/gps4icdemo/parkinson/score-calculation.n3 SC=1\n",
      "GET file:///d:/github/gps4icdemo/colon-cancer/gps-desc.n3 SC=3\n",
      "GET file:///d:/github/gps4icdemo/colon-cancer/gps-knowledge.n3 SC=11\n",
      "GET file:///d:/github/gps4icdemo/path/initial-aggreagated-path-t3-a.n3 SC=1\n",
      "GET file:///d:/github/gps4icdemo/engine/gps-plugin-aggregated-path-processing.n3 SC=12\n",
      "GET file:///d:/github/gps4icdemo/engine/gps-aggregation-query.n3q SC=1\n",
      "networking 31 [msec cputime] 75 [msec walltime]\n",
      "reasoning 0 [msec cputime] 5 [msec walltime]\n",
      "2021-01-05T21:43:39.465Z in=58 out=1 ent=2 step=2 brake=3 inf=289804 sec=0.062 inf/sec=4674258\n",
      "\n"
     ]
    }
   ],
   "source": [
    "!eye --nope ../data/data-colon-cancer-t3-a.ttl ../data/t3.ttl ../parkinson/gps-desc.n3 ../parkinson/score-calculation.n3  ../colon-cancer/gps-desc.n3 ../colon-cancer/gps-knowledge.n3 ../path/initial-aggreagated-path-t3-a.n3 ../engine/gps-plugin-aggregated-path-processing.n3 --tactic limited-answer 1 --query ../engine/gps-aggregation-query.n3q > ../path/aggreagatedPath-t3-a.n3"
   ]
  },
  {
   "cell_type": "code",
   "execution_count": 75,
   "metadata": {
    "colab": {},
    "colab_type": "code",
    "id": "iZCpohs0-p4S",
    "outputId": "f57f80f6-0ea3-47cf-9255-ce574c54dbd1"
   },
   "outputs": [
    {
     "name": "stderr",
     "output_type": "stream",
     "text": [
      "eye --nope ../data/data-colon-cancer-t3-b.ttl ../data/t3.ttl ../parkinson/gps-desc.n3 ../parkinson/score-calculation.n3 ../colon-cancer/gps-desc.n3 ../colon-cancer/gps-knowledge.n3 ../path/initial-aggreagated-path-t3-b.n3 ../engine/gps-plugin-aggregated-path-processing.n3 --tactic limited-answer 1 --query ../engine/gps-aggregation-query.n3q\n",
      "EYE v20.0910.0008 josd\n",
      "SWI-Prolog version 8.0.3\n",
      "starting 0 [msec cputime] 73 [msec walltime]\n",
      "GET file:///d:/github/gps4icdemo/data/data-colon-cancer-t3-b.ttl SC=25\n",
      "GET file:///d:/github/gps4icdemo/data/t3.ttl SC=1\n",
      "GET file:///d:/github/gps4icdemo/parkinson/gps-desc.n3 SC=3\n",
      "GET file:///d:/github/gps4icdemo/parkinson/score-calculation.n3 SC=1\n",
      "GET file:///d:/github/gps4icdemo/colon-cancer/gps-desc.n3 SC=3\n",
      "GET file:///d:/github/gps4icdemo/colon-cancer/gps-knowledge.n3 SC=11\n",
      "GET file:///d:/github/gps4icdemo/path/initial-aggreagated-path-t3-b.n3 SC=1\n",
      "GET file:///d:/github/gps4icdemo/engine/gps-plugin-aggregated-path-processing.n3 SC=12\n",
      "GET file:///d:/github/gps4icdemo/engine/gps-aggregation-query.n3q SC=1\n",
      "networking 0 [msec cputime] 74 [msec walltime]\n",
      "reasoning 15 [msec cputime] 5 [msec walltime]\n",
      "2021-01-05T21:43:39.789Z in=58 out=1 ent=2 step=2 brake=3 inf=290091 sec=0.015 inf/sec=19339400\n",
      "\n"
     ]
    }
   ],
   "source": [
    "!eye --nope ../data/data-colon-cancer-t3-b.ttl ../data/t3.ttl ../parkinson/gps-desc.n3 ../parkinson/score-calculation.n3  ../colon-cancer/gps-desc.n3 ../colon-cancer/gps-knowledge.n3 ../path/initial-aggreagated-path-t3-b.n3 ../engine/gps-plugin-aggregated-path-processing.n3 --tactic limited-answer 1 --query ../engine/gps-aggregation-query.n3q > ../path/aggreagatedPath-t3-b.n3"
   ]
  },
  {
   "cell_type": "markdown",
   "metadata": {
    "colab_type": "text",
    "id": "B8ZgSskd-p4n"
   },
   "source": [
    "### validate the aggregated path, both goals are validated"
   ]
  },
  {
   "cell_type": "markdown",
   "metadata": {
    "colab_type": "text",
    "id": "B8ZgSskd-p4n"
   },
   "source": [
    "**Scenarion A - goal Parkinson can still be reached**"
   ]
  },
  {
   "cell_type": "code",
   "execution_count": 76,
   "metadata": {},
   "outputs": [
    {
     "name": "stdout",
     "output_type": "stream",
     "text": [
      "#Processed by EYE v20.0910.0008 josd"
     ]
    },
    {
     "name": "stderr",
     "output_type": "stream",
     "text": [
      "eye --nope ../data/data-colon-cancer-t3-a.ttl ../data/t3.ttl ../parkinson/gps-desc.n3 ../parkinson/score-calculation.n3 ../colon-cancer/gps-desc.n3 ../colon-cancer/gps-knowledge.n3 ../path/aggreagatedPath-t3-a.n3 ../engine/gps-plugin-validation.n3 --query ../parkinson/gps-goal-parkinson.n3q\n",
      "EYE v20.0910.0008 josd\n",
      "SWI-Prolog version 8.0.3\n",
      "starting 31 [msec cputime] 78 [msec walltime]\n",
      "GET file:///d:/github/gps4icdemo/data/data-colon-cancer-t3-a.ttl SC=25\n",
      "GET file:///d:/github/gps4icdemo/data/t3.ttl SC=1\n",
      "GET file:///d:/github/gps4icdemo/parkinson/gps-desc.n3 SC=3\n",
      "GET file:///d:/github/gps4icdemo/parkinson/score-calculation.n3 SC=1\n",
      "GET file:///d:/github/gps4icdemo/colon-cancer/gps-desc.n3 SC=3\n",
      "GET file:///d:/github/gps4icdemo/colon-cancer/gps-knowledge.n3 SC=11\n",
      "GET file:///d:/github/gps4icdemo/path/aggreagatedpath-t3-a.n3 SC=1\n",
      "GET file:///d:/github/gps4icdemo/engine/gps-plugin-validation.n3 SC=11\n",
      "GET file:///d:/github/gps4icdemo/parkinson/gps-goal-parkinson.n3q SC=1\n",
      "networking 15 [msec cputime] 79 [msec walltime]\n",
      "reasoning 0 [msec cputime] 7 [msec walltime]\n",
      "2021-01-05T21:43:40.127Z in=57 out=1 ent=2 step=6 brake=4 inf=345384 sec=0.046 inf/sec=7508348\n",
      "\n"
     ]
    },
    {
     "name": "stdout",
     "output_type": "stream",
     "text": [
      "\n",
      "#eye --nope ../data/data-colon-cancer-t3-a.ttl ../data/t3.ttl ../parkinson/gps-desc.n3 ../parkinson/score-calculation.n3 ../colon-cancer/gps-desc.n3 ../colon-cancer/gps-knowledge.n3 ../path/aggreagatedPath-t3-a.n3 ../engine/gps-plugin-validation.n3 --query ../parkinson/gps-goal-parkinson.n3q\n",
      "\n",
      "@prefix sct: <http://snomed.info/id/>.\n",
      "@prefix data: <http://josd.github.io/eye/reasoning/gps/data#>.\n",
      "@prefix care: <http://josd.github.io/eye/reasoning/gps/care#>.\n",
      "@prefix math: <http://www.w3.org/2000/10/swap/math#>.\n",
      "@prefix xsd: <http://www.w3.org/2001/XMLSchema#>.\n",
      "@prefix e: <http://eulersharp.sourceforge.net/2003/03swap/log-rules#>.\n",
      "@prefix gps: <http://josd.github.io/eye/reasoning/gps/gps-schema#>.\n",
      "@prefix action: <http://josd.github.io/eye/reasoning/gps/action#>.\n",
      "@prefix : <http://josd.github.io/eye/reasoning#>.\n",
      "@prefix log: <http://www.w3.org/2000/10/swap/log#>.\n",
      "@prefix string: <http://www.w3.org/2000/10/swap/string#>.\n",
      "@prefix medication: <http://josd.github.io/eye/reasoning/gps/medication#>.\n",
      "@prefix list: <http://www.w3.org/2000/10/swap/list#>.\n",
      "@prefix therapy: <http://josd.github.io/eye/reasoning/gps/therapy#>.\n",
      "@prefix surgery: <http://josd.github.io/eye/reasoning/gps/surgery#>.\n",
      "@prefix prolog: <http://eulersharp.sourceforge.net/2003/03swap/prolog#>.\n",
      "@prefix func: <http://www.w3.org/2007/rif-builtin-function#>.\n",
      "@prefix rdf: <http://www.w3.org/1999/02/22-rdf-syntax-ns#>.\n",
      "\n",
      "data:patient_1 gps:path (((action:take_pill_Pramipexol gps:start 1523112741.0 {data:patient_1 care:updrs_score 10.5}) ((action:surgery_colon_cancer 1523544633 1523976633.0) gps:start 1523544633 {data:patient_1 care:tumor_size 40 . data:patient_1 care:metastasis_risk 0.4 . data:patient_1 <http://josd.github.io/eye/reasoning/gps/care#5yr_survival_rate> 0.2 . data:patient_1 care:non_toxicity 1 . data:patient_1 <http://josd.github.io/eye/reasoning/gps/care#5yr_local_relapse_risk> 0}) (action:surgery_colon_cancer gps:end 1523976633.0 {data:patient_1 care:tumor_size 0 . data:patient_1 care:metastasis_risk 0.04000000000000001 . data:patient_1 <http://josd.github.io/eye/reasoning/gps/care#5yr_survival_rate> 0.84 . data:patient_1 care:non_toxicity 0.95 . data:patient_1 care:taken action:surgery_colon_cancer. data:patient_1 <http://josd.github.io/eye/reasoning/gps/care#5yr_local_relapse_risk> 0.2}) ((action:Adjuvant_chemoradiotherapy 1523976633.0 1530888633.0) gps:start 1523976633.0 {data:patient_1 care:metastasis_risk 0.04000000000000001 . data:patient_1 <http://josd.github.io/eye/reasoning/gps/care#5yr_survival_rate> 0.84 . data:patient_1 care:non_toxicity 0.95}) (action:take_pill_Pramipexol gps:end 1528296741.0 {data:patient_1 care:updrs_score 9.2})) 18144000.0 64734.42 0.46656000000000014 0.08100000000000002 (9.2)).\n",
      "\n",
      "#2021-01-05T21:43:40.127Z in=57 out=1 ent=2 step=6 brake=4 inf=345384 sec=0.046 inf/sec=7508348\n",
      "#ENDS\n",
      "\n"
     ]
    }
   ],
   "source": [
    "!eye --nope ../data/data-colon-cancer-t3-a.ttl ../data/t3.ttl ../parkinson/gps-desc.n3 ../parkinson/score-calculation.n3  ../colon-cancer/gps-desc.n3 ../colon-cancer/gps-knowledge.n3 ../path/aggreagatedPath-t3-a.n3 ../engine/gps-plugin-validation.n3 --query ../parkinson/gps-goal-parkinson.n3q"
   ]
  },
  {
   "cell_type": "markdown",
   "metadata": {
    "colab_type": "text",
    "id": "B8ZgSskd-p4n"
   },
   "source": [
    "**Scenario A - goal colon cancer can still be reached**"
   ]
  },
  {
   "cell_type": "code",
   "execution_count": 77,
   "metadata": {},
   "outputs": [
    {
     "name": "stdout",
     "output_type": "stream",
     "text": [
      "#Processed by EYE v20.0910.0008 josd"
     ]
    },
    {
     "name": "stderr",
     "output_type": "stream",
     "text": [
      "eye --nope ../data/data-colon-cancer-t3-a.ttl ../data/t3.ttl ../parkinson/gps-desc.n3 ../parkinson/score-calculation.n3 ../colon-cancer/gps-desc.n3 ../colon-cancer/gps-knowledge.n3 ../path/aggreagatedPath-t3-a.n3 ../engine/gps-plugin-validation.n3 --query ../colon-cancer/gps-query.n3\n",
      "EYE v20.0910.0008 josd\n",
      "SWI-Prolog version 8.0.3\n",
      "starting 15 [msec cputime] 73 [msec walltime]\n",
      "GET file:///d:/github/gps4icdemo/data/data-colon-cancer-t3-a.ttl SC=25\n",
      "GET file:///d:/github/gps4icdemo/data/t3.ttl SC=1\n",
      "GET file:///d:/github/gps4icdemo/parkinson/gps-desc.n3 SC=3\n",
      "GET file:///d:/github/gps4icdemo/parkinson/score-calculation.n3 SC=1\n",
      "GET file:///d:/github/gps4icdemo/colon-cancer/gps-desc.n3 SC=3\n",
      "GET file:///d:/github/gps4icdemo/colon-cancer/gps-knowledge.n3 SC=11\n",
      "GET file:///d:/github/gps4icdemo/path/aggreagatedpath-t3-a.n3 SC=1\n",
      "GET file:///d:/github/gps4icdemo/engine/gps-plugin-validation.n3 SC=11\n",
      "GET file:///d:/github/gps4icdemo/colon-cancer/gps-query.n3 SC=1\n",
      "networking 47 [msec cputime] 80 [msec walltime]\n",
      "reasoning 0 [msec cputime] 8 [msec walltime]\n",
      "2021-01-05T21:43:40.451Z in=57 out=1 ent=2 step=6 brake=4 inf=357812 sec=0.062 inf/sec=5771161\n",
      "\n"
     ]
    },
    {
     "name": "stdout",
     "output_type": "stream",
     "text": [
      "\n",
      "#eye --nope ../data/data-colon-cancer-t3-a.ttl ../data/t3.ttl ../parkinson/gps-desc.n3 ../parkinson/score-calculation.n3 ../colon-cancer/gps-desc.n3 ../colon-cancer/gps-knowledge.n3 ../path/aggreagatedPath-t3-a.n3 ../engine/gps-plugin-validation.n3 --query ../colon-cancer/gps-query.n3\n",
      "\n",
      "@prefix sct: <http://snomed.info/id/>.\n",
      "@prefix data: <http://josd.github.io/eye/reasoning/gps/data#>.\n",
      "@prefix care: <http://josd.github.io/eye/reasoning/gps/care#>.\n",
      "@prefix math: <http://www.w3.org/2000/10/swap/math#>.\n",
      "@prefix xsd: <http://www.w3.org/2001/XMLSchema#>.\n",
      "@prefix e: <http://eulersharp.sourceforge.net/2003/03swap/log-rules#>.\n",
      "@prefix gps: <http://josd.github.io/eye/reasoning/gps/gps-schema#>.\n",
      "@prefix action: <http://josd.github.io/eye/reasoning/gps/action#>.\n",
      "@prefix : <http://josd.github.io/eye/reasoning#>.\n",
      "@prefix log: <http://www.w3.org/2000/10/swap/log#>.\n",
      "@prefix string: <http://www.w3.org/2000/10/swap/string#>.\n",
      "@prefix medication: <http://josd.github.io/eye/reasoning/gps/medication#>.\n",
      "@prefix list: <http://www.w3.org/2000/10/swap/list#>.\n",
      "@prefix therapy: <http://josd.github.io/eye/reasoning/gps/therapy#>.\n",
      "@prefix surgery: <http://josd.github.io/eye/reasoning/gps/surgery#>.\n",
      "@prefix prolog: <http://eulersharp.sourceforge.net/2003/03swap/prolog#>.\n",
      "@prefix func: <http://www.w3.org/2007/rif-builtin-function#>.\n",
      "@prefix rdf: <http://www.w3.org/1999/02/22-rdf-syntax-ns#>.\n",
      "\n",
      "data:patient_1 gps:path (((action:take_pill_Pramipexol gps:start 1523112741.0 {data:patient_1 care:updrs_score 10.5}) ((action:surgery_colon_cancer 1523544633 1523976633.0) gps:start 1523544633 {data:patient_1 care:tumor_size 40 . data:patient_1 care:metastasis_risk 0.4 . data:patient_1 <http://josd.github.io/eye/reasoning/gps/care#5yr_survival_rate> 0.2 . data:patient_1 care:non_toxicity 1 . data:patient_1 <http://josd.github.io/eye/reasoning/gps/care#5yr_local_relapse_risk> 0}) (action:surgery_colon_cancer gps:end 1523976633.0 {data:patient_1 care:tumor_size 0 . data:patient_1 care:metastasis_risk 0.04000000000000001 . data:patient_1 <http://josd.github.io/eye/reasoning/gps/care#5yr_survival_rate> 0.84 . data:patient_1 care:non_toxicity 0.95 . data:patient_1 care:taken action:surgery_colon_cancer. data:patient_1 <http://josd.github.io/eye/reasoning/gps/care#5yr_local_relapse_risk> 0.2}) ((action:Adjuvant_chemoradiotherapy 1523976633.0 1530888633.0) gps:start 1523976633.0 {data:patient_1 care:metastasis_risk 0.04000000000000001 . data:patient_1 <http://josd.github.io/eye/reasoning/gps/care#5yr_survival_rate> 0.84 . data:patient_1 care:non_toxicity 0.95}) (action:take_pill_Pramipexol gps:end 1528296741.0 {data:patient_1 care:updrs_score 9.2}) (action:Adjuvant_chemoradiotherapy gps:end 1530888633.0 {data:patient_1 care:metastasis_risk 0.020000000000000004 . data:patient_1 <http://josd.github.io/eye/reasoning/gps/care#5yr_survival_rate> 0.9199999999999999 . data:patient_1 care:non_toxicity 0.57 . data:patient_1 care:taken action:Adjuvant_chemoradiotherapy. data:patient_1 <http://josd.github.io/eye/reasoning/gps/care#5yr_local_relapse_risk> 0.16000000000000003})) 25056000.0 87369.42 0.4199040000000001 0.032400000000000005 (0.020000000000000004 0.9199999999999999 0.57 0.16000000000000003)).\n",
      "\n",
      "#2021-01-05T21:43:40.451Z in=57 out=1 ent=2 step=6 brake=4 inf=357812 sec=0.062 inf/sec=5771161\n",
      "#ENDS\n",
      "\n"
     ]
    }
   ],
   "source": [
    "!eye --nope ../data/data-colon-cancer-t3-a.ttl ../data/t3.ttl ../parkinson/gps-desc.n3 ../parkinson/score-calculation.n3  ../colon-cancer/gps-desc.n3 ../colon-cancer/gps-knowledge.n3 ../path/aggreagatedPath-t3-a.n3 ../engine/gps-plugin-validation.n3 --query ../colon-cancer/gps-query.n3"
   ]
  },
  {
   "cell_type": "markdown",
   "metadata": {
    "colab_type": "text",
    "id": "B8ZgSskd-p4n"
   },
   "source": [
    "**Scenario B - both goals can still be reached**"
   ]
  },
  {
   "cell_type": "code",
   "execution_count": 78,
   "metadata": {
    "colab": {},
    "colab_type": "code",
    "id": "VdPc6JoN-p40"
   },
   "outputs": [],
   "source": [
    "#!eye --nope ../data/data-colon-cancer-t3-b.ttl ../data/t3.ttl ../parkinson/gps-desc.n3 ../parkinson/score-calculation.n3  ../colon-cancer/gps-desc.n3 ../colon-cancer/gps-knowledge.n3 ../path/aggreagatedPath-t3-b.n3 ../engine/gps-plugin-validation.n3 --query ../parkinson/gps-goal-parkinson.n3q\n",
    "\n",
    "#!eye --nope ../data/data-colon-cancer-t3-b.ttl ../data/t3.ttl ../parkinson/gps-desc.n3 ../parkinson/score-calculation.n3  ../colon-cancer/gps-desc.n3 ../colon-cancer/gps-knowledge.n3 ../path/aggreagatedPath-t3-b.n3 ../engine/gps-plugin-validation.n3 --query ../colon-cancer/gps-query.n3"
   ]
  },
  {
   "cell_type": "markdown",
   "metadata": {
    "colab_type": "text",
    "id": "xAScOUj6-p44"
   },
   "source": [
    "### process the aggregated path to provide a better visualization with excel"
   ]
  },
  {
   "cell_type": "code",
   "execution_count": 79,
   "metadata": {
    "colab": {},
    "colab_type": "code",
    "id": "DLgOlS-T-p44",
    "outputId": "5c0da2d0-4899-4bb7-fcd8-7d62ef0e6c2f"
   },
   "outputs": [
    {
     "name": "stderr",
     "output_type": "stream",
     "text": [
      "eye --nope ../path/aggreagatedPath-t3-a.n3 --query ../engine/path-processor.csvq --strings\n",
      "EYE v20.0910.0008 josd\n",
      "SWI-Prolog version 8.0.3\n",
      "starting 31 [msec cputime] 71 [msec walltime]\n",
      "GET file:///d:/github/gps4icdemo/path/aggreagatedpath-t3-a.n3 SC=1\n",
      "GET file:///d:/github/gps4icdemo/engine/path-processor.csvq SC=1\n",
      "networking 0 [msec cputime] 10 [msec walltime]\n",
      "reasoning 0 [msec cputime] 2 [msec walltime]\n",
      "2021-01-05T21:43:40.709Z in=2 out=42 ent=0 step=0 brake=1 inf=70054 sec=0.031 inf/sec=2259806\n",
      "\n"
     ]
    },
    {
     "data": {
      "text/html": [
       "<div>\n",
       "<style scoped>\n",
       "    .dataframe tbody tr th:only-of-type {\n",
       "        vertical-align: middle;\n",
       "    }\n",
       "\n",
       "    .dataframe tbody tr th {\n",
       "        vertical-align: top;\n",
       "    }\n",
       "\n",
       "    .dataframe thead th {\n",
       "        text-align: right;\n",
       "    }\n",
       "</style>\n",
       "<table border=\"1\" class=\"dataframe\">\n",
       "  <thead>\n",
       "    <tr style=\"text-align: right;\">\n",
       "      <th></th>\n",
       "      <th>Action</th>\n",
       "      <th>start_time</th>\n",
       "      <th>end_time</th>\n",
       "      <th>state</th>\n",
       "      <th>due_time</th>\n",
       "      <th>graph_retract</th>\n",
       "      <th>graph_assert</th>\n",
       "    </tr>\n",
       "  </thead>\n",
       "  <tbody>\n",
       "    <tr>\n",
       "      <th>0</th>\n",
       "      <td>http://josd.github.io/eye/reasoning/gps/action#take_pill_Pramipexol</td>\n",
       "      <td>2018-04-07T14:52:21.0Z</td>\n",
       "      <td>2018-06-06T14:52:21.0Z</td>\n",
       "      <td>http://josd.github.io/eye/reasoning/gps/gps-schema#start</td>\n",
       "      <td>2018-04-07T14:52:21.0Z</td>\n",
       "      <td>{data:patient_1 care:updrs_score 10.5}</td>\n",
       "      <td>NaN</td>\n",
       "    </tr>\n",
       "    <tr>\n",
       "      <th>1</th>\n",
       "      <td>http://josd.github.io/eye/reasoning/gps/action#surgery_colon_cancer</td>\n",
       "      <td>2018-04-12T14:50:33Z</td>\n",
       "      <td>2018-04-17T14:50:33.0Z</td>\n",
       "      <td>http://josd.github.io/eye/reasoning/gps/gps-schema#start</td>\n",
       "      <td>2018-04-12T14:50:33Z</td>\n",
       "      <td>{data:patient_1 care:tumor_size 40 . data:patient_1 care:metastasis_risk 0.4 . data:patient_1 &lt;http://josd.github.io/eye/reasoning/gps/care#5yr_survival_rate&gt; 0.2 . data:patient_1 care:non_toxicity 1 . data:patient_1 &lt;http://josd.github.io/eye/reasoning/gps/care#5yr_local_relapse_risk&gt; 0}</td>\n",
       "      <td>NaN</td>\n",
       "    </tr>\n",
       "    <tr>\n",
       "      <th>2</th>\n",
       "      <td>http://josd.github.io/eye/reasoning/gps/action#surgery_colon_cancer</td>\n",
       "      <td>2018-04-12T14:50:33Z</td>\n",
       "      <td>2018-04-17T14:50:33.0Z</td>\n",
       "      <td>http://josd.github.io/eye/reasoning/gps/gps-schema#end</td>\n",
       "      <td>2018-04-17T14:50:33.0Z</td>\n",
       "      <td>NaN</td>\n",
       "      <td>{data:patient_1 care:tumor_size 0 . data:patient_1 care:metastasis_risk 0.04000000000000001 . data:patient_1 &lt;http://josd.github.io/eye/reasoning/gps/care#5yr_survival_rate&gt; 0.84 . data:patient_1 care:non_toxicity 0.95 . data:patient_1 care:taken action:surgery_colon_cancer. data:patient_1 &lt;http://josd.github.io/eye/reasoning/gps/care#5yr_local_relapse_risk&gt; 0.2}</td>\n",
       "    </tr>\n",
       "    <tr>\n",
       "      <th>3</th>\n",
       "      <td>http://josd.github.io/eye/reasoning/gps/action#Adjuvant_chemoradiotherapy</td>\n",
       "      <td>2018-04-17T14:50:33.0Z</td>\n",
       "      <td>2018-07-06T14:50:33.0Z</td>\n",
       "      <td>http://josd.github.io/eye/reasoning/gps/gps-schema#start</td>\n",
       "      <td>2018-04-17T14:50:33.0Z</td>\n",
       "      <td>{data:patient_1 care:metastasis_risk 0.04000000000000001 . data:patient_1 &lt;http://josd.github.io/eye/reasoning/gps/care#5yr_survival_rate&gt; 0.84 . data:patient_1 care:non_toxicity 0.95}</td>\n",
       "      <td>NaN</td>\n",
       "    </tr>\n",
       "    <tr>\n",
       "      <th>4</th>\n",
       "      <td>http://josd.github.io/eye/reasoning/gps/action#take_pill_Pramipexol</td>\n",
       "      <td>2018-04-07T14:52:21.0Z</td>\n",
       "      <td>2018-06-06T14:52:21.0Z</td>\n",
       "      <td>http://josd.github.io/eye/reasoning/gps/gps-schema#end</td>\n",
       "      <td>2018-06-06T14:52:21.0Z</td>\n",
       "      <td>NaN</td>\n",
       "      <td>{data:patient_1 care:updrs_score 9.2}</td>\n",
       "    </tr>\n",
       "    <tr>\n",
       "      <th>5</th>\n",
       "      <td>http://josd.github.io/eye/reasoning/gps/action#Adjuvant_chemoradiotherapy</td>\n",
       "      <td>2018-04-17T14:50:33.0Z</td>\n",
       "      <td>2018-07-06T14:50:33.0Z</td>\n",
       "      <td>http://josd.github.io/eye/reasoning/gps/gps-schema#end</td>\n",
       "      <td>2018-07-06T14:50:33.0Z</td>\n",
       "      <td>NaN</td>\n",
       "      <td>{data:patient_1 care:metastasis_risk 0.020000000000000004 . data:patient_1 &lt;http://josd.github.io/eye/reasoning/gps/care#5yr_survival_rate&gt; 0.9199999999999999 . data:patient_1 care:non_toxicity 0.57 . data:patient_1 care:taken action:Adjuvant_chemoradiotherapy. data:patient_1 &lt;http://josd.github.io/eye/reasoning/gps/care#5yr_local_relapse_risk&gt; 0.16000000000000003}</td>\n",
       "    </tr>\n",
       "  </tbody>\n",
       "</table>\n",
       "</div>"
      ],
      "text/plain": [
       "                                                                      Action  \\\n",
       "0  http://josd.github.io/eye/reasoning/gps/action#take_pill_Pramipexol         \n",
       "1  http://josd.github.io/eye/reasoning/gps/action#surgery_colon_cancer         \n",
       "2  http://josd.github.io/eye/reasoning/gps/action#surgery_colon_cancer         \n",
       "3  http://josd.github.io/eye/reasoning/gps/action#Adjuvant_chemoradiotherapy   \n",
       "4  http://josd.github.io/eye/reasoning/gps/action#take_pill_Pramipexol         \n",
       "5  http://josd.github.io/eye/reasoning/gps/action#Adjuvant_chemoradiotherapy   \n",
       "\n",
       "               start_time                end_time  \\\n",
       "0  2018-04-07T14:52:21.0Z  2018-06-06T14:52:21.0Z   \n",
       "1  2018-04-12T14:50:33Z    2018-04-17T14:50:33.0Z   \n",
       "2  2018-04-12T14:50:33Z    2018-04-17T14:50:33.0Z   \n",
       "3  2018-04-17T14:50:33.0Z  2018-07-06T14:50:33.0Z   \n",
       "4  2018-04-07T14:52:21.0Z  2018-06-06T14:52:21.0Z   \n",
       "5  2018-04-17T14:50:33.0Z  2018-07-06T14:50:33.0Z   \n",
       "\n",
       "                                                      state  \\\n",
       "0  http://josd.github.io/eye/reasoning/gps/gps-schema#start   \n",
       "1  http://josd.github.io/eye/reasoning/gps/gps-schema#start   \n",
       "2  http://josd.github.io/eye/reasoning/gps/gps-schema#end     \n",
       "3  http://josd.github.io/eye/reasoning/gps/gps-schema#start   \n",
       "4  http://josd.github.io/eye/reasoning/gps/gps-schema#end     \n",
       "5  http://josd.github.io/eye/reasoning/gps/gps-schema#end     \n",
       "\n",
       "                 due_time  \\\n",
       "0  2018-04-07T14:52:21.0Z   \n",
       "1  2018-04-12T14:50:33Z     \n",
       "2  2018-04-17T14:50:33.0Z   \n",
       "3  2018-04-17T14:50:33.0Z   \n",
       "4  2018-06-06T14:52:21.0Z   \n",
       "5  2018-07-06T14:50:33.0Z   \n",
       "\n",
       "                                                                                                                                                                                                                                                                                       graph_retract  \\\n",
       "0  {data:patient_1 care:updrs_score 10.5}                                                                                                                                                                                                                                                              \n",
       "1  {data:patient_1 care:tumor_size 40 . data:patient_1 care:metastasis_risk 0.4 . data:patient_1 <http://josd.github.io/eye/reasoning/gps/care#5yr_survival_rate> 0.2 . data:patient_1 care:non_toxicity 1 . data:patient_1 <http://josd.github.io/eye/reasoning/gps/care#5yr_local_relapse_risk> 0}   \n",
       "2  NaN                                                                                                                                                                                                                                                                                                 \n",
       "3  {data:patient_1 care:metastasis_risk 0.04000000000000001 . data:patient_1 <http://josd.github.io/eye/reasoning/gps/care#5yr_survival_rate> 0.84 . data:patient_1 care:non_toxicity 0.95}                                                                                                            \n",
       "4  NaN                                                                                                                                                                                                                                                                                                 \n",
       "5  NaN                                                                                                                                                                                                                                                                                                 \n",
       "\n",
       "                                                                                                                                                                                                                                                                                                                                                                      graph_assert  \n",
       "0  NaN                                                                                                                                                                                                                                                                                                                                                                              \n",
       "1  NaN                                                                                                                                                                                                                                                                                                                                                                              \n",
       "2  {data:patient_1 care:tumor_size 0 . data:patient_1 care:metastasis_risk 0.04000000000000001 . data:patient_1 <http://josd.github.io/eye/reasoning/gps/care#5yr_survival_rate> 0.84 . data:patient_1 care:non_toxicity 0.95 . data:patient_1 care:taken action:surgery_colon_cancer. data:patient_1 <http://josd.github.io/eye/reasoning/gps/care#5yr_local_relapse_risk> 0.2}    \n",
       "3  NaN                                                                                                                                                                                                                                                                                                                                                                              \n",
       "4  {data:patient_1 care:updrs_score 9.2}                                                                                                                                                                                                                                                                                                                                            \n",
       "5  {data:patient_1 care:metastasis_risk 0.020000000000000004 . data:patient_1 <http://josd.github.io/eye/reasoning/gps/care#5yr_survival_rate> 0.9199999999999999 . data:patient_1 care:non_toxicity 0.57 . data:patient_1 care:taken action:Adjuvant_chemoradiotherapy. data:patient_1 <http://josd.github.io/eye/reasoning/gps/care#5yr_local_relapse_risk> 0.16000000000000003}  "
      ]
     },
     "execution_count": 79,
     "metadata": {},
     "output_type": "execute_result"
    }
   ],
   "source": [
    "!eye --nope ../path/aggreagatedPath-t3-a.n3 --query ../engine/path-processor.csvq --strings >../path/aggreagatedPath-t3-a.csv\n",
    "\n",
    "pd.read_csv('../path/aggreagatedPath-t3-a.csv', sep=',', encoding = 'utf-8')"
   ]
  },
  {
   "cell_type": "code",
   "execution_count": 80,
   "metadata": {
    "colab": {},
    "colab_type": "code",
    "id": "I9LaBNSS-p46",
    "outputId": "abb42939-1a3b-4233-c650-e8f916c72435"
   },
   "outputs": [
    {
     "name": "stderr",
     "output_type": "stream",
     "text": [
      "eye --nope ../path/aggreagatedPath-t3-b.n3 --query ../engine/path-processor.csvq --strings\n",
      "EYE v20.0910.0008 josd\n",
      "SWI-Prolog version 8.0.3\n",
      "starting 15 [msec cputime] 73 [msec walltime]\n",
      "GET file:///d:/github/gps4icdemo/path/aggreagatedpath-t3-b.n3 SC=1\n",
      "GET file:///d:/github/gps4icdemo/engine/path-processor.csvq SC=1\n",
      "networking 0 [msec cputime] 11 [msec walltime]\n",
      "reasoning 0 [msec cputime] 1 [msec walltime]\n",
      "2021-01-05T21:43:40.972Z in=2 out=42 ent=0 step=0 brake=1 inf=69556 sec=0.015 inf/sec=4637067\n",
      "\n"
     ]
    },
    {
     "data": {
      "text/html": [
       "<div>\n",
       "<style scoped>\n",
       "    .dataframe tbody tr th:only-of-type {\n",
       "        vertical-align: middle;\n",
       "    }\n",
       "\n",
       "    .dataframe tbody tr th {\n",
       "        vertical-align: top;\n",
       "    }\n",
       "\n",
       "    .dataframe thead th {\n",
       "        text-align: right;\n",
       "    }\n",
       "</style>\n",
       "<table border=\"1\" class=\"dataframe\">\n",
       "  <thead>\n",
       "    <tr style=\"text-align: right;\">\n",
       "      <th></th>\n",
       "      <th>Action</th>\n",
       "      <th>start_time</th>\n",
       "      <th>end_time</th>\n",
       "      <th>state</th>\n",
       "      <th>due_time</th>\n",
       "      <th>graph_retract</th>\n",
       "      <th>graph_assert</th>\n",
       "    </tr>\n",
       "  </thead>\n",
       "  <tbody>\n",
       "    <tr>\n",
       "      <th>0</th>\n",
       "      <td>http://josd.github.io/eye/reasoning/gps/action#take_pill_Pramipexol</td>\n",
       "      <td>2018-04-07T14:52:21.0Z</td>\n",
       "      <td>2018-06-06T14:52:21.0Z</td>\n",
       "      <td>http://josd.github.io/eye/reasoning/gps/gps-schema#start</td>\n",
       "      <td>2018-04-07T14:52:21.0Z</td>\n",
       "      <td>{data:patient_1 care:updrs_score 10.5}</td>\n",
       "      <td>NaN</td>\n",
       "    </tr>\n",
       "    <tr>\n",
       "      <th>1</th>\n",
       "      <td>http://josd.github.io/eye/reasoning/gps/action#Neoadjuvant_chemoradiotherapy</td>\n",
       "      <td>2018-04-12T14:50:33Z</td>\n",
       "      <td>2018-06-01T14:50:33.0Z</td>\n",
       "      <td>http://josd.github.io/eye/reasoning/gps/gps-schema#start</td>\n",
       "      <td>2018-04-12T14:50:33Z</td>\n",
       "      <td>{data:patient_1 care:tumor_size 40 . data:patient_1 care:metastasis_risk 0.4 . data:patient_1 &lt;http://josd.github.io/eye/reasoning/gps/care#5yr_survival_rate&gt; 0.2 . data:patient_1 care:non_toxicity 1}</td>\n",
       "      <td>NaN</td>\n",
       "    </tr>\n",
       "    <tr>\n",
       "      <th>2</th>\n",
       "      <td>http://josd.github.io/eye/reasoning/gps/action#Neoadjuvant_chemoradiotherapy</td>\n",
       "      <td>2018-04-12T14:50:33Z</td>\n",
       "      <td>2018-06-01T14:50:33.0Z</td>\n",
       "      <td>http://josd.github.io/eye/reasoning/gps/gps-schema#end</td>\n",
       "      <td>2018-06-01T14:50:33.0Z</td>\n",
       "      <td>NaN</td>\n",
       "      <td>{data:patient_1 care:tumor_size 28.0 . data:patient_1 care:metastasis_risk 0.2 . data:patient_1 &lt;http://josd.github.io/eye/reasoning/gps/care#5yr_survival_rate&gt; 0.6 . data:patient_1 care:non_toxicity 0.73 . data:patient_1 care:taken action:Neoadjuvant_chemoradiotherapy}</td>\n",
       "    </tr>\n",
       "    <tr>\n",
       "      <th>3</th>\n",
       "      <td>http://josd.github.io/eye/reasoning/gps/action#surgery_colon_cancer</td>\n",
       "      <td>2018-06-01T14:50:33.0Z</td>\n",
       "      <td>2018-06-06T14:50:33.0Z</td>\n",
       "      <td>http://josd.github.io/eye/reasoning/gps/gps-schema#start</td>\n",
       "      <td>2018-06-01T14:50:33.0Z</td>\n",
       "      <td>{data:patient_1 care:tumor_size 28.0 . data:patient_1 care:metastasis_risk 0.2 . data:patient_1 &lt;http://josd.github.io/eye/reasoning/gps/care#5yr_survival_rate&gt; 0.6 . data:patient_1 care:non_toxicity 0.73 . data:patient_1 &lt;http://josd.github.io/eye/reasoning/gps/care#5yr_local_relapse_risk&gt; 0}</td>\n",
       "      <td>NaN</td>\n",
       "    </tr>\n",
       "    <tr>\n",
       "      <th>4</th>\n",
       "      <td>http://josd.github.io/eye/reasoning/gps/action#surgery_colon_cancer</td>\n",
       "      <td>2018-06-01T14:50:33.0Z</td>\n",
       "      <td>2018-06-06T14:50:33.0Z</td>\n",
       "      <td>http://josd.github.io/eye/reasoning/gps/gps-schema#end</td>\n",
       "      <td>2018-06-06T14:50:33.0Z</td>\n",
       "      <td>NaN</td>\n",
       "      <td>{data:patient_1 care:tumor_size 0 . data:patient_1 care:metastasis_risk 0.020000000000000004 . data:patient_1 &lt;http://josd.github.io/eye/reasoning/gps/care#5yr_survival_rate&gt; 0.9199999999999999 . data:patient_1 care:non_toxicity 0.6935 . data:patient_1 care:taken action:surgery_colon_cancer. data:patient_1 &lt;http://josd.github.io/eye/reasoning/gps/care#5yr_local_relapse_risk&gt; 0.06}</td>\n",
       "    </tr>\n",
       "    <tr>\n",
       "      <th>5</th>\n",
       "      <td>http://josd.github.io/eye/reasoning/gps/action#take_pill_Pramipexol</td>\n",
       "      <td>2018-04-07T14:52:21.0Z</td>\n",
       "      <td>2018-06-06T14:52:21.0Z</td>\n",
       "      <td>http://josd.github.io/eye/reasoning/gps/gps-schema#end</td>\n",
       "      <td>2018-06-06T14:52:21.0Z</td>\n",
       "      <td>NaN</td>\n",
       "      <td>{data:patient_1 care:updrs_score 9.2}</td>\n",
       "    </tr>\n",
       "  </tbody>\n",
       "</table>\n",
       "</div>"
      ],
      "text/plain": [
       "                                                                         Action  \\\n",
       "0  http://josd.github.io/eye/reasoning/gps/action#take_pill_Pramipexol            \n",
       "1  http://josd.github.io/eye/reasoning/gps/action#Neoadjuvant_chemoradiotherapy   \n",
       "2  http://josd.github.io/eye/reasoning/gps/action#Neoadjuvant_chemoradiotherapy   \n",
       "3  http://josd.github.io/eye/reasoning/gps/action#surgery_colon_cancer            \n",
       "4  http://josd.github.io/eye/reasoning/gps/action#surgery_colon_cancer            \n",
       "5  http://josd.github.io/eye/reasoning/gps/action#take_pill_Pramipexol            \n",
       "\n",
       "               start_time                end_time  \\\n",
       "0  2018-04-07T14:52:21.0Z  2018-06-06T14:52:21.0Z   \n",
       "1  2018-04-12T14:50:33Z    2018-06-01T14:50:33.0Z   \n",
       "2  2018-04-12T14:50:33Z    2018-06-01T14:50:33.0Z   \n",
       "3  2018-06-01T14:50:33.0Z  2018-06-06T14:50:33.0Z   \n",
       "4  2018-06-01T14:50:33.0Z  2018-06-06T14:50:33.0Z   \n",
       "5  2018-04-07T14:52:21.0Z  2018-06-06T14:52:21.0Z   \n",
       "\n",
       "                                                      state  \\\n",
       "0  http://josd.github.io/eye/reasoning/gps/gps-schema#start   \n",
       "1  http://josd.github.io/eye/reasoning/gps/gps-schema#start   \n",
       "2  http://josd.github.io/eye/reasoning/gps/gps-schema#end     \n",
       "3  http://josd.github.io/eye/reasoning/gps/gps-schema#start   \n",
       "4  http://josd.github.io/eye/reasoning/gps/gps-schema#end     \n",
       "5  http://josd.github.io/eye/reasoning/gps/gps-schema#end     \n",
       "\n",
       "                 due_time  \\\n",
       "0  2018-04-07T14:52:21.0Z   \n",
       "1  2018-04-12T14:50:33Z     \n",
       "2  2018-06-01T14:50:33.0Z   \n",
       "3  2018-06-01T14:50:33.0Z   \n",
       "4  2018-06-06T14:50:33.0Z   \n",
       "5  2018-06-06T14:52:21.0Z   \n",
       "\n",
       "                                                                                                                                                                                                                                                                                            graph_retract  \\\n",
       "0  {data:patient_1 care:updrs_score 10.5}                                                                                                                                                                                                                                                                   \n",
       "1  {data:patient_1 care:tumor_size 40 . data:patient_1 care:metastasis_risk 0.4 . data:patient_1 <http://josd.github.io/eye/reasoning/gps/care#5yr_survival_rate> 0.2 . data:patient_1 care:non_toxicity 1}                                                                                                 \n",
       "2  NaN                                                                                                                                                                                                                                                                                                      \n",
       "3  {data:patient_1 care:tumor_size 28.0 . data:patient_1 care:metastasis_risk 0.2 . data:patient_1 <http://josd.github.io/eye/reasoning/gps/care#5yr_survival_rate> 0.6 . data:patient_1 care:non_toxicity 0.73 . data:patient_1 <http://josd.github.io/eye/reasoning/gps/care#5yr_local_relapse_risk> 0}   \n",
       "4  NaN                                                                                                                                                                                                                                                                                                      \n",
       "5  NaN                                                                                                                                                                                                                                                                                                      \n",
       "\n",
       "                                                                                                                                                                                                                                                                                                                                                                                      graph_assert  \n",
       "0  NaN                                                                                                                                                                                                                                                                                                                                                                                              \n",
       "1  NaN                                                                                                                                                                                                                                                                                                                                                                                              \n",
       "2  {data:patient_1 care:tumor_size 28.0 . data:patient_1 care:metastasis_risk 0.2 . data:patient_1 <http://josd.github.io/eye/reasoning/gps/care#5yr_survival_rate> 0.6 . data:patient_1 care:non_toxicity 0.73 . data:patient_1 care:taken action:Neoadjuvant_chemoradiotherapy}                                                                                                                   \n",
       "3  NaN                                                                                                                                                                                                                                                                                                                                                                                              \n",
       "4  {data:patient_1 care:tumor_size 0 . data:patient_1 care:metastasis_risk 0.020000000000000004 . data:patient_1 <http://josd.github.io/eye/reasoning/gps/care#5yr_survival_rate> 0.9199999999999999 . data:patient_1 care:non_toxicity 0.6935 . data:patient_1 care:taken action:surgery_colon_cancer. data:patient_1 <http://josd.github.io/eye/reasoning/gps/care#5yr_local_relapse_risk> 0.06}  \n",
       "5  {data:patient_1 care:updrs_score 9.2}                                                                                                                                                                                                                                                                                                                                                            "
      ]
     },
     "execution_count": 80,
     "metadata": {},
     "output_type": "execute_result"
    }
   ],
   "source": [
    "!eye --nope ../path/aggreagatedPath-t3-b.n3 --query ../engine/path-processor.csvq --strings >../path/aggreagatedPath-t3-b.csv\n",
    "\n",
    "pd.read_csv('../path/aggreagatedPath-t3-b.csv', sep=',', encoding = 'utf-8')"
   ]
  },
  {
   "cell_type": "markdown",
   "metadata": {
    "colab_type": "text",
    "id": "ynS5G2Nt-p48"
   },
   "source": [
    "### process the aggregated path to provide a better visualization with plotly"
   ]
  },
  {
   "cell_type": "code",
   "execution_count": 81,
   "metadata": {
    "colab": {},
    "colab_type": "code",
    "id": "KoIIrLxu-p49",
    "outputId": "c3dbe39e-35af-4864-ebed-b5b97c0317ba"
   },
   "outputs": [
    {
     "name": "stderr",
     "output_type": "stream",
     "text": [
      "eye --nope ../path/aggreagatedPath-t3-a.n3 ../parkinson/gps-desc.n3 ../colon-cancer/gps-desc.n3 ../engine/path-processor-visual.n3 --query ../engine/path-processor-visual.csvq --strings\n",
      "EYE v20.0910.0008 josd\n",
      "SWI-Prolog version 8.0.3\n",
      "starting 15 [msec cputime] 72 [msec walltime]\n",
      "GET file:///d:/github/gps4icdemo/path/aggreagatedpath-t3-a.n3 SC=1\n",
      "GET file:///d:/github/gps4icdemo/parkinson/gps-desc.n3 SC=3\n",
      "GET file:///d:/github/gps4icdemo/colon-cancer/gps-desc.n3 SC=3\n",
      "GET file:///d:/github/gps4icdemo/engine/path-processor-visual.n3 SC=2\n",
      "GET file:///d:/github/gps4icdemo/engine/path-processor-visual.csvq SC=1\n",
      "networking 0 [msec cputime] 42 [msec walltime]\n",
      "reasoning 0 [msec cputime] 3 [msec walltime]\n",
      "2021-01-05T21:43:41.278Z in=10 out=12 ent=3 step=12 brake=2 inf=196540 sec=0.015 inf/sec=13102667\n",
      "\n"
     ]
    },
    {
     "data": {
      "application/vnd.plotly.v1+json": {
       "config": {
        "linkText": "Export to plot.ly",
        "plotlyServerURL": "https://plot.ly",
        "showLink": false
       },
       "data": [
        {
         "fill": "toself",
         "fillcolor": "rgb(0, 0, 220)",
         "hoverinfo": "name",
         "legendgroup": "rgb(0, 0, 220)",
         "mode": "none",
         "name": "Colon_cancer",
         "type": "scatter",
         "x": [
          "2018-04-12T14:50:33Z",
          "2018-04-17T14:50:33.0Z",
          "2018-04-17T14:50:33.0Z",
          "2018-04-12T14:50:33Z",
          "2018-04-12T14:50:33Z",
          "2018-04-17T14:50:33.0Z",
          "2018-07-06T14:50:33.0Z",
          "2018-07-06T14:50:33.0Z",
          "2018-04-17T14:50:33.0Z"
         ],
         "y": [
          0.8,
          0.8,
          1.2,
          1.2,
          null,
          1.8,
          1.8,
          2.2,
          2.2
         ]
        },
        {
         "fill": "toself",
         "fillcolor": "rgb(0, 220, 0)",
         "hoverinfo": "name",
         "legendgroup": "rgb(0, 220, 0)",
         "mode": "none",
         "name": "Parkinson",
         "type": "scatter",
         "x": [
          "2018-04-07T14:52:21.0Z",
          "2018-06-06T14:52:21.0Z",
          "2018-06-06T14:52:21.0Z",
          "2018-04-07T14:52:21.0Z"
         ],
         "y": [
          -0.2,
          -0.2,
          0.2,
          0.2
         ]
        },
        {
         "legendgroup": "rgb(0, 0, 220)",
         "marker": {
          "color": "rgb(0, 0, 220)",
          "opacity": 0,
          "size": 1
         },
         "mode": "markers",
         "name": "",
         "showlegend": false,
         "text": [
          null,
          null,
          null,
          null
         ],
         "type": "scatter",
         "x": [
          "2018-04-12T14:50:33Z",
          "2018-04-17T14:50:33.0Z",
          "2018-04-17T14:50:33.0Z",
          "2018-07-06T14:50:33.0Z"
         ],
         "y": [
          1,
          1,
          2,
          2
         ]
        },
        {
         "legendgroup": "rgb(0, 220, 0)",
         "marker": {
          "color": "rgb(0, 220, 0)",
          "opacity": 0,
          "size": 1
         },
         "mode": "markers",
         "name": "",
         "showlegend": false,
         "text": [
          null,
          null
         ],
         "type": "scatter",
         "x": [
          "2018-04-07T14:52:21.0Z",
          "2018-06-06T14:52:21.0Z"
         ],
         "y": [
          0,
          0
         ]
        }
       ],
       "layout": {
        "autosize": false,
        "height": 700,
        "hovermode": "closest",
        "margin": {
         "l": 200
        },
        "showlegend": true,
        "template": {
         "data": {
          "bar": [
           {
            "error_x": {
             "color": "#2a3f5f"
            },
            "error_y": {
             "color": "#2a3f5f"
            },
            "marker": {
             "line": {
              "color": "#E5ECF6",
              "width": 0.5
             }
            },
            "type": "bar"
           }
          ],
          "barpolar": [
           {
            "marker": {
             "line": {
              "color": "#E5ECF6",
              "width": 0.5
             }
            },
            "type": "barpolar"
           }
          ],
          "carpet": [
           {
            "aaxis": {
             "endlinecolor": "#2a3f5f",
             "gridcolor": "white",
             "linecolor": "white",
             "minorgridcolor": "white",
             "startlinecolor": "#2a3f5f"
            },
            "baxis": {
             "endlinecolor": "#2a3f5f",
             "gridcolor": "white",
             "linecolor": "white",
             "minorgridcolor": "white",
             "startlinecolor": "#2a3f5f"
            },
            "type": "carpet"
           }
          ],
          "choropleth": [
           {
            "colorbar": {
             "outlinewidth": 0,
             "ticks": ""
            },
            "type": "choropleth"
           }
          ],
          "contour": [
           {
            "colorbar": {
             "outlinewidth": 0,
             "ticks": ""
            },
            "colorscale": [
             [
              0,
              "#0d0887"
             ],
             [
              0.1111111111111111,
              "#46039f"
             ],
             [
              0.2222222222222222,
              "#7201a8"
             ],
             [
              0.3333333333333333,
              "#9c179e"
             ],
             [
              0.4444444444444444,
              "#bd3786"
             ],
             [
              0.5555555555555556,
              "#d8576b"
             ],
             [
              0.6666666666666666,
              "#ed7953"
             ],
             [
              0.7777777777777778,
              "#fb9f3a"
             ],
             [
              0.8888888888888888,
              "#fdca26"
             ],
             [
              1,
              "#f0f921"
             ]
            ],
            "type": "contour"
           }
          ],
          "contourcarpet": [
           {
            "colorbar": {
             "outlinewidth": 0,
             "ticks": ""
            },
            "type": "contourcarpet"
           }
          ],
          "heatmap": [
           {
            "colorbar": {
             "outlinewidth": 0,
             "ticks": ""
            },
            "colorscale": [
             [
              0,
              "#0d0887"
             ],
             [
              0.1111111111111111,
              "#46039f"
             ],
             [
              0.2222222222222222,
              "#7201a8"
             ],
             [
              0.3333333333333333,
              "#9c179e"
             ],
             [
              0.4444444444444444,
              "#bd3786"
             ],
             [
              0.5555555555555556,
              "#d8576b"
             ],
             [
              0.6666666666666666,
              "#ed7953"
             ],
             [
              0.7777777777777778,
              "#fb9f3a"
             ],
             [
              0.8888888888888888,
              "#fdca26"
             ],
             [
              1,
              "#f0f921"
             ]
            ],
            "type": "heatmap"
           }
          ],
          "heatmapgl": [
           {
            "colorbar": {
             "outlinewidth": 0,
             "ticks": ""
            },
            "colorscale": [
             [
              0,
              "#0d0887"
             ],
             [
              0.1111111111111111,
              "#46039f"
             ],
             [
              0.2222222222222222,
              "#7201a8"
             ],
             [
              0.3333333333333333,
              "#9c179e"
             ],
             [
              0.4444444444444444,
              "#bd3786"
             ],
             [
              0.5555555555555556,
              "#d8576b"
             ],
             [
              0.6666666666666666,
              "#ed7953"
             ],
             [
              0.7777777777777778,
              "#fb9f3a"
             ],
             [
              0.8888888888888888,
              "#fdca26"
             ],
             [
              1,
              "#f0f921"
             ]
            ],
            "type": "heatmapgl"
           }
          ],
          "histogram": [
           {
            "marker": {
             "colorbar": {
              "outlinewidth": 0,
              "ticks": ""
             }
            },
            "type": "histogram"
           }
          ],
          "histogram2d": [
           {
            "colorbar": {
             "outlinewidth": 0,
             "ticks": ""
            },
            "colorscale": [
             [
              0,
              "#0d0887"
             ],
             [
              0.1111111111111111,
              "#46039f"
             ],
             [
              0.2222222222222222,
              "#7201a8"
             ],
             [
              0.3333333333333333,
              "#9c179e"
             ],
             [
              0.4444444444444444,
              "#bd3786"
             ],
             [
              0.5555555555555556,
              "#d8576b"
             ],
             [
              0.6666666666666666,
              "#ed7953"
             ],
             [
              0.7777777777777778,
              "#fb9f3a"
             ],
             [
              0.8888888888888888,
              "#fdca26"
             ],
             [
              1,
              "#f0f921"
             ]
            ],
            "type": "histogram2d"
           }
          ],
          "histogram2dcontour": [
           {
            "colorbar": {
             "outlinewidth": 0,
             "ticks": ""
            },
            "colorscale": [
             [
              0,
              "#0d0887"
             ],
             [
              0.1111111111111111,
              "#46039f"
             ],
             [
              0.2222222222222222,
              "#7201a8"
             ],
             [
              0.3333333333333333,
              "#9c179e"
             ],
             [
              0.4444444444444444,
              "#bd3786"
             ],
             [
              0.5555555555555556,
              "#d8576b"
             ],
             [
              0.6666666666666666,
              "#ed7953"
             ],
             [
              0.7777777777777778,
              "#fb9f3a"
             ],
             [
              0.8888888888888888,
              "#fdca26"
             ],
             [
              1,
              "#f0f921"
             ]
            ],
            "type": "histogram2dcontour"
           }
          ],
          "mesh3d": [
           {
            "colorbar": {
             "outlinewidth": 0,
             "ticks": ""
            },
            "type": "mesh3d"
           }
          ],
          "parcoords": [
           {
            "line": {
             "colorbar": {
              "outlinewidth": 0,
              "ticks": ""
             }
            },
            "type": "parcoords"
           }
          ],
          "pie": [
           {
            "automargin": true,
            "type": "pie"
           }
          ],
          "scatter": [
           {
            "marker": {
             "colorbar": {
              "outlinewidth": 0,
              "ticks": ""
             }
            },
            "type": "scatter"
           }
          ],
          "scatter3d": [
           {
            "line": {
             "colorbar": {
              "outlinewidth": 0,
              "ticks": ""
             }
            },
            "marker": {
             "colorbar": {
              "outlinewidth": 0,
              "ticks": ""
             }
            },
            "type": "scatter3d"
           }
          ],
          "scattercarpet": [
           {
            "marker": {
             "colorbar": {
              "outlinewidth": 0,
              "ticks": ""
             }
            },
            "type": "scattercarpet"
           }
          ],
          "scattergeo": [
           {
            "marker": {
             "colorbar": {
              "outlinewidth": 0,
              "ticks": ""
             }
            },
            "type": "scattergeo"
           }
          ],
          "scattergl": [
           {
            "marker": {
             "colorbar": {
              "outlinewidth": 0,
              "ticks": ""
             }
            },
            "type": "scattergl"
           }
          ],
          "scattermapbox": [
           {
            "marker": {
             "colorbar": {
              "outlinewidth": 0,
              "ticks": ""
             }
            },
            "type": "scattermapbox"
           }
          ],
          "scatterpolar": [
           {
            "marker": {
             "colorbar": {
              "outlinewidth": 0,
              "ticks": ""
             }
            },
            "type": "scatterpolar"
           }
          ],
          "scatterpolargl": [
           {
            "marker": {
             "colorbar": {
              "outlinewidth": 0,
              "ticks": ""
             }
            },
            "type": "scatterpolargl"
           }
          ],
          "scatterternary": [
           {
            "marker": {
             "colorbar": {
              "outlinewidth": 0,
              "ticks": ""
             }
            },
            "type": "scatterternary"
           }
          ],
          "surface": [
           {
            "colorbar": {
             "outlinewidth": 0,
             "ticks": ""
            },
            "colorscale": [
             [
              0,
              "#0d0887"
             ],
             [
              0.1111111111111111,
              "#46039f"
             ],
             [
              0.2222222222222222,
              "#7201a8"
             ],
             [
              0.3333333333333333,
              "#9c179e"
             ],
             [
              0.4444444444444444,
              "#bd3786"
             ],
             [
              0.5555555555555556,
              "#d8576b"
             ],
             [
              0.6666666666666666,
              "#ed7953"
             ],
             [
              0.7777777777777778,
              "#fb9f3a"
             ],
             [
              0.8888888888888888,
              "#fdca26"
             ],
             [
              1,
              "#f0f921"
             ]
            ],
            "type": "surface"
           }
          ],
          "table": [
           {
            "cells": {
             "fill": {
              "color": "#EBF0F8"
             },
             "line": {
              "color": "white"
             }
            },
            "header": {
             "fill": {
              "color": "#C8D4E3"
             },
             "line": {
              "color": "white"
             }
            },
            "type": "table"
           }
          ]
         },
         "layout": {
          "annotationdefaults": {
           "arrowcolor": "#2a3f5f",
           "arrowhead": 0,
           "arrowwidth": 1
          },
          "coloraxis": {
           "colorbar": {
            "outlinewidth": 0,
            "ticks": ""
           }
          },
          "colorscale": {
           "diverging": [
            [
             0,
             "#8e0152"
            ],
            [
             0.1,
             "#c51b7d"
            ],
            [
             0.2,
             "#de77ae"
            ],
            [
             0.3,
             "#f1b6da"
            ],
            [
             0.4,
             "#fde0ef"
            ],
            [
             0.5,
             "#f7f7f7"
            ],
            [
             0.6,
             "#e6f5d0"
            ],
            [
             0.7,
             "#b8e186"
            ],
            [
             0.8,
             "#7fbc41"
            ],
            [
             0.9,
             "#4d9221"
            ],
            [
             1,
             "#276419"
            ]
           ],
           "sequential": [
            [
             0,
             "#0d0887"
            ],
            [
             0.1111111111111111,
             "#46039f"
            ],
            [
             0.2222222222222222,
             "#7201a8"
            ],
            [
             0.3333333333333333,
             "#9c179e"
            ],
            [
             0.4444444444444444,
             "#bd3786"
            ],
            [
             0.5555555555555556,
             "#d8576b"
            ],
            [
             0.6666666666666666,
             "#ed7953"
            ],
            [
             0.7777777777777778,
             "#fb9f3a"
            ],
            [
             0.8888888888888888,
             "#fdca26"
            ],
            [
             1,
             "#f0f921"
            ]
           ],
           "sequentialminus": [
            [
             0,
             "#0d0887"
            ],
            [
             0.1111111111111111,
             "#46039f"
            ],
            [
             0.2222222222222222,
             "#7201a8"
            ],
            [
             0.3333333333333333,
             "#9c179e"
            ],
            [
             0.4444444444444444,
             "#bd3786"
            ],
            [
             0.5555555555555556,
             "#d8576b"
            ],
            [
             0.6666666666666666,
             "#ed7953"
            ],
            [
             0.7777777777777778,
             "#fb9f3a"
            ],
            [
             0.8888888888888888,
             "#fdca26"
            ],
            [
             1,
             "#f0f921"
            ]
           ]
          },
          "colorway": [
           "#636efa",
           "#EF553B",
           "#00cc96",
           "#ab63fa",
           "#FFA15A",
           "#19d3f3",
           "#FF6692",
           "#B6E880",
           "#FF97FF",
           "#FECB52"
          ],
          "font": {
           "color": "#2a3f5f"
          },
          "geo": {
           "bgcolor": "white",
           "lakecolor": "white",
           "landcolor": "#E5ECF6",
           "showlakes": true,
           "showland": true,
           "subunitcolor": "white"
          },
          "hoverlabel": {
           "align": "left"
          },
          "hovermode": "closest",
          "mapbox": {
           "style": "light"
          },
          "paper_bgcolor": "white",
          "plot_bgcolor": "#E5ECF6",
          "polar": {
           "angularaxis": {
            "gridcolor": "white",
            "linecolor": "white",
            "ticks": ""
           },
           "bgcolor": "#E5ECF6",
           "radialaxis": {
            "gridcolor": "white",
            "linecolor": "white",
            "ticks": ""
           }
          },
          "scene": {
           "xaxis": {
            "backgroundcolor": "#E5ECF6",
            "gridcolor": "white",
            "gridwidth": 2,
            "linecolor": "white",
            "showbackground": true,
            "ticks": "",
            "zerolinecolor": "white"
           },
           "yaxis": {
            "backgroundcolor": "#E5ECF6",
            "gridcolor": "white",
            "gridwidth": 2,
            "linecolor": "white",
            "showbackground": true,
            "ticks": "",
            "zerolinecolor": "white"
           },
           "zaxis": {
            "backgroundcolor": "#E5ECF6",
            "gridcolor": "white",
            "gridwidth": 2,
            "linecolor": "white",
            "showbackground": true,
            "ticks": "",
            "zerolinecolor": "white"
           }
          },
          "shapedefaults": {
           "line": {
            "color": "#2a3f5f"
           }
          },
          "ternary": {
           "aaxis": {
            "gridcolor": "white",
            "linecolor": "white",
            "ticks": ""
           },
           "baxis": {
            "gridcolor": "white",
            "linecolor": "white",
            "ticks": ""
           },
           "bgcolor": "#E5ECF6",
           "caxis": {
            "gridcolor": "white",
            "linecolor": "white",
            "ticks": ""
           }
          },
          "title": {
           "x": 0.05
          },
          "xaxis": {
           "automargin": true,
           "gridcolor": "white",
           "linecolor": "white",
           "ticks": "",
           "title": {
            "standoff": 15
           },
           "zerolinecolor": "white",
           "zerolinewidth": 2
          },
          "yaxis": {
           "automargin": true,
           "gridcolor": "white",
           "linecolor": "white",
           "ticks": "",
           "title": {
            "standoff": 15
           },
           "zerolinecolor": "white",
           "zerolinewidth": 2
          }
         }
        },
        "title": {
         "text": "Path-Parkinson-Colon-Cancer-Scenario-A-with-blocking-colon"
        },
        "width": 1000,
        "xaxis": {
         "rangeselector": {
          "buttons": [
           {
            "count": 7,
            "label": "1w",
            "step": "day",
            "stepmode": "backward"
           },
           {
            "count": 1,
            "label": "1m",
            "step": "month",
            "stepmode": "backward"
           },
           {
            "count": 6,
            "label": "6m",
            "step": "month",
            "stepmode": "backward"
           },
           {
            "count": 1,
            "label": "YTD",
            "step": "year",
            "stepmode": "todate"
           },
           {
            "count": 1,
            "label": "1y",
            "step": "year",
            "stepmode": "backward"
           },
           {
            "step": "all"
           }
          ]
         },
         "showgrid": false,
         "type": "date",
         "zeroline": false
        },
        "yaxis": {
         "autorange": false,
         "range": [
          -1,
          4
         ],
         "showgrid": false,
         "ticktext": [
          "take_pill_Pramipexol",
          "surgery_colon_cancer",
          "Adjuvant_chemoradiotherapy"
         ],
         "tickvals": [
          0,
          1,
          2
         ],
         "zeroline": false
        }
       }
      },
      "text/html": [
       "<div>\n",
       "        \n",
       "        \n",
       "            <div id=\"f8d69a22-a0be-485b-b32e-c9b1a9900ecb\" class=\"plotly-graph-div\" style=\"height:700px; width:1000px;\"></div>\n",
       "            <script type=\"text/javascript\">\n",
       "                require([\"plotly\"], function(Plotly) {\n",
       "                    window.PLOTLYENV=window.PLOTLYENV || {};\n",
       "                    \n",
       "                if (document.getElementById(\"f8d69a22-a0be-485b-b32e-c9b1a9900ecb\")) {\n",
       "                    Plotly.newPlot(\n",
       "                        'f8d69a22-a0be-485b-b32e-c9b1a9900ecb',\n",
       "                        [{\"fill\": \"toself\", \"fillcolor\": \"rgb(0, 0, 220)\", \"hoverinfo\": \"name\", \"legendgroup\": \"rgb(0, 0, 220)\", \"mode\": \"none\", \"name\": \"Colon_cancer\", \"type\": \"scatter\", \"x\": [\"2018-04-12T14:50:33Z\", \"2018-04-17T14:50:33.0Z\", \"2018-04-17T14:50:33.0Z\", \"2018-04-12T14:50:33Z\", \"2018-04-12T14:50:33Z\", \"2018-04-17T14:50:33.0Z\", \"2018-07-06T14:50:33.0Z\", \"2018-07-06T14:50:33.0Z\", \"2018-04-17T14:50:33.0Z\"], \"y\": [0.8, 0.8, 1.2, 1.2, null, 1.8, 1.8, 2.2, 2.2]}, {\"fill\": \"toself\", \"fillcolor\": \"rgb(0, 220, 0)\", \"hoverinfo\": \"name\", \"legendgroup\": \"rgb(0, 220, 0)\", \"mode\": \"none\", \"name\": \"Parkinson\", \"type\": \"scatter\", \"x\": [\"2018-04-07T14:52:21.0Z\", \"2018-06-06T14:52:21.0Z\", \"2018-06-06T14:52:21.0Z\", \"2018-04-07T14:52:21.0Z\"], \"y\": [-0.2, -0.2, 0.2, 0.2]}, {\"legendgroup\": \"rgb(0, 0, 220)\", \"marker\": {\"color\": \"rgb(0, 0, 220)\", \"opacity\": 0, \"size\": 1}, \"mode\": \"markers\", \"name\": \"\", \"showlegend\": false, \"text\": [null, null, null, null], \"type\": \"scatter\", \"x\": [\"2018-04-12T14:50:33Z\", \"2018-04-17T14:50:33.0Z\", \"2018-04-17T14:50:33.0Z\", \"2018-07-06T14:50:33.0Z\"], \"y\": [1, 1, 2, 2]}, {\"legendgroup\": \"rgb(0, 220, 0)\", \"marker\": {\"color\": \"rgb(0, 220, 0)\", \"opacity\": 0, \"size\": 1}, \"mode\": \"markers\", \"name\": \"\", \"showlegend\": false, \"text\": [null, null], \"type\": \"scatter\", \"x\": [\"2018-04-07T14:52:21.0Z\", \"2018-06-06T14:52:21.0Z\"], \"y\": [0, 0]}],\n",
       "                        {\"autosize\": false, \"height\": 700, \"hovermode\": \"closest\", \"margin\": {\"l\": 200}, \"showlegend\": true, \"template\": {\"data\": {\"bar\": [{\"error_x\": {\"color\": \"#2a3f5f\"}, \"error_y\": {\"color\": \"#2a3f5f\"}, \"marker\": {\"line\": {\"color\": \"#E5ECF6\", \"width\": 0.5}}, \"type\": \"bar\"}], \"barpolar\": [{\"marker\": {\"line\": {\"color\": \"#E5ECF6\", \"width\": 0.5}}, \"type\": \"barpolar\"}], \"carpet\": [{\"aaxis\": {\"endlinecolor\": \"#2a3f5f\", \"gridcolor\": \"white\", \"linecolor\": \"white\", \"minorgridcolor\": \"white\", \"startlinecolor\": \"#2a3f5f\"}, \"baxis\": {\"endlinecolor\": \"#2a3f5f\", \"gridcolor\": \"white\", \"linecolor\": \"white\", \"minorgridcolor\": \"white\", \"startlinecolor\": \"#2a3f5f\"}, \"type\": \"carpet\"}], \"choropleth\": [{\"colorbar\": {\"outlinewidth\": 0, \"ticks\": \"\"}, \"type\": \"choropleth\"}], \"contour\": [{\"colorbar\": {\"outlinewidth\": 0, \"ticks\": \"\"}, \"colorscale\": [[0.0, \"#0d0887\"], [0.1111111111111111, \"#46039f\"], [0.2222222222222222, \"#7201a8\"], [0.3333333333333333, \"#9c179e\"], [0.4444444444444444, \"#bd3786\"], [0.5555555555555556, \"#d8576b\"], [0.6666666666666666, \"#ed7953\"], [0.7777777777777778, \"#fb9f3a\"], [0.8888888888888888, \"#fdca26\"], [1.0, \"#f0f921\"]], \"type\": \"contour\"}], \"contourcarpet\": [{\"colorbar\": {\"outlinewidth\": 0, \"ticks\": \"\"}, \"type\": \"contourcarpet\"}], \"heatmap\": [{\"colorbar\": {\"outlinewidth\": 0, \"ticks\": \"\"}, \"colorscale\": [[0.0, \"#0d0887\"], [0.1111111111111111, \"#46039f\"], [0.2222222222222222, \"#7201a8\"], [0.3333333333333333, \"#9c179e\"], [0.4444444444444444, \"#bd3786\"], [0.5555555555555556, \"#d8576b\"], [0.6666666666666666, \"#ed7953\"], [0.7777777777777778, \"#fb9f3a\"], [0.8888888888888888, \"#fdca26\"], [1.0, \"#f0f921\"]], \"type\": \"heatmap\"}], \"heatmapgl\": [{\"colorbar\": {\"outlinewidth\": 0, \"ticks\": \"\"}, \"colorscale\": [[0.0, \"#0d0887\"], [0.1111111111111111, \"#46039f\"], [0.2222222222222222, \"#7201a8\"], [0.3333333333333333, \"#9c179e\"], [0.4444444444444444, \"#bd3786\"], [0.5555555555555556, \"#d8576b\"], [0.6666666666666666, \"#ed7953\"], [0.7777777777777778, \"#fb9f3a\"], [0.8888888888888888, \"#fdca26\"], [1.0, \"#f0f921\"]], \"type\": \"heatmapgl\"}], \"histogram\": [{\"marker\": {\"colorbar\": {\"outlinewidth\": 0, \"ticks\": \"\"}}, \"type\": \"histogram\"}], \"histogram2d\": [{\"colorbar\": {\"outlinewidth\": 0, \"ticks\": \"\"}, \"colorscale\": [[0.0, \"#0d0887\"], [0.1111111111111111, \"#46039f\"], [0.2222222222222222, \"#7201a8\"], [0.3333333333333333, \"#9c179e\"], [0.4444444444444444, \"#bd3786\"], [0.5555555555555556, \"#d8576b\"], [0.6666666666666666, \"#ed7953\"], [0.7777777777777778, \"#fb9f3a\"], [0.8888888888888888, \"#fdca26\"], [1.0, \"#f0f921\"]], \"type\": \"histogram2d\"}], \"histogram2dcontour\": [{\"colorbar\": {\"outlinewidth\": 0, \"ticks\": \"\"}, \"colorscale\": [[0.0, \"#0d0887\"], [0.1111111111111111, \"#46039f\"], [0.2222222222222222, \"#7201a8\"], [0.3333333333333333, \"#9c179e\"], [0.4444444444444444, \"#bd3786\"], [0.5555555555555556, \"#d8576b\"], [0.6666666666666666, \"#ed7953\"], [0.7777777777777778, \"#fb9f3a\"], [0.8888888888888888, \"#fdca26\"], [1.0, \"#f0f921\"]], \"type\": \"histogram2dcontour\"}], \"mesh3d\": [{\"colorbar\": {\"outlinewidth\": 0, \"ticks\": \"\"}, \"type\": \"mesh3d\"}], \"parcoords\": [{\"line\": {\"colorbar\": {\"outlinewidth\": 0, \"ticks\": \"\"}}, \"type\": \"parcoords\"}], \"pie\": [{\"automargin\": true, \"type\": \"pie\"}], \"scatter\": [{\"marker\": {\"colorbar\": {\"outlinewidth\": 0, \"ticks\": \"\"}}, \"type\": \"scatter\"}], \"scatter3d\": [{\"line\": {\"colorbar\": {\"outlinewidth\": 0, \"ticks\": \"\"}}, \"marker\": {\"colorbar\": {\"outlinewidth\": 0, \"ticks\": \"\"}}, \"type\": \"scatter3d\"}], \"scattercarpet\": [{\"marker\": {\"colorbar\": {\"outlinewidth\": 0, \"ticks\": \"\"}}, \"type\": \"scattercarpet\"}], \"scattergeo\": [{\"marker\": {\"colorbar\": {\"outlinewidth\": 0, \"ticks\": \"\"}}, \"type\": \"scattergeo\"}], \"scattergl\": [{\"marker\": {\"colorbar\": {\"outlinewidth\": 0, \"ticks\": \"\"}}, \"type\": \"scattergl\"}], \"scattermapbox\": [{\"marker\": {\"colorbar\": {\"outlinewidth\": 0, \"ticks\": \"\"}}, \"type\": \"scattermapbox\"}], \"scatterpolar\": [{\"marker\": {\"colorbar\": {\"outlinewidth\": 0, \"ticks\": \"\"}}, \"type\": \"scatterpolar\"}], \"scatterpolargl\": [{\"marker\": {\"colorbar\": {\"outlinewidth\": 0, \"ticks\": \"\"}}, \"type\": \"scatterpolargl\"}], \"scatterternary\": [{\"marker\": {\"colorbar\": {\"outlinewidth\": 0, \"ticks\": \"\"}}, \"type\": \"scatterternary\"}], \"surface\": [{\"colorbar\": {\"outlinewidth\": 0, \"ticks\": \"\"}, \"colorscale\": [[0.0, \"#0d0887\"], [0.1111111111111111, \"#46039f\"], [0.2222222222222222, \"#7201a8\"], [0.3333333333333333, \"#9c179e\"], [0.4444444444444444, \"#bd3786\"], [0.5555555555555556, \"#d8576b\"], [0.6666666666666666, \"#ed7953\"], [0.7777777777777778, \"#fb9f3a\"], [0.8888888888888888, \"#fdca26\"], [1.0, \"#f0f921\"]], \"type\": \"surface\"}], \"table\": [{\"cells\": {\"fill\": {\"color\": \"#EBF0F8\"}, \"line\": {\"color\": \"white\"}}, \"header\": {\"fill\": {\"color\": \"#C8D4E3\"}, \"line\": {\"color\": \"white\"}}, \"type\": \"table\"}]}, \"layout\": {\"annotationdefaults\": {\"arrowcolor\": \"#2a3f5f\", \"arrowhead\": 0, \"arrowwidth\": 1}, \"coloraxis\": {\"colorbar\": {\"outlinewidth\": 0, \"ticks\": \"\"}}, \"colorscale\": {\"diverging\": [[0, \"#8e0152\"], [0.1, \"#c51b7d\"], [0.2, \"#de77ae\"], [0.3, \"#f1b6da\"], [0.4, \"#fde0ef\"], [0.5, \"#f7f7f7\"], [0.6, \"#e6f5d0\"], [0.7, \"#b8e186\"], [0.8, \"#7fbc41\"], [0.9, \"#4d9221\"], [1, \"#276419\"]], \"sequential\": [[0.0, \"#0d0887\"], [0.1111111111111111, \"#46039f\"], [0.2222222222222222, \"#7201a8\"], [0.3333333333333333, \"#9c179e\"], [0.4444444444444444, \"#bd3786\"], [0.5555555555555556, \"#d8576b\"], [0.6666666666666666, \"#ed7953\"], [0.7777777777777778, \"#fb9f3a\"], [0.8888888888888888, \"#fdca26\"], [1.0, \"#f0f921\"]], \"sequentialminus\": [[0.0, \"#0d0887\"], [0.1111111111111111, \"#46039f\"], [0.2222222222222222, \"#7201a8\"], [0.3333333333333333, \"#9c179e\"], [0.4444444444444444, \"#bd3786\"], [0.5555555555555556, \"#d8576b\"], [0.6666666666666666, \"#ed7953\"], [0.7777777777777778, \"#fb9f3a\"], [0.8888888888888888, \"#fdca26\"], [1.0, \"#f0f921\"]]}, \"colorway\": [\"#636efa\", \"#EF553B\", \"#00cc96\", \"#ab63fa\", \"#FFA15A\", \"#19d3f3\", \"#FF6692\", \"#B6E880\", \"#FF97FF\", \"#FECB52\"], \"font\": {\"color\": \"#2a3f5f\"}, \"geo\": {\"bgcolor\": \"white\", \"lakecolor\": \"white\", \"landcolor\": \"#E5ECF6\", \"showlakes\": true, \"showland\": true, \"subunitcolor\": \"white\"}, \"hoverlabel\": {\"align\": \"left\"}, \"hovermode\": \"closest\", \"mapbox\": {\"style\": \"light\"}, \"paper_bgcolor\": \"white\", \"plot_bgcolor\": \"#E5ECF6\", \"polar\": {\"angularaxis\": {\"gridcolor\": \"white\", \"linecolor\": \"white\", \"ticks\": \"\"}, \"bgcolor\": \"#E5ECF6\", \"radialaxis\": {\"gridcolor\": \"white\", \"linecolor\": \"white\", \"ticks\": \"\"}}, \"scene\": {\"xaxis\": {\"backgroundcolor\": \"#E5ECF6\", \"gridcolor\": \"white\", \"gridwidth\": 2, \"linecolor\": \"white\", \"showbackground\": true, \"ticks\": \"\", \"zerolinecolor\": \"white\"}, \"yaxis\": {\"backgroundcolor\": \"#E5ECF6\", \"gridcolor\": \"white\", \"gridwidth\": 2, \"linecolor\": \"white\", \"showbackground\": true, \"ticks\": \"\", \"zerolinecolor\": \"white\"}, \"zaxis\": {\"backgroundcolor\": \"#E5ECF6\", \"gridcolor\": \"white\", \"gridwidth\": 2, \"linecolor\": \"white\", \"showbackground\": true, \"ticks\": \"\", \"zerolinecolor\": \"white\"}}, \"shapedefaults\": {\"line\": {\"color\": \"#2a3f5f\"}}, \"ternary\": {\"aaxis\": {\"gridcolor\": \"white\", \"linecolor\": \"white\", \"ticks\": \"\"}, \"baxis\": {\"gridcolor\": \"white\", \"linecolor\": \"white\", \"ticks\": \"\"}, \"bgcolor\": \"#E5ECF6\", \"caxis\": {\"gridcolor\": \"white\", \"linecolor\": \"white\", \"ticks\": \"\"}}, \"title\": {\"x\": 0.05}, \"xaxis\": {\"automargin\": true, \"gridcolor\": \"white\", \"linecolor\": \"white\", \"ticks\": \"\", \"title\": {\"standoff\": 15}, \"zerolinecolor\": \"white\", \"zerolinewidth\": 2}, \"yaxis\": {\"automargin\": true, \"gridcolor\": \"white\", \"linecolor\": \"white\", \"ticks\": \"\", \"title\": {\"standoff\": 15}, \"zerolinecolor\": \"white\", \"zerolinewidth\": 2}}}, \"title\": {\"text\": \"Path-Parkinson-Colon-Cancer-Scenario-A-with-blocking-colon\"}, \"width\": 1000, \"xaxis\": {\"rangeselector\": {\"buttons\": [{\"count\": 7, \"label\": \"1w\", \"step\": \"day\", \"stepmode\": \"backward\"}, {\"count\": 1, \"label\": \"1m\", \"step\": \"month\", \"stepmode\": \"backward\"}, {\"count\": 6, \"label\": \"6m\", \"step\": \"month\", \"stepmode\": \"backward\"}, {\"count\": 1, \"label\": \"YTD\", \"step\": \"year\", \"stepmode\": \"todate\"}, {\"count\": 1, \"label\": \"1y\", \"step\": \"year\", \"stepmode\": \"backward\"}, {\"step\": \"all\"}]}, \"showgrid\": false, \"type\": \"date\", \"zeroline\": false}, \"yaxis\": {\"autorange\": false, \"range\": [-1, 4], \"showgrid\": false, \"ticktext\": [\"take_pill_Pramipexol\", \"surgery_colon_cancer\", \"Adjuvant_chemoradiotherapy\"], \"tickvals\": [0, 1, 2], \"zeroline\": false}},\n",
       "                        {\"responsive\": true}\n",
       "                    ).then(function(){\n",
       "                            \n",
       "var gd = document.getElementById('f8d69a22-a0be-485b-b32e-c9b1a9900ecb');\n",
       "var x = new MutationObserver(function (mutations, observer) {{\n",
       "        var display = window.getComputedStyle(gd).display;\n",
       "        if (!display || display === 'none') {{\n",
       "            console.log([gd, 'removed!']);\n",
       "            Plotly.purge(gd);\n",
       "            observer.disconnect();\n",
       "        }}\n",
       "}});\n",
       "\n",
       "// Listen for the removal of the full notebook cells\n",
       "var notebookContainer = gd.closest('#notebook-container');\n",
       "if (notebookContainer) {{\n",
       "    x.observe(notebookContainer, {childList: true});\n",
       "}}\n",
       "\n",
       "// Listen for the clearing of the current output cell\n",
       "var outputEl = gd.closest('.output');\n",
       "if (outputEl) {{\n",
       "    x.observe(outputEl, {childList: true});\n",
       "}}\n",
       "\n",
       "                        })\n",
       "                };\n",
       "                });\n",
       "            </script>\n",
       "        </div>"
      ]
     },
     "metadata": {},
     "output_type": "display_data"
    }
   ],
   "source": [
    "!eye --nope ../path/aggreagatedPath-t3-a.n3  ../parkinson/gps-desc.n3  ../colon-cancer/gps-desc.n3 ../engine/path-processor-visual.n3 --query ../engine/path-processor-visual.csvq --strings >../path/aggreagatedPath-plot-t3-a.csv\n",
    "df_path_a = pd.read_csv('../path/aggreagatedPath-plot-t3-a.csv', sep=',', encoding = 'utf-8')\n",
    "df_a = [dict(Task=df_path_a.action_name[0], Start=df_path_a.start_time[0], Finish=df_path_a.end_time[0], Resource=df_path_a.map_name[0])]\n",
    "i=1\n",
    "while i < len(df_path_a):\n",
    "    df_a.append( dict(Task=df_path_a.action_name[i], Start=df_path_a.start_time[i], Finish=df_path_a.end_time[i], Resource=df_path_a.map_name[i]) )\n",
    "    i+=1\n",
    "\n",
    "colors = dict(Conflict = 'rgb(220, 0, 0)',\n",
    "              Colon_cancer = 'rgb(0, 0, 220)',\n",
    "              Parkinson = 'rgb(0, 220, 0)') \n",
    "fig_a = ff.create_gantt(df_a, colors=colors, index_col='Resource', show_colorbar=True,  title='Path-Parkinson-Colon-Cancer-Scenario-A-with-blocking-colon')\n",
    "fig_a['layout'].update(autosize=False, width=1000, height=700, margin=dict(l=200))\n",
    "iplot(fig_a, show_link=False)"
   ]
  },
  {
   "cell_type": "code",
   "execution_count": 82,
   "metadata": {
    "colab": {},
    "colab_type": "code",
    "id": "5JISyE2K-p5B",
    "outputId": "8f0d7ea1-7008-4d03-fc00-b049c774a441"
   },
   "outputs": [
    {
     "name": "stderr",
     "output_type": "stream",
     "text": [
      "eye --nope ../path/aggreagatedPath-t3-b.n3 ../parkinson/gps-desc.n3 ../colon-cancer/gps-desc.n3 ../engine/path-processor-visual.n3 --query ../engine/path-processor-visual.csvq --strings\n",
      "EYE v20.0910.0008 josd\n",
      "SWI-Prolog version 8.0.3\n",
      "starting 0 [msec cputime] 79 [msec walltime]\n",
      "GET file:///d:/github/gps4icdemo/path/aggreagatedpath-t3-b.n3 SC=1\n",
      "GET file:///d:/github/gps4icdemo/parkinson/gps-desc.n3 SC=3\n",
      "GET file:///d:/github/gps4icdemo/colon-cancer/gps-desc.n3 SC=3\n",
      "GET file:///d:/github/gps4icdemo/engine/path-processor-visual.n3 SC=2\n",
      "GET file:///d:/github/gps4icdemo/engine/path-processor-visual.csvq SC=1\n",
      "networking 0 [msec cputime] 45 [msec walltime]\n",
      "reasoning 15 [msec cputime] 5 [msec walltime]\n",
      "2021-01-05T21:43:41.631Z in=10 out=12 ent=3 step=12 brake=2 inf=196551 sec=0.015 inf/sec=13103400\n",
      "\n"
     ]
    },
    {
     "data": {
      "application/vnd.plotly.v1+json": {
       "config": {
        "linkText": "Export to plot.ly",
        "plotlyServerURL": "https://plot.ly",
        "showLink": false
       },
       "data": [
        {
         "fill": "toself",
         "fillcolor": "rgb(0, 0, 220)",
         "hoverinfo": "name",
         "legendgroup": "rgb(0, 0, 220)",
         "mode": "none",
         "name": "Colon_cancer",
         "type": "scatter",
         "x": [
          "2018-04-12T14:50:33Z",
          "2018-06-01T14:50:33.0Z",
          "2018-06-01T14:50:33.0Z",
          "2018-04-12T14:50:33Z",
          "2018-04-12T14:50:33Z",
          "2018-06-01T14:50:33.0Z",
          "2018-06-06T14:50:33.0Z",
          "2018-06-06T14:50:33.0Z",
          "2018-06-01T14:50:33.0Z"
         ],
         "y": [
          0.8,
          0.8,
          1.2,
          1.2,
          null,
          1.8,
          1.8,
          2.2,
          2.2
         ]
        },
        {
         "fill": "toself",
         "fillcolor": "rgb(0, 220, 0)",
         "hoverinfo": "name",
         "legendgroup": "rgb(0, 220, 0)",
         "mode": "none",
         "name": "Parkinson",
         "type": "scatter",
         "x": [
          "2018-04-07T14:52:21.0Z",
          "2018-06-06T14:52:21.0Z",
          "2018-06-06T14:52:21.0Z",
          "2018-04-07T14:52:21.0Z"
         ],
         "y": [
          -0.2,
          -0.2,
          0.2,
          0.2
         ]
        },
        {
         "legendgroup": "rgb(0, 0, 220)",
         "marker": {
          "color": "rgb(0, 0, 220)",
          "opacity": 0,
          "size": 1
         },
         "mode": "markers",
         "name": "",
         "showlegend": false,
         "text": [
          null,
          null,
          null,
          null
         ],
         "type": "scatter",
         "x": [
          "2018-04-12T14:50:33Z",
          "2018-06-01T14:50:33.0Z",
          "2018-06-01T14:50:33.0Z",
          "2018-06-06T14:50:33.0Z"
         ],
         "y": [
          1,
          1,
          2,
          2
         ]
        },
        {
         "legendgroup": "rgb(0, 220, 0)",
         "marker": {
          "color": "rgb(0, 220, 0)",
          "opacity": 0,
          "size": 1
         },
         "mode": "markers",
         "name": "",
         "showlegend": false,
         "text": [
          null,
          null
         ],
         "type": "scatter",
         "x": [
          "2018-04-07T14:52:21.0Z",
          "2018-06-06T14:52:21.0Z"
         ],
         "y": [
          0,
          0
         ]
        }
       ],
       "layout": {
        "autosize": false,
        "height": 700,
        "hovermode": "closest",
        "margin": {
         "l": 200
        },
        "showlegend": true,
        "template": {
         "data": {
          "bar": [
           {
            "error_x": {
             "color": "#2a3f5f"
            },
            "error_y": {
             "color": "#2a3f5f"
            },
            "marker": {
             "line": {
              "color": "#E5ECF6",
              "width": 0.5
             }
            },
            "type": "bar"
           }
          ],
          "barpolar": [
           {
            "marker": {
             "line": {
              "color": "#E5ECF6",
              "width": 0.5
             }
            },
            "type": "barpolar"
           }
          ],
          "carpet": [
           {
            "aaxis": {
             "endlinecolor": "#2a3f5f",
             "gridcolor": "white",
             "linecolor": "white",
             "minorgridcolor": "white",
             "startlinecolor": "#2a3f5f"
            },
            "baxis": {
             "endlinecolor": "#2a3f5f",
             "gridcolor": "white",
             "linecolor": "white",
             "minorgridcolor": "white",
             "startlinecolor": "#2a3f5f"
            },
            "type": "carpet"
           }
          ],
          "choropleth": [
           {
            "colorbar": {
             "outlinewidth": 0,
             "ticks": ""
            },
            "type": "choropleth"
           }
          ],
          "contour": [
           {
            "colorbar": {
             "outlinewidth": 0,
             "ticks": ""
            },
            "colorscale": [
             [
              0,
              "#0d0887"
             ],
             [
              0.1111111111111111,
              "#46039f"
             ],
             [
              0.2222222222222222,
              "#7201a8"
             ],
             [
              0.3333333333333333,
              "#9c179e"
             ],
             [
              0.4444444444444444,
              "#bd3786"
             ],
             [
              0.5555555555555556,
              "#d8576b"
             ],
             [
              0.6666666666666666,
              "#ed7953"
             ],
             [
              0.7777777777777778,
              "#fb9f3a"
             ],
             [
              0.8888888888888888,
              "#fdca26"
             ],
             [
              1,
              "#f0f921"
             ]
            ],
            "type": "contour"
           }
          ],
          "contourcarpet": [
           {
            "colorbar": {
             "outlinewidth": 0,
             "ticks": ""
            },
            "type": "contourcarpet"
           }
          ],
          "heatmap": [
           {
            "colorbar": {
             "outlinewidth": 0,
             "ticks": ""
            },
            "colorscale": [
             [
              0,
              "#0d0887"
             ],
             [
              0.1111111111111111,
              "#46039f"
             ],
             [
              0.2222222222222222,
              "#7201a8"
             ],
             [
              0.3333333333333333,
              "#9c179e"
             ],
             [
              0.4444444444444444,
              "#bd3786"
             ],
             [
              0.5555555555555556,
              "#d8576b"
             ],
             [
              0.6666666666666666,
              "#ed7953"
             ],
             [
              0.7777777777777778,
              "#fb9f3a"
             ],
             [
              0.8888888888888888,
              "#fdca26"
             ],
             [
              1,
              "#f0f921"
             ]
            ],
            "type": "heatmap"
           }
          ],
          "heatmapgl": [
           {
            "colorbar": {
             "outlinewidth": 0,
             "ticks": ""
            },
            "colorscale": [
             [
              0,
              "#0d0887"
             ],
             [
              0.1111111111111111,
              "#46039f"
             ],
             [
              0.2222222222222222,
              "#7201a8"
             ],
             [
              0.3333333333333333,
              "#9c179e"
             ],
             [
              0.4444444444444444,
              "#bd3786"
             ],
             [
              0.5555555555555556,
              "#d8576b"
             ],
             [
              0.6666666666666666,
              "#ed7953"
             ],
             [
              0.7777777777777778,
              "#fb9f3a"
             ],
             [
              0.8888888888888888,
              "#fdca26"
             ],
             [
              1,
              "#f0f921"
             ]
            ],
            "type": "heatmapgl"
           }
          ],
          "histogram": [
           {
            "marker": {
             "colorbar": {
              "outlinewidth": 0,
              "ticks": ""
             }
            },
            "type": "histogram"
           }
          ],
          "histogram2d": [
           {
            "colorbar": {
             "outlinewidth": 0,
             "ticks": ""
            },
            "colorscale": [
             [
              0,
              "#0d0887"
             ],
             [
              0.1111111111111111,
              "#46039f"
             ],
             [
              0.2222222222222222,
              "#7201a8"
             ],
             [
              0.3333333333333333,
              "#9c179e"
             ],
             [
              0.4444444444444444,
              "#bd3786"
             ],
             [
              0.5555555555555556,
              "#d8576b"
             ],
             [
              0.6666666666666666,
              "#ed7953"
             ],
             [
              0.7777777777777778,
              "#fb9f3a"
             ],
             [
              0.8888888888888888,
              "#fdca26"
             ],
             [
              1,
              "#f0f921"
             ]
            ],
            "type": "histogram2d"
           }
          ],
          "histogram2dcontour": [
           {
            "colorbar": {
             "outlinewidth": 0,
             "ticks": ""
            },
            "colorscale": [
             [
              0,
              "#0d0887"
             ],
             [
              0.1111111111111111,
              "#46039f"
             ],
             [
              0.2222222222222222,
              "#7201a8"
             ],
             [
              0.3333333333333333,
              "#9c179e"
             ],
             [
              0.4444444444444444,
              "#bd3786"
             ],
             [
              0.5555555555555556,
              "#d8576b"
             ],
             [
              0.6666666666666666,
              "#ed7953"
             ],
             [
              0.7777777777777778,
              "#fb9f3a"
             ],
             [
              0.8888888888888888,
              "#fdca26"
             ],
             [
              1,
              "#f0f921"
             ]
            ],
            "type": "histogram2dcontour"
           }
          ],
          "mesh3d": [
           {
            "colorbar": {
             "outlinewidth": 0,
             "ticks": ""
            },
            "type": "mesh3d"
           }
          ],
          "parcoords": [
           {
            "line": {
             "colorbar": {
              "outlinewidth": 0,
              "ticks": ""
             }
            },
            "type": "parcoords"
           }
          ],
          "pie": [
           {
            "automargin": true,
            "type": "pie"
           }
          ],
          "scatter": [
           {
            "marker": {
             "colorbar": {
              "outlinewidth": 0,
              "ticks": ""
             }
            },
            "type": "scatter"
           }
          ],
          "scatter3d": [
           {
            "line": {
             "colorbar": {
              "outlinewidth": 0,
              "ticks": ""
             }
            },
            "marker": {
             "colorbar": {
              "outlinewidth": 0,
              "ticks": ""
             }
            },
            "type": "scatter3d"
           }
          ],
          "scattercarpet": [
           {
            "marker": {
             "colorbar": {
              "outlinewidth": 0,
              "ticks": ""
             }
            },
            "type": "scattercarpet"
           }
          ],
          "scattergeo": [
           {
            "marker": {
             "colorbar": {
              "outlinewidth": 0,
              "ticks": ""
             }
            },
            "type": "scattergeo"
           }
          ],
          "scattergl": [
           {
            "marker": {
             "colorbar": {
              "outlinewidth": 0,
              "ticks": ""
             }
            },
            "type": "scattergl"
           }
          ],
          "scattermapbox": [
           {
            "marker": {
             "colorbar": {
              "outlinewidth": 0,
              "ticks": ""
             }
            },
            "type": "scattermapbox"
           }
          ],
          "scatterpolar": [
           {
            "marker": {
             "colorbar": {
              "outlinewidth": 0,
              "ticks": ""
             }
            },
            "type": "scatterpolar"
           }
          ],
          "scatterpolargl": [
           {
            "marker": {
             "colorbar": {
              "outlinewidth": 0,
              "ticks": ""
             }
            },
            "type": "scatterpolargl"
           }
          ],
          "scatterternary": [
           {
            "marker": {
             "colorbar": {
              "outlinewidth": 0,
              "ticks": ""
             }
            },
            "type": "scatterternary"
           }
          ],
          "surface": [
           {
            "colorbar": {
             "outlinewidth": 0,
             "ticks": ""
            },
            "colorscale": [
             [
              0,
              "#0d0887"
             ],
             [
              0.1111111111111111,
              "#46039f"
             ],
             [
              0.2222222222222222,
              "#7201a8"
             ],
             [
              0.3333333333333333,
              "#9c179e"
             ],
             [
              0.4444444444444444,
              "#bd3786"
             ],
             [
              0.5555555555555556,
              "#d8576b"
             ],
             [
              0.6666666666666666,
              "#ed7953"
             ],
             [
              0.7777777777777778,
              "#fb9f3a"
             ],
             [
              0.8888888888888888,
              "#fdca26"
             ],
             [
              1,
              "#f0f921"
             ]
            ],
            "type": "surface"
           }
          ],
          "table": [
           {
            "cells": {
             "fill": {
              "color": "#EBF0F8"
             },
             "line": {
              "color": "white"
             }
            },
            "header": {
             "fill": {
              "color": "#C8D4E3"
             },
             "line": {
              "color": "white"
             }
            },
            "type": "table"
           }
          ]
         },
         "layout": {
          "annotationdefaults": {
           "arrowcolor": "#2a3f5f",
           "arrowhead": 0,
           "arrowwidth": 1
          },
          "coloraxis": {
           "colorbar": {
            "outlinewidth": 0,
            "ticks": ""
           }
          },
          "colorscale": {
           "diverging": [
            [
             0,
             "#8e0152"
            ],
            [
             0.1,
             "#c51b7d"
            ],
            [
             0.2,
             "#de77ae"
            ],
            [
             0.3,
             "#f1b6da"
            ],
            [
             0.4,
             "#fde0ef"
            ],
            [
             0.5,
             "#f7f7f7"
            ],
            [
             0.6,
             "#e6f5d0"
            ],
            [
             0.7,
             "#b8e186"
            ],
            [
             0.8,
             "#7fbc41"
            ],
            [
             0.9,
             "#4d9221"
            ],
            [
             1,
             "#276419"
            ]
           ],
           "sequential": [
            [
             0,
             "#0d0887"
            ],
            [
             0.1111111111111111,
             "#46039f"
            ],
            [
             0.2222222222222222,
             "#7201a8"
            ],
            [
             0.3333333333333333,
             "#9c179e"
            ],
            [
             0.4444444444444444,
             "#bd3786"
            ],
            [
             0.5555555555555556,
             "#d8576b"
            ],
            [
             0.6666666666666666,
             "#ed7953"
            ],
            [
             0.7777777777777778,
             "#fb9f3a"
            ],
            [
             0.8888888888888888,
             "#fdca26"
            ],
            [
             1,
             "#f0f921"
            ]
           ],
           "sequentialminus": [
            [
             0,
             "#0d0887"
            ],
            [
             0.1111111111111111,
             "#46039f"
            ],
            [
             0.2222222222222222,
             "#7201a8"
            ],
            [
             0.3333333333333333,
             "#9c179e"
            ],
            [
             0.4444444444444444,
             "#bd3786"
            ],
            [
             0.5555555555555556,
             "#d8576b"
            ],
            [
             0.6666666666666666,
             "#ed7953"
            ],
            [
             0.7777777777777778,
             "#fb9f3a"
            ],
            [
             0.8888888888888888,
             "#fdca26"
            ],
            [
             1,
             "#f0f921"
            ]
           ]
          },
          "colorway": [
           "#636efa",
           "#EF553B",
           "#00cc96",
           "#ab63fa",
           "#FFA15A",
           "#19d3f3",
           "#FF6692",
           "#B6E880",
           "#FF97FF",
           "#FECB52"
          ],
          "font": {
           "color": "#2a3f5f"
          },
          "geo": {
           "bgcolor": "white",
           "lakecolor": "white",
           "landcolor": "#E5ECF6",
           "showlakes": true,
           "showland": true,
           "subunitcolor": "white"
          },
          "hoverlabel": {
           "align": "left"
          },
          "hovermode": "closest",
          "mapbox": {
           "style": "light"
          },
          "paper_bgcolor": "white",
          "plot_bgcolor": "#E5ECF6",
          "polar": {
           "angularaxis": {
            "gridcolor": "white",
            "linecolor": "white",
            "ticks": ""
           },
           "bgcolor": "#E5ECF6",
           "radialaxis": {
            "gridcolor": "white",
            "linecolor": "white",
            "ticks": ""
           }
          },
          "scene": {
           "xaxis": {
            "backgroundcolor": "#E5ECF6",
            "gridcolor": "white",
            "gridwidth": 2,
            "linecolor": "white",
            "showbackground": true,
            "ticks": "",
            "zerolinecolor": "white"
           },
           "yaxis": {
            "backgroundcolor": "#E5ECF6",
            "gridcolor": "white",
            "gridwidth": 2,
            "linecolor": "white",
            "showbackground": true,
            "ticks": "",
            "zerolinecolor": "white"
           },
           "zaxis": {
            "backgroundcolor": "#E5ECF6",
            "gridcolor": "white",
            "gridwidth": 2,
            "linecolor": "white",
            "showbackground": true,
            "ticks": "",
            "zerolinecolor": "white"
           }
          },
          "shapedefaults": {
           "line": {
            "color": "#2a3f5f"
           }
          },
          "ternary": {
           "aaxis": {
            "gridcolor": "white",
            "linecolor": "white",
            "ticks": ""
           },
           "baxis": {
            "gridcolor": "white",
            "linecolor": "white",
            "ticks": ""
           },
           "bgcolor": "#E5ECF6",
           "caxis": {
            "gridcolor": "white",
            "linecolor": "white",
            "ticks": ""
           }
          },
          "title": {
           "x": 0.05
          },
          "xaxis": {
           "automargin": true,
           "gridcolor": "white",
           "linecolor": "white",
           "ticks": "",
           "title": {
            "standoff": 15
           },
           "zerolinecolor": "white",
           "zerolinewidth": 2
          },
          "yaxis": {
           "automargin": true,
           "gridcolor": "white",
           "linecolor": "white",
           "ticks": "",
           "title": {
            "standoff": 15
           },
           "zerolinecolor": "white",
           "zerolinewidth": 2
          }
         }
        },
        "title": {
         "text": "Path-Parkinson-Colon-Cancer-Scenario-B-without-blocking-colon"
        },
        "width": 1000,
        "xaxis": {
         "rangeselector": {
          "buttons": [
           {
            "count": 7,
            "label": "1w",
            "step": "day",
            "stepmode": "backward"
           },
           {
            "count": 1,
            "label": "1m",
            "step": "month",
            "stepmode": "backward"
           },
           {
            "count": 6,
            "label": "6m",
            "step": "month",
            "stepmode": "backward"
           },
           {
            "count": 1,
            "label": "YTD",
            "step": "year",
            "stepmode": "todate"
           },
           {
            "count": 1,
            "label": "1y",
            "step": "year",
            "stepmode": "backward"
           },
           {
            "step": "all"
           }
          ]
         },
         "showgrid": false,
         "type": "date",
         "zeroline": false
        },
        "yaxis": {
         "autorange": false,
         "range": [
          -1,
          4
         ],
         "showgrid": false,
         "ticktext": [
          "take_pill_Pramipexol",
          "Neoadjuvant_chemoradiotherapy",
          "surgery_colon_cancer"
         ],
         "tickvals": [
          0,
          1,
          2
         ],
         "zeroline": false
        }
       }
      },
      "text/html": [
       "<div>\n",
       "        \n",
       "        \n",
       "            <div id=\"33bc575e-2c36-402b-bdba-1725e35a386b\" class=\"plotly-graph-div\" style=\"height:700px; width:1000px;\"></div>\n",
       "            <script type=\"text/javascript\">\n",
       "                require([\"plotly\"], function(Plotly) {\n",
       "                    window.PLOTLYENV=window.PLOTLYENV || {};\n",
       "                    \n",
       "                if (document.getElementById(\"33bc575e-2c36-402b-bdba-1725e35a386b\")) {\n",
       "                    Plotly.newPlot(\n",
       "                        '33bc575e-2c36-402b-bdba-1725e35a386b',\n",
       "                        [{\"fill\": \"toself\", \"fillcolor\": \"rgb(0, 0, 220)\", \"hoverinfo\": \"name\", \"legendgroup\": \"rgb(0, 0, 220)\", \"mode\": \"none\", \"name\": \"Colon_cancer\", \"type\": \"scatter\", \"x\": [\"2018-04-12T14:50:33Z\", \"2018-06-01T14:50:33.0Z\", \"2018-06-01T14:50:33.0Z\", \"2018-04-12T14:50:33Z\", \"2018-04-12T14:50:33Z\", \"2018-06-01T14:50:33.0Z\", \"2018-06-06T14:50:33.0Z\", \"2018-06-06T14:50:33.0Z\", \"2018-06-01T14:50:33.0Z\"], \"y\": [0.8, 0.8, 1.2, 1.2, null, 1.8, 1.8, 2.2, 2.2]}, {\"fill\": \"toself\", \"fillcolor\": \"rgb(0, 220, 0)\", \"hoverinfo\": \"name\", \"legendgroup\": \"rgb(0, 220, 0)\", \"mode\": \"none\", \"name\": \"Parkinson\", \"type\": \"scatter\", \"x\": [\"2018-04-07T14:52:21.0Z\", \"2018-06-06T14:52:21.0Z\", \"2018-06-06T14:52:21.0Z\", \"2018-04-07T14:52:21.0Z\"], \"y\": [-0.2, -0.2, 0.2, 0.2]}, {\"legendgroup\": \"rgb(0, 0, 220)\", \"marker\": {\"color\": \"rgb(0, 0, 220)\", \"opacity\": 0, \"size\": 1}, \"mode\": \"markers\", \"name\": \"\", \"showlegend\": false, \"text\": [null, null, null, null], \"type\": \"scatter\", \"x\": [\"2018-04-12T14:50:33Z\", \"2018-06-01T14:50:33.0Z\", \"2018-06-01T14:50:33.0Z\", \"2018-06-06T14:50:33.0Z\"], \"y\": [1, 1, 2, 2]}, {\"legendgroup\": \"rgb(0, 220, 0)\", \"marker\": {\"color\": \"rgb(0, 220, 0)\", \"opacity\": 0, \"size\": 1}, \"mode\": \"markers\", \"name\": \"\", \"showlegend\": false, \"text\": [null, null], \"type\": \"scatter\", \"x\": [\"2018-04-07T14:52:21.0Z\", \"2018-06-06T14:52:21.0Z\"], \"y\": [0, 0]}],\n",
       "                        {\"autosize\": false, \"height\": 700, \"hovermode\": \"closest\", \"margin\": {\"l\": 200}, \"showlegend\": true, \"template\": {\"data\": {\"bar\": [{\"error_x\": {\"color\": \"#2a3f5f\"}, \"error_y\": {\"color\": \"#2a3f5f\"}, \"marker\": {\"line\": {\"color\": \"#E5ECF6\", \"width\": 0.5}}, \"type\": \"bar\"}], \"barpolar\": [{\"marker\": {\"line\": {\"color\": \"#E5ECF6\", \"width\": 0.5}}, \"type\": \"barpolar\"}], \"carpet\": [{\"aaxis\": {\"endlinecolor\": \"#2a3f5f\", \"gridcolor\": \"white\", \"linecolor\": \"white\", \"minorgridcolor\": \"white\", \"startlinecolor\": \"#2a3f5f\"}, \"baxis\": {\"endlinecolor\": \"#2a3f5f\", \"gridcolor\": \"white\", \"linecolor\": \"white\", \"minorgridcolor\": \"white\", \"startlinecolor\": \"#2a3f5f\"}, \"type\": \"carpet\"}], \"choropleth\": [{\"colorbar\": {\"outlinewidth\": 0, \"ticks\": \"\"}, \"type\": \"choropleth\"}], \"contour\": [{\"colorbar\": {\"outlinewidth\": 0, \"ticks\": \"\"}, \"colorscale\": [[0.0, \"#0d0887\"], [0.1111111111111111, \"#46039f\"], [0.2222222222222222, \"#7201a8\"], [0.3333333333333333, \"#9c179e\"], [0.4444444444444444, \"#bd3786\"], [0.5555555555555556, \"#d8576b\"], [0.6666666666666666, \"#ed7953\"], [0.7777777777777778, \"#fb9f3a\"], [0.8888888888888888, \"#fdca26\"], [1.0, \"#f0f921\"]], \"type\": \"contour\"}], \"contourcarpet\": [{\"colorbar\": {\"outlinewidth\": 0, \"ticks\": \"\"}, \"type\": \"contourcarpet\"}], \"heatmap\": [{\"colorbar\": {\"outlinewidth\": 0, \"ticks\": \"\"}, \"colorscale\": [[0.0, \"#0d0887\"], [0.1111111111111111, \"#46039f\"], [0.2222222222222222, \"#7201a8\"], [0.3333333333333333, \"#9c179e\"], [0.4444444444444444, \"#bd3786\"], [0.5555555555555556, \"#d8576b\"], [0.6666666666666666, \"#ed7953\"], [0.7777777777777778, \"#fb9f3a\"], [0.8888888888888888, \"#fdca26\"], [1.0, \"#f0f921\"]], \"type\": \"heatmap\"}], \"heatmapgl\": [{\"colorbar\": {\"outlinewidth\": 0, \"ticks\": \"\"}, \"colorscale\": [[0.0, \"#0d0887\"], [0.1111111111111111, \"#46039f\"], [0.2222222222222222, \"#7201a8\"], [0.3333333333333333, \"#9c179e\"], [0.4444444444444444, \"#bd3786\"], [0.5555555555555556, \"#d8576b\"], [0.6666666666666666, \"#ed7953\"], [0.7777777777777778, \"#fb9f3a\"], [0.8888888888888888, \"#fdca26\"], [1.0, \"#f0f921\"]], \"type\": \"heatmapgl\"}], \"histogram\": [{\"marker\": {\"colorbar\": {\"outlinewidth\": 0, \"ticks\": \"\"}}, \"type\": \"histogram\"}], \"histogram2d\": [{\"colorbar\": {\"outlinewidth\": 0, \"ticks\": \"\"}, \"colorscale\": [[0.0, \"#0d0887\"], [0.1111111111111111, \"#46039f\"], [0.2222222222222222, \"#7201a8\"], [0.3333333333333333, \"#9c179e\"], [0.4444444444444444, \"#bd3786\"], [0.5555555555555556, \"#d8576b\"], [0.6666666666666666, \"#ed7953\"], [0.7777777777777778, \"#fb9f3a\"], [0.8888888888888888, \"#fdca26\"], [1.0, \"#f0f921\"]], \"type\": \"histogram2d\"}], \"histogram2dcontour\": [{\"colorbar\": {\"outlinewidth\": 0, \"ticks\": \"\"}, \"colorscale\": [[0.0, \"#0d0887\"], [0.1111111111111111, \"#46039f\"], [0.2222222222222222, \"#7201a8\"], [0.3333333333333333, \"#9c179e\"], [0.4444444444444444, \"#bd3786\"], [0.5555555555555556, \"#d8576b\"], [0.6666666666666666, \"#ed7953\"], [0.7777777777777778, \"#fb9f3a\"], [0.8888888888888888, \"#fdca26\"], [1.0, \"#f0f921\"]], \"type\": \"histogram2dcontour\"}], \"mesh3d\": [{\"colorbar\": {\"outlinewidth\": 0, \"ticks\": \"\"}, \"type\": \"mesh3d\"}], \"parcoords\": [{\"line\": {\"colorbar\": {\"outlinewidth\": 0, \"ticks\": \"\"}}, \"type\": \"parcoords\"}], \"pie\": [{\"automargin\": true, \"type\": \"pie\"}], \"scatter\": [{\"marker\": {\"colorbar\": {\"outlinewidth\": 0, \"ticks\": \"\"}}, \"type\": \"scatter\"}], \"scatter3d\": [{\"line\": {\"colorbar\": {\"outlinewidth\": 0, \"ticks\": \"\"}}, \"marker\": {\"colorbar\": {\"outlinewidth\": 0, \"ticks\": \"\"}}, \"type\": \"scatter3d\"}], \"scattercarpet\": [{\"marker\": {\"colorbar\": {\"outlinewidth\": 0, \"ticks\": \"\"}}, \"type\": \"scattercarpet\"}], \"scattergeo\": [{\"marker\": {\"colorbar\": {\"outlinewidth\": 0, \"ticks\": \"\"}}, \"type\": \"scattergeo\"}], \"scattergl\": [{\"marker\": {\"colorbar\": {\"outlinewidth\": 0, \"ticks\": \"\"}}, \"type\": \"scattergl\"}], \"scattermapbox\": [{\"marker\": {\"colorbar\": {\"outlinewidth\": 0, \"ticks\": \"\"}}, \"type\": \"scattermapbox\"}], \"scatterpolar\": [{\"marker\": {\"colorbar\": {\"outlinewidth\": 0, \"ticks\": \"\"}}, \"type\": \"scatterpolar\"}], \"scatterpolargl\": [{\"marker\": {\"colorbar\": {\"outlinewidth\": 0, \"ticks\": \"\"}}, \"type\": \"scatterpolargl\"}], \"scatterternary\": [{\"marker\": {\"colorbar\": {\"outlinewidth\": 0, \"ticks\": \"\"}}, \"type\": \"scatterternary\"}], \"surface\": [{\"colorbar\": {\"outlinewidth\": 0, \"ticks\": \"\"}, \"colorscale\": [[0.0, \"#0d0887\"], [0.1111111111111111, \"#46039f\"], [0.2222222222222222, \"#7201a8\"], [0.3333333333333333, \"#9c179e\"], [0.4444444444444444, \"#bd3786\"], [0.5555555555555556, \"#d8576b\"], [0.6666666666666666, \"#ed7953\"], [0.7777777777777778, \"#fb9f3a\"], [0.8888888888888888, \"#fdca26\"], [1.0, \"#f0f921\"]], \"type\": \"surface\"}], \"table\": [{\"cells\": {\"fill\": {\"color\": \"#EBF0F8\"}, \"line\": {\"color\": \"white\"}}, \"header\": {\"fill\": {\"color\": \"#C8D4E3\"}, \"line\": {\"color\": \"white\"}}, \"type\": \"table\"}]}, \"layout\": {\"annotationdefaults\": {\"arrowcolor\": \"#2a3f5f\", \"arrowhead\": 0, \"arrowwidth\": 1}, \"coloraxis\": {\"colorbar\": {\"outlinewidth\": 0, \"ticks\": \"\"}}, \"colorscale\": {\"diverging\": [[0, \"#8e0152\"], [0.1, \"#c51b7d\"], [0.2, \"#de77ae\"], [0.3, \"#f1b6da\"], [0.4, \"#fde0ef\"], [0.5, \"#f7f7f7\"], [0.6, \"#e6f5d0\"], [0.7, \"#b8e186\"], [0.8, \"#7fbc41\"], [0.9, \"#4d9221\"], [1, \"#276419\"]], \"sequential\": [[0.0, \"#0d0887\"], [0.1111111111111111, \"#46039f\"], [0.2222222222222222, \"#7201a8\"], [0.3333333333333333, \"#9c179e\"], [0.4444444444444444, \"#bd3786\"], [0.5555555555555556, \"#d8576b\"], [0.6666666666666666, \"#ed7953\"], [0.7777777777777778, \"#fb9f3a\"], [0.8888888888888888, \"#fdca26\"], [1.0, \"#f0f921\"]], \"sequentialminus\": [[0.0, \"#0d0887\"], [0.1111111111111111, \"#46039f\"], [0.2222222222222222, \"#7201a8\"], [0.3333333333333333, \"#9c179e\"], [0.4444444444444444, \"#bd3786\"], [0.5555555555555556, \"#d8576b\"], [0.6666666666666666, \"#ed7953\"], [0.7777777777777778, \"#fb9f3a\"], [0.8888888888888888, \"#fdca26\"], [1.0, \"#f0f921\"]]}, \"colorway\": [\"#636efa\", \"#EF553B\", \"#00cc96\", \"#ab63fa\", \"#FFA15A\", \"#19d3f3\", \"#FF6692\", \"#B6E880\", \"#FF97FF\", \"#FECB52\"], \"font\": {\"color\": \"#2a3f5f\"}, \"geo\": {\"bgcolor\": \"white\", \"lakecolor\": \"white\", \"landcolor\": \"#E5ECF6\", \"showlakes\": true, \"showland\": true, \"subunitcolor\": \"white\"}, \"hoverlabel\": {\"align\": \"left\"}, \"hovermode\": \"closest\", \"mapbox\": {\"style\": \"light\"}, \"paper_bgcolor\": \"white\", \"plot_bgcolor\": \"#E5ECF6\", \"polar\": {\"angularaxis\": {\"gridcolor\": \"white\", \"linecolor\": \"white\", \"ticks\": \"\"}, \"bgcolor\": \"#E5ECF6\", \"radialaxis\": {\"gridcolor\": \"white\", \"linecolor\": \"white\", \"ticks\": \"\"}}, \"scene\": {\"xaxis\": {\"backgroundcolor\": \"#E5ECF6\", \"gridcolor\": \"white\", \"gridwidth\": 2, \"linecolor\": \"white\", \"showbackground\": true, \"ticks\": \"\", \"zerolinecolor\": \"white\"}, \"yaxis\": {\"backgroundcolor\": \"#E5ECF6\", \"gridcolor\": \"white\", \"gridwidth\": 2, \"linecolor\": \"white\", \"showbackground\": true, \"ticks\": \"\", \"zerolinecolor\": \"white\"}, \"zaxis\": {\"backgroundcolor\": \"#E5ECF6\", \"gridcolor\": \"white\", \"gridwidth\": 2, \"linecolor\": \"white\", \"showbackground\": true, \"ticks\": \"\", \"zerolinecolor\": \"white\"}}, \"shapedefaults\": {\"line\": {\"color\": \"#2a3f5f\"}}, \"ternary\": {\"aaxis\": {\"gridcolor\": \"white\", \"linecolor\": \"white\", \"ticks\": \"\"}, \"baxis\": {\"gridcolor\": \"white\", \"linecolor\": \"white\", \"ticks\": \"\"}, \"bgcolor\": \"#E5ECF6\", \"caxis\": {\"gridcolor\": \"white\", \"linecolor\": \"white\", \"ticks\": \"\"}}, \"title\": {\"x\": 0.05}, \"xaxis\": {\"automargin\": true, \"gridcolor\": \"white\", \"linecolor\": \"white\", \"ticks\": \"\", \"title\": {\"standoff\": 15}, \"zerolinecolor\": \"white\", \"zerolinewidth\": 2}, \"yaxis\": {\"automargin\": true, \"gridcolor\": \"white\", \"linecolor\": \"white\", \"ticks\": \"\", \"title\": {\"standoff\": 15}, \"zerolinecolor\": \"white\", \"zerolinewidth\": 2}}}, \"title\": {\"text\": \"Path-Parkinson-Colon-Cancer-Scenario-B-without-blocking-colon\"}, \"width\": 1000, \"xaxis\": {\"rangeselector\": {\"buttons\": [{\"count\": 7, \"label\": \"1w\", \"step\": \"day\", \"stepmode\": \"backward\"}, {\"count\": 1, \"label\": \"1m\", \"step\": \"month\", \"stepmode\": \"backward\"}, {\"count\": 6, \"label\": \"6m\", \"step\": \"month\", \"stepmode\": \"backward\"}, {\"count\": 1, \"label\": \"YTD\", \"step\": \"year\", \"stepmode\": \"todate\"}, {\"count\": 1, \"label\": \"1y\", \"step\": \"year\", \"stepmode\": \"backward\"}, {\"step\": \"all\"}]}, \"showgrid\": false, \"type\": \"date\", \"zeroline\": false}, \"yaxis\": {\"autorange\": false, \"range\": [-1, 4], \"showgrid\": false, \"ticktext\": [\"take_pill_Pramipexol\", \"Neoadjuvant_chemoradiotherapy\", \"surgery_colon_cancer\"], \"tickvals\": [0, 1, 2], \"zeroline\": false}},\n",
       "                        {\"responsive\": true}\n",
       "                    ).then(function(){\n",
       "                            \n",
       "var gd = document.getElementById('33bc575e-2c36-402b-bdba-1725e35a386b');\n",
       "var x = new MutationObserver(function (mutations, observer) {{\n",
       "        var display = window.getComputedStyle(gd).display;\n",
       "        if (!display || display === 'none') {{\n",
       "            console.log([gd, 'removed!']);\n",
       "            Plotly.purge(gd);\n",
       "            observer.disconnect();\n",
       "        }}\n",
       "}});\n",
       "\n",
       "// Listen for the removal of the full notebook cells\n",
       "var notebookContainer = gd.closest('#notebook-container');\n",
       "if (notebookContainer) {{\n",
       "    x.observe(notebookContainer, {childList: true});\n",
       "}}\n",
       "\n",
       "// Listen for the clearing of the current output cell\n",
       "var outputEl = gd.closest('.output');\n",
       "if (outputEl) {{\n",
       "    x.observe(outputEl, {childList: true});\n",
       "}}\n",
       "\n",
       "                        })\n",
       "                };\n",
       "                });\n",
       "            </script>\n",
       "        </div>"
      ]
     },
     "metadata": {},
     "output_type": "display_data"
    }
   ],
   "source": [
    "!eye --nope ../path/aggreagatedPath-t3-b.n3  ../parkinson/gps-desc.n3  ../colon-cancer/gps-desc.n3 ../engine/path-processor-visual.n3 --query ../engine/path-processor-visual.csvq --strings >../path/aggreagatedPath-plot-t3-b.csv\n",
    "df_path_b = pd.read_csv('../path/aggreagatedPath-plot-t3-b.csv', sep=',', encoding = 'utf-8')\n",
    "df_b = [dict(Task=df_path_b.action_name[0], Start=df_path_b.start_time[0], Finish=df_path_b.end_time[0], Resource=df_path_b.map_name[0])]\n",
    "i=1\n",
    "while i < len(df_path_b):\n",
    "    df_b.append( dict(Task=df_path_b.action_name[i], Start=df_path_b.start_time[i], Finish=df_path_b.end_time[i], Resource=df_path_b.map_name[i]) )\n",
    "    i+=1\n",
    "\n",
    "colors = dict(Conflict = 'rgb(220, 0, 0)',\n",
    "              Colon_cancer = 'rgb(0, 0, 220)',\n",
    "              Parkinson = 'rgb(0, 220, 0)')\n",
    "fig_b = ff.create_gantt(df_b, colors=colors, index_col='Resource', show_colorbar=True,  title='Path-Parkinson-Colon-Cancer-Scenario-B-without-blocking-colon')\n",
    "fig_b['layout'].update(autosize=False, width=1000, height=700, margin=dict(l=200))\n",
    "iplot(fig_b, show_link=False)"
   ]
  },
  {
   "cell_type": "markdown",
   "metadata": {
    "colab_type": "text",
    "id": "Nqd58KGh-p5K"
   },
   "source": [
    "### alert detection"
   ]
  },
  {
   "cell_type": "code",
   "execution_count": 83,
   "metadata": {
    "colab": {},
    "colab_type": "code",
    "id": "1liQoPFW-p5K",
    "outputId": "87592a8e-3833-46a2-f99d-4f20885de05e"
   },
   "outputs": [
    {
     "name": "stderr",
     "output_type": "stream",
     "text": [
      "eye --nope ../data/data-colon-cancer-t3-a.ttl ../data/t3.ttl ../parkinson/gps-desc.n3 ../parkinson/score-calculation.n3 ../colon-cancer/gps-desc.n3 ../colon-cancer/gps-knowledge.n3 ../path/aggreagatedPath-t3-a.n3 ../knowledge/knowledge.n3 ../engine/gps-plugin-validation.n3 --query ../engine/gps-alert-detection.csvq --strings\n",
      "EYE v20.0910.0008 josd\n",
      "SWI-Prolog version 8.0.3\n",
      "starting 15 [msec cputime] 87 [msec walltime]\n",
      "GET file:///d:/github/gps4icdemo/data/data-colon-cancer-t3-a.ttl SC=25\n",
      "GET file:///d:/github/gps4icdemo/data/t3.ttl SC=1\n",
      "GET file:///d:/github/gps4icdemo/parkinson/gps-desc.n3 SC=3\n",
      "GET file:///d:/github/gps4icdemo/parkinson/score-calculation.n3 SC=1\n",
      "GET file:///d:/github/gps4icdemo/colon-cancer/gps-desc.n3 SC=3\n",
      "GET file:///d:/github/gps4icdemo/colon-cancer/gps-knowledge.n3 SC=11\n",
      "GET file:///d:/github/gps4icdemo/path/aggreagatedpath-t3-a.n3 SC=1\n",
      "GET file:///d:/github/gps4icdemo/knowledge/knowledge.n3 SC=1\n",
      "GET file:///d:/github/gps4icdemo/engine/gps-plugin-validation.n3 SC=11\n",
      "GET file:///d:/github/gps4icdemo/engine/gps-alert-detection.csvq SC=1\n",
      "networking 47 [msec cputime] 102 [msec walltime]\n",
      "reasoning 0 [msec cputime] 3 [msec walltime]\n",
      "2021-01-05T21:43:42.042Z in=58 out=8 ent=1 step=2 brake=4 inf=317768 sec=0.062 inf/sec=5125290\n",
      "\n"
     ]
    },
    {
     "data": {
      "application/vnd.plotly.v1+json": {
       "config": {
        "linkText": "Export to plot.ly",
        "plotlyServerURL": "https://plot.ly",
        "showLink": false
       },
       "data": [
        {
         "fill": "toself",
         "fillcolor": "rgb(0, 0, 220)",
         "hoverinfo": "name",
         "legendgroup": "rgb(0, 0, 220)",
         "mode": "none",
         "name": "Colon_cancer",
         "type": "scatter",
         "x": [
          "2018-04-12T14:50:33Z",
          "2018-04-17T14:50:33.0Z",
          "2018-04-17T14:50:33.0Z",
          "2018-04-12T14:50:33Z",
          "2018-04-12T14:50:33Z",
          "2018-04-17T14:50:33.0Z",
          "2018-07-06T14:50:33.0Z",
          "2018-07-06T14:50:33.0Z",
          "2018-04-17T14:50:33.0Z"
         ],
         "y": [
          0.8,
          0.8,
          1.2,
          1.2,
          null,
          1.8,
          1.8,
          2.2,
          2.2
         ]
        },
        {
         "fill": "toself",
         "fillcolor": "rgb(0, 220, 0)",
         "hoverinfo": "name",
         "legendgroup": "rgb(0, 220, 0)",
         "mode": "none",
         "name": "Parkinson",
         "type": "scatter",
         "x": [
          "2018-04-07T14:52:21.0Z",
          "2018-06-06T14:52:21.0Z",
          "2018-06-06T14:52:21.0Z",
          "2018-04-07T14:52:21.0Z"
         ],
         "y": [
          -0.2,
          -0.2,
          0.2,
          0.2
         ]
        },
        {
         "fill": "toself",
         "fillcolor": "rgb(220, 0, 0)",
         "hoverinfo": "name",
         "legendgroup": "rgb(220, 0, 0)",
         "mode": "none",
         "name": "Conflict",
         "type": "scatter",
         "x": [
          "2018-04-12T14:50:33Z",
          "2018-04-17T14:50:33.0Z",
          "2018-04-17T14:50:33.0Z",
          "2018-04-12T14:50:33Z"
         ],
         "y": [
          2.8,
          2.8,
          3.2,
          3.2
         ]
        },
        {
         "legendgroup": "rgb(0, 0, 220)",
         "marker": {
          "color": "rgb(0, 0, 220)",
          "opacity": 0,
          "size": 1
         },
         "mode": "markers",
         "name": "",
         "showlegend": false,
         "text": [
          null,
          null,
          null,
          null
         ],
         "type": "scatter",
         "x": [
          "2018-04-12T14:50:33Z",
          "2018-04-17T14:50:33.0Z",
          "2018-04-17T14:50:33.0Z",
          "2018-07-06T14:50:33.0Z"
         ],
         "y": [
          1,
          1,
          2,
          2
         ]
        },
        {
         "legendgroup": "rgb(0, 220, 0)",
         "marker": {
          "color": "rgb(0, 220, 0)",
          "opacity": 0,
          "size": 1
         },
         "mode": "markers",
         "name": "",
         "showlegend": false,
         "text": [
          null,
          null
         ],
         "type": "scatter",
         "x": [
          "2018-04-07T14:52:21.0Z",
          "2018-06-06T14:52:21.0Z"
         ],
         "y": [
          0,
          0
         ]
        },
        {
         "legendgroup": "rgb(220, 0, 0)",
         "marker": {
          "color": "rgb(220, 0, 0)",
          "opacity": 0,
          "size": 1
         },
         "mode": "markers",
         "name": "",
         "showlegend": false,
         "text": [
          null,
          null
         ],
         "type": "scatter",
         "x": [
          "2018-04-12T14:50:33Z",
          "2018-04-17T14:50:33.0Z"
         ],
         "y": [
          3,
          3
         ]
        }
       ],
       "layout": {
        "autosize": false,
        "height": 600,
        "hovermode": "closest",
        "margin": {
         "l": 200
        },
        "showlegend": true,
        "template": {
         "data": {
          "bar": [
           {
            "error_x": {
             "color": "#2a3f5f"
            },
            "error_y": {
             "color": "#2a3f5f"
            },
            "marker": {
             "line": {
              "color": "#E5ECF6",
              "width": 0.5
             }
            },
            "type": "bar"
           }
          ],
          "barpolar": [
           {
            "marker": {
             "line": {
              "color": "#E5ECF6",
              "width": 0.5
             }
            },
            "type": "barpolar"
           }
          ],
          "carpet": [
           {
            "aaxis": {
             "endlinecolor": "#2a3f5f",
             "gridcolor": "white",
             "linecolor": "white",
             "minorgridcolor": "white",
             "startlinecolor": "#2a3f5f"
            },
            "baxis": {
             "endlinecolor": "#2a3f5f",
             "gridcolor": "white",
             "linecolor": "white",
             "minorgridcolor": "white",
             "startlinecolor": "#2a3f5f"
            },
            "type": "carpet"
           }
          ],
          "choropleth": [
           {
            "colorbar": {
             "outlinewidth": 0,
             "ticks": ""
            },
            "type": "choropleth"
           }
          ],
          "contour": [
           {
            "colorbar": {
             "outlinewidth": 0,
             "ticks": ""
            },
            "colorscale": [
             [
              0,
              "#0d0887"
             ],
             [
              0.1111111111111111,
              "#46039f"
             ],
             [
              0.2222222222222222,
              "#7201a8"
             ],
             [
              0.3333333333333333,
              "#9c179e"
             ],
             [
              0.4444444444444444,
              "#bd3786"
             ],
             [
              0.5555555555555556,
              "#d8576b"
             ],
             [
              0.6666666666666666,
              "#ed7953"
             ],
             [
              0.7777777777777778,
              "#fb9f3a"
             ],
             [
              0.8888888888888888,
              "#fdca26"
             ],
             [
              1,
              "#f0f921"
             ]
            ],
            "type": "contour"
           }
          ],
          "contourcarpet": [
           {
            "colorbar": {
             "outlinewidth": 0,
             "ticks": ""
            },
            "type": "contourcarpet"
           }
          ],
          "heatmap": [
           {
            "colorbar": {
             "outlinewidth": 0,
             "ticks": ""
            },
            "colorscale": [
             [
              0,
              "#0d0887"
             ],
             [
              0.1111111111111111,
              "#46039f"
             ],
             [
              0.2222222222222222,
              "#7201a8"
             ],
             [
              0.3333333333333333,
              "#9c179e"
             ],
             [
              0.4444444444444444,
              "#bd3786"
             ],
             [
              0.5555555555555556,
              "#d8576b"
             ],
             [
              0.6666666666666666,
              "#ed7953"
             ],
             [
              0.7777777777777778,
              "#fb9f3a"
             ],
             [
              0.8888888888888888,
              "#fdca26"
             ],
             [
              1,
              "#f0f921"
             ]
            ],
            "type": "heatmap"
           }
          ],
          "heatmapgl": [
           {
            "colorbar": {
             "outlinewidth": 0,
             "ticks": ""
            },
            "colorscale": [
             [
              0,
              "#0d0887"
             ],
             [
              0.1111111111111111,
              "#46039f"
             ],
             [
              0.2222222222222222,
              "#7201a8"
             ],
             [
              0.3333333333333333,
              "#9c179e"
             ],
             [
              0.4444444444444444,
              "#bd3786"
             ],
             [
              0.5555555555555556,
              "#d8576b"
             ],
             [
              0.6666666666666666,
              "#ed7953"
             ],
             [
              0.7777777777777778,
              "#fb9f3a"
             ],
             [
              0.8888888888888888,
              "#fdca26"
             ],
             [
              1,
              "#f0f921"
             ]
            ],
            "type": "heatmapgl"
           }
          ],
          "histogram": [
           {
            "marker": {
             "colorbar": {
              "outlinewidth": 0,
              "ticks": ""
             }
            },
            "type": "histogram"
           }
          ],
          "histogram2d": [
           {
            "colorbar": {
             "outlinewidth": 0,
             "ticks": ""
            },
            "colorscale": [
             [
              0,
              "#0d0887"
             ],
             [
              0.1111111111111111,
              "#46039f"
             ],
             [
              0.2222222222222222,
              "#7201a8"
             ],
             [
              0.3333333333333333,
              "#9c179e"
             ],
             [
              0.4444444444444444,
              "#bd3786"
             ],
             [
              0.5555555555555556,
              "#d8576b"
             ],
             [
              0.6666666666666666,
              "#ed7953"
             ],
             [
              0.7777777777777778,
              "#fb9f3a"
             ],
             [
              0.8888888888888888,
              "#fdca26"
             ],
             [
              1,
              "#f0f921"
             ]
            ],
            "type": "histogram2d"
           }
          ],
          "histogram2dcontour": [
           {
            "colorbar": {
             "outlinewidth": 0,
             "ticks": ""
            },
            "colorscale": [
             [
              0,
              "#0d0887"
             ],
             [
              0.1111111111111111,
              "#46039f"
             ],
             [
              0.2222222222222222,
              "#7201a8"
             ],
             [
              0.3333333333333333,
              "#9c179e"
             ],
             [
              0.4444444444444444,
              "#bd3786"
             ],
             [
              0.5555555555555556,
              "#d8576b"
             ],
             [
              0.6666666666666666,
              "#ed7953"
             ],
             [
              0.7777777777777778,
              "#fb9f3a"
             ],
             [
              0.8888888888888888,
              "#fdca26"
             ],
             [
              1,
              "#f0f921"
             ]
            ],
            "type": "histogram2dcontour"
           }
          ],
          "mesh3d": [
           {
            "colorbar": {
             "outlinewidth": 0,
             "ticks": ""
            },
            "type": "mesh3d"
           }
          ],
          "parcoords": [
           {
            "line": {
             "colorbar": {
              "outlinewidth": 0,
              "ticks": ""
             }
            },
            "type": "parcoords"
           }
          ],
          "pie": [
           {
            "automargin": true,
            "type": "pie"
           }
          ],
          "scatter": [
           {
            "marker": {
             "colorbar": {
              "outlinewidth": 0,
              "ticks": ""
             }
            },
            "type": "scatter"
           }
          ],
          "scatter3d": [
           {
            "line": {
             "colorbar": {
              "outlinewidth": 0,
              "ticks": ""
             }
            },
            "marker": {
             "colorbar": {
              "outlinewidth": 0,
              "ticks": ""
             }
            },
            "type": "scatter3d"
           }
          ],
          "scattercarpet": [
           {
            "marker": {
             "colorbar": {
              "outlinewidth": 0,
              "ticks": ""
             }
            },
            "type": "scattercarpet"
           }
          ],
          "scattergeo": [
           {
            "marker": {
             "colorbar": {
              "outlinewidth": 0,
              "ticks": ""
             }
            },
            "type": "scattergeo"
           }
          ],
          "scattergl": [
           {
            "marker": {
             "colorbar": {
              "outlinewidth": 0,
              "ticks": ""
             }
            },
            "type": "scattergl"
           }
          ],
          "scattermapbox": [
           {
            "marker": {
             "colorbar": {
              "outlinewidth": 0,
              "ticks": ""
             }
            },
            "type": "scattermapbox"
           }
          ],
          "scatterpolar": [
           {
            "marker": {
             "colorbar": {
              "outlinewidth": 0,
              "ticks": ""
             }
            },
            "type": "scatterpolar"
           }
          ],
          "scatterpolargl": [
           {
            "marker": {
             "colorbar": {
              "outlinewidth": 0,
              "ticks": ""
             }
            },
            "type": "scatterpolargl"
           }
          ],
          "scatterternary": [
           {
            "marker": {
             "colorbar": {
              "outlinewidth": 0,
              "ticks": ""
             }
            },
            "type": "scatterternary"
           }
          ],
          "surface": [
           {
            "colorbar": {
             "outlinewidth": 0,
             "ticks": ""
            },
            "colorscale": [
             [
              0,
              "#0d0887"
             ],
             [
              0.1111111111111111,
              "#46039f"
             ],
             [
              0.2222222222222222,
              "#7201a8"
             ],
             [
              0.3333333333333333,
              "#9c179e"
             ],
             [
              0.4444444444444444,
              "#bd3786"
             ],
             [
              0.5555555555555556,
              "#d8576b"
             ],
             [
              0.6666666666666666,
              "#ed7953"
             ],
             [
              0.7777777777777778,
              "#fb9f3a"
             ],
             [
              0.8888888888888888,
              "#fdca26"
             ],
             [
              1,
              "#f0f921"
             ]
            ],
            "type": "surface"
           }
          ],
          "table": [
           {
            "cells": {
             "fill": {
              "color": "#EBF0F8"
             },
             "line": {
              "color": "white"
             }
            },
            "header": {
             "fill": {
              "color": "#C8D4E3"
             },
             "line": {
              "color": "white"
             }
            },
            "type": "table"
           }
          ]
         },
         "layout": {
          "annotationdefaults": {
           "arrowcolor": "#2a3f5f",
           "arrowhead": 0,
           "arrowwidth": 1
          },
          "coloraxis": {
           "colorbar": {
            "outlinewidth": 0,
            "ticks": ""
           }
          },
          "colorscale": {
           "diverging": [
            [
             0,
             "#8e0152"
            ],
            [
             0.1,
             "#c51b7d"
            ],
            [
             0.2,
             "#de77ae"
            ],
            [
             0.3,
             "#f1b6da"
            ],
            [
             0.4,
             "#fde0ef"
            ],
            [
             0.5,
             "#f7f7f7"
            ],
            [
             0.6,
             "#e6f5d0"
            ],
            [
             0.7,
             "#b8e186"
            ],
            [
             0.8,
             "#7fbc41"
            ],
            [
             0.9,
             "#4d9221"
            ],
            [
             1,
             "#276419"
            ]
           ],
           "sequential": [
            [
             0,
             "#0d0887"
            ],
            [
             0.1111111111111111,
             "#46039f"
            ],
            [
             0.2222222222222222,
             "#7201a8"
            ],
            [
             0.3333333333333333,
             "#9c179e"
            ],
            [
             0.4444444444444444,
             "#bd3786"
            ],
            [
             0.5555555555555556,
             "#d8576b"
            ],
            [
             0.6666666666666666,
             "#ed7953"
            ],
            [
             0.7777777777777778,
             "#fb9f3a"
            ],
            [
             0.8888888888888888,
             "#fdca26"
            ],
            [
             1,
             "#f0f921"
            ]
           ],
           "sequentialminus": [
            [
             0,
             "#0d0887"
            ],
            [
             0.1111111111111111,
             "#46039f"
            ],
            [
             0.2222222222222222,
             "#7201a8"
            ],
            [
             0.3333333333333333,
             "#9c179e"
            ],
            [
             0.4444444444444444,
             "#bd3786"
            ],
            [
             0.5555555555555556,
             "#d8576b"
            ],
            [
             0.6666666666666666,
             "#ed7953"
            ],
            [
             0.7777777777777778,
             "#fb9f3a"
            ],
            [
             0.8888888888888888,
             "#fdca26"
            ],
            [
             1,
             "#f0f921"
            ]
           ]
          },
          "colorway": [
           "#636efa",
           "#EF553B",
           "#00cc96",
           "#ab63fa",
           "#FFA15A",
           "#19d3f3",
           "#FF6692",
           "#B6E880",
           "#FF97FF",
           "#FECB52"
          ],
          "font": {
           "color": "#2a3f5f"
          },
          "geo": {
           "bgcolor": "white",
           "lakecolor": "white",
           "landcolor": "#E5ECF6",
           "showlakes": true,
           "showland": true,
           "subunitcolor": "white"
          },
          "hoverlabel": {
           "align": "left"
          },
          "hovermode": "closest",
          "mapbox": {
           "style": "light"
          },
          "paper_bgcolor": "white",
          "plot_bgcolor": "#E5ECF6",
          "polar": {
           "angularaxis": {
            "gridcolor": "white",
            "linecolor": "white",
            "ticks": ""
           },
           "bgcolor": "#E5ECF6",
           "radialaxis": {
            "gridcolor": "white",
            "linecolor": "white",
            "ticks": ""
           }
          },
          "scene": {
           "xaxis": {
            "backgroundcolor": "#E5ECF6",
            "gridcolor": "white",
            "gridwidth": 2,
            "linecolor": "white",
            "showbackground": true,
            "ticks": "",
            "zerolinecolor": "white"
           },
           "yaxis": {
            "backgroundcolor": "#E5ECF6",
            "gridcolor": "white",
            "gridwidth": 2,
            "linecolor": "white",
            "showbackground": true,
            "ticks": "",
            "zerolinecolor": "white"
           },
           "zaxis": {
            "backgroundcolor": "#E5ECF6",
            "gridcolor": "white",
            "gridwidth": 2,
            "linecolor": "white",
            "showbackground": true,
            "ticks": "",
            "zerolinecolor": "white"
           }
          },
          "shapedefaults": {
           "line": {
            "color": "#2a3f5f"
           }
          },
          "ternary": {
           "aaxis": {
            "gridcolor": "white",
            "linecolor": "white",
            "ticks": ""
           },
           "baxis": {
            "gridcolor": "white",
            "linecolor": "white",
            "ticks": ""
           },
           "bgcolor": "#E5ECF6",
           "caxis": {
            "gridcolor": "white",
            "linecolor": "white",
            "ticks": ""
           }
          },
          "title": {
           "x": 0.05
          },
          "xaxis": {
           "automargin": true,
           "gridcolor": "white",
           "linecolor": "white",
           "ticks": "",
           "title": {
            "standoff": 15
           },
           "zerolinecolor": "white",
           "zerolinewidth": 2
          },
          "yaxis": {
           "automargin": true,
           "gridcolor": "white",
           "linecolor": "white",
           "ticks": "",
           "title": {
            "standoff": 15
           },
           "zerolinecolor": "white",
           "zerolinewidth": 2
          }
         }
        },
        "title": {
         "text": "Path-Parkinson-Colon-Cancer-Scenario-A-with-blocking-colon"
        },
        "width": 800,
        "xaxis": {
         "rangeselector": {
          "buttons": [
           {
            "count": 7,
            "label": "1w",
            "step": "day",
            "stepmode": "backward"
           },
           {
            "count": 1,
            "label": "1m",
            "step": "month",
            "stepmode": "backward"
           },
           {
            "count": 6,
            "label": "6m",
            "step": "month",
            "stepmode": "backward"
           },
           {
            "count": 1,
            "label": "YTD",
            "step": "year",
            "stepmode": "todate"
           },
           {
            "count": 1,
            "label": "1y",
            "step": "year",
            "stepmode": "backward"
           },
           {
            "step": "all"
           }
          ]
         },
         "showgrid": false,
         "type": "date",
         "zeroline": false
        },
        "yaxis": {
         "autorange": false,
         "range": [
          -1,
          5
         ],
         "showgrid": false,
         "ticktext": [
          "take_pill_Pramipexol",
          "surgery_colon_cancer",
          "Adjuvant_chemoradiotherapy",
          "surgery_colon_cancer"
         ],
         "tickvals": [
          0,
          1,
          2,
          3
         ],
         "zeroline": false
        }
       }
      },
      "text/html": [
       "<div>\n",
       "        \n",
       "        \n",
       "            <div id=\"69826699-475f-4acc-8d69-48380aa2bed8\" class=\"plotly-graph-div\" style=\"height:600px; width:800px;\"></div>\n",
       "            <script type=\"text/javascript\">\n",
       "                require([\"plotly\"], function(Plotly) {\n",
       "                    window.PLOTLYENV=window.PLOTLYENV || {};\n",
       "                    \n",
       "                if (document.getElementById(\"69826699-475f-4acc-8d69-48380aa2bed8\")) {\n",
       "                    Plotly.newPlot(\n",
       "                        '69826699-475f-4acc-8d69-48380aa2bed8',\n",
       "                        [{\"fill\": \"toself\", \"fillcolor\": \"rgb(0, 0, 220)\", \"hoverinfo\": \"name\", \"legendgroup\": \"rgb(0, 0, 220)\", \"mode\": \"none\", \"name\": \"Colon_cancer\", \"type\": \"scatter\", \"x\": [\"2018-04-12T14:50:33Z\", \"2018-04-17T14:50:33.0Z\", \"2018-04-17T14:50:33.0Z\", \"2018-04-12T14:50:33Z\", \"2018-04-12T14:50:33Z\", \"2018-04-17T14:50:33.0Z\", \"2018-07-06T14:50:33.0Z\", \"2018-07-06T14:50:33.0Z\", \"2018-04-17T14:50:33.0Z\"], \"y\": [0.8, 0.8, 1.2, 1.2, null, 1.8, 1.8, 2.2, 2.2]}, {\"fill\": \"toself\", \"fillcolor\": \"rgb(0, 220, 0)\", \"hoverinfo\": \"name\", \"legendgroup\": \"rgb(0, 220, 0)\", \"mode\": \"none\", \"name\": \"Parkinson\", \"type\": \"scatter\", \"x\": [\"2018-04-07T14:52:21.0Z\", \"2018-06-06T14:52:21.0Z\", \"2018-06-06T14:52:21.0Z\", \"2018-04-07T14:52:21.0Z\"], \"y\": [-0.2, -0.2, 0.2, 0.2]}, {\"fill\": \"toself\", \"fillcolor\": \"rgb(220, 0, 0)\", \"hoverinfo\": \"name\", \"legendgroup\": \"rgb(220, 0, 0)\", \"mode\": \"none\", \"name\": \"Conflict\", \"type\": \"scatter\", \"x\": [\"2018-04-12T14:50:33Z\", \"2018-04-17T14:50:33.0Z\", \"2018-04-17T14:50:33.0Z\", \"2018-04-12T14:50:33Z\"], \"y\": [2.8, 2.8, 3.2, 3.2]}, {\"legendgroup\": \"rgb(0, 0, 220)\", \"marker\": {\"color\": \"rgb(0, 0, 220)\", \"opacity\": 0, \"size\": 1}, \"mode\": \"markers\", \"name\": \"\", \"showlegend\": false, \"text\": [null, null, null, null], \"type\": \"scatter\", \"x\": [\"2018-04-12T14:50:33Z\", \"2018-04-17T14:50:33.0Z\", \"2018-04-17T14:50:33.0Z\", \"2018-07-06T14:50:33.0Z\"], \"y\": [1, 1, 2, 2]}, {\"legendgroup\": \"rgb(0, 220, 0)\", \"marker\": {\"color\": \"rgb(0, 220, 0)\", \"opacity\": 0, \"size\": 1}, \"mode\": \"markers\", \"name\": \"\", \"showlegend\": false, \"text\": [null, null], \"type\": \"scatter\", \"x\": [\"2018-04-07T14:52:21.0Z\", \"2018-06-06T14:52:21.0Z\"], \"y\": [0, 0]}, {\"legendgroup\": \"rgb(220, 0, 0)\", \"marker\": {\"color\": \"rgb(220, 0, 0)\", \"opacity\": 0, \"size\": 1}, \"mode\": \"markers\", \"name\": \"\", \"showlegend\": false, \"text\": [null, null], \"type\": \"scatter\", \"x\": [\"2018-04-12T14:50:33Z\", \"2018-04-17T14:50:33.0Z\"], \"y\": [3, 3]}],\n",
       "                        {\"autosize\": false, \"height\": 600, \"hovermode\": \"closest\", \"margin\": {\"l\": 200}, \"showlegend\": true, \"template\": {\"data\": {\"bar\": [{\"error_x\": {\"color\": \"#2a3f5f\"}, \"error_y\": {\"color\": \"#2a3f5f\"}, \"marker\": {\"line\": {\"color\": \"#E5ECF6\", \"width\": 0.5}}, \"type\": \"bar\"}], \"barpolar\": [{\"marker\": {\"line\": {\"color\": \"#E5ECF6\", \"width\": 0.5}}, \"type\": \"barpolar\"}], \"carpet\": [{\"aaxis\": {\"endlinecolor\": \"#2a3f5f\", \"gridcolor\": \"white\", \"linecolor\": \"white\", \"minorgridcolor\": \"white\", \"startlinecolor\": \"#2a3f5f\"}, \"baxis\": {\"endlinecolor\": \"#2a3f5f\", \"gridcolor\": \"white\", \"linecolor\": \"white\", \"minorgridcolor\": \"white\", \"startlinecolor\": \"#2a3f5f\"}, \"type\": \"carpet\"}], \"choropleth\": [{\"colorbar\": {\"outlinewidth\": 0, \"ticks\": \"\"}, \"type\": \"choropleth\"}], \"contour\": [{\"colorbar\": {\"outlinewidth\": 0, \"ticks\": \"\"}, \"colorscale\": [[0.0, \"#0d0887\"], [0.1111111111111111, \"#46039f\"], [0.2222222222222222, \"#7201a8\"], [0.3333333333333333, \"#9c179e\"], [0.4444444444444444, \"#bd3786\"], [0.5555555555555556, \"#d8576b\"], [0.6666666666666666, \"#ed7953\"], [0.7777777777777778, \"#fb9f3a\"], [0.8888888888888888, \"#fdca26\"], [1.0, \"#f0f921\"]], \"type\": \"contour\"}], \"contourcarpet\": [{\"colorbar\": {\"outlinewidth\": 0, \"ticks\": \"\"}, \"type\": \"contourcarpet\"}], \"heatmap\": [{\"colorbar\": {\"outlinewidth\": 0, \"ticks\": \"\"}, \"colorscale\": [[0.0, \"#0d0887\"], [0.1111111111111111, \"#46039f\"], [0.2222222222222222, \"#7201a8\"], [0.3333333333333333, \"#9c179e\"], [0.4444444444444444, \"#bd3786\"], [0.5555555555555556, \"#d8576b\"], [0.6666666666666666, \"#ed7953\"], [0.7777777777777778, \"#fb9f3a\"], [0.8888888888888888, \"#fdca26\"], [1.0, \"#f0f921\"]], \"type\": \"heatmap\"}], \"heatmapgl\": [{\"colorbar\": {\"outlinewidth\": 0, \"ticks\": \"\"}, \"colorscale\": [[0.0, \"#0d0887\"], [0.1111111111111111, \"#46039f\"], [0.2222222222222222, \"#7201a8\"], [0.3333333333333333, \"#9c179e\"], [0.4444444444444444, \"#bd3786\"], [0.5555555555555556, \"#d8576b\"], [0.6666666666666666, \"#ed7953\"], [0.7777777777777778, \"#fb9f3a\"], [0.8888888888888888, \"#fdca26\"], [1.0, \"#f0f921\"]], \"type\": \"heatmapgl\"}], \"histogram\": [{\"marker\": {\"colorbar\": {\"outlinewidth\": 0, \"ticks\": \"\"}}, \"type\": \"histogram\"}], \"histogram2d\": [{\"colorbar\": {\"outlinewidth\": 0, \"ticks\": \"\"}, \"colorscale\": [[0.0, \"#0d0887\"], [0.1111111111111111, \"#46039f\"], [0.2222222222222222, \"#7201a8\"], [0.3333333333333333, \"#9c179e\"], [0.4444444444444444, \"#bd3786\"], [0.5555555555555556, \"#d8576b\"], [0.6666666666666666, \"#ed7953\"], [0.7777777777777778, \"#fb9f3a\"], [0.8888888888888888, \"#fdca26\"], [1.0, \"#f0f921\"]], \"type\": \"histogram2d\"}], \"histogram2dcontour\": [{\"colorbar\": {\"outlinewidth\": 0, \"ticks\": \"\"}, \"colorscale\": [[0.0, \"#0d0887\"], [0.1111111111111111, \"#46039f\"], [0.2222222222222222, \"#7201a8\"], [0.3333333333333333, \"#9c179e\"], [0.4444444444444444, \"#bd3786\"], [0.5555555555555556, \"#d8576b\"], [0.6666666666666666, \"#ed7953\"], [0.7777777777777778, \"#fb9f3a\"], [0.8888888888888888, \"#fdca26\"], [1.0, \"#f0f921\"]], \"type\": \"histogram2dcontour\"}], \"mesh3d\": [{\"colorbar\": {\"outlinewidth\": 0, \"ticks\": \"\"}, \"type\": \"mesh3d\"}], \"parcoords\": [{\"line\": {\"colorbar\": {\"outlinewidth\": 0, \"ticks\": \"\"}}, \"type\": \"parcoords\"}], \"pie\": [{\"automargin\": true, \"type\": \"pie\"}], \"scatter\": [{\"marker\": {\"colorbar\": {\"outlinewidth\": 0, \"ticks\": \"\"}}, \"type\": \"scatter\"}], \"scatter3d\": [{\"line\": {\"colorbar\": {\"outlinewidth\": 0, \"ticks\": \"\"}}, \"marker\": {\"colorbar\": {\"outlinewidth\": 0, \"ticks\": \"\"}}, \"type\": \"scatter3d\"}], \"scattercarpet\": [{\"marker\": {\"colorbar\": {\"outlinewidth\": 0, \"ticks\": \"\"}}, \"type\": \"scattercarpet\"}], \"scattergeo\": [{\"marker\": {\"colorbar\": {\"outlinewidth\": 0, \"ticks\": \"\"}}, \"type\": \"scattergeo\"}], \"scattergl\": [{\"marker\": {\"colorbar\": {\"outlinewidth\": 0, \"ticks\": \"\"}}, \"type\": \"scattergl\"}], \"scattermapbox\": [{\"marker\": {\"colorbar\": {\"outlinewidth\": 0, \"ticks\": \"\"}}, \"type\": \"scattermapbox\"}], \"scatterpolar\": [{\"marker\": {\"colorbar\": {\"outlinewidth\": 0, \"ticks\": \"\"}}, \"type\": \"scatterpolar\"}], \"scatterpolargl\": [{\"marker\": {\"colorbar\": {\"outlinewidth\": 0, \"ticks\": \"\"}}, \"type\": \"scatterpolargl\"}], \"scatterternary\": [{\"marker\": {\"colorbar\": {\"outlinewidth\": 0, \"ticks\": \"\"}}, \"type\": \"scatterternary\"}], \"surface\": [{\"colorbar\": {\"outlinewidth\": 0, \"ticks\": \"\"}, \"colorscale\": [[0.0, \"#0d0887\"], [0.1111111111111111, \"#46039f\"], [0.2222222222222222, \"#7201a8\"], [0.3333333333333333, \"#9c179e\"], [0.4444444444444444, \"#bd3786\"], [0.5555555555555556, \"#d8576b\"], [0.6666666666666666, \"#ed7953\"], [0.7777777777777778, \"#fb9f3a\"], [0.8888888888888888, \"#fdca26\"], [1.0, \"#f0f921\"]], \"type\": \"surface\"}], \"table\": [{\"cells\": {\"fill\": {\"color\": \"#EBF0F8\"}, \"line\": {\"color\": \"white\"}}, \"header\": {\"fill\": {\"color\": \"#C8D4E3\"}, \"line\": {\"color\": \"white\"}}, \"type\": \"table\"}]}, \"layout\": {\"annotationdefaults\": {\"arrowcolor\": \"#2a3f5f\", \"arrowhead\": 0, \"arrowwidth\": 1}, \"coloraxis\": {\"colorbar\": {\"outlinewidth\": 0, \"ticks\": \"\"}}, \"colorscale\": {\"diverging\": [[0, \"#8e0152\"], [0.1, \"#c51b7d\"], [0.2, \"#de77ae\"], [0.3, \"#f1b6da\"], [0.4, \"#fde0ef\"], [0.5, \"#f7f7f7\"], [0.6, \"#e6f5d0\"], [0.7, \"#b8e186\"], [0.8, \"#7fbc41\"], [0.9, \"#4d9221\"], [1, \"#276419\"]], \"sequential\": [[0.0, \"#0d0887\"], [0.1111111111111111, \"#46039f\"], [0.2222222222222222, \"#7201a8\"], [0.3333333333333333, \"#9c179e\"], [0.4444444444444444, \"#bd3786\"], [0.5555555555555556, \"#d8576b\"], [0.6666666666666666, \"#ed7953\"], [0.7777777777777778, \"#fb9f3a\"], [0.8888888888888888, \"#fdca26\"], [1.0, \"#f0f921\"]], \"sequentialminus\": [[0.0, \"#0d0887\"], [0.1111111111111111, \"#46039f\"], [0.2222222222222222, \"#7201a8\"], [0.3333333333333333, \"#9c179e\"], [0.4444444444444444, \"#bd3786\"], [0.5555555555555556, \"#d8576b\"], [0.6666666666666666, \"#ed7953\"], [0.7777777777777778, \"#fb9f3a\"], [0.8888888888888888, \"#fdca26\"], [1.0, \"#f0f921\"]]}, \"colorway\": [\"#636efa\", \"#EF553B\", \"#00cc96\", \"#ab63fa\", \"#FFA15A\", \"#19d3f3\", \"#FF6692\", \"#B6E880\", \"#FF97FF\", \"#FECB52\"], \"font\": {\"color\": \"#2a3f5f\"}, \"geo\": {\"bgcolor\": \"white\", \"lakecolor\": \"white\", \"landcolor\": \"#E5ECF6\", \"showlakes\": true, \"showland\": true, \"subunitcolor\": \"white\"}, \"hoverlabel\": {\"align\": \"left\"}, \"hovermode\": \"closest\", \"mapbox\": {\"style\": \"light\"}, \"paper_bgcolor\": \"white\", \"plot_bgcolor\": \"#E5ECF6\", \"polar\": {\"angularaxis\": {\"gridcolor\": \"white\", \"linecolor\": \"white\", \"ticks\": \"\"}, \"bgcolor\": \"#E5ECF6\", \"radialaxis\": {\"gridcolor\": \"white\", \"linecolor\": \"white\", \"ticks\": \"\"}}, \"scene\": {\"xaxis\": {\"backgroundcolor\": \"#E5ECF6\", \"gridcolor\": \"white\", \"gridwidth\": 2, \"linecolor\": \"white\", \"showbackground\": true, \"ticks\": \"\", \"zerolinecolor\": \"white\"}, \"yaxis\": {\"backgroundcolor\": \"#E5ECF6\", \"gridcolor\": \"white\", \"gridwidth\": 2, \"linecolor\": \"white\", \"showbackground\": true, \"ticks\": \"\", \"zerolinecolor\": \"white\"}, \"zaxis\": {\"backgroundcolor\": \"#E5ECF6\", \"gridcolor\": \"white\", \"gridwidth\": 2, \"linecolor\": \"white\", \"showbackground\": true, \"ticks\": \"\", \"zerolinecolor\": \"white\"}}, \"shapedefaults\": {\"line\": {\"color\": \"#2a3f5f\"}}, \"ternary\": {\"aaxis\": {\"gridcolor\": \"white\", \"linecolor\": \"white\", \"ticks\": \"\"}, \"baxis\": {\"gridcolor\": \"white\", \"linecolor\": \"white\", \"ticks\": \"\"}, \"bgcolor\": \"#E5ECF6\", \"caxis\": {\"gridcolor\": \"white\", \"linecolor\": \"white\", \"ticks\": \"\"}}, \"title\": {\"x\": 0.05}, \"xaxis\": {\"automargin\": true, \"gridcolor\": \"white\", \"linecolor\": \"white\", \"ticks\": \"\", \"title\": {\"standoff\": 15}, \"zerolinecolor\": \"white\", \"zerolinewidth\": 2}, \"yaxis\": {\"automargin\": true, \"gridcolor\": \"white\", \"linecolor\": \"white\", \"ticks\": \"\", \"title\": {\"standoff\": 15}, \"zerolinecolor\": \"white\", \"zerolinewidth\": 2}}}, \"title\": {\"text\": \"Path-Parkinson-Colon-Cancer-Scenario-A-with-blocking-colon\"}, \"width\": 800, \"xaxis\": {\"rangeselector\": {\"buttons\": [{\"count\": 7, \"label\": \"1w\", \"step\": \"day\", \"stepmode\": \"backward\"}, {\"count\": 1, \"label\": \"1m\", \"step\": \"month\", \"stepmode\": \"backward\"}, {\"count\": 6, \"label\": \"6m\", \"step\": \"month\", \"stepmode\": \"backward\"}, {\"count\": 1, \"label\": \"YTD\", \"step\": \"year\", \"stepmode\": \"todate\"}, {\"count\": 1, \"label\": \"1y\", \"step\": \"year\", \"stepmode\": \"backward\"}, {\"step\": \"all\"}]}, \"showgrid\": false, \"type\": \"date\", \"zeroline\": false}, \"yaxis\": {\"autorange\": false, \"range\": [-1, 5], \"showgrid\": false, \"ticktext\": [\"take_pill_Pramipexol\", \"surgery_colon_cancer\", \"Adjuvant_chemoradiotherapy\", \"surgery_colon_cancer\"], \"tickvals\": [0, 1, 2, 3], \"zeroline\": false}},\n",
       "                        {\"responsive\": true}\n",
       "                    ).then(function(){\n",
       "                            \n",
       "var gd = document.getElementById('69826699-475f-4acc-8d69-48380aa2bed8');\n",
       "var x = new MutationObserver(function (mutations, observer) {{\n",
       "        var display = window.getComputedStyle(gd).display;\n",
       "        if (!display || display === 'none') {{\n",
       "            console.log([gd, 'removed!']);\n",
       "            Plotly.purge(gd);\n",
       "            observer.disconnect();\n",
       "        }}\n",
       "}});\n",
       "\n",
       "// Listen for the removal of the full notebook cells\n",
       "var notebookContainer = gd.closest('#notebook-container');\n",
       "if (notebookContainer) {{\n",
       "    x.observe(notebookContainer, {childList: true});\n",
       "}}\n",
       "\n",
       "// Listen for the clearing of the current output cell\n",
       "var outputEl = gd.closest('.output');\n",
       "if (outputEl) {{\n",
       "    x.observe(outputEl, {childList: true});\n",
       "}}\n",
       "\n",
       "                        })\n",
       "                };\n",
       "                });\n",
       "            </script>\n",
       "        </div>"
      ]
     },
     "metadata": {},
     "output_type": "display_data"
    }
   ],
   "source": [
    "!eye --nope ../data/data-colon-cancer-t3-a.ttl ../data/t3.ttl ../parkinson/gps-desc.n3 ../parkinson/score-calculation.n3  ../colon-cancer/gps-desc.n3 ../colon-cancer/gps-knowledge.n3 ../path/aggreagatedPath-t3-a.n3 ../knowledge/knowledge.n3 ../engine/gps-plugin-validation.n3 --query  ../engine/gps-alert-detection.csvq --strings >../path/detected-conflict-t3-a.csv\n",
    "conflict_action_a = pd.read_csv('../path/detected-conflict-t3-a.csv', sep=',', encoding = 'utf-8')\n",
    "\n",
    "df_path_a = pd.read_csv('../path/aggreagatedPath-plot-t3-a.csv', sep=',', encoding = 'utf-8')\n",
    "df_a = [dict(Task=df_path_a.action_name[0], Start=df_path_a.start_time[0], Finish=df_path_a.end_time[0], Resource=df_path_a.map_name[0])]\n",
    "i=1\n",
    "while i < len(df_path_a):\n",
    "    df_a.append( dict(Task=df_path_a.action_name[i], Start=df_path_a.start_time[i], Finish=df_path_a.end_time[i], Resource=df_path_a.map_name[i]) )\n",
    "    i+=1\n",
    "df_a.append( dict(Task=conflict_action_a.action_name[0], Start=conflict_action_a.start_time[0], Finish=conflict_action_a.end_time[0], Resource=conflict_action_a.map_name[0]) )\n",
    "\n",
    "\n",
    "colors = dict(Conflict = 'rgb(220, 0, 0)',\n",
    "              Colon_cancer = 'rgb(0, 0, 220)',\n",
    "              Parkinson = 'rgb(0, 220, 0)')\n",
    "fig_a_alert = ff.create_gantt(df_a, colors=colors, index_col='Resource', show_colorbar=True,  title='Path-Parkinson-Colon-Cancer-Scenario-A-with-blocking-colon')\n",
    "fig_a_alert['layout'].update(autosize=False, width=800, height=600, margin=dict(l=200))\n",
    "iplot(fig_a_alert, show_link=False)\n",
    "\n"
   ]
  },
  {
   "cell_type": "code",
   "execution_count": null,
   "metadata": {
    "colab": {},
    "colab_type": "code",
    "id": "6gabO4cc-p5O"
   },
   "outputs": [],
   "source": []
  },
  {
   "cell_type": "code",
   "execution_count": 84,
   "metadata": {
    "colab": {},
    "colab_type": "code",
    "id": "bBz49CbJ-p5Y",
    "outputId": "fadcc353-b7c7-4970-b662-4d83bce004e6"
   },
   "outputs": [
    {
     "name": "stderr",
     "output_type": "stream",
     "text": [
      "eye --nope ../data/data-colon-cancer-t3-b.ttl ../data/t3.ttl ../parkinson/gps-desc.n3 ../parkinson/score-calculation.n3 ../colon-cancer/gps-desc.n3 ../colon-cancer/gps-knowledge.n3 ../path/aggreagatedPath-t3-b.n3 ../knowledge/knowledge.n3 ../engine/gps-plugin-validation.n3 --query ../engine/gps-alert-detection.csvq --strings\n",
      "EYE v20.0910.0008 josd\n",
      "SWI-Prolog version 8.0.3\n",
      "starting 15 [msec cputime] 82 [msec walltime]\n",
      "GET file:///d:/github/gps4icdemo/data/data-colon-cancer-t3-b.ttl SC=25\n",
      "GET file:///d:/github/gps4icdemo/data/t3.ttl SC=1\n",
      "GET file:///d:/github/gps4icdemo/parkinson/gps-desc.n3 SC=3\n",
      "GET file:///d:/github/gps4icdemo/parkinson/score-calculation.n3 SC=1\n",
      "GET file:///d:/github/gps4icdemo/colon-cancer/gps-desc.n3 SC=3\n",
      "GET file:///d:/github/gps4icdemo/colon-cancer/gps-knowledge.n3 SC=11\n",
      "GET file:///d:/github/gps4icdemo/path/aggreagatedpath-t3-b.n3 SC=1\n",
      "GET file:///d:/github/gps4icdemo/knowledge/knowledge.n3 SC=1\n",
      "GET file:///d:/github/gps4icdemo/engine/gps-plugin-validation.n3 SC=11\n",
      "GET file:///d:/github/gps4icdemo/engine/gps-alert-detection.csvq SC=1\n",
      "networking 63 [msec cputime] 112 [msec walltime]\n",
      "reasoning 0 [msec cputime] 1 [msec walltime]\n",
      "2021-01-05T21:43:42.463Z in=58 out=4 ent=1 step=2 brake=4 inf=319334 sec=0.078 inf/sec=4094026\n",
      "\n"
     ]
    },
    {
     "data": {
      "application/vnd.plotly.v1+json": {
       "config": {
        "linkText": "Export to plot.ly",
        "plotlyServerURL": "https://plot.ly",
        "showLink": false
       },
       "data": [
        {
         "fill": "toself",
         "fillcolor": "rgb(0, 0, 220)",
         "hoverinfo": "name",
         "legendgroup": "rgb(0, 0, 220)",
         "mode": "none",
         "name": "Colon_cancer",
         "type": "scatter",
         "x": [
          "2018-04-12T14:50:33Z",
          "2018-06-01T14:50:33.0Z",
          "2018-06-01T14:50:33.0Z",
          "2018-04-12T14:50:33Z",
          "2018-04-12T14:50:33Z",
          "2018-06-01T14:50:33.0Z",
          "2018-06-06T14:50:33.0Z",
          "2018-06-06T14:50:33.0Z",
          "2018-06-01T14:50:33.0Z"
         ],
         "y": [
          0.8,
          0.8,
          1.2,
          1.2,
          null,
          1.8,
          1.8,
          2.2,
          2.2
         ]
        },
        {
         "fill": "toself",
         "fillcolor": "rgb(0, 220, 0)",
         "hoverinfo": "name",
         "legendgroup": "rgb(0, 220, 0)",
         "mode": "none",
         "name": "Parkinson",
         "type": "scatter",
         "x": [
          "2018-04-07T14:52:21.0Z",
          "2018-06-06T14:52:21.0Z",
          "2018-06-06T14:52:21.0Z",
          "2018-04-07T14:52:21.0Z"
         ],
         "y": [
          -0.2,
          -0.2,
          0.2,
          0.2
         ]
        },
        {
         "fill": "toself",
         "fillcolor": "rgb(220, 0, 0)",
         "hoverinfo": "name",
         "legendgroup": "rgb(220, 0, 0)",
         "mode": "none",
         "name": "Conflict",
         "type": "scatter",
         "x": [
          "2018-06-01T14:50:33.0Z",
          "2018-06-06T14:50:33.0Z",
          "2018-06-06T14:50:33.0Z",
          "2018-06-01T14:50:33.0Z"
         ],
         "y": [
          2.8,
          2.8,
          3.2,
          3.2
         ]
        },
        {
         "legendgroup": "rgb(0, 0, 220)",
         "marker": {
          "color": "rgb(0, 0, 220)",
          "opacity": 0,
          "size": 1
         },
         "mode": "markers",
         "name": "",
         "showlegend": false,
         "text": [
          null,
          null,
          null,
          null
         ],
         "type": "scatter",
         "x": [
          "2018-04-12T14:50:33Z",
          "2018-06-01T14:50:33.0Z",
          "2018-06-01T14:50:33.0Z",
          "2018-06-06T14:50:33.0Z"
         ],
         "y": [
          1,
          1,
          2,
          2
         ]
        },
        {
         "legendgroup": "rgb(0, 220, 0)",
         "marker": {
          "color": "rgb(0, 220, 0)",
          "opacity": 0,
          "size": 1
         },
         "mode": "markers",
         "name": "",
         "showlegend": false,
         "text": [
          null,
          null
         ],
         "type": "scatter",
         "x": [
          "2018-04-07T14:52:21.0Z",
          "2018-06-06T14:52:21.0Z"
         ],
         "y": [
          0,
          0
         ]
        },
        {
         "legendgroup": "rgb(220, 0, 0)",
         "marker": {
          "color": "rgb(220, 0, 0)",
          "opacity": 0,
          "size": 1
         },
         "mode": "markers",
         "name": "",
         "showlegend": false,
         "text": [
          null,
          null
         ],
         "type": "scatter",
         "x": [
          "2018-06-01T14:50:33.0Z",
          "2018-06-06T14:50:33.0Z"
         ],
         "y": [
          3,
          3
         ]
        }
       ],
       "layout": {
        "autosize": false,
        "height": 600,
        "hovermode": "closest",
        "margin": {
         "l": 200
        },
        "showlegend": true,
        "template": {
         "data": {
          "bar": [
           {
            "error_x": {
             "color": "#2a3f5f"
            },
            "error_y": {
             "color": "#2a3f5f"
            },
            "marker": {
             "line": {
              "color": "#E5ECF6",
              "width": 0.5
             }
            },
            "type": "bar"
           }
          ],
          "barpolar": [
           {
            "marker": {
             "line": {
              "color": "#E5ECF6",
              "width": 0.5
             }
            },
            "type": "barpolar"
           }
          ],
          "carpet": [
           {
            "aaxis": {
             "endlinecolor": "#2a3f5f",
             "gridcolor": "white",
             "linecolor": "white",
             "minorgridcolor": "white",
             "startlinecolor": "#2a3f5f"
            },
            "baxis": {
             "endlinecolor": "#2a3f5f",
             "gridcolor": "white",
             "linecolor": "white",
             "minorgridcolor": "white",
             "startlinecolor": "#2a3f5f"
            },
            "type": "carpet"
           }
          ],
          "choropleth": [
           {
            "colorbar": {
             "outlinewidth": 0,
             "ticks": ""
            },
            "type": "choropleth"
           }
          ],
          "contour": [
           {
            "colorbar": {
             "outlinewidth": 0,
             "ticks": ""
            },
            "colorscale": [
             [
              0,
              "#0d0887"
             ],
             [
              0.1111111111111111,
              "#46039f"
             ],
             [
              0.2222222222222222,
              "#7201a8"
             ],
             [
              0.3333333333333333,
              "#9c179e"
             ],
             [
              0.4444444444444444,
              "#bd3786"
             ],
             [
              0.5555555555555556,
              "#d8576b"
             ],
             [
              0.6666666666666666,
              "#ed7953"
             ],
             [
              0.7777777777777778,
              "#fb9f3a"
             ],
             [
              0.8888888888888888,
              "#fdca26"
             ],
             [
              1,
              "#f0f921"
             ]
            ],
            "type": "contour"
           }
          ],
          "contourcarpet": [
           {
            "colorbar": {
             "outlinewidth": 0,
             "ticks": ""
            },
            "type": "contourcarpet"
           }
          ],
          "heatmap": [
           {
            "colorbar": {
             "outlinewidth": 0,
             "ticks": ""
            },
            "colorscale": [
             [
              0,
              "#0d0887"
             ],
             [
              0.1111111111111111,
              "#46039f"
             ],
             [
              0.2222222222222222,
              "#7201a8"
             ],
             [
              0.3333333333333333,
              "#9c179e"
             ],
             [
              0.4444444444444444,
              "#bd3786"
             ],
             [
              0.5555555555555556,
              "#d8576b"
             ],
             [
              0.6666666666666666,
              "#ed7953"
             ],
             [
              0.7777777777777778,
              "#fb9f3a"
             ],
             [
              0.8888888888888888,
              "#fdca26"
             ],
             [
              1,
              "#f0f921"
             ]
            ],
            "type": "heatmap"
           }
          ],
          "heatmapgl": [
           {
            "colorbar": {
             "outlinewidth": 0,
             "ticks": ""
            },
            "colorscale": [
             [
              0,
              "#0d0887"
             ],
             [
              0.1111111111111111,
              "#46039f"
             ],
             [
              0.2222222222222222,
              "#7201a8"
             ],
             [
              0.3333333333333333,
              "#9c179e"
             ],
             [
              0.4444444444444444,
              "#bd3786"
             ],
             [
              0.5555555555555556,
              "#d8576b"
             ],
             [
              0.6666666666666666,
              "#ed7953"
             ],
             [
              0.7777777777777778,
              "#fb9f3a"
             ],
             [
              0.8888888888888888,
              "#fdca26"
             ],
             [
              1,
              "#f0f921"
             ]
            ],
            "type": "heatmapgl"
           }
          ],
          "histogram": [
           {
            "marker": {
             "colorbar": {
              "outlinewidth": 0,
              "ticks": ""
             }
            },
            "type": "histogram"
           }
          ],
          "histogram2d": [
           {
            "colorbar": {
             "outlinewidth": 0,
             "ticks": ""
            },
            "colorscale": [
             [
              0,
              "#0d0887"
             ],
             [
              0.1111111111111111,
              "#46039f"
             ],
             [
              0.2222222222222222,
              "#7201a8"
             ],
             [
              0.3333333333333333,
              "#9c179e"
             ],
             [
              0.4444444444444444,
              "#bd3786"
             ],
             [
              0.5555555555555556,
              "#d8576b"
             ],
             [
              0.6666666666666666,
              "#ed7953"
             ],
             [
              0.7777777777777778,
              "#fb9f3a"
             ],
             [
              0.8888888888888888,
              "#fdca26"
             ],
             [
              1,
              "#f0f921"
             ]
            ],
            "type": "histogram2d"
           }
          ],
          "histogram2dcontour": [
           {
            "colorbar": {
             "outlinewidth": 0,
             "ticks": ""
            },
            "colorscale": [
             [
              0,
              "#0d0887"
             ],
             [
              0.1111111111111111,
              "#46039f"
             ],
             [
              0.2222222222222222,
              "#7201a8"
             ],
             [
              0.3333333333333333,
              "#9c179e"
             ],
             [
              0.4444444444444444,
              "#bd3786"
             ],
             [
              0.5555555555555556,
              "#d8576b"
             ],
             [
              0.6666666666666666,
              "#ed7953"
             ],
             [
              0.7777777777777778,
              "#fb9f3a"
             ],
             [
              0.8888888888888888,
              "#fdca26"
             ],
             [
              1,
              "#f0f921"
             ]
            ],
            "type": "histogram2dcontour"
           }
          ],
          "mesh3d": [
           {
            "colorbar": {
             "outlinewidth": 0,
             "ticks": ""
            },
            "type": "mesh3d"
           }
          ],
          "parcoords": [
           {
            "line": {
             "colorbar": {
              "outlinewidth": 0,
              "ticks": ""
             }
            },
            "type": "parcoords"
           }
          ],
          "pie": [
           {
            "automargin": true,
            "type": "pie"
           }
          ],
          "scatter": [
           {
            "marker": {
             "colorbar": {
              "outlinewidth": 0,
              "ticks": ""
             }
            },
            "type": "scatter"
           }
          ],
          "scatter3d": [
           {
            "line": {
             "colorbar": {
              "outlinewidth": 0,
              "ticks": ""
             }
            },
            "marker": {
             "colorbar": {
              "outlinewidth": 0,
              "ticks": ""
             }
            },
            "type": "scatter3d"
           }
          ],
          "scattercarpet": [
           {
            "marker": {
             "colorbar": {
              "outlinewidth": 0,
              "ticks": ""
             }
            },
            "type": "scattercarpet"
           }
          ],
          "scattergeo": [
           {
            "marker": {
             "colorbar": {
              "outlinewidth": 0,
              "ticks": ""
             }
            },
            "type": "scattergeo"
           }
          ],
          "scattergl": [
           {
            "marker": {
             "colorbar": {
              "outlinewidth": 0,
              "ticks": ""
             }
            },
            "type": "scattergl"
           }
          ],
          "scattermapbox": [
           {
            "marker": {
             "colorbar": {
              "outlinewidth": 0,
              "ticks": ""
             }
            },
            "type": "scattermapbox"
           }
          ],
          "scatterpolar": [
           {
            "marker": {
             "colorbar": {
              "outlinewidth": 0,
              "ticks": ""
             }
            },
            "type": "scatterpolar"
           }
          ],
          "scatterpolargl": [
           {
            "marker": {
             "colorbar": {
              "outlinewidth": 0,
              "ticks": ""
             }
            },
            "type": "scatterpolargl"
           }
          ],
          "scatterternary": [
           {
            "marker": {
             "colorbar": {
              "outlinewidth": 0,
              "ticks": ""
             }
            },
            "type": "scatterternary"
           }
          ],
          "surface": [
           {
            "colorbar": {
             "outlinewidth": 0,
             "ticks": ""
            },
            "colorscale": [
             [
              0,
              "#0d0887"
             ],
             [
              0.1111111111111111,
              "#46039f"
             ],
             [
              0.2222222222222222,
              "#7201a8"
             ],
             [
              0.3333333333333333,
              "#9c179e"
             ],
             [
              0.4444444444444444,
              "#bd3786"
             ],
             [
              0.5555555555555556,
              "#d8576b"
             ],
             [
              0.6666666666666666,
              "#ed7953"
             ],
             [
              0.7777777777777778,
              "#fb9f3a"
             ],
             [
              0.8888888888888888,
              "#fdca26"
             ],
             [
              1,
              "#f0f921"
             ]
            ],
            "type": "surface"
           }
          ],
          "table": [
           {
            "cells": {
             "fill": {
              "color": "#EBF0F8"
             },
             "line": {
              "color": "white"
             }
            },
            "header": {
             "fill": {
              "color": "#C8D4E3"
             },
             "line": {
              "color": "white"
             }
            },
            "type": "table"
           }
          ]
         },
         "layout": {
          "annotationdefaults": {
           "arrowcolor": "#2a3f5f",
           "arrowhead": 0,
           "arrowwidth": 1
          },
          "coloraxis": {
           "colorbar": {
            "outlinewidth": 0,
            "ticks": ""
           }
          },
          "colorscale": {
           "diverging": [
            [
             0,
             "#8e0152"
            ],
            [
             0.1,
             "#c51b7d"
            ],
            [
             0.2,
             "#de77ae"
            ],
            [
             0.3,
             "#f1b6da"
            ],
            [
             0.4,
             "#fde0ef"
            ],
            [
             0.5,
             "#f7f7f7"
            ],
            [
             0.6,
             "#e6f5d0"
            ],
            [
             0.7,
             "#b8e186"
            ],
            [
             0.8,
             "#7fbc41"
            ],
            [
             0.9,
             "#4d9221"
            ],
            [
             1,
             "#276419"
            ]
           ],
           "sequential": [
            [
             0,
             "#0d0887"
            ],
            [
             0.1111111111111111,
             "#46039f"
            ],
            [
             0.2222222222222222,
             "#7201a8"
            ],
            [
             0.3333333333333333,
             "#9c179e"
            ],
            [
             0.4444444444444444,
             "#bd3786"
            ],
            [
             0.5555555555555556,
             "#d8576b"
            ],
            [
             0.6666666666666666,
             "#ed7953"
            ],
            [
             0.7777777777777778,
             "#fb9f3a"
            ],
            [
             0.8888888888888888,
             "#fdca26"
            ],
            [
             1,
             "#f0f921"
            ]
           ],
           "sequentialminus": [
            [
             0,
             "#0d0887"
            ],
            [
             0.1111111111111111,
             "#46039f"
            ],
            [
             0.2222222222222222,
             "#7201a8"
            ],
            [
             0.3333333333333333,
             "#9c179e"
            ],
            [
             0.4444444444444444,
             "#bd3786"
            ],
            [
             0.5555555555555556,
             "#d8576b"
            ],
            [
             0.6666666666666666,
             "#ed7953"
            ],
            [
             0.7777777777777778,
             "#fb9f3a"
            ],
            [
             0.8888888888888888,
             "#fdca26"
            ],
            [
             1,
             "#f0f921"
            ]
           ]
          },
          "colorway": [
           "#636efa",
           "#EF553B",
           "#00cc96",
           "#ab63fa",
           "#FFA15A",
           "#19d3f3",
           "#FF6692",
           "#B6E880",
           "#FF97FF",
           "#FECB52"
          ],
          "font": {
           "color": "#2a3f5f"
          },
          "geo": {
           "bgcolor": "white",
           "lakecolor": "white",
           "landcolor": "#E5ECF6",
           "showlakes": true,
           "showland": true,
           "subunitcolor": "white"
          },
          "hoverlabel": {
           "align": "left"
          },
          "hovermode": "closest",
          "mapbox": {
           "style": "light"
          },
          "paper_bgcolor": "white",
          "plot_bgcolor": "#E5ECF6",
          "polar": {
           "angularaxis": {
            "gridcolor": "white",
            "linecolor": "white",
            "ticks": ""
           },
           "bgcolor": "#E5ECF6",
           "radialaxis": {
            "gridcolor": "white",
            "linecolor": "white",
            "ticks": ""
           }
          },
          "scene": {
           "xaxis": {
            "backgroundcolor": "#E5ECF6",
            "gridcolor": "white",
            "gridwidth": 2,
            "linecolor": "white",
            "showbackground": true,
            "ticks": "",
            "zerolinecolor": "white"
           },
           "yaxis": {
            "backgroundcolor": "#E5ECF6",
            "gridcolor": "white",
            "gridwidth": 2,
            "linecolor": "white",
            "showbackground": true,
            "ticks": "",
            "zerolinecolor": "white"
           },
           "zaxis": {
            "backgroundcolor": "#E5ECF6",
            "gridcolor": "white",
            "gridwidth": 2,
            "linecolor": "white",
            "showbackground": true,
            "ticks": "",
            "zerolinecolor": "white"
           }
          },
          "shapedefaults": {
           "line": {
            "color": "#2a3f5f"
           }
          },
          "ternary": {
           "aaxis": {
            "gridcolor": "white",
            "linecolor": "white",
            "ticks": ""
           },
           "baxis": {
            "gridcolor": "white",
            "linecolor": "white",
            "ticks": ""
           },
           "bgcolor": "#E5ECF6",
           "caxis": {
            "gridcolor": "white",
            "linecolor": "white",
            "ticks": ""
           }
          },
          "title": {
           "x": 0.05
          },
          "xaxis": {
           "automargin": true,
           "gridcolor": "white",
           "linecolor": "white",
           "ticks": "",
           "title": {
            "standoff": 15
           },
           "zerolinecolor": "white",
           "zerolinewidth": 2
          },
          "yaxis": {
           "automargin": true,
           "gridcolor": "white",
           "linecolor": "white",
           "ticks": "",
           "title": {
            "standoff": 15
           },
           "zerolinecolor": "white",
           "zerolinewidth": 2
          }
         }
        },
        "title": {
         "text": "Path-Parkinson-Colon-Cancer-Scenario-B-without-blocking-colon"
        },
        "width": 800,
        "xaxis": {
         "rangeselector": {
          "buttons": [
           {
            "count": 7,
            "label": "1w",
            "step": "day",
            "stepmode": "backward"
           },
           {
            "count": 1,
            "label": "1m",
            "step": "month",
            "stepmode": "backward"
           },
           {
            "count": 6,
            "label": "6m",
            "step": "month",
            "stepmode": "backward"
           },
           {
            "count": 1,
            "label": "YTD",
            "step": "year",
            "stepmode": "todate"
           },
           {
            "count": 1,
            "label": "1y",
            "step": "year",
            "stepmode": "backward"
           },
           {
            "step": "all"
           }
          ]
         },
         "showgrid": false,
         "type": "date",
         "zeroline": false
        },
        "yaxis": {
         "autorange": false,
         "range": [
          -1,
          5
         ],
         "showgrid": false,
         "ticktext": [
          "take_pill_Pramipexol",
          "Neoadjuvant_chemoradiotherapy",
          "surgery_colon_cancer",
          "surgery_colon_cancer"
         ],
         "tickvals": [
          0,
          1,
          2,
          3
         ],
         "zeroline": false
        }
       }
      },
      "text/html": [
       "<div>\n",
       "        \n",
       "        \n",
       "            <div id=\"2cfe4f2b-95bc-47f9-af1a-47411def5496\" class=\"plotly-graph-div\" style=\"height:600px; width:800px;\"></div>\n",
       "            <script type=\"text/javascript\">\n",
       "                require([\"plotly\"], function(Plotly) {\n",
       "                    window.PLOTLYENV=window.PLOTLYENV || {};\n",
       "                    \n",
       "                if (document.getElementById(\"2cfe4f2b-95bc-47f9-af1a-47411def5496\")) {\n",
       "                    Plotly.newPlot(\n",
       "                        '2cfe4f2b-95bc-47f9-af1a-47411def5496',\n",
       "                        [{\"fill\": \"toself\", \"fillcolor\": \"rgb(0, 0, 220)\", \"hoverinfo\": \"name\", \"legendgroup\": \"rgb(0, 0, 220)\", \"mode\": \"none\", \"name\": \"Colon_cancer\", \"type\": \"scatter\", \"x\": [\"2018-04-12T14:50:33Z\", \"2018-06-01T14:50:33.0Z\", \"2018-06-01T14:50:33.0Z\", \"2018-04-12T14:50:33Z\", \"2018-04-12T14:50:33Z\", \"2018-06-01T14:50:33.0Z\", \"2018-06-06T14:50:33.0Z\", \"2018-06-06T14:50:33.0Z\", \"2018-06-01T14:50:33.0Z\"], \"y\": [0.8, 0.8, 1.2, 1.2, null, 1.8, 1.8, 2.2, 2.2]}, {\"fill\": \"toself\", \"fillcolor\": \"rgb(0, 220, 0)\", \"hoverinfo\": \"name\", \"legendgroup\": \"rgb(0, 220, 0)\", \"mode\": \"none\", \"name\": \"Parkinson\", \"type\": \"scatter\", \"x\": [\"2018-04-07T14:52:21.0Z\", \"2018-06-06T14:52:21.0Z\", \"2018-06-06T14:52:21.0Z\", \"2018-04-07T14:52:21.0Z\"], \"y\": [-0.2, -0.2, 0.2, 0.2]}, {\"fill\": \"toself\", \"fillcolor\": \"rgb(220, 0, 0)\", \"hoverinfo\": \"name\", \"legendgroup\": \"rgb(220, 0, 0)\", \"mode\": \"none\", \"name\": \"Conflict\", \"type\": \"scatter\", \"x\": [\"2018-06-01T14:50:33.0Z\", \"2018-06-06T14:50:33.0Z\", \"2018-06-06T14:50:33.0Z\", \"2018-06-01T14:50:33.0Z\"], \"y\": [2.8, 2.8, 3.2, 3.2]}, {\"legendgroup\": \"rgb(0, 0, 220)\", \"marker\": {\"color\": \"rgb(0, 0, 220)\", \"opacity\": 0, \"size\": 1}, \"mode\": \"markers\", \"name\": \"\", \"showlegend\": false, \"text\": [null, null, null, null], \"type\": \"scatter\", \"x\": [\"2018-04-12T14:50:33Z\", \"2018-06-01T14:50:33.0Z\", \"2018-06-01T14:50:33.0Z\", \"2018-06-06T14:50:33.0Z\"], \"y\": [1, 1, 2, 2]}, {\"legendgroup\": \"rgb(0, 220, 0)\", \"marker\": {\"color\": \"rgb(0, 220, 0)\", \"opacity\": 0, \"size\": 1}, \"mode\": \"markers\", \"name\": \"\", \"showlegend\": false, \"text\": [null, null], \"type\": \"scatter\", \"x\": [\"2018-04-07T14:52:21.0Z\", \"2018-06-06T14:52:21.0Z\"], \"y\": [0, 0]}, {\"legendgroup\": \"rgb(220, 0, 0)\", \"marker\": {\"color\": \"rgb(220, 0, 0)\", \"opacity\": 0, \"size\": 1}, \"mode\": \"markers\", \"name\": \"\", \"showlegend\": false, \"text\": [null, null], \"type\": \"scatter\", \"x\": [\"2018-06-01T14:50:33.0Z\", \"2018-06-06T14:50:33.0Z\"], \"y\": [3, 3]}],\n",
       "                        {\"autosize\": false, \"height\": 600, \"hovermode\": \"closest\", \"margin\": {\"l\": 200}, \"showlegend\": true, \"template\": {\"data\": {\"bar\": [{\"error_x\": {\"color\": \"#2a3f5f\"}, \"error_y\": {\"color\": \"#2a3f5f\"}, \"marker\": {\"line\": {\"color\": \"#E5ECF6\", \"width\": 0.5}}, \"type\": \"bar\"}], \"barpolar\": [{\"marker\": {\"line\": {\"color\": \"#E5ECF6\", \"width\": 0.5}}, \"type\": \"barpolar\"}], \"carpet\": [{\"aaxis\": {\"endlinecolor\": \"#2a3f5f\", \"gridcolor\": \"white\", \"linecolor\": \"white\", \"minorgridcolor\": \"white\", \"startlinecolor\": \"#2a3f5f\"}, \"baxis\": {\"endlinecolor\": \"#2a3f5f\", \"gridcolor\": \"white\", \"linecolor\": \"white\", \"minorgridcolor\": \"white\", \"startlinecolor\": \"#2a3f5f\"}, \"type\": \"carpet\"}], \"choropleth\": [{\"colorbar\": {\"outlinewidth\": 0, \"ticks\": \"\"}, \"type\": \"choropleth\"}], \"contour\": [{\"colorbar\": {\"outlinewidth\": 0, \"ticks\": \"\"}, \"colorscale\": [[0.0, \"#0d0887\"], [0.1111111111111111, \"#46039f\"], [0.2222222222222222, \"#7201a8\"], [0.3333333333333333, \"#9c179e\"], [0.4444444444444444, \"#bd3786\"], [0.5555555555555556, \"#d8576b\"], [0.6666666666666666, \"#ed7953\"], [0.7777777777777778, \"#fb9f3a\"], [0.8888888888888888, \"#fdca26\"], [1.0, \"#f0f921\"]], \"type\": \"contour\"}], \"contourcarpet\": [{\"colorbar\": {\"outlinewidth\": 0, \"ticks\": \"\"}, \"type\": \"contourcarpet\"}], \"heatmap\": [{\"colorbar\": {\"outlinewidth\": 0, \"ticks\": \"\"}, \"colorscale\": [[0.0, \"#0d0887\"], [0.1111111111111111, \"#46039f\"], [0.2222222222222222, \"#7201a8\"], [0.3333333333333333, \"#9c179e\"], [0.4444444444444444, \"#bd3786\"], [0.5555555555555556, \"#d8576b\"], [0.6666666666666666, \"#ed7953\"], [0.7777777777777778, \"#fb9f3a\"], [0.8888888888888888, \"#fdca26\"], [1.0, \"#f0f921\"]], \"type\": \"heatmap\"}], \"heatmapgl\": [{\"colorbar\": {\"outlinewidth\": 0, \"ticks\": \"\"}, \"colorscale\": [[0.0, \"#0d0887\"], [0.1111111111111111, \"#46039f\"], [0.2222222222222222, \"#7201a8\"], [0.3333333333333333, \"#9c179e\"], [0.4444444444444444, \"#bd3786\"], [0.5555555555555556, \"#d8576b\"], [0.6666666666666666, \"#ed7953\"], [0.7777777777777778, \"#fb9f3a\"], [0.8888888888888888, \"#fdca26\"], [1.0, \"#f0f921\"]], \"type\": \"heatmapgl\"}], \"histogram\": [{\"marker\": {\"colorbar\": {\"outlinewidth\": 0, \"ticks\": \"\"}}, \"type\": \"histogram\"}], \"histogram2d\": [{\"colorbar\": {\"outlinewidth\": 0, \"ticks\": \"\"}, \"colorscale\": [[0.0, \"#0d0887\"], [0.1111111111111111, \"#46039f\"], [0.2222222222222222, \"#7201a8\"], [0.3333333333333333, \"#9c179e\"], [0.4444444444444444, \"#bd3786\"], [0.5555555555555556, \"#d8576b\"], [0.6666666666666666, \"#ed7953\"], [0.7777777777777778, \"#fb9f3a\"], [0.8888888888888888, \"#fdca26\"], [1.0, \"#f0f921\"]], \"type\": \"histogram2d\"}], \"histogram2dcontour\": [{\"colorbar\": {\"outlinewidth\": 0, \"ticks\": \"\"}, \"colorscale\": [[0.0, \"#0d0887\"], [0.1111111111111111, \"#46039f\"], [0.2222222222222222, \"#7201a8\"], [0.3333333333333333, \"#9c179e\"], [0.4444444444444444, \"#bd3786\"], [0.5555555555555556, \"#d8576b\"], [0.6666666666666666, \"#ed7953\"], [0.7777777777777778, \"#fb9f3a\"], [0.8888888888888888, \"#fdca26\"], [1.0, \"#f0f921\"]], \"type\": \"histogram2dcontour\"}], \"mesh3d\": [{\"colorbar\": {\"outlinewidth\": 0, \"ticks\": \"\"}, \"type\": \"mesh3d\"}], \"parcoords\": [{\"line\": {\"colorbar\": {\"outlinewidth\": 0, \"ticks\": \"\"}}, \"type\": \"parcoords\"}], \"pie\": [{\"automargin\": true, \"type\": \"pie\"}], \"scatter\": [{\"marker\": {\"colorbar\": {\"outlinewidth\": 0, \"ticks\": \"\"}}, \"type\": \"scatter\"}], \"scatter3d\": [{\"line\": {\"colorbar\": {\"outlinewidth\": 0, \"ticks\": \"\"}}, \"marker\": {\"colorbar\": {\"outlinewidth\": 0, \"ticks\": \"\"}}, \"type\": \"scatter3d\"}], \"scattercarpet\": [{\"marker\": {\"colorbar\": {\"outlinewidth\": 0, \"ticks\": \"\"}}, \"type\": \"scattercarpet\"}], \"scattergeo\": [{\"marker\": {\"colorbar\": {\"outlinewidth\": 0, \"ticks\": \"\"}}, \"type\": \"scattergeo\"}], \"scattergl\": [{\"marker\": {\"colorbar\": {\"outlinewidth\": 0, \"ticks\": \"\"}}, \"type\": \"scattergl\"}], \"scattermapbox\": [{\"marker\": {\"colorbar\": {\"outlinewidth\": 0, \"ticks\": \"\"}}, \"type\": \"scattermapbox\"}], \"scatterpolar\": [{\"marker\": {\"colorbar\": {\"outlinewidth\": 0, \"ticks\": \"\"}}, \"type\": \"scatterpolar\"}], \"scatterpolargl\": [{\"marker\": {\"colorbar\": {\"outlinewidth\": 0, \"ticks\": \"\"}}, \"type\": \"scatterpolargl\"}], \"scatterternary\": [{\"marker\": {\"colorbar\": {\"outlinewidth\": 0, \"ticks\": \"\"}}, \"type\": \"scatterternary\"}], \"surface\": [{\"colorbar\": {\"outlinewidth\": 0, \"ticks\": \"\"}, \"colorscale\": [[0.0, \"#0d0887\"], [0.1111111111111111, \"#46039f\"], [0.2222222222222222, \"#7201a8\"], [0.3333333333333333, \"#9c179e\"], [0.4444444444444444, \"#bd3786\"], [0.5555555555555556, \"#d8576b\"], [0.6666666666666666, \"#ed7953\"], [0.7777777777777778, \"#fb9f3a\"], [0.8888888888888888, \"#fdca26\"], [1.0, \"#f0f921\"]], \"type\": \"surface\"}], \"table\": [{\"cells\": {\"fill\": {\"color\": \"#EBF0F8\"}, \"line\": {\"color\": \"white\"}}, \"header\": {\"fill\": {\"color\": \"#C8D4E3\"}, \"line\": {\"color\": \"white\"}}, \"type\": \"table\"}]}, \"layout\": {\"annotationdefaults\": {\"arrowcolor\": \"#2a3f5f\", \"arrowhead\": 0, \"arrowwidth\": 1}, \"coloraxis\": {\"colorbar\": {\"outlinewidth\": 0, \"ticks\": \"\"}}, \"colorscale\": {\"diverging\": [[0, \"#8e0152\"], [0.1, \"#c51b7d\"], [0.2, \"#de77ae\"], [0.3, \"#f1b6da\"], [0.4, \"#fde0ef\"], [0.5, \"#f7f7f7\"], [0.6, \"#e6f5d0\"], [0.7, \"#b8e186\"], [0.8, \"#7fbc41\"], [0.9, \"#4d9221\"], [1, \"#276419\"]], \"sequential\": [[0.0, \"#0d0887\"], [0.1111111111111111, \"#46039f\"], [0.2222222222222222, \"#7201a8\"], [0.3333333333333333, \"#9c179e\"], [0.4444444444444444, \"#bd3786\"], [0.5555555555555556, \"#d8576b\"], [0.6666666666666666, \"#ed7953\"], [0.7777777777777778, \"#fb9f3a\"], [0.8888888888888888, \"#fdca26\"], [1.0, \"#f0f921\"]], \"sequentialminus\": [[0.0, \"#0d0887\"], [0.1111111111111111, \"#46039f\"], [0.2222222222222222, \"#7201a8\"], [0.3333333333333333, \"#9c179e\"], [0.4444444444444444, \"#bd3786\"], [0.5555555555555556, \"#d8576b\"], [0.6666666666666666, \"#ed7953\"], [0.7777777777777778, \"#fb9f3a\"], [0.8888888888888888, \"#fdca26\"], [1.0, \"#f0f921\"]]}, \"colorway\": [\"#636efa\", \"#EF553B\", \"#00cc96\", \"#ab63fa\", \"#FFA15A\", \"#19d3f3\", \"#FF6692\", \"#B6E880\", \"#FF97FF\", \"#FECB52\"], \"font\": {\"color\": \"#2a3f5f\"}, \"geo\": {\"bgcolor\": \"white\", \"lakecolor\": \"white\", \"landcolor\": \"#E5ECF6\", \"showlakes\": true, \"showland\": true, \"subunitcolor\": \"white\"}, \"hoverlabel\": {\"align\": \"left\"}, \"hovermode\": \"closest\", \"mapbox\": {\"style\": \"light\"}, \"paper_bgcolor\": \"white\", \"plot_bgcolor\": \"#E5ECF6\", \"polar\": {\"angularaxis\": {\"gridcolor\": \"white\", \"linecolor\": \"white\", \"ticks\": \"\"}, \"bgcolor\": \"#E5ECF6\", \"radialaxis\": {\"gridcolor\": \"white\", \"linecolor\": \"white\", \"ticks\": \"\"}}, \"scene\": {\"xaxis\": {\"backgroundcolor\": \"#E5ECF6\", \"gridcolor\": \"white\", \"gridwidth\": 2, \"linecolor\": \"white\", \"showbackground\": true, \"ticks\": \"\", \"zerolinecolor\": \"white\"}, \"yaxis\": {\"backgroundcolor\": \"#E5ECF6\", \"gridcolor\": \"white\", \"gridwidth\": 2, \"linecolor\": \"white\", \"showbackground\": true, \"ticks\": \"\", \"zerolinecolor\": \"white\"}, \"zaxis\": {\"backgroundcolor\": \"#E5ECF6\", \"gridcolor\": \"white\", \"gridwidth\": 2, \"linecolor\": \"white\", \"showbackground\": true, \"ticks\": \"\", \"zerolinecolor\": \"white\"}}, \"shapedefaults\": {\"line\": {\"color\": \"#2a3f5f\"}}, \"ternary\": {\"aaxis\": {\"gridcolor\": \"white\", \"linecolor\": \"white\", \"ticks\": \"\"}, \"baxis\": {\"gridcolor\": \"white\", \"linecolor\": \"white\", \"ticks\": \"\"}, \"bgcolor\": \"#E5ECF6\", \"caxis\": {\"gridcolor\": \"white\", \"linecolor\": \"white\", \"ticks\": \"\"}}, \"title\": {\"x\": 0.05}, \"xaxis\": {\"automargin\": true, \"gridcolor\": \"white\", \"linecolor\": \"white\", \"ticks\": \"\", \"title\": {\"standoff\": 15}, \"zerolinecolor\": \"white\", \"zerolinewidth\": 2}, \"yaxis\": {\"automargin\": true, \"gridcolor\": \"white\", \"linecolor\": \"white\", \"ticks\": \"\", \"title\": {\"standoff\": 15}, \"zerolinecolor\": \"white\", \"zerolinewidth\": 2}}}, \"title\": {\"text\": \"Path-Parkinson-Colon-Cancer-Scenario-B-without-blocking-colon\"}, \"width\": 800, \"xaxis\": {\"rangeselector\": {\"buttons\": [{\"count\": 7, \"label\": \"1w\", \"step\": \"day\", \"stepmode\": \"backward\"}, {\"count\": 1, \"label\": \"1m\", \"step\": \"month\", \"stepmode\": \"backward\"}, {\"count\": 6, \"label\": \"6m\", \"step\": \"month\", \"stepmode\": \"backward\"}, {\"count\": 1, \"label\": \"YTD\", \"step\": \"year\", \"stepmode\": \"todate\"}, {\"count\": 1, \"label\": \"1y\", \"step\": \"year\", \"stepmode\": \"backward\"}, {\"step\": \"all\"}]}, \"showgrid\": false, \"type\": \"date\", \"zeroline\": false}, \"yaxis\": {\"autorange\": false, \"range\": [-1, 5], \"showgrid\": false, \"ticktext\": [\"take_pill_Pramipexol\", \"Neoadjuvant_chemoradiotherapy\", \"surgery_colon_cancer\", \"surgery_colon_cancer\"], \"tickvals\": [0, 1, 2, 3], \"zeroline\": false}},\n",
       "                        {\"responsive\": true}\n",
       "                    ).then(function(){\n",
       "                            \n",
       "var gd = document.getElementById('2cfe4f2b-95bc-47f9-af1a-47411def5496');\n",
       "var x = new MutationObserver(function (mutations, observer) {{\n",
       "        var display = window.getComputedStyle(gd).display;\n",
       "        if (!display || display === 'none') {{\n",
       "            console.log([gd, 'removed!']);\n",
       "            Plotly.purge(gd);\n",
       "            observer.disconnect();\n",
       "        }}\n",
       "}});\n",
       "\n",
       "// Listen for the removal of the full notebook cells\n",
       "var notebookContainer = gd.closest('#notebook-container');\n",
       "if (notebookContainer) {{\n",
       "    x.observe(notebookContainer, {childList: true});\n",
       "}}\n",
       "\n",
       "// Listen for the clearing of the current output cell\n",
       "var outputEl = gd.closest('.output');\n",
       "if (outputEl) {{\n",
       "    x.observe(outputEl, {childList: true});\n",
       "}}\n",
       "\n",
       "                        })\n",
       "                };\n",
       "                });\n",
       "            </script>\n",
       "        </div>"
      ]
     },
     "metadata": {},
     "output_type": "display_data"
    }
   ],
   "source": [
    "!eye --nope ../data/data-colon-cancer-t3-b.ttl ../data/t3.ttl ../parkinson/gps-desc.n3 ../parkinson/score-calculation.n3  ../colon-cancer/gps-desc.n3 ../colon-cancer/gps-knowledge.n3 ../path/aggreagatedPath-t3-b.n3 ../knowledge/knowledge.n3 ../engine/gps-plugin-validation.n3 --query  ../engine/gps-alert-detection.csvq --strings >../path/detected-conflict-t3-b.csv\n",
    "\n",
    "conflict_action_b = pd.read_csv('../path/detected-conflict-t3-b.csv', sep=',', encoding = 'utf-8')\n",
    "\n",
    "df_path_b = pd.read_csv('../path/aggreagatedPath-plot-t3-b.csv', sep=',', encoding = 'utf-8')\n",
    "df_b = [dict(Task=df_path_b.action_name[0], Start=df_path_b.start_time[0], Finish=df_path_b.end_time[0], Resource=df_path_b.map_name[0])]\n",
    "i=1\n",
    "while i < len(df_path_b):\n",
    "    df_b.append( dict(Task=df_path_b.action_name[i], Start=df_path_b.start_time[i], Finish=df_path_b.end_time[i], Resource=df_path_b.map_name[i]) )\n",
    "    i+=1\n",
    "df_b.append( dict(Task=conflict_action_b.action_name[0], Start=conflict_action_b.start_time[0], Finish=conflict_action_b.end_time[0], Resource=conflict_action_b.map_name[0]) )\n",
    "\n",
    "\n",
    "colors = dict(Conflict = 'rgb(220, 0, 0)',\n",
    "              Colon_cancer = 'rgb(0, 0, 220)',\n",
    "              Parkinson = 'rgb(0, 220, 0)')\n",
    "\n",
    "fig_b_alert = ff.create_gantt(df_b, colors=colors, index_col='Resource', show_colorbar=True,  title='Path-Parkinson-Colon-Cancer-Scenario-B-without-blocking-colon')\n",
    "fig_b_alert['layout'].update(autosize=False, width=800, height=600, margin=dict(l=200))\n",
    "\n",
    "iplot(fig_b_alert, show_link=False)"
   ]
  },
  {
   "cell_type": "markdown",
   "metadata": {
    "colab_type": "text",
    "id": "C4WFcVAg-p5d"
   },
   "source": [
    "### Break down the task of adjuvant_chemoradiotherapy into a set of episodes"
   ]
  },
  {
   "cell_type": "markdown",
   "metadata": {
    "colab_type": "text",
    "id": "PGdA54HH-p5d"
   },
   "source": [
    "#### Generate query of finishing the task of adjuvant_chemoradiotherapy (that will be used to generate sub steps)."
   ]
  },
  {
   "cell_type": "code",
   "execution_count": 85,
   "metadata": {
    "colab": {},
    "colab_type": "code",
    "id": "UaZBaawN-p5e",
    "outputId": "fd459ad6-fd90-4469-ba3b-31f0807a7eb4"
   },
   "outputs": [
    {
     "name": "stderr",
     "output_type": "stream",
     "text": [
      "eye --nope ../path/initial-temporal-path-t3-a.n3 ../colon-cancer/gps-desc.n3 --query ../colon-cancer/details/gps-adjuvant-chemoradiotherapy-goal-gen.n3q\n",
      "EYE v20.0910.0008 josd\n",
      "SWI-Prolog version 8.0.3\n",
      "starting 15 [msec cputime] 89 [msec walltime]\n",
      "GET file:///d:/github/gps4icdemo/path/initial-temporal-path-t3-a.n3 SC=1\n",
      "GET file:///d:/github/gps4icdemo/colon-cancer/gps-desc.n3 SC=3\n",
      "GET file:///d:/github/gps4icdemo/colon-cancer/details/gps-adjuvant-chemoradiotherapy-goal-gen.n3q SC=1\n",
      "networking 16 [msec cputime] 38 [msec walltime]\n",
      "reasoning 0 [msec cputime] 0 [msec walltime]\n",
      "2021-01-05T21:43:42.814Z in=5 out=1 ent=1 step=2 brake=1 inf=99800 sec=0.031 inf/sec=3219355\n",
      "\n"
     ]
    }
   ],
   "source": [
    "!eye --nope ../path/initial-temporal-path-t3-a.n3 ../colon-cancer/gps-desc.n3 --query ../colon-cancer/details/gps-adjuvant-chemoradiotherapy-goal-gen.n3q >../colon-cancer/details/goal_adjuvant_chemoradiotherapy.n3q"
   ]
  },
  {
   "cell_type": "markdown",
   "metadata": {
    "colab_type": "text",
    "id": "1IVTsKm--p5j"
   },
   "source": [
    "#### Retrieve the start time of the adjuvant_chemoradiotherapy."
   ]
  },
  {
   "cell_type": "code",
   "execution_count": 86,
   "metadata": {
    "colab": {},
    "colab_type": "code",
    "id": "5z-jWMds-p5l",
    "outputId": "bef4b81d-d05f-45a2-815c-eee7504f859f"
   },
   "outputs": [
    {
     "name": "stderr",
     "output_type": "stream",
     "text": [
      "eye --nope ../path/initial-temporal-path-t3-a.n3 --query ../colon-cancer/details/gps-adjuvant-chemoradiotherapy-time-gen.n3q\n",
      "EYE v20.0910.0008 josd\n",
      "SWI-Prolog version 8.0.3\n",
      "starting 15 [msec cputime] 79 [msec walltime]\n",
      "GET file:///d:/github/gps4icdemo/path/initial-temporal-path-t3-a.n3 SC=1\n",
      "GET file:///d:/github/gps4icdemo/colon-cancer/details/gps-adjuvant-chemoradiotherapy-time-gen.n3q SC=1\n",
      "networking 0 [msec cputime] 9 [msec walltime]\n",
      "reasoning 0 [msec cputime] 1 [msec walltime]\n",
      "2021-01-05T21:43:43.076Z in=2 out=1 ent=1 step=2 brake=1 inf=35927 sec=0.015 inf/sec=2395133\n",
      "\n"
     ]
    }
   ],
   "source": [
    "!eye --nope ../path/initial-temporal-path-t3-a.n3 --query ../colon-cancer/details/gps-adjuvant-chemoradiotherapy-time-gen.n3q >../colon-cancer/details/adjuvant_chemoradiotherapy_start_time.ttl"
   ]
  },
  {
   "cell_type": "markdown",
   "metadata": {
    "colab_type": "text",
    "id": "vQhG5nzh-p5y"
   },
   "source": [
    "#### Generate sub-plans for adjuvant-chemoradiotherapy."
   ]
  },
  {
   "cell_type": "code",
   "execution_count": 87,
   "metadata": {
    "colab": {},
    "colab_type": "code",
    "id": "2oAzFvjx-p51",
    "outputId": "1a157a29-db19-4646-9e11-994c4cfcdad1"
   },
   "outputs": [
    {
     "name": "stderr",
     "output_type": "stream",
     "text": [
      "eye --nope ../path/initial-temporal-path-t3-a.n3 ../colon-cancer/gps-desc.n3 ../colon-cancer/details/gps-desc-exd.n3 ../engine/gps-plugin.n3 --query ../colon-cancer/details/goal_adjuvant_chemoradiotherapy.n3q\n",
      "EYE v20.0910.0008 josd\n",
      "SWI-Prolog version 8.0.3\n",
      "starting 31 [msec cputime] 73 [msec walltime]\n",
      "GET file:///d:/github/gps4icdemo/path/initial-temporal-path-t3-a.n3 SC=1\n",
      "GET file:///d:/github/gps4icdemo/colon-cancer/gps-desc.n3 SC=3\n",
      "GET file:///d:/github/gps4icdemo/colon-cancer/details/gps-desc-exd.n3 SC=9\n",
      "GET file:///d:/github/gps4icdemo/engine/gps-plugin.n3 SC=7\n",
      "GET file:///d:/github/gps4icdemo/colon-cancer/details/goal_adjuvant_chemoradiotherapy.n3q SC=1\n",
      "networking 31 [msec cputime] 54 [msec walltime]\n",
      "reasoning 0 [msec cputime] 1 [msec walltime]\n",
      "2021-01-05T21:43:43.378Z in=21 out=1 ent=1 step=4 brake=2 inf=191683 sec=0.062 inf/sec=3091661\n",
      "\n"
     ]
    }
   ],
   "source": [
    "!eye --nope ../path/initial-temporal-path-t3-a.n3 ../colon-cancer/gps-desc.n3 ../colon-cancer/details/gps-desc-exd.n3 ../engine/gps-plugin.n3 --query ../colon-cancer/details/goal_adjuvant_chemoradiotherapy.n3q >../path/path_adjuvant_chemoradiotherapy.n3"
   ]
  },
  {
   "cell_type": "markdown",
   "metadata": {
    "colab_type": "text",
    "id": "OFHR_yHQ-p58"
   },
   "source": [
    "#### Temporally process the generated path, to add start and end time for each episode."
   ]
  },
  {
   "cell_type": "code",
   "execution_count": 88,
   "metadata": {
    "colab": {},
    "colab_type": "code",
    "id": "g6vpRfC2-p58",
    "outputId": "638483f2-c182-4f65-88bc-5ae4329de2b9"
   },
   "outputs": [
    {
     "name": "stderr",
     "output_type": "stream",
     "text": [
      "eye --nope ../path/path_adjuvant_chemoradiotherapy-selected.n3 ../colon-cancer/details/adjuvant_chemoradiotherapy_start_time.ttl ../engine/gps-temporal-rule.n3 ../colon-cancer/details/gps-desc-exd.n3 --query ../engine/gps-temporal-query.n3q\n",
      "EYE v20.0910.0008 josd\n",
      "SWI-Prolog version 8.0.3\n",
      "starting 15 [msec cputime] 74 [msec walltime]\n",
      "GET file:///d:/github/gps4icdemo/path/path_adjuvant_chemoradiotherapy-selected.n3 SC=1\n",
      "GET file:///d:/github/gps4icdemo/colon-cancer/details/adjuvant_chemoradiotherapy_start_time.ttl SC=1\n",
      "GET file:///d:/github/gps4icdemo/engine/gps-temporal-rule.n3 SC=6\n",
      "GET file:///d:/github/gps4icdemo/colon-cancer/details/gps-desc-exd.n3 SC=9\n",
      "GET file:///d:/github/gps4icdemo/engine/gps-temporal-query.n3q SC=1\n",
      "networking 0 [msec cputime] 38 [msec walltime]\n",
      "reasoning 16 [msec cputime] 15 [msec walltime]\n",
      "2021-01-05T21:43:43.681Z in=18 out=1 ent=24 step=81 brake=10 inf=240500 sec=0.031 inf/sec=7758065\n",
      "\n"
     ]
    }
   ],
   "source": [
    "!eye --nope ../path/path_adjuvant_chemoradiotherapy-selected.n3 ../colon-cancer/details/adjuvant_chemoradiotherapy_start_time.ttl ../engine/gps-temporal-rule.n3 ../colon-cancer/details/gps-desc-exd.n3 --query ../engine/gps-temporal-query.n3q>../path/path_adjuvant_chemoradiotherapy_temporal.n3"
   ]
  },
  {
   "cell_type": "markdown",
   "metadata": {
    "colab_type": "text",
    "id": "h5CRS0px-p6C"
   },
   "source": [
    "#### Generate the csv file for visualization."
   ]
  },
  {
   "cell_type": "code",
   "execution_count": 89,
   "metadata": {
    "colab": {},
    "colab_type": "code",
    "id": "pUHWtuVP-p6F",
    "outputId": "532316d6-9a11-4863-ec18-54d40e175546"
   },
   "outputs": [
    {
     "name": "stderr",
     "output_type": "stream",
     "text": [
      "eye --nope ../path/path_adjuvant_chemoradiotherapy_temporal.n3 ../colon-cancer/details/gps-desc-exd.n3 ../engine/path-processor-visual.n3 --query ../engine/path-processor-visual.csvq --strings\n",
      "EYE v20.0910.0008 josd\n",
      "SWI-Prolog version 8.0.3\n",
      "starting 0 [msec cputime] 74 [msec walltime]\n",
      "GET file:///d:/github/gps4icdemo/path/path_adjuvant_chemoradiotherapy_temporal.n3 SC=1\n",
      "GET file:///d:/github/gps4icdemo/colon-cancer/details/gps-desc-exd.n3 SC=9\n",
      "GET file:///d:/github/gps4icdemo/engine/path-processor-visual.n3 SC=2\n",
      "GET file:///d:/github/gps4icdemo/engine/path-processor-visual.csvq SC=1\n",
      "networking 31 [msec cputime] 34 [msec walltime]\n",
      "reasoning 0 [msec cputime] 5 [msec walltime]\n",
      "2021-01-05T21:43:43.969Z in=13 out=16 ent=4 step=16 brake=2 inf=172818 sec=0.031 inf/sec=5574774\n",
      "\n"
     ]
    }
   ],
   "source": [
    "!eye --nope ../path/path_adjuvant_chemoradiotherapy_temporal.n3 ../colon-cancer/details/gps-desc-exd.n3 ../engine/path-processor-visual.n3 --query ../engine/path-processor-visual.csvq --strings >../path/path_adjuvant_chemoradiotherapy.csv"
   ]
  },
  {
   "cell_type": "markdown",
   "metadata": {
    "colab_type": "text",
    "id": "epKPGFbb-p6P"
   },
   "source": [
    "#### Visualize the output"
   ]
  },
  {
   "cell_type": "code",
   "execution_count": 90,
   "metadata": {
    "colab": {},
    "colab_type": "code",
    "id": "Jcopwr1L-p6P",
    "outputId": "13b428e1-911d-46ff-c428-d736a0b05340"
   },
   "outputs": [
    {
     "data": {
      "application/vnd.plotly.v1+json": {
       "config": {
        "linkText": "Export to plot.ly",
        "plotlyServerURL": "https://plot.ly",
        "showLink": false
       },
       "data": [
        {
         "fill": "toself",
         "fillcolor": "rgb(0, 0, 220)",
         "hoverinfo": "name",
         "legendgroup": "rgb(0, 0, 220)",
         "mode": "none",
         "name": "Colon_cancer",
         "type": "scatter",
         "x": [
          "2018-04-12T14:50:33Z",
          "2018-04-17T14:50:33.0Z",
          "2018-04-17T14:50:33.0Z",
          "2018-04-12T14:50:33Z",
          "2018-04-12T14:50:33Z",
          "2018-04-17T14:50:33.0Z",
          "2018-07-06T14:50:33.0Z",
          "2018-07-06T14:50:33.0Z",
          "2018-04-17T14:50:33.0Z"
         ],
         "y": [
          0.8,
          0.8,
          1.2,
          1.2,
          null,
          1.8,
          1.8,
          2.2,
          2.2
         ]
        },
        {
         "fill": "toself",
         "fillcolor": "rgb(0, 220, 0)",
         "hoverinfo": "name",
         "legendgroup": "rgb(0, 220, 0)",
         "mode": "none",
         "name": "Parkinson",
         "type": "scatter",
         "x": [
          "2018-04-07T14:52:21.0Z",
          "2018-06-06T14:52:21.0Z",
          "2018-06-06T14:52:21.0Z",
          "2018-04-07T14:52:21.0Z"
         ],
         "y": [
          -0.2,
          -0.2,
          0.2,
          0.2
         ]
        },
        {
         "fill": "toself",
         "fillcolor": "rgb(220, 0, 0)",
         "hoverinfo": "name",
         "legendgroup": "rgb(220, 0, 0)",
         "mode": "none",
         "name": "Conflict",
         "type": "scatter",
         "x": [
          "2018-04-12T14:50:33Z",
          "2018-04-17T14:50:33.0Z",
          "2018-04-17T14:50:33.0Z",
          "2018-04-12T14:50:33Z"
         ],
         "y": [
          2.8,
          2.8,
          3.2,
          3.2
         ]
        },
        {
         "fill": "toself",
         "fillcolor": "rgb(60, 60, 60)",
         "hoverinfo": "name",
         "legendgroup": "rgb(60, 60, 60)",
         "mode": "none",
         "name": "Colon_cancer_a_c",
         "type": "scatter",
         "x": [
          "2018-04-17T14:50:33Z",
          "2018-05-07T14:50:33.0Z",
          "2018-05-07T14:50:33.0Z",
          "2018-04-17T14:50:33Z",
          "2018-04-17T14:50:33Z",
          "2018-05-07T14:50:33.0Z",
          "2018-05-27T14:50:33.0Z",
          "2018-05-27T14:50:33.0Z",
          "2018-05-07T14:50:33.0Z",
          "2018-05-07T14:50:33.0Z",
          "2018-05-27T14:50:33.0Z",
          "2018-06-16T14:50:33.0Z",
          "2018-06-16T14:50:33.0Z",
          "2018-05-27T14:50:33.0Z",
          "2018-05-27T14:50:33.0Z",
          "2018-06-16T14:50:33.0Z",
          "2018-07-06T14:50:33.0Z",
          "2018-07-06T14:50:33.0Z",
          "2018-06-16T14:50:33.0Z"
         ],
         "y": [
          3.8,
          3.8,
          4.2,
          4.2,
          null,
          4.8,
          4.8,
          5.2,
          5.2,
          null,
          5.8,
          5.8,
          6.2,
          6.2,
          null,
          6.8,
          6.8,
          7.2,
          7.2
         ]
        },
        {
         "legendgroup": "rgb(0, 0, 220)",
         "marker": {
          "color": "rgb(0, 0, 220)",
          "opacity": 0,
          "size": 1
         },
         "mode": "markers",
         "name": "",
         "showlegend": false,
         "text": [
          null,
          null,
          null,
          null
         ],
         "type": "scatter",
         "x": [
          "2018-04-12T14:50:33Z",
          "2018-04-17T14:50:33.0Z",
          "2018-04-17T14:50:33.0Z",
          "2018-07-06T14:50:33.0Z"
         ],
         "y": [
          1,
          1,
          2,
          2
         ]
        },
        {
         "legendgroup": "rgb(0, 220, 0)",
         "marker": {
          "color": "rgb(0, 220, 0)",
          "opacity": 0,
          "size": 1
         },
         "mode": "markers",
         "name": "",
         "showlegend": false,
         "text": [
          null,
          null
         ],
         "type": "scatter",
         "x": [
          "2018-04-07T14:52:21.0Z",
          "2018-06-06T14:52:21.0Z"
         ],
         "y": [
          0,
          0
         ]
        },
        {
         "legendgroup": "rgb(220, 0, 0)",
         "marker": {
          "color": "rgb(220, 0, 0)",
          "opacity": 0,
          "size": 1
         },
         "mode": "markers",
         "name": "",
         "showlegend": false,
         "text": [
          null,
          null
         ],
         "type": "scatter",
         "x": [
          "2018-04-12T14:50:33Z",
          "2018-04-17T14:50:33.0Z"
         ],
         "y": [
          3,
          3
         ]
        },
        {
         "legendgroup": "rgb(60, 60, 60)",
         "marker": {
          "color": "rgb(60, 60, 60)",
          "opacity": 0,
          "size": 1
         },
         "mode": "markers",
         "name": "",
         "showlegend": false,
         "text": [
          null,
          null,
          null,
          null,
          null,
          null,
          null,
          null
         ],
         "type": "scatter",
         "x": [
          "2018-04-17T14:50:33Z",
          "2018-05-07T14:50:33.0Z",
          "2018-05-07T14:50:33.0Z",
          "2018-05-27T14:50:33.0Z",
          "2018-05-27T14:50:33.0Z",
          "2018-06-16T14:50:33.0Z",
          "2018-06-16T14:50:33.0Z",
          "2018-07-06T14:50:33.0Z"
         ],
         "y": [
          4,
          4,
          5,
          5,
          6,
          6,
          7,
          7
         ]
        }
       ],
       "layout": {
        "autosize": false,
        "height": 600,
        "hovermode": "closest",
        "margin": {
         "l": 200
        },
        "showlegend": true,
        "template": {
         "data": {
          "bar": [
           {
            "error_x": {
             "color": "#2a3f5f"
            },
            "error_y": {
             "color": "#2a3f5f"
            },
            "marker": {
             "line": {
              "color": "#E5ECF6",
              "width": 0.5
             }
            },
            "type": "bar"
           }
          ],
          "barpolar": [
           {
            "marker": {
             "line": {
              "color": "#E5ECF6",
              "width": 0.5
             }
            },
            "type": "barpolar"
           }
          ],
          "carpet": [
           {
            "aaxis": {
             "endlinecolor": "#2a3f5f",
             "gridcolor": "white",
             "linecolor": "white",
             "minorgridcolor": "white",
             "startlinecolor": "#2a3f5f"
            },
            "baxis": {
             "endlinecolor": "#2a3f5f",
             "gridcolor": "white",
             "linecolor": "white",
             "minorgridcolor": "white",
             "startlinecolor": "#2a3f5f"
            },
            "type": "carpet"
           }
          ],
          "choropleth": [
           {
            "colorbar": {
             "outlinewidth": 0,
             "ticks": ""
            },
            "type": "choropleth"
           }
          ],
          "contour": [
           {
            "colorbar": {
             "outlinewidth": 0,
             "ticks": ""
            },
            "colorscale": [
             [
              0,
              "#0d0887"
             ],
             [
              0.1111111111111111,
              "#46039f"
             ],
             [
              0.2222222222222222,
              "#7201a8"
             ],
             [
              0.3333333333333333,
              "#9c179e"
             ],
             [
              0.4444444444444444,
              "#bd3786"
             ],
             [
              0.5555555555555556,
              "#d8576b"
             ],
             [
              0.6666666666666666,
              "#ed7953"
             ],
             [
              0.7777777777777778,
              "#fb9f3a"
             ],
             [
              0.8888888888888888,
              "#fdca26"
             ],
             [
              1,
              "#f0f921"
             ]
            ],
            "type": "contour"
           }
          ],
          "contourcarpet": [
           {
            "colorbar": {
             "outlinewidth": 0,
             "ticks": ""
            },
            "type": "contourcarpet"
           }
          ],
          "heatmap": [
           {
            "colorbar": {
             "outlinewidth": 0,
             "ticks": ""
            },
            "colorscale": [
             [
              0,
              "#0d0887"
             ],
             [
              0.1111111111111111,
              "#46039f"
             ],
             [
              0.2222222222222222,
              "#7201a8"
             ],
             [
              0.3333333333333333,
              "#9c179e"
             ],
             [
              0.4444444444444444,
              "#bd3786"
             ],
             [
              0.5555555555555556,
              "#d8576b"
             ],
             [
              0.6666666666666666,
              "#ed7953"
             ],
             [
              0.7777777777777778,
              "#fb9f3a"
             ],
             [
              0.8888888888888888,
              "#fdca26"
             ],
             [
              1,
              "#f0f921"
             ]
            ],
            "type": "heatmap"
           }
          ],
          "heatmapgl": [
           {
            "colorbar": {
             "outlinewidth": 0,
             "ticks": ""
            },
            "colorscale": [
             [
              0,
              "#0d0887"
             ],
             [
              0.1111111111111111,
              "#46039f"
             ],
             [
              0.2222222222222222,
              "#7201a8"
             ],
             [
              0.3333333333333333,
              "#9c179e"
             ],
             [
              0.4444444444444444,
              "#bd3786"
             ],
             [
              0.5555555555555556,
              "#d8576b"
             ],
             [
              0.6666666666666666,
              "#ed7953"
             ],
             [
              0.7777777777777778,
              "#fb9f3a"
             ],
             [
              0.8888888888888888,
              "#fdca26"
             ],
             [
              1,
              "#f0f921"
             ]
            ],
            "type": "heatmapgl"
           }
          ],
          "histogram": [
           {
            "marker": {
             "colorbar": {
              "outlinewidth": 0,
              "ticks": ""
             }
            },
            "type": "histogram"
           }
          ],
          "histogram2d": [
           {
            "colorbar": {
             "outlinewidth": 0,
             "ticks": ""
            },
            "colorscale": [
             [
              0,
              "#0d0887"
             ],
             [
              0.1111111111111111,
              "#46039f"
             ],
             [
              0.2222222222222222,
              "#7201a8"
             ],
             [
              0.3333333333333333,
              "#9c179e"
             ],
             [
              0.4444444444444444,
              "#bd3786"
             ],
             [
              0.5555555555555556,
              "#d8576b"
             ],
             [
              0.6666666666666666,
              "#ed7953"
             ],
             [
              0.7777777777777778,
              "#fb9f3a"
             ],
             [
              0.8888888888888888,
              "#fdca26"
             ],
             [
              1,
              "#f0f921"
             ]
            ],
            "type": "histogram2d"
           }
          ],
          "histogram2dcontour": [
           {
            "colorbar": {
             "outlinewidth": 0,
             "ticks": ""
            },
            "colorscale": [
             [
              0,
              "#0d0887"
             ],
             [
              0.1111111111111111,
              "#46039f"
             ],
             [
              0.2222222222222222,
              "#7201a8"
             ],
             [
              0.3333333333333333,
              "#9c179e"
             ],
             [
              0.4444444444444444,
              "#bd3786"
             ],
             [
              0.5555555555555556,
              "#d8576b"
             ],
             [
              0.6666666666666666,
              "#ed7953"
             ],
             [
              0.7777777777777778,
              "#fb9f3a"
             ],
             [
              0.8888888888888888,
              "#fdca26"
             ],
             [
              1,
              "#f0f921"
             ]
            ],
            "type": "histogram2dcontour"
           }
          ],
          "mesh3d": [
           {
            "colorbar": {
             "outlinewidth": 0,
             "ticks": ""
            },
            "type": "mesh3d"
           }
          ],
          "parcoords": [
           {
            "line": {
             "colorbar": {
              "outlinewidth": 0,
              "ticks": ""
             }
            },
            "type": "parcoords"
           }
          ],
          "pie": [
           {
            "automargin": true,
            "type": "pie"
           }
          ],
          "scatter": [
           {
            "marker": {
             "colorbar": {
              "outlinewidth": 0,
              "ticks": ""
             }
            },
            "type": "scatter"
           }
          ],
          "scatter3d": [
           {
            "line": {
             "colorbar": {
              "outlinewidth": 0,
              "ticks": ""
             }
            },
            "marker": {
             "colorbar": {
              "outlinewidth": 0,
              "ticks": ""
             }
            },
            "type": "scatter3d"
           }
          ],
          "scattercarpet": [
           {
            "marker": {
             "colorbar": {
              "outlinewidth": 0,
              "ticks": ""
             }
            },
            "type": "scattercarpet"
           }
          ],
          "scattergeo": [
           {
            "marker": {
             "colorbar": {
              "outlinewidth": 0,
              "ticks": ""
             }
            },
            "type": "scattergeo"
           }
          ],
          "scattergl": [
           {
            "marker": {
             "colorbar": {
              "outlinewidth": 0,
              "ticks": ""
             }
            },
            "type": "scattergl"
           }
          ],
          "scattermapbox": [
           {
            "marker": {
             "colorbar": {
              "outlinewidth": 0,
              "ticks": ""
             }
            },
            "type": "scattermapbox"
           }
          ],
          "scatterpolar": [
           {
            "marker": {
             "colorbar": {
              "outlinewidth": 0,
              "ticks": ""
             }
            },
            "type": "scatterpolar"
           }
          ],
          "scatterpolargl": [
           {
            "marker": {
             "colorbar": {
              "outlinewidth": 0,
              "ticks": ""
             }
            },
            "type": "scatterpolargl"
           }
          ],
          "scatterternary": [
           {
            "marker": {
             "colorbar": {
              "outlinewidth": 0,
              "ticks": ""
             }
            },
            "type": "scatterternary"
           }
          ],
          "surface": [
           {
            "colorbar": {
             "outlinewidth": 0,
             "ticks": ""
            },
            "colorscale": [
             [
              0,
              "#0d0887"
             ],
             [
              0.1111111111111111,
              "#46039f"
             ],
             [
              0.2222222222222222,
              "#7201a8"
             ],
             [
              0.3333333333333333,
              "#9c179e"
             ],
             [
              0.4444444444444444,
              "#bd3786"
             ],
             [
              0.5555555555555556,
              "#d8576b"
             ],
             [
              0.6666666666666666,
              "#ed7953"
             ],
             [
              0.7777777777777778,
              "#fb9f3a"
             ],
             [
              0.8888888888888888,
              "#fdca26"
             ],
             [
              1,
              "#f0f921"
             ]
            ],
            "type": "surface"
           }
          ],
          "table": [
           {
            "cells": {
             "fill": {
              "color": "#EBF0F8"
             },
             "line": {
              "color": "white"
             }
            },
            "header": {
             "fill": {
              "color": "#C8D4E3"
             },
             "line": {
              "color": "white"
             }
            },
            "type": "table"
           }
          ]
         },
         "layout": {
          "annotationdefaults": {
           "arrowcolor": "#2a3f5f",
           "arrowhead": 0,
           "arrowwidth": 1
          },
          "coloraxis": {
           "colorbar": {
            "outlinewidth": 0,
            "ticks": ""
           }
          },
          "colorscale": {
           "diverging": [
            [
             0,
             "#8e0152"
            ],
            [
             0.1,
             "#c51b7d"
            ],
            [
             0.2,
             "#de77ae"
            ],
            [
             0.3,
             "#f1b6da"
            ],
            [
             0.4,
             "#fde0ef"
            ],
            [
             0.5,
             "#f7f7f7"
            ],
            [
             0.6,
             "#e6f5d0"
            ],
            [
             0.7,
             "#b8e186"
            ],
            [
             0.8,
             "#7fbc41"
            ],
            [
             0.9,
             "#4d9221"
            ],
            [
             1,
             "#276419"
            ]
           ],
           "sequential": [
            [
             0,
             "#0d0887"
            ],
            [
             0.1111111111111111,
             "#46039f"
            ],
            [
             0.2222222222222222,
             "#7201a8"
            ],
            [
             0.3333333333333333,
             "#9c179e"
            ],
            [
             0.4444444444444444,
             "#bd3786"
            ],
            [
             0.5555555555555556,
             "#d8576b"
            ],
            [
             0.6666666666666666,
             "#ed7953"
            ],
            [
             0.7777777777777778,
             "#fb9f3a"
            ],
            [
             0.8888888888888888,
             "#fdca26"
            ],
            [
             1,
             "#f0f921"
            ]
           ],
           "sequentialminus": [
            [
             0,
             "#0d0887"
            ],
            [
             0.1111111111111111,
             "#46039f"
            ],
            [
             0.2222222222222222,
             "#7201a8"
            ],
            [
             0.3333333333333333,
             "#9c179e"
            ],
            [
             0.4444444444444444,
             "#bd3786"
            ],
            [
             0.5555555555555556,
             "#d8576b"
            ],
            [
             0.6666666666666666,
             "#ed7953"
            ],
            [
             0.7777777777777778,
             "#fb9f3a"
            ],
            [
             0.8888888888888888,
             "#fdca26"
            ],
            [
             1,
             "#f0f921"
            ]
           ]
          },
          "colorway": [
           "#636efa",
           "#EF553B",
           "#00cc96",
           "#ab63fa",
           "#FFA15A",
           "#19d3f3",
           "#FF6692",
           "#B6E880",
           "#FF97FF",
           "#FECB52"
          ],
          "font": {
           "color": "#2a3f5f"
          },
          "geo": {
           "bgcolor": "white",
           "lakecolor": "white",
           "landcolor": "#E5ECF6",
           "showlakes": true,
           "showland": true,
           "subunitcolor": "white"
          },
          "hoverlabel": {
           "align": "left"
          },
          "hovermode": "closest",
          "mapbox": {
           "style": "light"
          },
          "paper_bgcolor": "white",
          "plot_bgcolor": "#E5ECF6",
          "polar": {
           "angularaxis": {
            "gridcolor": "white",
            "linecolor": "white",
            "ticks": ""
           },
           "bgcolor": "#E5ECF6",
           "radialaxis": {
            "gridcolor": "white",
            "linecolor": "white",
            "ticks": ""
           }
          },
          "scene": {
           "xaxis": {
            "backgroundcolor": "#E5ECF6",
            "gridcolor": "white",
            "gridwidth": 2,
            "linecolor": "white",
            "showbackground": true,
            "ticks": "",
            "zerolinecolor": "white"
           },
           "yaxis": {
            "backgroundcolor": "#E5ECF6",
            "gridcolor": "white",
            "gridwidth": 2,
            "linecolor": "white",
            "showbackground": true,
            "ticks": "",
            "zerolinecolor": "white"
           },
           "zaxis": {
            "backgroundcolor": "#E5ECF6",
            "gridcolor": "white",
            "gridwidth": 2,
            "linecolor": "white",
            "showbackground": true,
            "ticks": "",
            "zerolinecolor": "white"
           }
          },
          "shapedefaults": {
           "line": {
            "color": "#2a3f5f"
           }
          },
          "ternary": {
           "aaxis": {
            "gridcolor": "white",
            "linecolor": "white",
            "ticks": ""
           },
           "baxis": {
            "gridcolor": "white",
            "linecolor": "white",
            "ticks": ""
           },
           "bgcolor": "#E5ECF6",
           "caxis": {
            "gridcolor": "white",
            "linecolor": "white",
            "ticks": ""
           }
          },
          "title": {
           "x": 0.05
          },
          "xaxis": {
           "automargin": true,
           "gridcolor": "white",
           "linecolor": "white",
           "ticks": "",
           "title": {
            "standoff": 15
           },
           "zerolinecolor": "white",
           "zerolinewidth": 2
          },
          "yaxis": {
           "automargin": true,
           "gridcolor": "white",
           "linecolor": "white",
           "ticks": "",
           "title": {
            "standoff": 15
           },
           "zerolinecolor": "white",
           "zerolinewidth": 2
          }
         }
        },
        "title": {
         "text": "Path-Parkinson-Colon-Cancer-Scenario-A-with-blocking-colon-breaking-down-therapy"
        },
        "width": 800,
        "xaxis": {
         "rangeselector": {
          "buttons": [
           {
            "count": 7,
            "label": "1w",
            "step": "day",
            "stepmode": "backward"
           },
           {
            "count": 1,
            "label": "1m",
            "step": "month",
            "stepmode": "backward"
           },
           {
            "count": 6,
            "label": "6m",
            "step": "month",
            "stepmode": "backward"
           },
           {
            "count": 1,
            "label": "YTD",
            "step": "year",
            "stepmode": "todate"
           },
           {
            "count": 1,
            "label": "1y",
            "step": "year",
            "stepmode": "backward"
           },
           {
            "step": "all"
           }
          ]
         },
         "showgrid": false,
         "type": "date",
         "zeroline": false
        },
        "yaxis": {
         "autorange": false,
         "range": [
          -1,
          9
         ],
         "showgrid": false,
         "ticktext": [
          "take_pill_Pramipexol",
          "surgery_colon_cancer",
          "Adjuvant_chemoradiotherapy",
          "surgery_colon_cancer",
          "Adjuvant_chemoradiotherapy_episode1",
          "Adjuvant_chemoradiotherapy_episode2",
          "Adjuvant_chemoradiotherapy_episode3",
          "Adjuvant_chemoradiotherapy_episode4"
         ],
         "tickvals": [
          0,
          1,
          2,
          3,
          4,
          5,
          6,
          7
         ],
         "zeroline": false
        }
       }
      },
      "text/html": [
       "<div>\n",
       "        \n",
       "        \n",
       "            <div id=\"95a9fbbc-a87b-48b3-9146-cc73ce7dd6b8\" class=\"plotly-graph-div\" style=\"height:600px; width:800px;\"></div>\n",
       "            <script type=\"text/javascript\">\n",
       "                require([\"plotly\"], function(Plotly) {\n",
       "                    window.PLOTLYENV=window.PLOTLYENV || {};\n",
       "                    \n",
       "                if (document.getElementById(\"95a9fbbc-a87b-48b3-9146-cc73ce7dd6b8\")) {\n",
       "                    Plotly.newPlot(\n",
       "                        '95a9fbbc-a87b-48b3-9146-cc73ce7dd6b8',\n",
       "                        [{\"fill\": \"toself\", \"fillcolor\": \"rgb(0, 0, 220)\", \"hoverinfo\": \"name\", \"legendgroup\": \"rgb(0, 0, 220)\", \"mode\": \"none\", \"name\": \"Colon_cancer\", \"type\": \"scatter\", \"x\": [\"2018-04-12T14:50:33Z\", \"2018-04-17T14:50:33.0Z\", \"2018-04-17T14:50:33.0Z\", \"2018-04-12T14:50:33Z\", \"2018-04-12T14:50:33Z\", \"2018-04-17T14:50:33.0Z\", \"2018-07-06T14:50:33.0Z\", \"2018-07-06T14:50:33.0Z\", \"2018-04-17T14:50:33.0Z\"], \"y\": [0.8, 0.8, 1.2, 1.2, null, 1.8, 1.8, 2.2, 2.2]}, {\"fill\": \"toself\", \"fillcolor\": \"rgb(0, 220, 0)\", \"hoverinfo\": \"name\", \"legendgroup\": \"rgb(0, 220, 0)\", \"mode\": \"none\", \"name\": \"Parkinson\", \"type\": \"scatter\", \"x\": [\"2018-04-07T14:52:21.0Z\", \"2018-06-06T14:52:21.0Z\", \"2018-06-06T14:52:21.0Z\", \"2018-04-07T14:52:21.0Z\"], \"y\": [-0.2, -0.2, 0.2, 0.2]}, {\"fill\": \"toself\", \"fillcolor\": \"rgb(220, 0, 0)\", \"hoverinfo\": \"name\", \"legendgroup\": \"rgb(220, 0, 0)\", \"mode\": \"none\", \"name\": \"Conflict\", \"type\": \"scatter\", \"x\": [\"2018-04-12T14:50:33Z\", \"2018-04-17T14:50:33.0Z\", \"2018-04-17T14:50:33.0Z\", \"2018-04-12T14:50:33Z\"], \"y\": [2.8, 2.8, 3.2, 3.2]}, {\"fill\": \"toself\", \"fillcolor\": \"rgb(60, 60, 60)\", \"hoverinfo\": \"name\", \"legendgroup\": \"rgb(60, 60, 60)\", \"mode\": \"none\", \"name\": \"Colon_cancer_a_c\", \"type\": \"scatter\", \"x\": [\"2018-04-17T14:50:33Z\", \"2018-05-07T14:50:33.0Z\", \"2018-05-07T14:50:33.0Z\", \"2018-04-17T14:50:33Z\", \"2018-04-17T14:50:33Z\", \"2018-05-07T14:50:33.0Z\", \"2018-05-27T14:50:33.0Z\", \"2018-05-27T14:50:33.0Z\", \"2018-05-07T14:50:33.0Z\", \"2018-05-07T14:50:33.0Z\", \"2018-05-27T14:50:33.0Z\", \"2018-06-16T14:50:33.0Z\", \"2018-06-16T14:50:33.0Z\", \"2018-05-27T14:50:33.0Z\", \"2018-05-27T14:50:33.0Z\", \"2018-06-16T14:50:33.0Z\", \"2018-07-06T14:50:33.0Z\", \"2018-07-06T14:50:33.0Z\", \"2018-06-16T14:50:33.0Z\"], \"y\": [3.8, 3.8, 4.2, 4.2, null, 4.8, 4.8, 5.2, 5.2, null, 5.8, 5.8, 6.2, 6.2, null, 6.8, 6.8, 7.2, 7.2]}, {\"legendgroup\": \"rgb(0, 0, 220)\", \"marker\": {\"color\": \"rgb(0, 0, 220)\", \"opacity\": 0, \"size\": 1}, \"mode\": \"markers\", \"name\": \"\", \"showlegend\": false, \"text\": [null, null, null, null], \"type\": \"scatter\", \"x\": [\"2018-04-12T14:50:33Z\", \"2018-04-17T14:50:33.0Z\", \"2018-04-17T14:50:33.0Z\", \"2018-07-06T14:50:33.0Z\"], \"y\": [1, 1, 2, 2]}, {\"legendgroup\": \"rgb(0, 220, 0)\", \"marker\": {\"color\": \"rgb(0, 220, 0)\", \"opacity\": 0, \"size\": 1}, \"mode\": \"markers\", \"name\": \"\", \"showlegend\": false, \"text\": [null, null], \"type\": \"scatter\", \"x\": [\"2018-04-07T14:52:21.0Z\", \"2018-06-06T14:52:21.0Z\"], \"y\": [0, 0]}, {\"legendgroup\": \"rgb(220, 0, 0)\", \"marker\": {\"color\": \"rgb(220, 0, 0)\", \"opacity\": 0, \"size\": 1}, \"mode\": \"markers\", \"name\": \"\", \"showlegend\": false, \"text\": [null, null], \"type\": \"scatter\", \"x\": [\"2018-04-12T14:50:33Z\", \"2018-04-17T14:50:33.0Z\"], \"y\": [3, 3]}, {\"legendgroup\": \"rgb(60, 60, 60)\", \"marker\": {\"color\": \"rgb(60, 60, 60)\", \"opacity\": 0, \"size\": 1}, \"mode\": \"markers\", \"name\": \"\", \"showlegend\": false, \"text\": [null, null, null, null, null, null, null, null], \"type\": \"scatter\", \"x\": [\"2018-04-17T14:50:33Z\", \"2018-05-07T14:50:33.0Z\", \"2018-05-07T14:50:33.0Z\", \"2018-05-27T14:50:33.0Z\", \"2018-05-27T14:50:33.0Z\", \"2018-06-16T14:50:33.0Z\", \"2018-06-16T14:50:33.0Z\", \"2018-07-06T14:50:33.0Z\"], \"y\": [4, 4, 5, 5, 6, 6, 7, 7]}],\n",
       "                        {\"autosize\": false, \"height\": 600, \"hovermode\": \"closest\", \"margin\": {\"l\": 200}, \"showlegend\": true, \"template\": {\"data\": {\"bar\": [{\"error_x\": {\"color\": \"#2a3f5f\"}, \"error_y\": {\"color\": \"#2a3f5f\"}, \"marker\": {\"line\": {\"color\": \"#E5ECF6\", \"width\": 0.5}}, \"type\": \"bar\"}], \"barpolar\": [{\"marker\": {\"line\": {\"color\": \"#E5ECF6\", \"width\": 0.5}}, \"type\": \"barpolar\"}], \"carpet\": [{\"aaxis\": {\"endlinecolor\": \"#2a3f5f\", \"gridcolor\": \"white\", \"linecolor\": \"white\", \"minorgridcolor\": \"white\", \"startlinecolor\": \"#2a3f5f\"}, \"baxis\": {\"endlinecolor\": \"#2a3f5f\", \"gridcolor\": \"white\", \"linecolor\": \"white\", \"minorgridcolor\": \"white\", \"startlinecolor\": \"#2a3f5f\"}, \"type\": \"carpet\"}], \"choropleth\": [{\"colorbar\": {\"outlinewidth\": 0, \"ticks\": \"\"}, \"type\": \"choropleth\"}], \"contour\": [{\"colorbar\": {\"outlinewidth\": 0, \"ticks\": \"\"}, \"colorscale\": [[0.0, \"#0d0887\"], [0.1111111111111111, \"#46039f\"], [0.2222222222222222, \"#7201a8\"], [0.3333333333333333, \"#9c179e\"], [0.4444444444444444, \"#bd3786\"], [0.5555555555555556, \"#d8576b\"], [0.6666666666666666, \"#ed7953\"], [0.7777777777777778, \"#fb9f3a\"], [0.8888888888888888, \"#fdca26\"], [1.0, \"#f0f921\"]], \"type\": \"contour\"}], \"contourcarpet\": [{\"colorbar\": {\"outlinewidth\": 0, \"ticks\": \"\"}, \"type\": \"contourcarpet\"}], \"heatmap\": [{\"colorbar\": {\"outlinewidth\": 0, \"ticks\": \"\"}, \"colorscale\": [[0.0, \"#0d0887\"], [0.1111111111111111, \"#46039f\"], [0.2222222222222222, \"#7201a8\"], [0.3333333333333333, \"#9c179e\"], [0.4444444444444444, \"#bd3786\"], [0.5555555555555556, \"#d8576b\"], [0.6666666666666666, \"#ed7953\"], [0.7777777777777778, \"#fb9f3a\"], [0.8888888888888888, \"#fdca26\"], [1.0, \"#f0f921\"]], \"type\": \"heatmap\"}], \"heatmapgl\": [{\"colorbar\": {\"outlinewidth\": 0, \"ticks\": \"\"}, \"colorscale\": [[0.0, \"#0d0887\"], [0.1111111111111111, \"#46039f\"], [0.2222222222222222, \"#7201a8\"], [0.3333333333333333, \"#9c179e\"], [0.4444444444444444, \"#bd3786\"], [0.5555555555555556, \"#d8576b\"], [0.6666666666666666, \"#ed7953\"], [0.7777777777777778, \"#fb9f3a\"], [0.8888888888888888, \"#fdca26\"], [1.0, \"#f0f921\"]], \"type\": \"heatmapgl\"}], \"histogram\": [{\"marker\": {\"colorbar\": {\"outlinewidth\": 0, \"ticks\": \"\"}}, \"type\": \"histogram\"}], \"histogram2d\": [{\"colorbar\": {\"outlinewidth\": 0, \"ticks\": \"\"}, \"colorscale\": [[0.0, \"#0d0887\"], [0.1111111111111111, \"#46039f\"], [0.2222222222222222, \"#7201a8\"], [0.3333333333333333, \"#9c179e\"], [0.4444444444444444, \"#bd3786\"], [0.5555555555555556, \"#d8576b\"], [0.6666666666666666, \"#ed7953\"], [0.7777777777777778, \"#fb9f3a\"], [0.8888888888888888, \"#fdca26\"], [1.0, \"#f0f921\"]], \"type\": \"histogram2d\"}], \"histogram2dcontour\": [{\"colorbar\": {\"outlinewidth\": 0, \"ticks\": \"\"}, \"colorscale\": [[0.0, \"#0d0887\"], [0.1111111111111111, \"#46039f\"], [0.2222222222222222, \"#7201a8\"], [0.3333333333333333, \"#9c179e\"], [0.4444444444444444, \"#bd3786\"], [0.5555555555555556, \"#d8576b\"], [0.6666666666666666, \"#ed7953\"], [0.7777777777777778, \"#fb9f3a\"], [0.8888888888888888, \"#fdca26\"], [1.0, \"#f0f921\"]], \"type\": \"histogram2dcontour\"}], \"mesh3d\": [{\"colorbar\": {\"outlinewidth\": 0, \"ticks\": \"\"}, \"type\": \"mesh3d\"}], \"parcoords\": [{\"line\": {\"colorbar\": {\"outlinewidth\": 0, \"ticks\": \"\"}}, \"type\": \"parcoords\"}], \"pie\": [{\"automargin\": true, \"type\": \"pie\"}], \"scatter\": [{\"marker\": {\"colorbar\": {\"outlinewidth\": 0, \"ticks\": \"\"}}, \"type\": \"scatter\"}], \"scatter3d\": [{\"line\": {\"colorbar\": {\"outlinewidth\": 0, \"ticks\": \"\"}}, \"marker\": {\"colorbar\": {\"outlinewidth\": 0, \"ticks\": \"\"}}, \"type\": \"scatter3d\"}], \"scattercarpet\": [{\"marker\": {\"colorbar\": {\"outlinewidth\": 0, \"ticks\": \"\"}}, \"type\": \"scattercarpet\"}], \"scattergeo\": [{\"marker\": {\"colorbar\": {\"outlinewidth\": 0, \"ticks\": \"\"}}, \"type\": \"scattergeo\"}], \"scattergl\": [{\"marker\": {\"colorbar\": {\"outlinewidth\": 0, \"ticks\": \"\"}}, \"type\": \"scattergl\"}], \"scattermapbox\": [{\"marker\": {\"colorbar\": {\"outlinewidth\": 0, \"ticks\": \"\"}}, \"type\": \"scattermapbox\"}], \"scatterpolar\": [{\"marker\": {\"colorbar\": {\"outlinewidth\": 0, \"ticks\": \"\"}}, \"type\": \"scatterpolar\"}], \"scatterpolargl\": [{\"marker\": {\"colorbar\": {\"outlinewidth\": 0, \"ticks\": \"\"}}, \"type\": \"scatterpolargl\"}], \"scatterternary\": [{\"marker\": {\"colorbar\": {\"outlinewidth\": 0, \"ticks\": \"\"}}, \"type\": \"scatterternary\"}], \"surface\": [{\"colorbar\": {\"outlinewidth\": 0, \"ticks\": \"\"}, \"colorscale\": [[0.0, \"#0d0887\"], [0.1111111111111111, \"#46039f\"], [0.2222222222222222, \"#7201a8\"], [0.3333333333333333, \"#9c179e\"], [0.4444444444444444, \"#bd3786\"], [0.5555555555555556, \"#d8576b\"], [0.6666666666666666, \"#ed7953\"], [0.7777777777777778, \"#fb9f3a\"], [0.8888888888888888, \"#fdca26\"], [1.0, \"#f0f921\"]], \"type\": \"surface\"}], \"table\": [{\"cells\": {\"fill\": {\"color\": \"#EBF0F8\"}, \"line\": {\"color\": \"white\"}}, \"header\": {\"fill\": {\"color\": \"#C8D4E3\"}, \"line\": {\"color\": \"white\"}}, \"type\": \"table\"}]}, \"layout\": {\"annotationdefaults\": {\"arrowcolor\": \"#2a3f5f\", \"arrowhead\": 0, \"arrowwidth\": 1}, \"coloraxis\": {\"colorbar\": {\"outlinewidth\": 0, \"ticks\": \"\"}}, \"colorscale\": {\"diverging\": [[0, \"#8e0152\"], [0.1, \"#c51b7d\"], [0.2, \"#de77ae\"], [0.3, \"#f1b6da\"], [0.4, \"#fde0ef\"], [0.5, \"#f7f7f7\"], [0.6, \"#e6f5d0\"], [0.7, \"#b8e186\"], [0.8, \"#7fbc41\"], [0.9, \"#4d9221\"], [1, \"#276419\"]], \"sequential\": [[0.0, \"#0d0887\"], [0.1111111111111111, \"#46039f\"], [0.2222222222222222, \"#7201a8\"], [0.3333333333333333, \"#9c179e\"], [0.4444444444444444, \"#bd3786\"], [0.5555555555555556, \"#d8576b\"], [0.6666666666666666, \"#ed7953\"], [0.7777777777777778, \"#fb9f3a\"], [0.8888888888888888, \"#fdca26\"], [1.0, \"#f0f921\"]], \"sequentialminus\": [[0.0, \"#0d0887\"], [0.1111111111111111, \"#46039f\"], [0.2222222222222222, \"#7201a8\"], [0.3333333333333333, \"#9c179e\"], [0.4444444444444444, \"#bd3786\"], [0.5555555555555556, \"#d8576b\"], [0.6666666666666666, \"#ed7953\"], [0.7777777777777778, \"#fb9f3a\"], [0.8888888888888888, \"#fdca26\"], [1.0, \"#f0f921\"]]}, \"colorway\": [\"#636efa\", \"#EF553B\", \"#00cc96\", \"#ab63fa\", \"#FFA15A\", \"#19d3f3\", \"#FF6692\", \"#B6E880\", \"#FF97FF\", \"#FECB52\"], \"font\": {\"color\": \"#2a3f5f\"}, \"geo\": {\"bgcolor\": \"white\", \"lakecolor\": \"white\", \"landcolor\": \"#E5ECF6\", \"showlakes\": true, \"showland\": true, \"subunitcolor\": \"white\"}, \"hoverlabel\": {\"align\": \"left\"}, \"hovermode\": \"closest\", \"mapbox\": {\"style\": \"light\"}, \"paper_bgcolor\": \"white\", \"plot_bgcolor\": \"#E5ECF6\", \"polar\": {\"angularaxis\": {\"gridcolor\": \"white\", \"linecolor\": \"white\", \"ticks\": \"\"}, \"bgcolor\": \"#E5ECF6\", \"radialaxis\": {\"gridcolor\": \"white\", \"linecolor\": \"white\", \"ticks\": \"\"}}, \"scene\": {\"xaxis\": {\"backgroundcolor\": \"#E5ECF6\", \"gridcolor\": \"white\", \"gridwidth\": 2, \"linecolor\": \"white\", \"showbackground\": true, \"ticks\": \"\", \"zerolinecolor\": \"white\"}, \"yaxis\": {\"backgroundcolor\": \"#E5ECF6\", \"gridcolor\": \"white\", \"gridwidth\": 2, \"linecolor\": \"white\", \"showbackground\": true, \"ticks\": \"\", \"zerolinecolor\": \"white\"}, \"zaxis\": {\"backgroundcolor\": \"#E5ECF6\", \"gridcolor\": \"white\", \"gridwidth\": 2, \"linecolor\": \"white\", \"showbackground\": true, \"ticks\": \"\", \"zerolinecolor\": \"white\"}}, \"shapedefaults\": {\"line\": {\"color\": \"#2a3f5f\"}}, \"ternary\": {\"aaxis\": {\"gridcolor\": \"white\", \"linecolor\": \"white\", \"ticks\": \"\"}, \"baxis\": {\"gridcolor\": \"white\", \"linecolor\": \"white\", \"ticks\": \"\"}, \"bgcolor\": \"#E5ECF6\", \"caxis\": {\"gridcolor\": \"white\", \"linecolor\": \"white\", \"ticks\": \"\"}}, \"title\": {\"x\": 0.05}, \"xaxis\": {\"automargin\": true, \"gridcolor\": \"white\", \"linecolor\": \"white\", \"ticks\": \"\", \"title\": {\"standoff\": 15}, \"zerolinecolor\": \"white\", \"zerolinewidth\": 2}, \"yaxis\": {\"automargin\": true, \"gridcolor\": \"white\", \"linecolor\": \"white\", \"ticks\": \"\", \"title\": {\"standoff\": 15}, \"zerolinecolor\": \"white\", \"zerolinewidth\": 2}}}, \"title\": {\"text\": \"Path-Parkinson-Colon-Cancer-Scenario-A-with-blocking-colon-breaking-down-therapy\"}, \"width\": 800, \"xaxis\": {\"rangeselector\": {\"buttons\": [{\"count\": 7, \"label\": \"1w\", \"step\": \"day\", \"stepmode\": \"backward\"}, {\"count\": 1, \"label\": \"1m\", \"step\": \"month\", \"stepmode\": \"backward\"}, {\"count\": 6, \"label\": \"6m\", \"step\": \"month\", \"stepmode\": \"backward\"}, {\"count\": 1, \"label\": \"YTD\", \"step\": \"year\", \"stepmode\": \"todate\"}, {\"count\": 1, \"label\": \"1y\", \"step\": \"year\", \"stepmode\": \"backward\"}, {\"step\": \"all\"}]}, \"showgrid\": false, \"type\": \"date\", \"zeroline\": false}, \"yaxis\": {\"autorange\": false, \"range\": [-1, 9], \"showgrid\": false, \"ticktext\": [\"take_pill_Pramipexol\", \"surgery_colon_cancer\", \"Adjuvant_chemoradiotherapy\", \"surgery_colon_cancer\", \"Adjuvant_chemoradiotherapy_episode1\", \"Adjuvant_chemoradiotherapy_episode2\", \"Adjuvant_chemoradiotherapy_episode3\", \"Adjuvant_chemoradiotherapy_episode4\"], \"tickvals\": [0, 1, 2, 3, 4, 5, 6, 7], \"zeroline\": false}},\n",
       "                        {\"responsive\": true}\n",
       "                    ).then(function(){\n",
       "                            \n",
       "var gd = document.getElementById('95a9fbbc-a87b-48b3-9146-cc73ce7dd6b8');\n",
       "var x = new MutationObserver(function (mutations, observer) {{\n",
       "        var display = window.getComputedStyle(gd).display;\n",
       "        if (!display || display === 'none') {{\n",
       "            console.log([gd, 'removed!']);\n",
       "            Plotly.purge(gd);\n",
       "            observer.disconnect();\n",
       "        }}\n",
       "}});\n",
       "\n",
       "// Listen for the removal of the full notebook cells\n",
       "var notebookContainer = gd.closest('#notebook-container');\n",
       "if (notebookContainer) {{\n",
       "    x.observe(notebookContainer, {childList: true});\n",
       "}}\n",
       "\n",
       "// Listen for the clearing of the current output cell\n",
       "var outputEl = gd.closest('.output');\n",
       "if (outputEl) {{\n",
       "    x.observe(outputEl, {childList: true});\n",
       "}}\n",
       "\n",
       "                        })\n",
       "                };\n",
       "                });\n",
       "            </script>\n",
       "        </div>"
      ]
     },
     "metadata": {},
     "output_type": "display_data"
    }
   ],
   "source": [
    "conflict_action_a = pd.read_csv('../path/detected-conflict-t3-a.csv', sep=',', encoding = 'utf-8')\n",
    "df_path_a = pd.read_csv('../path/aggreagatedPath-plot-t3-a.csv', sep=',', encoding = 'utf-8')\n",
    "adjuvant_chemoradiotherapy_a = pd.read_csv('../path/path_adjuvant_chemoradiotherapy.csv', sep=',', encoding = 'utf-8')\n",
    "\n",
    "df_a = [dict(Task=df_path_a.action_name[0], Start=df_path_a.start_time[0], Finish=df_path_a.end_time[0], Resource=df_path_a.map_name[0])]\n",
    "i=1\n",
    "while i < len(df_path_a):\n",
    "    df_a.append( dict(Task=df_path_a.action_name[i], Start=df_path_a.start_time[i], Finish=df_path_a.end_time[i], Resource=df_path_a.map_name[i]) )\n",
    "    i+=1\n",
    "df_a.append( dict(Task=conflict_action_a.action_name[0], Start=conflict_action_a.start_time[0], Finish=conflict_action_a.end_time[0], Resource=conflict_action_a.map_name[0]) )\n",
    "\n",
    "j=0\n",
    "while j < len(adjuvant_chemoradiotherapy_a):\n",
    "    df_a.append( dict(Task=adjuvant_chemoradiotherapy_a.action_name[j], Start=adjuvant_chemoradiotherapy_a.start_time[j], Finish=adjuvant_chemoradiotherapy_a.end_time[j], Resource=adjuvant_chemoradiotherapy_a.map_name[j]) )\n",
    "    j+=1\n",
    "\n",
    "\n",
    "\n",
    "colors = dict(Conflict = 'rgb(220, 0, 0)',\n",
    "              Colon_cancer_a_c = 'rgb(60, 60, 60)',\n",
    "              Colon_cancer = 'rgb(0, 0, 220)',\n",
    "              Parkinson = 'rgb(0, 220, 0)')\n",
    "fig_a_details = ff.create_gantt(df_a, colors=colors, index_col='Resource', show_colorbar=True,  title='Path-Parkinson-Colon-Cancer-Scenario-A-with-blocking-colon-breaking-down-therapy')\n",
    "fig_a_details['layout'].update(autosize=False, width=800, height=600, margin=dict(l=200))\n",
    "iplot(fig_a_details, show_link=False)\n"
   ]
  },
  {
   "cell_type": "markdown",
   "metadata": {
    "colab_type": "text",
    "id": "5knBkz_w-p6c"
   },
   "source": [
    "## Demo done, thanks for watching!"
   ]
  }
 ],
 "metadata": {
  "colab": {
   "name": "GPS4IC-demonstration-execution.ipynb",
   "provenance": []
  },
  "kernelspec": {
   "display_name": "Python 3",
   "language": "python",
   "name": "python3"
  },
  "language_info": {
   "codemirror_mode": {
    "name": "ipython",
    "version": 3
   },
   "file_extension": ".py",
   "mimetype": "text/x-python",
   "name": "python",
   "nbconvert_exporter": "python",
   "pygments_lexer": "ipython3",
   "version": "3.7.7"
  },
  "toc": {
   "base_numbering": 1,
   "nav_menu": {},
   "number_sections": false,
   "sideBar": true,
   "skip_h1_title": false,
   "title_cell": "Table of Contents",
   "title_sidebar": "Contents",
   "toc_cell": true,
   "toc_position": {},
   "toc_section_display": true,
   "toc_window_display": false
  }
 },
 "nbformat": 4,
 "nbformat_minor": 1
}
